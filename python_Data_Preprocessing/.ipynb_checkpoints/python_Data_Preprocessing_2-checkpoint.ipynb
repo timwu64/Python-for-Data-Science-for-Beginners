{
 "cells": [
  {
   "cell_type": "markdown",
   "metadata": {},
   "source": [
    "# Preprocessing"
   ]
  },
  {
   "cell_type": "code",
   "execution_count": null,
   "metadata": {
    "collapsed": true
   },
   "outputs": [],
   "source": [
    "# Core Libraries\n",
    "import os\n",
    "from fnmatch import fnmatch\n",
    "import numpy as np\n",
    "import matplotlib.pyplot as plt\n",
    "import pandas as pd\n",
    "import ipywidgets\n",
    "import tkinter as tk\n",
    "\n",
    "# from IPython.html import widgets\n",
    "# from IPython.html.widgets import interact\n",
    "\n",
    "from IPython.display import display\n",
    "import urllib.request, urllib.parse, urllib.error\n",
    "from datetime import datetime\n",
    "\n",
    "# Feature Extraction\n",
    "from sklearn.feature_extraction import DictVectorizer\n",
    "\n",
    "# Preprocessing\n",
    "from sklearn import preprocessing\n",
    "\n",
    "# External\n",
    "from sklearn.externals import joblib\n",
    "\n",
    "# Hide Warnings\n",
    "import warnings\n",
    "warnings.filterwarnings('ignore')\n",
    "\n",
    "# Configure Pandas\n",
    "pd.options.display.max_columns = 100\n",
    "pd.options.display.width = 120"
   ]
  },
  {
   "cell_type": "code",
   "execution_count": 13,
   "metadata": {
    "collapsed": false
   },
   "outputs": [],
   "source": [
    "success_alert = \"\"\"\n",
    "<div class=\"alert alert-success\" role=\"alert\">Loading data from %s was successful.</div>\n",
    "\"\"\"\n",
    "\n",
    "error_alert = \"\"\"\n",
    "<div class=\"alert alert-danger\" role=\"alert\">Error loading data from %s. %s</div>\n",
    "\"\"\"\n",
    "\n",
    "\n",
    "def load_data(widget):\n",
    "    global csv_data\n",
    "    path = wgt_file_location.value\n",
    "#     path ='/Users/tim.wu/Documents/python_code/python_Data_Preprocessing'\n",
    "    try:\n",
    "        if wgt_header.value:\n",
    "            csv_data = pd.read_csv(path, sep=wgt_separator.value)\n",
    "        else:\n",
    "            csv_data = pd.read_csv(path, sep=wgt_separator.value, names=wgt_manual_header.value.split(\",\"))\n",
    "        wgt_alert.value = success_alert % path\n",
    "    except Exception as ex:\n",
    "        print(ex)\n",
    "        print(path)\n",
    "        wgt_alert.value = error_alert % (path, ex)\n",
    "    wgt_alert.visible = True\n",
    "    \n",
    "\n",
    "def preview_file(widget):\n",
    "    path = wgt_file_location.value\n",
    "    if path.startswith(\"http://\") or path.startswith(\"https://\") or path.startswith(\"ftp://\"):\n",
    "        raw_file = urllib.request.urlopen(path)\n",
    "        wgt_file_preview.value = \"<pre>%s</pre>\" % raw_file.read(1000)\n",
    "        raw_file.close()\n",
    "    else:\n",
    "        raw_file = open(path)\n",
    "        wgt_file_preview.value = \"<pre>%s</pre>\" % raw_file.read(1000)\n",
    "        raw_file.close()\n",
    "    \n",
    "\n",
    "def manual_columns(name,old,new):\n",
    "    wgt_manual_header.visible = old\n",
    "    \n",
    "def update_path(name,old,new):\n",
    "    wgt_file_location.value = new\n",
    "    \n",
    "    \n",
    "def load_files(widget):\n",
    "    files_list = {}\n",
    "    root = os.curdir\n",
    "    patterns = [\"*.txt\", \"*.csv\"]\n",
    "\n",
    "    for path, subdirs, files in os.walk(root):\n",
    "        for name in files:\n",
    "            for pattern in patterns:\n",
    "                if fnmatch(name, pattern):\n",
    "                    files_list[os.path.join(path, name)] = os.path.join(path, name)\n",
    "    widget.values = files_list\n",
    "\n",
    "container = widgets.Box()\n",
    "\n",
    "wgt_alert = widgets.HTML()\n",
    "wgt_file_location = widgets.Text(description=\"Path/URL:\", value='/Users/tim.wu/Documents/python_code/python_Data_Preprocessing/adult.csv')\n",
    "wgt_file_path = widgets.Dropdown(description=\"Files List\")\n",
    "wgt_separator = widgets.Text(description=\"Separator\", value=\",\")\n",
    "wgt_header = widgets.Checkbox(description=\"First columns is a header?\", value=True)\n",
    "wgt_manual_header = widgets.Text(description=\"Columns seperated by commas\", visible=False)\n",
    "wgt_load_data = widgets.Button(description=\"Load Data\")\n",
    "wgt_preview_file = widgets.Button(description=\"Preview File\")\n",
    "wgt_file_preview = widgets.HTML()\n",
    "\n",
    "wgt_alert.visible = False\n",
    "\n",
    "wgt_load_data.on_click(load_data)\n",
    "wgt_preview_file.on_click(preview_file)\n",
    "wgt_file_path.on_displayed(load_files)\n",
    "wgt_file_path.on_trait_change(update_path, \"value\")\n",
    "wgt_header.on_trait_change(manual_columns, \"value\")\n",
    "\n",
    "container.children = (wgt_alert, wgt_file_path, wgt_file_location, wgt_separator, wgt_header, wgt_manual_header,\n",
    "                      wgt_load_data, wgt_preview_file, wgt_file_preview)\n",
    "\n",
    "display(container)\n"
   ]
  },
  {
   "cell_type": "code",
   "execution_count": 7,
   "metadata": {
    "collapsed": false
   },
   "outputs": [
    {
     "data": {
      "text/plain": [
       "''"
      ]
     },
     "execution_count": 7,
     "metadata": {},
     "output_type": "execute_result"
    }
   ],
   "source": [
    "path = wgt_file_location.value\n",
    "path"
   ]
  }
 ],
 "metadata": {
  "anaconda-cloud": {},
  "kernelspec": {
   "display_name": "Python [default]",
   "language": "python",
   "name": "python3"
  },
  "language_info": {
   "codemirror_mode": {
    "name": "ipython",
    "version": 3
   },
   "file_extension": ".py",
   "mimetype": "text/x-python",
   "name": "python",
   "nbconvert_exporter": "python",
   "pygments_lexer": "ipython3",
   "version": "3.5.2"
  },
  "widgets": {
   "state": {
    "4c6642d0d7614ddfb96af3eb1a3d51d5": {
     "views": [
      {
       "cell_index": 1
      }
     ]
    }
   },
   "version": "1.2.0"
  }
 },
 "nbformat": 4,
 "nbformat_minor": 1
}
