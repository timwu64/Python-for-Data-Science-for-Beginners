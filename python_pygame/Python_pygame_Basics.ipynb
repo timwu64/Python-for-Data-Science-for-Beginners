{
 "cells": [
  {
   "cell_type": "code",
   "execution_count": 2,
   "metadata": {
    "collapsed": false
   },
   "outputs": [],
   "source": [
    "import pygame\n",
    "\n",
    "pygame.init()\n",
    "\n",
    "display_width = 800\n",
    "display_height = 600\n",
    "\n",
    "gameDisplay = pygame.display.set_mode((display_width,display_height))\n",
    "pygame.display.set_caption('A bit Racey')\n",
    "\n",
    "black = (0,0,0)\n",
    "white = (255,255,255)\n",
    "\n",
    "clock = pygame.time.Clock()\n",
    "crashed = False\n",
    "carImg = pygame.image.load('racecar.png')\n",
    "\n",
    "def car(x,y):\n",
    "    gameDisplay.blit(carImg, (x,y))\n",
    "\n",
    "x =  (display_width * 0.45)\n",
    "y = (display_height * 0.8)\n",
    "\n",
    "while not crashed:\n",
    "    for event in pygame.event.get():\n",
    "        if event.type == pygame.QUIT:\n",
    "            crashed = True\n",
    "\n",
    "    gameDisplay.fill(white)\n",
    "    car(x,y)\n",
    "\n",
    "        \n",
    "    pygame.display.update()\n",
    "    clock.tick(60)\n",
    "\n",
    "pygame.quit()\n",
    "quit()"
   ]
  },
  {
   "cell_type": "code",
   "execution_count": 4,
   "metadata": {
    "collapsed": true
   },
   "outputs": [],
   "source": [
    "\n"
   ]
  },
  {
   "cell_type": "code",
   "execution_count": 6,
   "metadata": {
    "collapsed": false
   },
   "outputs": [
    {
     "name": "stdout",
     "output_type": "stream",
     "text": [
      "<Event(5-MouseButtonDown {'button': 1, 'pos': (77, 393)})>\n",
      "<Event(12-Quit {})>\n",
      "<Event(5-MouseButtonDown {'button': 1, 'pos': (77, 393)})>\n",
      "<Event(12-Quit {})>\n",
      "<Event(5-MouseButtonDown {'button': 1, 'pos': (77, 393)})>\n",
      "<Event(12-Quit {})>\n",
      "<Event(5-MouseButtonDown {'button': 1, 'pos': (77, 393)})>\n",
      "<Event(4-MouseMotion {'buttons': (1, 0, 0), 'rel': (430, 104), 'pos': (507, 497)})>\n",
      "<Event(6-MouseButtonUp {'button': 1, 'pos': (507, 497)})>\n",
      "<Event(5-MouseButtonDown {'button': 1, 'pos': (507, 497)})>\n",
      "<Event(6-MouseButtonUp {'button': 1, 'pos': (507, 497)})>\n",
      "<Event(5-MouseButtonDown {'button': 1, 'pos': (507, 497)})>\n",
      "<Event(6-MouseButtonUp {'button': 1, 'pos': (507, 497)})>\n",
      "<Event(5-MouseButtonDown {'button': 1, 'pos': (507, 497)})>\n",
      "<Event(12-Quit {})>\n",
      "<Event(5-MouseButtonDown {'button': 1, 'pos': (507, 497)})>\n",
      "<Event(1-ActiveEvent {'state': 4, 'gain': 0})>\n",
      "<Event(6-MouseButtonUp {'button': 1, 'pos': (507, 497)})>\n",
      "<Event(1-ActiveEvent {'state': 3, 'gain': 0})>\n",
      "<Event(6-MouseButtonUp {'button': 1, 'pos': (507, 497)})>\n"
     ]
    }
   ],
   "source": []
  }
 ],
 "metadata": {
  "anaconda-cloud": {},
  "kernelspec": {
   "display_name": "Python [default]",
   "language": "python",
   "name": "python3"
  },
  "language_info": {
   "codemirror_mode": {
    "name": "ipython",
    "version": 3
   },
   "file_extension": ".py",
   "mimetype": "text/x-python",
   "name": "python",
   "nbconvert_exporter": "python",
   "pygments_lexer": "ipython3",
   "version": "3.5.2"
  }
 },
 "nbformat": 4,
 "nbformat_minor": 1
}
