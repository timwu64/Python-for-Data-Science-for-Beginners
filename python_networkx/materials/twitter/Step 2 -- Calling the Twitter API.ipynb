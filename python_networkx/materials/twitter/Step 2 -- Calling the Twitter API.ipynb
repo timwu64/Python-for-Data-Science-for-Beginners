{
 "metadata": {
  "name": "",
  "signature": "sha256:8778fd25eeaaf2de35d684d4d6e75eccbc778472f196c2179ec0528b8ad01130"
 },
 "nbformat": 3,
 "nbformat_minor": 0,
 "worksheets": [
  {
   "cells": [
    {
     "cell_type": "markdown",
     "metadata": {},
     "source": [
      "## Adding your Twitter API tokens into a config file\n",
      "\n",
      "In the same folder as this iPython notebook (or whatever python file you'll be writing to make the API calls), create a config.py file that looks like this:\n",
      "\n",
      "    # -- config.py file --\n",
      "    CONSUMER_KEY = \"\"           # Consumer Key (API Key)\n",
      "    CONSUMER_SECRET = \"\"        # Consumer Secret (API Secret)\n",
      "    ACCESS_TOKEN = \"\"           # Access Token\n",
      "    ACCESS_SECRET = \"\"          # Access Token Secret\n",
      "\n",
      "Where you'll replace the empty strings with the values you generated from Step 1."
     ]
    },
    {
     "cell_type": "markdown",
     "metadata": {},
     "source": [
      "### Creating an OAuth Client\n",
      "\n",
      "Now you an create an OAuth client, which allows you to authenticate with Twitter and use their API REST endpoints:"
     ]
    },
    {
     "cell_type": "code",
     "collapsed": false,
     "input": [
      "import oauth2 as oauth\n",
      "import config\n",
      "\n",
      "def get_oauth_client():\n",
      "    consumer_key = config.CONSUMER_KEY        # Consumer Key (API Key)\n",
      "    consumer_secret = config.CONSUMER_SECRET  # Consumer Secret (API Secret)\n",
      "    access_token = config.ACCESS_TOKEN        # Access Token\n",
      "    access_secret = config.ACCESS_SECRET      # Access Token Secret\n",
      "\n",
      "    consumer = oauth.Consumer(key=consumer_key, secret=consumer_secret)\n",
      "    token = oauth.Token(key=access_token, secret=access_secret)\n",
      "\n",
      "    return oauth.Client(consumer, token)\n",
      "\n",
      "client = get_oauth_client()"
     ],
     "language": "python",
     "metadata": {},
     "outputs": []
    },
    {
     "cell_type": "markdown",
     "metadata": {},
     "source": [
      "### Twitter's REST APIs\n",
      "\n",
      "Twitter has a rich set of API calls (full list is listed at https://dev.twitter.com/rest/public). But the REST APIs we'll be using in today's workshop are:\n",
      "\n",
      "* [GET friends/list](https://dev.twitter.com/rest/reference/get/friends/list) - who is user X is following?\n",
      "* [GET followers/list](https://dev.twitter.com/rest/reference/get/followers/list) - who follows user X?\n",
      "* [GET statuses/retweets/:id](https://dev.twitter.com/rest/reference/get/statuses/retweets/%3Aid) - who retweeted tweet Y?\n",
      "* [GET statuses/user_timeline](https://dev.twitter.com/rest/reference/get/statuses/user_timeline) - list tweets for user X\n"
     ]
    },
    {
     "cell_type": "markdown",
     "metadata": {},
     "source": [
      "### Retrieving a list of followers for user X\n",
      "\n",
      "You'll see from the API Documentation that the URL to get the list of followers is:\n",
      "\n",
      "    https://api.twitter.com/1.1/followers/list.json?screen_name=[screen_name]\n",
      "    \n",
      "When we call the URL, it returns a header and a response body:\n",
      "\n",
      "* **The body** is a JSON of data that we requested\n",
      "* **The header** tells us whether or not the request succeeded. Here are a few http status codes to note:\n",
      "    * **200** is the **STATUS_OKAY** code - this tells us request succeeded\n",
      "    * **429** is the **RATE_LIMIT_EXCEEDED** code. Twitter limits how frequently you can query the API (called rate limiting), so a 429 tells us we must wait before making more API requests. Limits vary per API call, so check the documentation to see the limit for each individual REST API endpoint.\n",
      "    * **401** is the **UNAUTHORIZED_USER** code, meaning that Twitter isn't accepting the Consumer/Access tokens. If this happens, try generating new tokens\n",
      "\n",
      "### Making a request to the Twitter API\n",
      "\n",
      "Now that we know what to expect, let's actually make the call:"
     ]
    },
    {
     "cell_type": "code",
     "collapsed": false,
     "input": [
      "screen_name = 'PyTennessee'\n",
      "url = 'https://api.twitter.com/1.1/followers/list.json?screen_name=' + screen_name\n",
      "header, response = client.request(url, method=\"GET\")\n",
      "print header['status'] # let's check that this prints a 200"
     ],
     "language": "python",
     "metadata": {},
     "outputs": []
    },
    {
     "cell_type": "markdown",
     "metadata": {},
     "source": [
      "### Extracting data from the JSON Result\n",
      "\n",
      "In order to manipultate hte JSON result, we can you the **json** package to extract just the data you want:"
     ]
    },
    {
     "cell_type": "code",
     "collapsed": false,
     "input": [
      "import json\n",
      "\n",
      "# convert JSON string into python dict\n",
      "data = json.loads(response)\n",
      "\n",
      "# running this cell will show you the whole JSON reponse ... head's up.... there's a lot!\n",
      "data"
     ],
     "language": "python",
     "metadata": {},
     "outputs": []
    },
    {
     "cell_type": "markdown",
     "metadata": {},
     "source": [
      "For this tutorial, we only care about:\n",
      "\n",
      "* **data['next_cursor']** - The call above only returned 20 results. Using next_cursor, we can obtain the next 20 results.\n",
      "* **data['users']** - the actual list of users. And within this, we only care about:\n",
      "    * **data['users'][i]['screen_name']** - the twitter handle of the follower\n",
      "    * **data['users'][i]['followers_count']** - how many followers the user's follower has\n",
      "    \n",
      "Here is code to get that information:"
     ]
    },
    {
     "cell_type": "code",
     "collapsed": false,
     "input": [
      "next_cursor = data['next_cursor']\n",
      "\n",
      "# list to hold follower details\n",
      "followers = []\n",
      "for u in data['users']:\n",
      "    # create a tuple of (screen_name, followers_count)\n",
      "    user_detail = (u['screen_name'], u['followers_count'])\n",
      "    followers.append(user_detail)"
     ],
     "language": "python",
     "metadata": {},
     "outputs": []
    },
    {
     "cell_type": "markdown",
     "metadata": {},
     "source": [
      "### Generating the subsequent Twitter API call\n",
      "\n",
      "What we want to do next is to call the url again and extract the next 20 results.\n",
      "\n",
      "Let's combine the last few steps into one method that we can call, called **get_followers()** which calls the URL, and extracts just the fields we care about:\n",
      "    * next_cursor (if any)\n",
      "    * follower's screen_name\n",
      "    * follower's follower_count\n"
     ]
    },
    {
     "cell_type": "code",
     "collapsed": false,
     "input": [
      "def get_followers(screen_name, cursor):\n",
      "    url = 'https://api.twitter.com/1.1/followers/list.json?screen_name=' + screen_name\n",
      "    if next_cursor:\n",
      "        url += '&cursor=' + str(cursor)\n",
      "    print url\n",
      "    header, response = client.request(url, method=\"GET\")\n",
      "    if header['status'] <> '200':\n",
      "        print header['status']\n",
      "        return None, None\n",
      "    data = json.loads(response)\n",
      "    followers = []\n",
      "    for u in data['users']:\n",
      "        # create a tuple of (screen_name, followers_count)\n",
      "        user_detail = (u['screen_name'], u['followers_count'])\n",
      "        followers.append(user_detail)    \n",
      "    return data['next_cursor'], followers"
     ],
     "language": "python",
     "metadata": {},
     "outputs": []
    },
    {
     "cell_type": "markdown",
     "metadata": {},
     "source": [
      "Now we can just pass the screen_name and next_cursor, until we no longer get back a next_cursor.\n",
      "\n",
      "**Careful!** - because of Twitter's rate limiting, we shouldn't do this too many times in a small timeframe. This particular request only allows 15 calls in a 15-min window. So, you may want to sleep 1 minute between each call."
     ]
    },
    {
     "cell_type": "code",
     "collapsed": false,
     "input": [
      "import time\n",
      "\n",
      "# don't make too many calls at once, or else you'll reach your rate limit!!\n",
      "seconds_to_sleep = 10\n",
      "num_requests_to_make = 2\n",
      "while num_requests_to_make > 0:\n",
      "    num_requests_to_make -= 1\n",
      "    next_cursor, returned_followers = get_followers('PyTennessee', next_cursor)\n",
      "    if not next_cursor:\n",
      "        break\n",
      "    if returned_followers:\n",
      "        followers.extend(returned_followers)\n",
      "\n",
      "    # wait a bit so we don't get a \"rate exceeded\" error\n",
      "    print 'sleeping for', seconds_to_sleep\n",
      "    time.sleep(seconds_to_sleep)"
     ],
     "language": "python",
     "metadata": {},
     "outputs": []
    },
    {
     "cell_type": "markdown",
     "metadata": {},
     "source": [
      "### Next Steps\n",
      "\n",
      "At some point, you'll probably want to save your JSON results to a file, so that you can further analyze and manipulate the data without asking twitter for the same results again and again (don't waste your rate limit requests if you don't have to!)\n",
      "\n",
      "The json library makes it easy to save objects to a file:"
     ]
    },
    {
     "cell_type": "code",
     "collapsed": false,
     "input": [
      "screen_name = 'PyTennessee'\n",
      "next_cursor = None # or whatever cursor you want to pass in\n",
      "next_cursor, returned_followers = get_followers(screen_name, next_cursor)\n",
      "save_as_filename = 'followers.%s.%s.json' % (screen_name, next_cursor)\n",
      "print 'saving as', save_as_filename\n",
      "with open(save_as_filename, 'w+') as f:\n",
      "    f.write(json.dumps(returned_followers, indent=4))"
     ],
     "language": "python",
     "metadata": {},
     "outputs": []
    },
    {
     "cell_type": "markdown",
     "metadata": {},
     "source": [
      "### To Explore Further\n",
      "\n",
      "To explore the other API Endpoints, Twitter has a great interactive UI console, where you can tweak the inputs and see the outputs:\n",
      "\n",
      "https://dev.twitter.com/rest/tools/console\n"
     ]
    }
   ],
   "metadata": {}
  }
 ]
}