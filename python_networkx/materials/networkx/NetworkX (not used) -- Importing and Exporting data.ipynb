{
 "metadata": {
  "name": "",
  "signature": "sha256:3f3a03f34a66e47363f613301150c1856a886399d7ca97c45edcdb324e22838b"
 },
 "nbformat": 3,
 "nbformat_minor": 0,
 "worksheets": [
  {
   "cells": [
    {
     "cell_type": "markdown",
     "metadata": {},
     "source": [
      "## Part 2 -- Importing and Exporting a Graph\n",
      "\n",
      "Let's first export a graph so that we can see what kind of file format NetworkX imports and exports to.\n",
      "\n",
      "So, let's generate the same graph that we used from the previous exercise:"
     ]
    },
    {
     "cell_type": "code",
     "collapsed": false,
     "input": [
      "import networkx as nx\n",
      "\n",
      "# create a new graph\n",
      "g = nx.Graph()\n",
      "\n",
      "# let's attach a size attribute to each node to describe how big we want the node to be\n",
      "g.add_node(1, {'size': 100})\n",
      "g.add_node(2, {'size': 200})\n",
      "g.add_node(4, {'size': 400})\n",
      "\n",
      "# let's use the edge attribute to describe how thick we want that edge to be\n",
      "g.add_edge(1,2, { 'thickness': 1})\n",
      "g.add_edge(2,4, { 'thickness': 10})\n",
      "\n",
      "def plot_graph(g):\n",
      "    # let's iterate through the nodes and edges and extract the list of node & edge sizes\n",
      "    node_size = [attribs['size'] for (node, attribs) in g.nodes(data=True)]\n",
      "    edge_thickness = [attribs['thickness'] for (v_from, v_to, attribs) in g.edges(data=True)]\n",
      "\n",
      "    LIGHT_BLUE = '#A0CBE2'\n",
      "\n",
      "    nx.draw(g, \n",
      "        node_size = node_size,   # node_size can either take a single value (where all nodes will be size N),\n",
      "                                 # or a list of values, where Nth list value will be the size for the Nth node\n",
      "        with_labels = True,\n",
      "        width = edge_thickness,  # similarly, the Nth value corresponds to the width for edge N\n",
      "        node_color = LIGHT_BLUE,\n",
      "        edge_color = LIGHT_BLUE,\n",
      "        font_size = 15\n",
      "    )\n",
      "    \n",
      "plot_graph(g)"
     ],
     "language": "python",
     "metadata": {},
     "outputs": []
    },
    {
     "cell_type": "markdown",
     "metadata": {},
     "source": [
      "### Exporting to a file\n",
      "\n",
      "We can use NetworkX's json_graph module to save the graph as a JSON file:"
     ]
    },
    {
     "cell_type": "code",
     "collapsed": false,
     "input": [
      "edgelist_txt = 'retweet_relationships/retweets.txt'\n",
      "G = nx.read_edgelist(edgelist_txt, create_using=nx.DiGraph())"
     ],
     "language": "python",
     "metadata": {},
     "outputs": []
    },
    {
     "cell_type": "markdown",
     "metadata": {},
     "source": [
      "If you want to attach attributes to nodes and edges, you'll need a file format that can save that info. The JSON formatter can do this:"
     ]
    },
    {
     "cell_type": "code",
     "collapsed": false,
     "input": [
      "from networkx.readwrite import json_graph\n",
      "string_result = json_graph.dumps(g, indent=4)\n",
      "\n",
      "#let's see what it looks like\n",
      "print string_result\n",
      "\n",
      "#and then let's also save it into a file\n",
      "with open('test_graph.json', 'w') as f:\n",
      "    f.write(string_result)"
     ],
     "language": "python",
     "metadata": {},
     "outputs": []
    },
    {
     "cell_type": "markdown",
     "metadata": {},
     "source": [
      "### Importing from a file\n",
      "\n",
      "Similarly, we can use json_graph to generate a graph from JSON:"
     ]
    },
    {
     "cell_type": "code",
     "collapsed": false,
     "input": [
      "with open('test_graph.json', 'r') as f:\n",
      "    H = json_graph.loads(f.read())\n",
      "\n",
      "plot_graph(H)"
     ],
     "language": "python",
     "metadata": {},
     "outputs": []
    },
    {
     "cell_type": "markdown",
     "metadata": {},
     "source": [
      "### Quiz 1: Try modifying the JSON file to create a graph that looks like this:\n",
      "\n",
      "<img src=\"files/image3.png\" witdh=\"300\" style=\"float:left;\" />"
     ]
    },
    {
     "cell_type": "code",
     "collapsed": false,
     "input": [
      "# use this to test your json file:\n",
      "\n",
      "with open('test_graph.json', 'r') as f:\n",
      "    H = json_graph.loads(f.read())\n",
      "\n",
      "plot_graph(H)"
     ],
     "language": "python",
     "metadata": {},
     "outputs": []
    },
    {
     "cell_type": "markdown",
     "metadata": {},
     "source": [
      "### Question: What happens if you change \"directed\" from false to true?"
     ]
    }
   ],
   "metadata": {}
  }
 ]
}