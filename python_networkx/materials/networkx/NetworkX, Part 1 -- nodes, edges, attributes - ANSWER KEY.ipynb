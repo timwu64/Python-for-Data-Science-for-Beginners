{
 "metadata": {
  "name": "",
  "signature": "sha256:5ef87bdceb1ba36f203971836cd39d686ee6f68a57ac3b9664c2d95c31a5215d"
 },
 "nbformat": 3,
 "nbformat_minor": 0,
 "worksheets": [
  {
   "cells": [
    {
     "cell_type": "markdown",
     "metadata": {},
     "source": [
      "#### Quiz 1: How would you draw the following graph?\n",
      "\n",
      "<img src=\"files/image1.png\" style=\"float:left\" width=\"200\" />"
     ]
    },
    {
     "cell_type": "code",
     "collapsed": false,
     "input": [
      "# One possible answer\n",
      "import networkx as nx\n",
      "\n",
      "LIGHT_BLUE = '#A0CBE2'\n",
      "\n",
      "g = nx.Graph()\n",
      "g.add_edge('A', 'B')\n",
      "g.add_edge('B', 'D')\n",
      "g.add_edge('D', 'C')\n",
      "g.add_edge('D', 'E')\n",
      "g.add_edge('D', 'F')\n",
      "\n",
      "nx.draw(g, node_color = LIGHT_BLUE)"
     ],
     "language": "python",
     "metadata": {},
     "outputs": []
    },
    {
     "cell_type": "markdown",
     "metadata": {},
     "source": [
      "#### Quiz 2: How would you make the following graph?\n",
      "\n",
      "<img src=\"files/image2.png\" width=\"300\" style=\"float:left;\" />"
     ]
    },
    {
     "cell_type": "code",
     "collapsed": false,
     "input": [
      "# One possible answer\n",
      "\n",
      "g = nx.Graph()\n",
      "g.add_node(1, {'size': 800})\n",
      "g.add_node(2, {'size': 200})\n",
      "g.add_node(3, {'size': 200})\n",
      "g.add_node(4, {'size': 200})\n",
      "g.add_node(5, {'size': 200})\n",
      "\n",
      "g.add_edge(1,2, { 'thickness': 20})\n",
      "g.add_edge(1,3, { 'thickness': 20})\n",
      "g.add_edge(1,4, { 'thickness': 20})\n",
      "g.add_edge(1,5, { 'thickness': 20})\n",
      "g.add_edge(2,3, { 'thickness': 5})\n",
      "g.add_edge(3,4, { 'thickness': 5})\n",
      "g.add_edge(4,5, { 'thickness': 5})\n",
      "g.add_edge(5,2, { 'thickness': 5})\n",
      "\n",
      "node_size = [attribs['size'] for (v, attribs) in g.nodes(data=True)]\n",
      "edge_thickness = [attribs['thickness'] for (v_from, v_to, attribs) in g.edges(data=True)]\n",
      "\n",
      "nx.draw(g, \n",
      "    node_size = node_size,   # Nth value in node_size corresponds to Nth node\n",
      "    with_labels = True,\n",
      "    width = edge_thickness,  # Nth value in width corresponds to Nth edge\n",
      "    node_color = LIGHT_BLUE,\n",
      "    edge_color = LIGHT_BLUE,\n",
      "    font_size = 15\n",
      ")"
     ],
     "language": "python",
     "metadata": {},
     "outputs": []
    }
   ],
   "metadata": {}
  }
 ]
}