{
 "metadata": {
  "name": "",
  "signature": "sha256:fc1b874e6f7052dfd5fba2c45e75d57c0226f6e985abcbaa2759a79fc43488fb"
 },
 "nbformat": 3,
 "nbformat_minor": 0,
 "worksheets": [
  {
   "cells": [
    {
     "cell_type": "markdown",
     "metadata": {},
     "source": [
      "# Making networks with Twitter data\n",
      "\n",
      "This notebook will walk you through how to create and analyze networks using Twitter data.\n",
      "\n",
      "## Data preprocessing: getting data into NetworkX\n",
      "\n",
      "To make a network in NetworkX using external data, the nodes and the connections between them must be represented by pairs of tuples. In this first section, we'll walk through some data preprocessing techniques together to get our data ready for analysis.\n",
      "\n",
      "Let's take a look at the data we're working with."
     ]
    },
    {
     "cell_type": "code",
     "collapsed": false,
     "input": [
      "import json\n",
      "f = open('../materials/data/friends/list.PyTennessee.json')\n",
      "\n",
      "data = json.load(f)\n",
      "pairs = []\n",
      "\n",
      "for user in data['users']:\n",
      "    pairs.append(('PyTennessee', str(user['screen_name'])))\n",
      "\n",
      "pairs[:10]"
     ],
     "language": "python",
     "metadata": {},
     "outputs": []
    },
    {
     "cell_type": "markdown",
     "metadata": {},
     "source": [
      "If you run the section below, we'll end up with all of the friend and follower pairs across all of the files. You should end up with 1286 pairs."
     ]
    },
    {
     "cell_type": "code",
     "collapsed": false,
     "input": [
      "# Because the relationship data is split across files, we need to\n",
      "# walk through all of them to get the data.\n",
      "import os\n",
      "\n",
      "for (dir_path, dir_names, file_names) in os.walk('../materials/data/friend_relationships/'):\n",
      "    files = file_names\n",
      "    \n",
      "for file_name in files:\n",
      "    with open('../materials/data/friend_relationships/' + file_name) as p:\n",
      "        pair_data = json.load(p)\n",
      "        for k in pair_data.keys():\n",
      "            twitter_pair = k.split()\n",
      "            if pair_data[k]['relationship']['source']['following'] is True:\n",
      "                pairs.append((str(twitter_pair[0]), str(twitter_pair[1])))\n",
      "            elif pair_data[k]['relationship']['source']['followed_by'] is True:\n",
      "                pairs.append((str(twitter_pair[1]), str(twitter_pair[0])))\n",
      "                \n",
      "len(pairs)"
     ],
     "language": "python",
     "metadata": {},
     "outputs": []
    },
    {
     "cell_type": "markdown",
     "metadata": {},
     "source": [
      "## Make networks with Twitter data\n",
      "\n",
      "Using the NetworkX methods we've learned before, let's do some network analysis on PyTennessee's Twitter friends. We're going to look at the Twitter handles that PyTennessee follows, as well as the relationships between those handles.\n",
      "\n",
      "### Undirected graph"
     ]
    },
    {
     "cell_type": "code",
     "collapsed": false,
     "input": [
      "%matplotlib inline\n",
      "import networkx as nx\n",
      "\n",
      "# Build an undirected graph."
     ],
     "language": "python",
     "metadata": {},
     "outputs": []
    },
    {
     "cell_type": "code",
     "collapsed": false,
     "input": [
      "# Just from looking at it, is this network connected or unconnected?\n"
     ],
     "language": "python",
     "metadata": {},
     "outputs": []
    },
    {
     "cell_type": "code",
     "collapsed": false,
     "input": [
      "# Hint: if you want to sort a dictionary to easily \n",
      "# find the highest and lowest values, use this function \n",
      "# on the output of the centrality measures like degree_centrality():\n",
      "\n",
      "import operator\n",
      "\n",
      "def centrality_sort(centrality_dict):\n",
      "    return sorted(centrality_dict.iteritems(), key=operator.itemgetter(1))\n",
      "\n",
      "# ex. degree_sorted = centrality_sort(degree_vals)"
     ],
     "language": "python",
     "metadata": {},
     "outputs": []
    },
    {
     "cell_type": "code",
     "collapsed": false,
     "input": [
      "# Which nodes have the highest/lowest degree centrality?\n"
     ],
     "language": "python",
     "metadata": {},
     "outputs": []
    },
    {
     "cell_type": "code",
     "collapsed": false,
     "input": [
      "# Which nodes have the highest/lowest betweenness centrality?\n"
     ],
     "language": "python",
     "metadata": {},
     "outputs": []
    },
    {
     "cell_type": "code",
     "collapsed": false,
     "input": [
      "# Which nodes have the highest/lowest closeness centrality?\n"
     ],
     "language": "python",
     "metadata": {},
     "outputs": []
    },
    {
     "cell_type": "code",
     "collapsed": false,
     "input": [
      "# Let's look at subsections of the graph. We'll do this together.\n"
     ],
     "language": "python",
     "metadata": {},
     "outputs": []
    },
    {
     "cell_type": "markdown",
     "metadata": {},
     "source": [
      "### Directed graph\n",
      "\n",
      "Let's add some direction to the graph. When we processed our data, we ordered the pairs so that the first handle in the pair is a follower of the second handle. We're not worrying about pairs that mutually follow each other right now."
     ]
    },
    {
     "cell_type": "code",
     "collapsed": false,
     "input": [
      "# Build a directed graph.\n"
     ],
     "language": "python",
     "metadata": {},
     "outputs": []
    },
    {
     "cell_type": "code",
     "collapsed": false,
     "input": [
      "# Run some degree centrality measures for directed graphs:\n",
      "# in_degree_centrality(): number of incoming connections (number of people following you)\n",
      "# out_degree_centrality(): number of outgoing connections (number of people you follow)\n"
     ],
     "language": "python",
     "metadata": {},
     "outputs": []
    },
    {
     "cell_type": "code",
     "collapsed": false,
     "input": [
      "# Let's look at subsections of the graph. Just like we did above.\n",
      "\n",
      "# Top 20 highest in-degree centrality scores:\n"
     ],
     "language": "python",
     "metadata": {},
     "outputs": []
    },
    {
     "cell_type": "code",
     "collapsed": false,
     "input": [
      "# Top 20 highest out-degree centrality scores:\n"
     ],
     "language": "python",
     "metadata": {},
     "outputs": []
    },
    {
     "cell_type": "markdown",
     "metadata": {},
     "source": [
      "### Network models\n",
      "\n",
      "Does our network match any of the network models we discussed earlier?"
     ]
    },
    {
     "cell_type": "code",
     "collapsed": false,
     "input": [
      "# Analyze the models here.\n"
     ],
     "language": "python",
     "metadata": {},
     "outputs": []
    },
    {
     "cell_type": "markdown",
     "metadata": {},
     "source": [
      "# Back to [tutorial.ipynb](http://localhost:8888/notebooks/notebooks/tutorial.ipynb#visual) for Visualizations!"
     ]
    }
   ],
   "metadata": {}
  }
 ]
}