{
 "cells": [
  {
   "cell_type": "code",
   "execution_count": 1,
   "metadata": {
    "collapsed": false
   },
   "outputs": [
    {
     "name": "stdout",
     "output_type": "stream",
     "text": [
      "1\n",
      "2\n",
      "3\n",
      "4\n",
      "5\n",
      "6\n",
      "7\n",
      "8\n",
      "9\n",
      "10\n"
     ]
    }
   ],
   "source": [
    "import threading\n",
    "import time\n",
    "\n",
    "def loop1_10():\n",
    "    for i in range(1, 11):\n",
    "        time.sleep(1)\n",
    "        print(i)\n",
    "\n",
    "threading.Thread(target=loop1_10).start()"
   ]
  },
  {
   "cell_type": "code",
   "execution_count": 3,
   "metadata": {
    "collapsed": false
   },
   "outputs": [
    {
     "name": "stdout",
     "output_type": "stream",
     "text": [
      "Thread-1 started!\n",
      "Thread-2 started!\n",
      "Thread-1 finished!\n",
      "Thread-3 started!\n",
      "Thread-2 finished!\n",
      "Thread-4 started!\n",
      "Thread-3 finished!\n",
      "Thread-4 finished!\n"
     ]
    }
   ],
   "source": [
    "import threading\n",
    "import time\n",
    "from __future__ import print_function\n",
    "\n",
    "class MyThread(threading.Thread):\n",
    "    def run(self):\n",
    "        print(\"{} started!\".format(self.getName()))              # \"Thread-x started!\"\n",
    "        time.sleep(1)                                            # Pretend to work for a second\n",
    "        print(\"{} finished!\".format(self.getName()))             # \"Thread-x finished!\"\n",
    "\n",
    "if __name__ == '__main__':\n",
    "    for x in range(4):                                         # Four times...\n",
    "        mythread = MyThread(name = \"Thread-{}\".format(x + 1))  # ...Instantiate a thread and pass a unique ID to it\n",
    "        mythread.start()                                       # ...Start the thread\n",
    "        time.sleep(.9)                                         # ...Wait 0.9 seconds before starting another"
   ]
  },
  {
   "cell_type": "code",
   "execution_count": 2,
   "metadata": {
    "collapsed": false
   },
   "outputs": [
    {
     "name": "stdout",
     "output_type": "stream",
     "text": [
      "7\n",
      "[<_MainThread(MainThread, started 140735286452224)>, <Thread(Thread-2, started daemon 123145308631040)>, <ParentPollerUnix(Thread-1, started daemon 123145330724864)>, <Thread(Thread-4, started daemon 123145325469696)>, <HistorySavingThread(IPythonHistorySavingThread, started 123145320214528)>, <Heartbeat(Thread-3, started daemon 123145313886208)>, <Thread(Thread-6, started 123145335980032)>]\n",
      "<Thread(Thread-6, started 123145335980032)>\n"
     ]
    }
   ],
   "source": [
    "import threading\n",
    "\n",
    "def descibe():\n",
    "    print(threading.active_count())\n",
    "    print(threading.enumerate()) # see the thread list\n",
    "    print(threading.current_thread())\n",
    "threading.Thread(target=descibe).start()"
   ]
  },
  {
   "cell_type": "code",
   "execution_count": 4,
   "metadata": {
    "collapsed": false
   },
   "outputs": [
    {
     "name": "stdout",
     "output_type": "stream",
     "text": [
      "This is a thread of <Thread(Thread-7, started 123145335980032)>\n"
     ]
    }
   ],
   "source": [
    "def thread_job():\n",
    "    print('This is a thread of %s' % threading.current_thread())\n",
    "\n",
    "def main():\n",
    "    thread = threading.Thread(target=thread_job,)\n",
    "    thread.start()\n",
    "if __name__ == '__main__':\n",
    "    main()"
   ]
  },
  {
   "cell_type": "code",
   "execution_count": null,
   "metadata": {
    "collapsed": true
   },
   "outputs": [],
   "source": []
  }
 ],
 "metadata": {
  "anaconda-cloud": {},
  "kernelspec": {
   "display_name": "Python [default]",
   "language": "python",
   "name": "python3"
  },
  "language_info": {
   "codemirror_mode": {
    "name": "ipython",
    "version": 3
   },
   "file_extension": ".py",
   "mimetype": "text/x-python",
   "name": "python",
   "nbconvert_exporter": "python",
   "pygments_lexer": "ipython3",
   "version": "3.5.2"
  }
 },
 "nbformat": 4,
 "nbformat_minor": 1
}
