{
 "cells": [
  {
   "cell_type": "code",
   "execution_count": 1,
   "metadata": {
    "collapsed": false
   },
   "outputs": [
    {
     "name": "stdout",
     "output_type": "stream",
     "text": [
      "1\n",
      "2\n",
      "3\n",
      "4\n",
      "5\n",
      "6\n",
      "7\n",
      "8\n",
      "9\n",
      "10\n"
     ]
    }
   ],
   "source": [
    "import threading\n",
    "import time\n",
    "\n",
    "def loop1_10():\n",
    "    for i in range(1, 11):\n",
    "        time.sleep(1)\n",
    "        print(i)\n",
    "\n",
    "threading.Thread(target=loop1_10).start()"
   ]
  },
  {
   "cell_type": "code",
   "execution_count": 3,
   "metadata": {
    "collapsed": false
   },
   "outputs": [
    {
     "name": "stdout",
     "output_type": "stream",
     "text": [
      "Thread-1 started!\n",
      "Thread-2 started!\n",
      "Thread-1 finished!\n",
      "Thread-3 started!\n",
      "Thread-2 finished!\n",
      "Thread-4 started!\n",
      "Thread-3 finished!\n",
      "Thread-4 finished!\n"
     ]
    }
   ],
   "source": [
    "import threading\n",
    "import time\n",
    "from __future__ import print_function\n",
    "\n",
    "class MyThread(threading.Thread):\n",
    "    def run(self):\n",
    "        print(\"{} started!\".format(self.getName()))              # \"Thread-x started!\"\n",
    "        time.sleep(1)                                            # Pretend to work for a second\n",
    "        print(\"{} finished!\".format(self.getName()))             # \"Thread-x finished!\"\n",
    "\n",
    "if __name__ == '__main__':\n",
    "    for x in range(4):                                         # Four times...\n",
    "        mythread = MyThread(name = \"Thread-{}\".format(x + 1))  # ...Instantiate a thread and pass a unique ID to it\n",
    "        mythread.start()                                       # ...Start the thread\n",
    "        time.sleep(.9)                                         # ...Wait 0.9 seconds before starting another"
   ]
  },
  {
   "cell_type": "code",
   "execution_count": 2,
   "metadata": {
    "collapsed": false
   },
   "outputs": [
    {
     "name": "stdout",
     "output_type": "stream",
     "text": [
      "7\n",
      "[<_MainThread(MainThread, started 140735286452224)>, <Thread(Thread-2, started daemon 123145308631040)>, <ParentPollerUnix(Thread-1, started daemon 123145330724864)>, <Thread(Thread-4, started daemon 123145325469696)>, <HistorySavingThread(IPythonHistorySavingThread, started 123145320214528)>, <Heartbeat(Thread-3, started daemon 123145313886208)>, <Thread(Thread-6, started 123145335980032)>]\n",
      "<Thread(Thread-6, started 123145335980032)>\n"
     ]
    }
   ],
   "source": [
    "import threading\n",
    "\n",
    "def descibe():\n",
    "    print(threading.active_count())\n",
    "    print(threading.enumerate()) # see the thread list\n",
    "    print(threading.current_thread())\n",
    "threading.Thread(target=descibe).start()"
   ]
  },
  {
   "cell_type": "code",
   "execution_count": 4,
   "metadata": {
    "collapsed": false
   },
   "outputs": [
    {
     "name": "stdout",
     "output_type": "stream",
     "text": [
      "This is a thread of <Thread(Thread-7, started 123145335980032)>\n"
     ]
    }
   ],
   "source": [
    "def thread_job():\n",
    "    print('This is a thread of %s' % threading.current_thread())\n",
    "\n",
    "def main():\n",
    "    thread = threading.Thread(target=thread_job,)\n",
    "    thread.start()\n",
    "if __name__ == '__main__':\n",
    "    main()"
   ]
  },
  {
   "cell_type": "code",
   "execution_count": 1,
   "metadata": {
    "collapsed": false
   },
   "outputs": [
    {
     "name": "stdout",
     "output_type": "stream",
     "text": [
      "T1 start\n",
      "\n",
      "T2 start\n",
      "\n",
      "T2 finish\n",
      "\n",
      "T1 finish\n",
      "\n",
      "all done\n",
      "\n"
     ]
    }
   ],
   "source": [
    "# How to use join\n",
    "\n",
    "import threading\n",
    "import time\n",
    "def thread_job():\n",
    "    print('T1 start\\n')\n",
    "    for i in range(10):\n",
    "        time.sleep(0.1)\n",
    "    print('T1 finish\\n')\n",
    "\n",
    "def T2_job():\n",
    "    print('T2 start\\n')\n",
    "    print('T2 finish\\n')\n",
    "\n",
    "def main():\n",
    "    added_thread = threading.Thread(target=thread_job, name='T1')\n",
    "    thread2 = threading.Thread(target=T2_job, name='T2')\n",
    "    added_thread.start()\n",
    "    thread2.start()\n",
    "    thread2.join()\n",
    "    added_thread.join()\n",
    "\n",
    "    print('all done\\n')\n",
    "\n",
    "if __name__ == '__main__':\n",
    "    main()"
   ]
  },
  {
   "cell_type": "code",
   "execution_count": 1,
   "metadata": {
    "collapsed": false
   },
   "outputs": [
    {
     "name": "stdout",
     "output_type": "stream",
     "text": [
      "[[1, 4, 9], [9, 16, 25], [16, 16, 16], [25, 25, 25]]\n"
     ]
    }
   ],
   "source": [
    "# How to use Queue\n",
    "\n",
    "import threading\n",
    "import time\n",
    "from queue import Queue\n",
    "\n",
    "def job(l,q):\n",
    "    for i in range(len(l)):\n",
    "        l[i] = l[i]**2\n",
    "    q.put(l)\n",
    "\n",
    "def multithreading():\n",
    "    q = Queue()\n",
    "    threads = []\n",
    "    data = [[1,2,3],[3,4,5],[4,4,4],[5,5,5]]\n",
    "    for i in range(4):\n",
    "        t = threading.Thread(target=job, args=(data[i], q))\n",
    "        t.start()\n",
    "        threads.append(t)\n",
    "    for thread in threads:\n",
    "        thread.join()\n",
    "    results = []\n",
    "    for _ in range(4):\n",
    "          results.append(q.get())\n",
    "    print(results)\n",
    "\n",
    "if __name__=='__main__':\n",
    "    multithreading()"
   ]
  },
  {
   "cell_type": "code",
   "execution_count": 2,
   "metadata": {
    "collapsed": false
   },
   "outputs": [
    {
     "name": "stdout",
     "output_type": "stream",
     "text": [
      "1999998000000\n",
      "normal:  0.07877707481384277\n",
      "1999998000000\n",
      "multithreading:  0.07146906852722168\n"
     ]
    }
   ],
   "source": [
    "import threading\n",
    "from queue import Queue\n",
    "import copy\n",
    "import time\n",
    "\n",
    "def job(l, q):\n",
    "    res = sum(l)\n",
    "    q.put(res)\n",
    "\n",
    "def multithreading(l):\n",
    "    q = Queue()\n",
    "    threads = []\n",
    "    for i in range(4):\n",
    "        t = threading.Thread(target=job, args=(copy.copy(l), q), name='T%i' % i)\n",
    "        t.start()\n",
    "        threads.append(t)\n",
    "    [t.join() for t in threads]\n",
    "    total = 0\n",
    "    for _ in range(4):\n",
    "        total += q.get()\n",
    "    print(total)\n",
    "\n",
    "def normal(l):\n",
    "    total = sum(l)\n",
    "    print(total)\n",
    "\n",
    "if __name__ == '__main__':\n",
    "    l = list(range(1000000))\n",
    "    s_t = time.time()\n",
    "    normal(l*4)\n",
    "    print('normal: ',time.time()-s_t)\n",
    "    s_t = time.time()\n",
    "    multithreading(l)\n",
    "    print('multithreading: ', time.time()-s_t)"
   ]
  },
  {
   "cell_type": "code",
   "execution_count": 1,
   "metadata": {
    "collapsed": false
   },
   "outputs": [
    {
     "name": "stdout",
     "output_type": "stream",
     "text": [
      "job1 1\n",
      "job1 2\n",
      "job1 3\n",
      "job1 4\n",
      "job1 5\n",
      "job1 6\n",
      "job1 7\n",
      "job1 8\n",
      "job1 9\n",
      "job1 10\n",
      "job2 20\n",
      "job2 30\n",
      "job2 40\n",
      "job2 50\n",
      "job2 60\n",
      "job2 70\n",
      "job2 80\n",
      "job2 90\n",
      "job2 100\n",
      "job2 110\n"
     ]
    }
   ],
   "source": [
    "import threading\n",
    "\n",
    "def job1():\n",
    "    global A, lock\n",
    "    lock.acquire()\n",
    "    for i in range(10):\n",
    "        A += 1\n",
    "        print('job1', A)\n",
    "    lock.release()\n",
    "\n",
    "def job2():\n",
    "    global A, lock\n",
    "    lock.acquire()\n",
    "    for i in range(10):\n",
    "        A += 10\n",
    "        print('job2', A)\n",
    "    lock.release()\n",
    "\n",
    "if __name__ == '__main__':\n",
    "    lock = threading.Lock()\n",
    "    A = 0\n",
    "    t1 = threading.Thread(target=job1)\n",
    "    t2 = threading.Thread(target=job2)\n",
    "    t1.start()\n",
    "    t2.start()\n",
    "    t1.join()\n",
    "    t2.join()"
   ]
  }
 ],
 "metadata": {
  "anaconda-cloud": {},
  "kernelspec": {
   "display_name": "Python [default]",
   "language": "python",
   "name": "python3"
  },
  "language_info": {
   "codemirror_mode": {
    "name": "ipython",
    "version": 3
   },
   "file_extension": ".py",
   "mimetype": "text/x-python",
   "name": "python",
   "nbconvert_exporter": "python",
   "pygments_lexer": "ipython3",
   "version": "3.5.2"
  }
 },
 "nbformat": 4,
 "nbformat_minor": 1
}
