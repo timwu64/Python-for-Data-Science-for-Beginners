{
 "cells": [
  {
   "cell_type": "code",
   "execution_count": 32,
   "metadata": {
    "collapsed": false
   },
   "outputs": [
    {
     "name": "stdout",
     "output_type": "stream",
     "text": [
      "+--------+---------+\n",
      "|count(1)|  product|\n",
      "+--------+---------+\n",
      "|   18359|    Grape|\n",
      "|   18390|   Orange|\n",
      "|   18921|   Banana|\n",
      "|   18440|Raspberry|\n",
      "|   18562|    Mango|\n",
      "|   18233|   Cherry|\n",
      "|   18653|  Apricot|\n",
      "|   18469|    Apple|\n",
      "|   18557|Blueberry|\n",
      "+--------+---------+\n",
      "\n"
     ]
    }
   ],
   "source": [
    "# This file was made for the class:\n",
    "# SQL for Marekters: Dominate data analytics, data science, and big data\n",
    "#\n",
    "# It can be found at:\n",
    "# https://udemy.com/sql-for-marketers-data-analytics-data-science-big-data\n",
    "\n",
    "from pyspark import SparkContext\n",
    "from pyspark import SparkConf\n",
    "\n",
    "# sc = SparkContext(\"local\", \"Simple App\")\n",
    "sqlContext = SQLContext(sc)\n",
    "\n",
    "df = sqlContext.read.json(\"big_actions.json\")\n",
    "df.registerTempTable(\"user_actions\")\n",
    "\n",
    "df2 = sqlContext.sql(\"SELECT COUNT(*), product FROM user_actions WHERE action = 'purchase' GROUP BY product\")\n",
    "\n",
    "df2.show()"
   ]
  }
 ],
 "metadata": {},
 "nbformat": 4,
 "nbformat_minor": 1
}
