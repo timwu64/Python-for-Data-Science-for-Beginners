{
 "cells": [
  {
   "cell_type": "code",
   "execution_count": 44,
   "metadata": {
    "collapsed": false
   },
   "outputs": [
    {
     "name": "stdout",
     "output_type": "stream",
     "text": [
      "1\n",
      "2\n",
      "3\n",
      "4\n",
      "5\n",
      "6\n",
      "7\n",
      "8\n",
      "9\n"
     ]
    }
   ],
   "source": [
    "# while loop\n",
    "con =1\n",
    "while con <10:\n",
    "    print(con)\n",
    "    con=con+1\n"
   ]
  },
  {
   "cell_type": "code",
   "execution_count": 45,
   "metadata": {
    "collapsed": false
   },
   "outputs": [
    {
     "name": "stdout",
     "output_type": "stream",
     "text": [
      "1\n",
      "2\n",
      "3\n",
      "4\n",
      "5\n",
      "5\n",
      "6\n",
      "1\n",
      "2\n",
      "49\n",
      "74\n"
     ]
    }
   ],
   "source": [
    "# for loop\n",
    "ex_list =[1,2,3,4,5,5,6,1,2,49,74]\n",
    "\n",
    "for i in ex_list:\n",
    "    print(i)"
   ]
  },
  {
   "cell_type": "code",
   "execution_count": 46,
   "metadata": {
    "collapsed": false
   },
   "outputs": [
    {
     "name": "stdout",
     "output_type": "stream",
     "text": [
      "1\n",
      "3\n",
      "5\n",
      "7\n",
      "9\n"
     ]
    }
   ],
   "source": [
    "# for loop with range\n",
    "for i in range(1,10,2):\n",
    "    print(i)"
   ]
  },
  {
   "cell_type": "code",
   "execution_count": 47,
   "metadata": {
    "collapsed": false
   },
   "outputs": [
    {
     "name": "stdout",
     "output_type": "stream",
     "text": [
      "x is less than y, and y is less than z\n"
     ]
    }
   ],
   "source": [
    "# if condition\n",
    "x=1\n",
    "y=2\n",
    "z=0\n",
    "if x<y>z:\n",
    "    print('x is less than y, and y is less than z')"
   ]
  },
  {
   "cell_type": "code",
   "execution_count": 48,
   "metadata": {
    "collapsed": false
   },
   "outputs": [
    {
     "name": "stdout",
     "output_type": "stream",
     "text": [
      "x is less or equal to y\n",
      "x is not equal to y\n"
     ]
    }
   ],
   "source": [
    "# if else condition\n",
    "if x>y:\n",
    "    print('x is great to y')\n",
    "else:\n",
    "    print('x is less or equal to y')\n",
    "    \n",
    "if x==y:\n",
    "    print('x is equal to y')\n",
    "\n",
    "if x!=y:\n",
    "    print('x is not equal to y')"
   ]
  },
  {
   "cell_type": "code",
   "execution_count": 49,
   "metadata": {
    "collapsed": false
   },
   "outputs": [
    {
     "name": "stdout",
     "output_type": "stream",
     "text": [
      "x = 1\n"
     ]
    }
   ],
   "source": [
    "# if elseif else condition\n",
    "if x>1:\n",
    "    print('x > 1')\n",
    "elif x<1:\n",
    "    print('x < 1')\n",
    "else:\n",
    "    print('x = 1')"
   ]
  },
  {
   "cell_type": "code",
   "execution_count": 50,
   "metadata": {
    "collapsed": false
   },
   "outputs": [
    {
     "name": "stdout",
     "output_type": "stream",
     "text": [
      "This is a function\n",
      "3\n"
     ]
    }
   ],
   "source": [
    "# Simple function (1)\n",
    "def function():\n",
    "    print(\"This is a function\")\n",
    "    a = 1 + 2\n",
    "    print(a)\n",
    "\n",
    "function()"
   ]
  },
  {
   "cell_type": "code",
   "execution_count": 51,
   "metadata": {
    "collapsed": false
   },
   "outputs": [
    {
     "name": "stdout",
     "output_type": "stream",
     "text": [
      "The c is 6\n"
     ]
    }
   ],
   "source": [
    "# Simple function (2)\n",
    "def function2(a,b):\n",
    "    c=a*b\n",
    "    print('The c is',c)\n",
    "\n",
    "function2(3,2)"
   ]
  },
  {
   "cell_type": "code",
   "execution_count": 52,
   "metadata": {
    "collapsed": false
   },
   "outputs": [
    {
     "name": "stdout",
     "output_type": "stream",
     "text": [
      "price 1000 color red brand carmy is_sec_hand True\n",
      "price 1000 color Blue brand BMW is_sec_hand True\n"
     ]
    }
   ],
   "source": [
    "# Simple function (3)\n",
    "def sale_car(price, brand='carmy', color='red', is_sec_hand=True):\n",
    "    print('price', price,\n",
    "         'color', color,\n",
    "         'brand', brand,\n",
    "         'is_sec_hand', is_sec_hand)\n",
    "    \n",
    "sale_car(1000)\n",
    "sale_car(1000,'BMW', color='Blue')"
   ]
  },
  {
   "cell_type": "code",
   "execution_count": 53,
   "metadata": {
    "collapsed": false
   },
   "outputs": [
    {
     "name": "stdout",
     "output_type": "stream",
     "text": [
      "100\n",
      "a past= None\n",
      "120\n",
      "a now= None\n"
     ]
    }
   ],
   "source": [
    "#Golbal variable (1)\n",
    "APPLE = 100\n",
    "a =None\n",
    "def fun():\n",
    "#    global a\n",
    "    a=20\n",
    "    return a+100\n",
    "print(APPLE)\n",
    "print('a past=', a)\n",
    "print(fun())\n",
    "print('a now=', a)"
   ]
  },
  {
   "cell_type": "code",
   "execution_count": 54,
   "metadata": {
    "collapsed": false
   },
   "outputs": [
    {
     "name": "stdout",
     "output_type": "stream",
     "text": [
      "100\n",
      "a past= None\n",
      "120\n",
      "a now= 20\n"
     ]
    }
   ],
   "source": [
    "#Golbal variable (2)\n",
    "APPLE = 100\n",
    "a =None\n",
    "def fun():\n",
    "    global a\n",
    "    a=20\n",
    "    return a+100\n",
    "print(APPLE)\n",
    "print('a past=', a)\n",
    "print(fun())\n",
    "print('a now=', a)"
   ]
  },
  {
   "cell_type": "code",
   "execution_count": 55,
   "metadata": {
    "collapsed": false
   },
   "outputs": [
    {
     "name": "stdout",
     "output_type": "stream",
     "text": [
      "This is my first test.\n",
      "This is next line.\n",
      "This is last line\n"
     ]
    }
   ],
   "source": [
    "# Read and wirte files (1)\n",
    "text = \"This is my first test.\\nThis is next line.\\nThis is last line\"\n",
    "print(text)\n",
    "\n",
    "my_file=open('my file.txt', 'w')\n",
    "my_file.write(text)\n",
    "my_file.close()"
   ]
  },
  {
   "cell_type": "code",
   "execution_count": 56,
   "metadata": {
    "collapsed": true
   },
   "outputs": [],
   "source": [
    "# Read and wirte files (2)\n",
    "append_text ='\\nThis is append file.'\n",
    "my_file=open('my file.txt', 'a')\n",
    "my_file.write(append_text)\n",
    "my_file.close()"
   ]
  },
  {
   "cell_type": "code",
   "execution_count": 57,
   "metadata": {
    "collapsed": false
   },
   "outputs": [
    {
     "name": "stdout",
     "output_type": "stream",
     "text": [
      "This is my first test.\n",
      "This is next line.\n",
      "This is last line\n",
      "This is append file.\n"
     ]
    }
   ],
   "source": [
    "# Read and wirte files (3.1)\n",
    "file=open('my file.txt', 'r')\n",
    "content=file.read()\n",
    "python_list=[1,2,3,4,5,'abc','def']\n",
    "print(content)"
   ]
  },
  {
   "cell_type": "code",
   "execution_count": 58,
   "metadata": {
    "collapsed": false
   },
   "outputs": [
    {
     "name": "stdout",
     "output_type": "stream",
     "text": [
      "This is my first test.\n",
      " This is next line.\n",
      "\n"
     ]
    }
   ],
   "source": [
    "# Read and wirte files (3.2)\n",
    "file=open('my file.txt', 'r')\n",
    "content=file.readline()\n",
    "second_read_line = file.readline()\n",
    "print(content, second_read_line)"
   ]
  },
  {
   "cell_type": "code",
   "execution_count": 59,
   "metadata": {
    "collapsed": false
   },
   "outputs": [
    {
     "name": "stdout",
     "output_type": "stream",
     "text": [
      "['This is my first test.\\n', 'This is next line.\\n', 'This is last line\\n', 'This is append file.']\n"
     ]
    }
   ],
   "source": [
    "# Read and wirte files (3.3)\n",
    "file=open('my file.txt', 'r')\n",
    "content=file.readlines()\n",
    "print(content)"
   ]
  },
  {
   "cell_type": "code",
   "execution_count": 60,
   "metadata": {
    "collapsed": false
   },
   "outputs": [
    {
     "name": "stdout",
     "output_type": "stream",
     "text": [
      "Good calculator\n",
      "18\n",
      "21\n",
      "-1\n",
      "6.5\n"
     ]
    }
   ],
   "source": [
    "# Python Class (1)\n",
    "class Calculator:\n",
    "    name ='Good calculator'\n",
    "    price = 18\n",
    "    def add(self,x,y):\n",
    "        result = x + y\n",
    "        return(result)\n",
    "    def minus(self,x, y):\n",
    "        result = x-y\n",
    "        return(result)\n",
    "    def times(self,x,y):\n",
    "        result = x*y\n",
    "        return(result)\n",
    "    def divide(self,x,y):\n",
    "        result = x/y\n",
    "        return(result)\n",
    "        \n",
    "calcu = Calculator()\n",
    "print(calcu.name)\n",
    "print(calcu.price)\n",
    "print(calcu.add(10,11))\n",
    "print(calcu.minus(10,11))\n",
    "print(calcu.divide(13,2))"
   ]
  },
  {
   "cell_type": "code",
   "execution_count": 61,
   "metadata": {
    "collapsed": false
   },
   "outputs": [
    {
     "name": "stdout",
     "output_type": "stream",
     "text": [
      "I am a calculator\n",
      "12\n",
      "28\n"
     ]
    }
   ],
   "source": [
    "# Python Class (2)\n",
    "class Calculator:\n",
    "    name ='Good calculator'\n",
    "    price = 18\n",
    "    def __init__(self, name, price, high, width, weight):\n",
    "        self.name = name\n",
    "        self.price = price\n",
    "        self.h =high\n",
    "        self.wi=width\n",
    "        self.we=weight\n",
    "    def add(self,x,y):\n",
    "        result = x + y\n",
    "        return(result)\n",
    "    def minus(self,x, y):\n",
    "        result = x-y\n",
    "        return(result)\n",
    "    def times(self,x,y):\n",
    "        result = x*y\n",
    "        return(result)\n",
    "    def divide(self,x,y):\n",
    "        result = x/y\n",
    "        return(result)\n",
    "        \n",
    "c = Calculator('I am a calculator',12,30,15,19)\n",
    "print(c.name)\n",
    "print(c.price)\n",
    "print(c.add(8,20))"
   ]
  },
  {
   "cell_type": "code",
   "execution_count": 62,
   "metadata": {
    "collapsed": false
   },
   "outputs": [
    {
     "name": "stdout",
     "output_type": "stream",
     "text": [
      "Please give a number:3\n",
      "Good Luck: a_input 3\n"
     ]
    }
   ],
   "source": [
    "# Python input\n",
    "a_input = input(\"Please give a number:\") #return a sting '1'\n",
    "if a_input == '1':\n",
    "    print(\"This is a good one\",a_input)\n",
    "elif a_input == str(2):\n",
    "    print(\"See you next time\",a_input)\n",
    "else:\n",
    "    print(\"Good Luck: a_input\",a_input)"
   ]
  },
  {
   "cell_type": "code",
   "execution_count": 63,
   "metadata": {
    "collapsed": false
   },
   "outputs": [
    {
     "name": "stdout",
     "output_type": "stream",
     "text": [
      "12\n",
      "3\n",
      "4\n",
      "14\n",
      "6\n",
      "index= 0 ,number in tuple= 12\n",
      "index= 1 ,number in tuple= 3\n",
      "index= 2 ,number in tuple= 4\n",
      "index= 3 ,number in tuple= 14\n",
      "index= 4 ,number in tuple= 6\n"
     ]
    }
   ],
   "source": [
    "# Python Tuple\n",
    "a_tuple =(12, 3, 4, 14, 6)\n",
    "b_tuple = 2, 3, 4, 5, 8\n",
    "\n",
    "for content in a_tuple:\n",
    "    print(content)\n",
    "\n",
    "for index in range(len(a_tuple)):\n",
    "    print('index=', index, ',number in tuple=', a_tuple[index])"
   ]
  },
  {
   "cell_type": "code",
   "execution_count": 64,
   "metadata": {
    "collapsed": false
   },
   "outputs": [
    {
     "name": "stdout",
     "output_type": "stream",
     "text": [
      "[1, 2, 3, 4, 5, 4, 3, 2, 1, -10]\n",
      "[1, 0, 2, 3, 4, 5, 4, 3, 2, 1, -10]\n",
      "[1, 0, 3, 4, 5, 4, 3, 2, 1, -10]\n",
      "-10\n",
      "[1, 0, 3]\n",
      "[4, 5]\n",
      "[2, 1, -10]\n",
      "3\n",
      "1\n",
      "[-10, 0, 1, 1, 2, 3, 3, 4, 4, 5]\n",
      "[5, 4, 4, 3, 3, 2, 1, 1, 0, -10]\n"
     ]
    }
   ],
   "source": [
    "#Python List\n",
    "a=[1,2,3,4,5,4,3,2,1]\n",
    "a.append(-10)\n",
    "print(a)\n",
    "a.insert(1,0)\n",
    "print(a)\n",
    "a.remove(2)\n",
    "print(a)\n",
    "print(a[-1])\n",
    "print(a[:3])\n",
    "print(a[3:5])\n",
    "print(a[-3:])\n",
    "print(a.index(4))\n",
    "print(a.count(-10))\n",
    "a.sort()\n",
    "print(a)\n",
    "a.sort(reverse=True)\n",
    "print(a)"
   ]
  },
  {
   "cell_type": "code",
   "execution_count": 65,
   "metadata": {
    "collapsed": false
   },
   "outputs": [
    {
     "name": "stdout",
     "output_type": "stream",
     "text": [
      "2\n",
      "5\n"
     ]
    }
   ],
   "source": [
    "#Python multi dim List\n",
    "\n",
    "multi_dim_a =[[1,2,3],\n",
    "              [2,3,4],\n",
    "              [3,4,5]]\n",
    "print(multi_dim_a[0][1])\n",
    "print(multi_dim_a[2][2])"
   ]
  },
  {
   "cell_type": "code",
   "execution_count": 66,
   "metadata": {
    "collapsed": false
   },
   "outputs": [
    {
     "name": "stdout",
     "output_type": "stream",
     "text": [
      "1\n",
      "{'orange': 3, 'pear': 2, 'apple': 1}\n",
      "{'orange': 3, 'apple': 1}\n",
      "{'orange': 3, 'apple': 1, 'b': 20}\n",
      "{'orange': 3, 'pear': [1, 3, 3, 5], 'apple': [1, 2, 3]}\n",
      "5\n"
     ]
    }
   ],
   "source": [
    "#Python Dictionary\n",
    "a_list =[1,2,3,4,5]\n",
    "d ={'apple':1, 'pear':2, 'orange':3}\n",
    "d1={'apple':[1,2,3], 'pear':[1,3,3,5], 'orange':3}\n",
    "d2={1:'a', 2:'b'}\n",
    "print(d['apple'])\n",
    "print(d)\n",
    "del d['pear']\n",
    "print(d)\n",
    "d['b']=20\n",
    "print(d)\n",
    "print(d1)\n",
    "print(d1['pear'][3])"
   ]
  },
  {
   "cell_type": "code",
   "execution_count": 1,
   "metadata": {
    "collapsed": false
   },
   "outputs": [
    {
     "name": "stdout",
     "output_type": "stream",
     "text": [
      "{'Jack': 15, 'Kevin': 17, 'Bob': 22, 'Alice': 12}\n",
      "dict_items([('Jack', 15), ('Kevin', 17), ('Bob', 22), ('Alice', 12)])\n"
     ]
    }
   ],
   "source": [
    "exDict = {'Jack':15, 'Bob':22, 'Alice': 12, 'Kevin':17}\n",
    "print(exDict )\n",
    "print (exDict.items())"
   ]
  },
  {
   "cell_type": "code",
   "execution_count": 67,
   "metadata": {
    "collapsed": false
   },
   "outputs": [
    {
     "name": "stdout",
     "output_type": "stream",
     "text": [
      "time.struct_time(tm_year=2016, tm_mon=10, tm_mday=5, tm_hour=16, tm_min=28, tm_sec=17, tm_wday=2, tm_yday=279, tm_isdst=1)\n"
     ]
    }
   ],
   "source": [
    "#Python import \n",
    "import time as t\n",
    "print(t.localtime())\n"
   ]
  },
  {
   "cell_type": "code",
   "execution_count": 68,
   "metadata": {
    "collapsed": false
   },
   "outputs": [
    {
     "name": "stdout",
     "output_type": "stream",
     "text": [
      "time.struct_time(tm_year=2016, tm_mon=10, tm_mday=5, tm_hour=16, tm_min=28, tm_sec=17, tm_wday=2, tm_yday=279, tm_isdst=1)\n",
      "1475710097.777168\n"
     ]
    }
   ],
   "source": [
    "from time import time, localtime\n",
    "print(localtime())\n",
    "print(time())"
   ]
  },
  {
   "cell_type": "code",
   "execution_count": 69,
   "metadata": {
    "collapsed": false
   },
   "outputs": [
    {
     "name": "stdout",
     "output_type": "stream",
     "text": [
      "time.struct_time(tm_year=2016, tm_mon=10, tm_mday=5, tm_hour=16, tm_min=28, tm_sec=17, tm_wday=2, tm_yday=279, tm_isdst=1)\n"
     ]
    }
   ],
   "source": [
    "from time import *\n",
    "print(localtime())"
   ]
  },
  {
   "cell_type": "code",
   "execution_count": 70,
   "metadata": {
    "collapsed": false
   },
   "outputs": [
    {
     "name": "stdout",
     "output_type": "stream",
     "text": [
      "I am m1\n",
      "I am python1\n"
     ]
    }
   ],
   "source": [
    "#Python (import your own module)\n",
    "import m1\n",
    "m1.printdata('I am python1')"
   ]
  },
  {
   "cell_type": "code",
   "execution_count": 71,
   "metadata": {
    "collapsed": false
   },
   "outputs": [
    {
     "name": "stdout",
     "output_type": "stream",
     "text": [
      "Please input a number 3\n",
      "I am still in the while loop\n",
      "Please input a number 4\n",
      "I am still in the while loop\n",
      "Please input a number 5\n",
      "I am still in the while loop\n",
      "Please input a number 1\n",
      "I am still in the while loop\n",
      "finish run\n"
     ]
    }
   ],
   "source": [
    "#Python (How to use break or continue)\n",
    "a = True\n",
    "while a:\n",
    "    b=input('Please input a number ')\n",
    "    if b=='1':\n",
    "        a=False\n",
    "    else:\n",
    "        pass\n",
    "    print('I am still in the while loop')\n",
    "print('finish run')"
   ]
  },
  {
   "cell_type": "code",
   "execution_count": 72,
   "metadata": {
    "collapsed": false
   },
   "outputs": [
    {
     "name": "stdout",
     "output_type": "stream",
     "text": [
      "Please input a number 4\n",
      "I am still in the while loop\n",
      "Please input a number 3\n",
      "I am still in the while loop\n",
      "Please input a number 2\n",
      "I am still in the while loop\n",
      "Please input a number 1\n",
      "finish run\n"
     ]
    }
   ],
   "source": [
    "while True:\n",
    "    b=input('Please input a number ')\n",
    "    if b=='1':\n",
    "        break\n",
    "    else:\n",
    "        pass\n",
    "    print('I am still in the while loop')\n",
    "print('finish run')"
   ]
  },
  {
   "cell_type": "code",
   "execution_count": 73,
   "metadata": {
    "collapsed": false
   },
   "outputs": [],
   "source": [
    "#Python (Try and Catch)\n",
    "try:\n",
    "    file = open('eee','r+')\n",
    "except Exception as e:\n",
    "    print('There is not file named as eee')\n",
    "    response = input('do you want to create a file ')\n",
    "    if response =='y':\n",
    "        file=open('eee','w')\n",
    "    else:\n",
    "        pass\n",
    "else:\n",
    "    file.write('sss')\n",
    "    file.close()"
   ]
  },
  {
   "cell_type": "code",
   "execution_count": 74,
   "metadata": {
    "collapsed": false
   },
   "outputs": [
    {
     "name": "stdout",
     "output_type": "stream",
     "text": [
      "0.5 8\n",
      "1.0 10\n",
      "1.5 12\n",
      "[(1, 1, 4), (2, 2, 5), (3, 3, 6)]\n",
      "5\n",
      "5\n"
     ]
    },
    {
     "data": {
      "text/plain": [
       "[3, 8]"
      ]
     },
     "execution_count": 74,
     "metadata": {},
     "output_type": "execute_result"
    }
   ],
   "source": [
    "#Python (zip lambda map)\n",
    "a=[1,2,3]\n",
    "b=[4,5,6]\n",
    "zip(a,b)\n",
    "list(zip(a,b))\n",
    "for i,j in zip(a,b):\n",
    "    print(i/2, j*2)\n",
    "print(list(zip(a,a,b)))\n",
    "\n",
    "def fun1(x,y):\n",
    "    return(x+y)\n",
    "\n",
    "print(fun1(2,3))\n",
    "fun2=lambda x,y:x+y\n",
    "print(fun2(2,3))\n",
    "\n",
    "list(map(fun1,[1],[2]))\n",
    "list(map(fun1,[1,3],[2,5]))"
   ]
  },
  {
   "cell_type": "code",
   "execution_count": 75,
   "metadata": {
    "collapsed": false
   },
   "outputs": [
    {
     "name": "stdout",
     "output_type": "stream",
     "text": [
      "4500629448\n",
      "4500629448\n",
      "True\n"
     ]
    }
   ],
   "source": [
    "#Python (copy & deepcopy)\n",
    "import copy\n",
    "a=[1,2,3]\n",
    "b=a\n",
    "print(id(a))\n",
    "print(id(b))\n",
    "print(id(a)==id(b))"
   ]
  },
  {
   "cell_type": "code",
   "execution_count": 76,
   "metadata": {
    "collapsed": false
   },
   "outputs": [
    {
     "name": "stdout",
     "output_type": "stream",
     "text": [
      "False\n",
      "False\n",
      "True\n",
      "[1, 2, 3]\n",
      "[1, 2, [3, 4]]\n",
      "[1, 2, [333, 4]]\n"
     ]
    }
   ],
   "source": [
    "#shallow copy\n",
    "c=copy.copy(a)\n",
    "print(id(a)==id(c))\n",
    "\n",
    "a=[1,2,[3,4]]\n",
    "d=copy.copy(a)\n",
    "print(id(a)==id(d))\n",
    "print(id(a[2])==id(d[2]))\n",
    "print(b)\n",
    "print(d)\n",
    "\n",
    "a[2][0]=333\n",
    "print(d)"
   ]
  },
  {
   "cell_type": "code",
   "execution_count": 77,
   "metadata": {
    "collapsed": false
   },
   "outputs": [
    {
     "name": "stdout",
     "output_type": "stream",
     "text": [
      "False\n"
     ]
    }
   ],
   "source": [
    "#Deep copy\n",
    "e=copy.deepcopy(a)\n",
    "print(id(e[2]) == id(a[2]))"
   ]
  },
  {
   "cell_type": "code",
   "execution_count": 78,
   "metadata": {
    "collapsed": false
   },
   "outputs": [
    {
     "name": "stdout",
     "output_type": "stream",
     "text": [
      "{'23': {1: 2, 'd': 'sad'}, 'da': 111, 2: [23, 1, 4]}\n"
     ]
    }
   ],
   "source": [
    "#Python pickle\n",
    "import pickle\n",
    "a_dict ={'da':111, 2:[23,1,4],'23':{1:2,'d':'sad'}}\n",
    "\n",
    "file=open('pickle_example.pickle','wb')\n",
    "pickle.dump(a_dict,file)\n",
    "file.close\n",
    "\n",
    "file =open('pickle_example.pickle','rb')\n",
    "a_dict1 = pickle.load(file)\n",
    "file.close()\n",
    "print(a_dict1)\n"
   ]
  },
  {
   "cell_type": "code",
   "execution_count": 86,
   "metadata": {
    "collapsed": false
   },
   "outputs": [
    {
     "name": "stdout",
     "output_type": "stream",
     "text": [
      "{'a', 'b', 'c', 'd'}\n",
      "<class 'set'>\n",
      "<class 'dict'>\n",
      "{'b', 'c', 'd'}\n",
      "{'a'}\n"
     ]
    }
   ],
   "source": [
    "char_list = ['a','b','c','c','d','d','d']\n",
    "print(set(char_list))\n",
    "print(type(set(char_list)))\n",
    "print(type(a_dict))\n",
    "\n",
    "unique_char=set(char_list)\n",
    "\n",
    "set1 = unique_char\n",
    "set2 = {'a','e','i'}\n",
    "print(set1.difference(set2))\n",
    "print(set1.intersection(set2))"
   ]
  },
  {
   "cell_type": "code",
   "execution_count": 88,
   "metadata": {
    "collapsed": false
   },
   "outputs": [
    {
     "name": "stdout",
     "output_type": "stream",
     "text": [
      "{'x'}\n",
      "None\n",
      "set()\n",
      "None\n",
      "set()\n",
      "None\n",
      "{'r', 'i', 'p', 'd', 'c', 'y', 'l', 'h', 'm', 'P', 'B', 'k', 'o', 'a', 'f', ' ', 'e', 'W', 'u', ':', 'n', 't'}\n"
     ]
    }
   ],
   "source": [
    "unique_char.add('x')\n",
    "print(unique_char)\n",
    "print(unique_char.remove('x'))\n",
    "print(unique_char)\n",
    "print(unique_char.discard('y'))\n",
    "print(unique_char)\n",
    "print(unique_char.clear())\n",
    "\n",
    "sentence = 'Welcome Back to our Python tutorial: python fundamental'\n",
    "print(set(sentence))"
   ]
  }
 ],
 "metadata": {
  "anaconda-cloud": {},
  "kernelspec": {
   "display_name": "Python [default]",
   "language": "python",
   "name": "python3"
  },
  "language_info": {
   "codemirror_mode": {
    "name": "ipython",
    "version": 3
   },
   "file_extension": ".py",
   "mimetype": "text/x-python",
   "name": "python",
   "nbconvert_exporter": "python",
   "pygments_lexer": "ipython3",
   "version": "3.5.2"
  }
 },
 "nbformat": 4,
 "nbformat_minor": 1
}
