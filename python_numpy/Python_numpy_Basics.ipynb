{
 "cells": [
  {
   "cell_type": "code",
   "execution_count": 33,
   "metadata": {
    "collapsed": false
   },
   "outputs": [
    {
     "name": "stdout",
     "output_type": "stream",
     "text": [
      "[[1 2 3]\n",
      " [2 3 4]]\n",
      "number of dim: 2\n",
      "shape (2, 3)\n",
      "size 6\n"
     ]
    }
   ],
   "source": [
    "import numpy as np\n",
    "array =np.array([[1,2,3],[2,3,4]])\n",
    "print(array)\n",
    "print('number of dim:', array.ndim)\n",
    "print('shape', array.shape)\n",
    "print('size', array.size)"
   ]
  },
  {
   "cell_type": "code",
   "execution_count": 34,
   "metadata": {
    "collapsed": false
   },
   "outputs": [
    {
     "name": "stdout",
     "output_type": "stream",
     "text": [
      "int32\n",
      "float32\n",
      "[[0 0 0 0]\n",
      " [0 0 0 0]\n",
      " [0 0 0 0]]\n",
      "[[ 0.  0.  0.  0.]\n",
      " [ 0.  0.  0.  0.]\n",
      " [ 0.  0.  0.  0.]]\n",
      "[10 12 14 16 18]\n",
      "[[ 0  1  2  3]\n",
      " [ 4  5  6  7]\n",
      " [ 8  9 10 11]]\n",
      "[[  1.    2.8   4.6]\n",
      " [  6.4   8.2  10. ]]\n"
     ]
    }
   ],
   "source": [
    "#Python numpy Array\n",
    "\n",
    "a=np.array([2,23,4],dtype=np.int32)\n",
    "print(a.dtype)\n",
    "a=np.array([2,23,4],dtype=np.float32)\n",
    "print(a.dtype)\n",
    "a=np.zeros((3,4), dtype=np.int16)\n",
    "print(a)\n",
    "a=np.empty((3,4))\n",
    "print(a)\n",
    "a=np.arange(10,20,2)\n",
    "print(a)\n",
    "a=np.arange(12).reshape((3,4))\n",
    "print(a)\n",
    "a=np.linspace(1,10,6).reshape((2,3))\n",
    "print(a)"
   ]
  },
  {
   "cell_type": "code",
   "execution_count": 35,
   "metadata": {
    "collapsed": false
   },
   "outputs": [
    {
     "name": "stdout",
     "output_type": "stream",
     "text": [
      "[10 20 30 40] [0 1 2 3]\n",
      "[10 21 32 43]\n",
      "[    1    20   900 64000]\n",
      "[-5.44021111  9.12945251 -9.88031624  7.4511316 ]\n",
      "[ True  True  True False]\n",
      "[False False False  True]\n",
      "[[1 1]\n",
      " [0 1]]\n",
      "[[0 1]\n",
      " [2 3]]\n",
      "[[0 1]\n",
      " [0 3]]\n",
      "[[2 4]\n",
      " [2 3]]\n",
      "[[2 4]\n",
      " [2 3]]\n",
      "[[ 0.20989153  0.64361363  0.56837301  0.58185991]\n",
      " [ 0.19858458  0.38041605  0.92604407  0.21583291]]\n",
      "3.72461569594\n",
      "[ 0.40847611  1.02402968  1.49441708  0.79769282]\n",
      "[ 2.00373809  1.72087761]\n",
      "0.198584584216\n",
      "[ 0.19858458  0.38041605  0.56837301  0.21583291]\n",
      "[ 0.20989153  0.19858458]\n",
      "0.92604406887\n",
      "[ 0.20989153  0.64361363  0.92604407  0.58185991]\n",
      "[ 0.64361363  0.92604407]\n"
     ]
    }
   ],
   "source": [
    "#Python numpy Vectorized Computation\n",
    "\n",
    "a =np.array([10,20,30,40])\n",
    "b =np.arange(4)\n",
    "\n",
    "print(a,b)\n",
    "\n",
    "c = a+b\n",
    "print(c)\n",
    "\n",
    "c = a**b\n",
    "print(c)\n",
    "\n",
    "c = 10*np.sin(a)\n",
    "print(c)\n",
    "\n",
    "print(b<3)\n",
    "print(b==3)\n",
    "\n",
    "a=np.array([[1,1],\n",
    "           [0,1]])\n",
    "b=np.arange(4).reshape((2,2))\n",
    "print(a)\n",
    "print(b)\n",
    "\n",
    "c=a*b\n",
    "c_dot=np.dot(a,b)\n",
    "print(c)\n",
    "print(c_dot)\n",
    "c_dot2=a.dot(b)\n",
    "print(c_dot2)\n",
    "\n",
    "a=np.random.random((2,4))\n",
    "print(a)\n",
    "print(np.sum(a))\n",
    "print(np.sum(a,axis=0))\n",
    "print(np.sum(a,axis=1))\n",
    "print(np.min(a))\n",
    "print(np.min(a,axis=0))\n",
    "print(np.min(a,axis=1))\n",
    "print(np.max(a))\n",
    "print(np.max(a,axis=0))\n",
    "print(np.max(a,axis=1))\n"
   ]
  },
  {
   "cell_type": "code",
   "execution_count": 36,
   "metadata": {
    "collapsed": false
   },
   "outputs": [
    {
     "name": "stdout",
     "output_type": "stream",
     "text": [
      "[[14 13 12 11]\n",
      " [10  9  8  7]\n",
      " [ 6  5  4  3]]\n",
      "[[11 12 13 14]\n",
      " [ 7  8  9 10]\n",
      " [ 3  4  5  6]]\n",
      "[[14 10  6]\n",
      " [13  9  5]\n",
      " [12  8  4]\n",
      " [11  7  3]]\n",
      "[[14 10  6]\n",
      " [13  9  5]\n",
      " [12  8  4]\n",
      " [11  7  3]]\n",
      "[[332 302 272 242]\n",
      " [302 275 248 221]\n",
      " [272 248 224 200]\n",
      " [242 221 200 179]]\n",
      "11\n",
      "0\n",
      "8.5\n",
      "8.5\n",
      "[ 10.   9.   8.   7.]\n",
      "[ 12.5   8.5   4.5]\n",
      "8.5\n",
      "8.5\n",
      "[ 14  27  39  50  60  69  77  84  90  95  99 102]\n",
      "[[-1 -1 -1]\n",
      " [-1 -1 -1]\n",
      " [-1 -1 -1]]\n",
      "(array([0, 0, 0, 0, 1, 1, 1, 1, 2, 2, 2, 2]), array([0, 1, 2, 3, 0, 1, 2, 3, 0, 1, 2, 3]))\n",
      "[[9 9 9 9]\n",
      " [9 9 8 7]\n",
      " [6 5 5 5]]\n"
     ]
    }
   ],
   "source": [
    "A=np.arange(14,2,-1).reshape((3,4))\n",
    "print(A)\n",
    "print(np.sort(A))\n",
    "\n",
    "# Get the transpose\n",
    "print(np.transpose(A))\n",
    "print((A.T))\n",
    "print((A.T).dot(A))\n",
    "\n",
    "# Find out the index of min, max\n",
    "print(np.argmin(A))\n",
    "print(np.argmax(A))\n",
    "\n",
    "print(np.median(A))\n",
    "print(np.mean(A))\n",
    "print(np.mean(A,axis=0))\n",
    "print(np.mean(A,axis=1))\n",
    "print(A.mean())\n",
    "\n",
    "print(np.average(A))\n",
    "print(np.cumsum(A))\n",
    "print(np.diff(A))\n",
    "\n",
    "# Find the nonezero index of the array\n",
    "print(np.nonzero(A))\n",
    "\n",
    "# Clip \n",
    "print(np.clip(A,5,9))\n",
    "\n"
   ]
  },
  {
   "cell_type": "code",
   "execution_count": 37,
   "metadata": {
    "collapsed": false
   },
   "outputs": [
    {
     "name": "stdout",
     "output_type": "stream",
     "text": [
      "[[ 3  4  5  6]\n",
      " [ 7  8  9 10]\n",
      " [11 12 13 14]]\n",
      "12\n",
      "[11 12 13 14]\n",
      "[ 4  8 12]\n",
      "[8 9]\n"
     ]
    }
   ],
   "source": [
    "#numpy indexing\n",
    "A=np.arange(3,15).reshape(3,4)\n",
    "print(A)\n",
    "print(A[2][1])\n",
    "print(A[2,:])\n",
    "print(A[:,1])\n",
    "print(A[1,1:3])"
   ]
  },
  {
   "cell_type": "code",
   "execution_count": 38,
   "metadata": {
    "collapsed": false
   },
   "outputs": [
    {
     "name": "stdout",
     "output_type": "stream",
     "text": [
      "[[ 3  4  5  6]\n",
      " [ 7  8  9 10]\n",
      " [11 12 13 14]]\n",
      "[[ 3  7 11]\n",
      " [ 4  8 12]\n",
      " [ 5  9 13]\n",
      " [ 6 10 14]]\n",
      "[ 3  4  5  6  7  8  9 10 11 12 13 14]\n",
      "[3 4 5 6]\n",
      "[ 7  8  9 10]\n",
      "[11 12 13 14]\n",
      "[ 3  7 11]\n",
      "[ 4  8 12]\n",
      "[ 5  9 13]\n",
      "[ 6 10 14]\n",
      "3\n",
      "4\n",
      "5\n",
      "6\n",
      "7\n",
      "8\n",
      "9\n",
      "10\n",
      "11\n",
      "12\n",
      "13\n",
      "14\n"
     ]
    }
   ],
   "source": [
    "# for loop and flatten\n",
    "print(A)\n",
    "print(A.T)\n",
    "print(A.flatten())\n",
    "\n",
    "for row in A:\n",
    "    print(row)\n",
    "    \n",
    "for column in A.T:\n",
    "    print(column)\n",
    "    \n",
    "for item in A.flat:\n",
    "    print(item)"
   ]
  },
  {
   "cell_type": "code",
   "execution_count": 39,
   "metadata": {
    "collapsed": false
   },
   "outputs": [
    {
     "name": "stdout",
     "output_type": "stream",
     "text": [
      "[[1 1 1]\n",
      " [2 2 2]]\n",
      "[1 1 1 2 2 2]\n",
      "(3,) (2, 3)\n",
      "(3,) (6,)\n"
     ]
    }
   ],
   "source": [
    "# vstack, hstack\n",
    "A = np.array([1,1,1])\n",
    "B = np.array([2,2,2])\n",
    "\n",
    "C = np.vstack((A,B)) #vertical Stack\n",
    "D = np.hstack((A,B)) #horizontal Stack\n",
    "print(C)\n",
    "print(D)\n",
    "print(A.shape, C.shape)\n",
    "print(A.shape, D.shape)"
   ]
  },
  {
   "cell_type": "code",
   "execution_count": 40,
   "metadata": {
    "collapsed": false
   },
   "outputs": [
    {
     "name": "stdout",
     "output_type": "stream",
     "text": [
      "[[1]\n",
      " [1]\n",
      " [1]\n",
      " [2]\n",
      " [2]\n",
      " [2]]\n",
      "[[1 2]\n",
      " [1 2]\n",
      " [1 2]]\n",
      "(3, 1) (6, 1)\n",
      "(3, 1) (3, 2)\n"
     ]
    }
   ],
   "source": [
    "A = np.array([1,1,1])[:,np.newaxis]\n",
    "B = np.array([2,2,2])[:,np.newaxis]\n",
    "\n",
    "C = np.vstack((A,B)) #vertical Stack\n",
    "D = np.hstack((A,B)) #horizontal Stack\n",
    "print(C)\n",
    "print(D)\n",
    "print(A.shape, C.shape)\n",
    "print(A.shape, D.shape)"
   ]
  },
  {
   "cell_type": "code",
   "execution_count": 41,
   "metadata": {
    "collapsed": false
   },
   "outputs": [
    {
     "name": "stdout",
     "output_type": "stream",
     "text": [
      "[[1]\n",
      " [1]\n",
      " [1]\n",
      " [2]\n",
      " [2]\n",
      " [2]\n",
      " [2]\n",
      " [2]\n",
      " [2]\n",
      " [1]\n",
      " [1]\n",
      " [1]]\n",
      "[[1 2 2 1]\n",
      " [1 2 2 1]\n",
      " [1 2 2 1]]\n"
     ]
    }
   ],
   "source": [
    "# Concatenate\n",
    "C=np.concatenate((A,B,B,A),axis=0)\n",
    "print(C)\n",
    "D=np.concatenate((A,B,B,A),axis=1)\n",
    "print(D)"
   ]
  },
  {
   "cell_type": "code",
   "execution_count": 42,
   "metadata": {
    "collapsed": false
   },
   "outputs": [
    {
     "name": "stdout",
     "output_type": "stream",
     "text": [
      "[[ 0  1  2  3]\n",
      " [ 4  5  6  7]\n",
      " [ 8  9 10 11]]\n",
      "[array([[0, 1],\n",
      "       [4, 5],\n",
      "       [8, 9]]), array([[ 2,  3],\n",
      "       [ 6,  7],\n",
      "       [10, 11]])]\n",
      "[array([[0, 1, 2, 3]]), array([[4, 5, 6, 7]]), array([[ 8,  9, 10, 11]])]\n",
      "[array([[0, 1],\n",
      "       [4, 5],\n",
      "       [8, 9]]), array([[ 2],\n",
      "       [ 6],\n",
      "       [10]]), array([[ 3],\n",
      "       [ 7],\n",
      "       [11]])]\n",
      "[array([[0, 1, 2, 3]]), array([[4, 5, 6, 7]]), array([[ 8,  9, 10, 11]])]\n",
      "[array([[0, 1],\n",
      "       [4, 5],\n",
      "       [8, 9]]), array([[ 2,  3],\n",
      "       [ 6,  7],\n",
      "       [10, 11]])]\n"
     ]
    }
   ],
   "source": [
    "# Split\n",
    "A = np.arange(12).reshape((3,4))\n",
    "print(A)\n",
    "print(np.split(A,2,axis=1))\n",
    "print(np.split(A,3,axis=0))\n",
    "print(np.array_split(A,3,axis=1))\n",
    "print(np.vsplit(A,3))\n",
    "print(np.hsplit(A,2))"
   ]
  },
  {
   "cell_type": "code",
   "execution_count": 43,
   "metadata": {
    "collapsed": false
   },
   "outputs": [
    {
     "name": "stdout",
     "output_type": "stream",
     "text": [
      "[0 1 2 3]\n",
      "[11  1  2  3]\n",
      "True\n",
      "True\n"
     ]
    }
   ],
   "source": [
    "# numpy copy & deep copy\n",
    "a=np.arange(4)\n",
    "print(a)\n",
    "b=a\n",
    "c=a\n",
    "d=b\n",
    "\n",
    "a[0]=11\n",
    "print(a)\n",
    "print(b is a)\n",
    "print(d is a)"
   ]
  },
  {
   "cell_type": "code",
   "execution_count": 44,
   "metadata": {
    "collapsed": false
   },
   "outputs": [
    {
     "name": "stdout",
     "output_type": "stream",
     "text": [
      "[11  1  2 44]\n",
      "[11  1  2  3]\n"
     ]
    }
   ],
   "source": [
    "#deep copy\n",
    "b=a.copy()\n",
    "a[3]=44\n",
    "print(a)\n",
    "print(b)"
   ]
  },
  {
   "cell_type": "code",
   "execution_count": null,
   "metadata": {
    "collapsed": true
   },
   "outputs": [],
   "source": []
  }
 ],
 "metadata": {
  "anaconda-cloud": {},
  "kernelspec": {
   "display_name": "Python [default]",
   "language": "python",
   "name": "python3"
  },
  "language_info": {
   "codemirror_mode": {
    "name": "ipython",
    "version": 3
   },
   "file_extension": ".py",
   "mimetype": "text/x-python",
   "name": "python",
   "nbconvert_exporter": "python",
   "pygments_lexer": "ipython3",
   "version": "3.5.2"
  }
 },
 "nbformat": 4,
 "nbformat_minor": 1
}
