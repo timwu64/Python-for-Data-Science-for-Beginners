{
 "cells": [
  {
   "cell_type": "code",
   "execution_count": 1,
   "metadata": {
    "collapsed": true
   },
   "outputs": [],
   "source": [
    "import pandas as pd\n",
    "import numpy as np\n",
    "import h2o\n",
    "from h2o.estimators.deeplearning import H2ODeepLearningEstimator\n",
    "from h2o.estimators.glm import H2OGeneralizedLinearEstimator\n",
    "from h2o.estimators.gbm import H2OGradientBoostingEstimator\n",
    "from h2o.estimators.stackedensemble import H2OStackedEnsembleEstimator\n",
    "from h2o.estimators.random_forest import H2ORandomForestEstimator\n",
    "import time \n",
    "import datetime\n",
    "from datetime import datetime"
   ]
  },
  {
   "cell_type": "code",
   "execution_count": 2,
   "metadata": {},
   "outputs": [
    {
     "name": "stdout",
     "output_type": "stream",
     "text": [
      "Checking whether there is an H2O instance running at http://localhost:54321..... not found.\n",
      "Attempting to start a local H2O server...\n",
      "; Java HotSpot(TM) 64-Bit Server VM (build 25.181-b13, mixed mode)\n",
      "  Starting server from C:\\Users\\gubingjing\\AppData\\Local\\Continuum\\anaconda3\\lib\\site-packages\\h2o\\backend\\bin\\h2o.jar\n",
      "  Ice root: C:\\Users\\GUBING~1\\AppData\\Local\\Temp\\tmp825w9w_y\n",
      "  JVM stdout: C:\\Users\\GUBING~1\\AppData\\Local\\Temp\\tmp825w9w_y\\h2o_gubingjing_started_from_python.out\n",
      "  JVM stderr: C:\\Users\\GUBING~1\\AppData\\Local\\Temp\\tmp825w9w_y\\h2o_gubingjing_started_from_python.err\n",
      "  Server is running at http://127.0.0.1:54321\n",
      "Connecting to H2O server at http://127.0.0.1:54321... successful.\n"
     ]
    },
    {
     "data": {
      "text/html": [
       "<div style=\"overflow:auto\"><table style=\"width:50%\"><tr><td>H2O cluster uptime:</td>\n",
       "<td>02 secs</td></tr>\n",
       "<tr><td>H2O cluster timezone:</td>\n",
       "<td>Asia/Shanghai</td></tr>\n",
       "<tr><td>H2O data parsing timezone:</td>\n",
       "<td>UTC</td></tr>\n",
       "<tr><td>H2O cluster version:</td>\n",
       "<td>3.22.0.2</td></tr>\n",
       "<tr><td>H2O cluster version age:</td>\n",
       "<td>1 month and 5 days </td></tr>\n",
       "<tr><td>H2O cluster name:</td>\n",
       "<td>H2O_from_python_gubingjing_r3ompf</td></tr>\n",
       "<tr><td>H2O cluster total nodes:</td>\n",
       "<td>1</td></tr>\n",
       "<tr><td>H2O cluster free memory:</td>\n",
       "<td>1.759 Gb</td></tr>\n",
       "<tr><td>H2O cluster total cores:</td>\n",
       "<td>2</td></tr>\n",
       "<tr><td>H2O cluster allowed cores:</td>\n",
       "<td>2</td></tr>\n",
       "<tr><td>H2O cluster status:</td>\n",
       "<td>accepting new members, healthy</td></tr>\n",
       "<tr><td>H2O connection url:</td>\n",
       "<td>http://127.0.0.1:54321</td></tr>\n",
       "<tr><td>H2O connection proxy:</td>\n",
       "<td>None</td></tr>\n",
       "<tr><td>H2O internal security:</td>\n",
       "<td>False</td></tr>\n",
       "<tr><td>H2O API Extensions:</td>\n",
       "<td>Algos, AutoML, Core V3, Core V4</td></tr>\n",
       "<tr><td>Python version:</td>\n",
       "<td>3.7.0 final</td></tr></table></div>"
      ],
      "text/plain": [
       "--------------------------  ---------------------------------\n",
       "H2O cluster uptime:         02 secs\n",
       "H2O cluster timezone:       Asia/Shanghai\n",
       "H2O data parsing timezone:  UTC\n",
       "H2O cluster version:        3.22.0.2\n",
       "H2O cluster version age:    1 month and 5 days\n",
       "H2O cluster name:           H2O_from_python_gubingjing_r3ompf\n",
       "H2O cluster total nodes:    1\n",
       "H2O cluster free memory:    1.759 Gb\n",
       "H2O cluster total cores:    2\n",
       "H2O cluster allowed cores:  2\n",
       "H2O cluster status:         accepting new members, healthy\n",
       "H2O connection url:         http://127.0.0.1:54321\n",
       "H2O connection proxy:\n",
       "H2O internal security:      False\n",
       "H2O API Extensions:         Algos, AutoML, Core V3, Core V4\n",
       "Python version:             3.7.0 final\n",
       "--------------------------  ---------------------------------"
      ]
     },
     "metadata": {},
     "output_type": "display_data"
    }
   ],
   "source": [
    "h2o.init() # start h2o\n",
    "# 2 cluster 1.759Gb"
   ]
  },
  {
   "cell_type": "code",
   "execution_count": 3,
   "metadata": {},
   "outputs": [
    {
     "name": "stdout",
     "output_type": "stream",
     "text": [
      "Parse progress: |█████████████████████████████████████████████████████████| 100%\n"
     ]
    }
   ],
   "source": [
    "dataPath = \"http://coursera.h2o.ai/house_data.3487.csv\"\n",
    "data = h2o.import_file(path=dataPath)  # import dataset to h2oframe"
   ]
  },
  {
   "cell_type": "code",
   "execution_count": 4,
   "metadata": {
    "collapsed": true
   },
   "outputs": [],
   "source": [
    "# generate date feature to year and month\n",
    "data['year'] = data['date'].substring(0,4)\n",
    "data['month'] = data['date'].substring(4,6)\n",
    "# transform some features to categorical features\n",
    "data['waterfront'] =  data['waterfront'].asfactor()\n",
    "data['view'] =  data['view'].asfactor()\n",
    "data['condition'] =  data['condition'].asfactor()\n",
    "data['grade'] =  data['grade'].asfactor()\n",
    "data['zipcode'] =  data['zipcode'].asfactor()\n",
    "data['year'] =  data['year'].asfactor()\n",
    "data['month'] =  data['month'].asfactor()\n",
    "# split 90% for train and 10% for test\n",
    "data_split = data.split_frame(ratios=[0.9],seed=123)  \n",
    "train = data_split[0]\n",
    "test = data_split[1]\n",
    "X = ['bedrooms','bathrooms','sqft_living',\n",
    "     'sqft_lot','floors','waterfront',\n",
    "     'view','condition','grade',\n",
    "     'sqft_above','sqft_basement','yr_built',\n",
    "     'yr_renovated','zipcode','lat',\n",
    "     'long','sqft_living15','sqft_lot15']\n",
    "y = 'price'"
   ]
  },
  {
   "cell_type": "code",
   "execution_count": 5,
   "metadata": {},
   "outputs": [
    {
     "name": "stdout",
     "output_type": "stream",
     "text": [
      "glm Model Build progress: |███████████████████████████████████████████████| 100%\n",
      "rmse for penalized regression model:151138.85161107982\n"
     ]
    },
    {
     "data": {
      "text/plain": [
       "'C:\\\\mymodel\\\\GLM_model_python_1545899671381_1'"
      ]
     },
     "execution_count": 5,
     "metadata": {},
     "output_type": "execute_result"
    }
   ],
   "source": [
    "# train a linear regression model in 10-fold cross validation with lasso regularization \n",
    "# set seed to make sure reproducible\n",
    "model_v1 = H2OGeneralizedLinearEstimator(family= \"gaussian\", lambda_= 0.1, alpha = 1,\n",
    "                                         nfolds = 10, seed = 123,keep_cross_validation_predictions=True)\n",
    "model_v1.train(X, y, training_frame= train)\n",
    "print('rmse for penalized regression model:{}'.format(model_v1.rmse(xval=True)))\n",
    "h2o.save_model(model=model_v1, path=\"/mymodel\", force=True) # save model"
   ]
  },
  {
   "cell_type": "code",
   "execution_count": 6,
   "metadata": {},
   "outputs": [
    {
     "name": "stdout",
     "output_type": "stream",
     "text": [
      "gbm Model Build progress: |███████████████████████████████████████████████| 100%\n",
      "rmse for GBM model:122640.99558214223\n"
     ]
    },
    {
     "data": {
      "text/plain": [
       "'C:\\\\mymodel\\\\GBM_model_python_1545899671381_2'"
      ]
     },
     "execution_count": 6,
     "metadata": {},
     "output_type": "execute_result"
    }
   ],
   "source": [
    "# train a gbm model in 10-fold cross validation \n",
    "# set seed to make sure reproducible\n",
    "model_v2 = H2OGradientBoostingEstimator(\n",
    "    ntrees=400,\n",
    "    learn_rate=0.2,\n",
    "    max_depth=8,\n",
    "    stopping_tolerance=0.01, \n",
    "    stopping_rounds=2,\n",
    "    score_each_iteration=True,\n",
    "    seed=123,\n",
    "    nfolds = 10,\n",
    "    keep_cross_validation_predictions=True\n",
    ")\n",
    "model_v2.train(X, y, training_frame= train)\n",
    "print('rmse for GBM model:{}'.format(model_v2.rmse(xval=True)))\n",
    "h2o.save_model(model=model_v2, path=\"/mymodel\", force=True) # save model"
   ]
  },
  {
   "cell_type": "code",
   "execution_count": 7,
   "metadata": {},
   "outputs": [
    {
     "name": "stdout",
     "output_type": "stream",
     "text": [
      "drf Model Build progress: |███████████████████████████████████████████████| 100%\n",
      "rmse for RF model:137898.55625461036\n"
     ]
    },
    {
     "data": {
      "text/plain": [
       "'C:\\\\mymodel\\\\DRF_model_python_1545899671381_3'"
      ]
     },
     "execution_count": 7,
     "metadata": {},
     "output_type": "execute_result"
    }
   ],
   "source": [
    "# train a random forest  model in 10-fold cross validation \n",
    "# set seed to make sure reproducible\n",
    "model_v3 = H2ORandomForestEstimator(\n",
    "    ntrees=50,\n",
    "    max_depth=10,\n",
    "    stopping_tolerance=0.01, \n",
    "    stopping_rounds=2,\n",
    "    score_each_iteration=True,\n",
    "    seed=123,\n",
    "    nfolds = 10,\n",
    "    keep_cross_validation_predictions=True\n",
    ")\n",
    "model_v3.train(X, y, training_frame= train)\n",
    "print('rmse for RF model:{}'.format(model_v3.rmse(xval=True)))\n",
    "h2o.save_model(model=model_v3, path=\"/mymodel\", force=True) # save model"
   ]
  },
  {
   "cell_type": "code",
   "execution_count": 8,
   "metadata": {},
   "outputs": [
    {
     "name": "stdout",
     "output_type": "stream",
     "text": [
      "deeplearning Model Build progress: |██████████████████████████████████████| 100%\n",
      "rmse for DL model:125834.89760008856\n"
     ]
    },
    {
     "data": {
      "text/plain": [
       "'C:\\\\mymodel\\\\DeepLearning_model_python_1545899671381_4'"
      ]
     },
     "execution_count": 8,
     "metadata": {},
     "output_type": "execute_result"
    }
   ],
   "source": [
    "# train a deep learning model in 10-fold cross validation \n",
    "# set seed to make sure reproducible\n",
    "model_v4 = H2ODeepLearningEstimator(epochs=10,\n",
    "                                    nfolds=10,\n",
    "                                    seed=123,\n",
    "                                    l1=1e-5,\n",
    "                                    l2=1e-5,\n",
    "                                    activation=\"RectifierWithDropout\",\n",
    "                                    hidden=[256,512,64],\n",
    "                                    input_dropout_ratio = 0.1,\n",
    "                                    hidden_dropout_ratios = [0.15,0.2,0.05],\n",
    "                                    keep_cross_validation_predictions=True)\n",
    "model_v4.train(X, y, training_frame= train)\n",
    "print('rmse for DL model:{}'.format(model_v4.rmse(xval=True)))\n",
    "h2o.save_model(model=model_v4, path=\"/mymodel\", force=True) # save model"
   ]
  },
  {
   "cell_type": "code",
   "execution_count": 9,
   "metadata": {},
   "outputs": [
    {
     "name": "stdout",
     "output_type": "stream",
     "text": [
      "stackedensemble Model Build progress: |███████████████████████████████████| 100%\n",
      "rmse for ensemble model:98181.47855753504\n"
     ]
    },
    {
     "data": {
      "text/plain": [
       "'C:\\\\mymodel\\\\StackedEnsemble_model_python_1545899671381_5'"
      ]
     },
     "execution_count": 9,
     "metadata": {},
     "output_type": "execute_result"
    }
   ],
   "source": [
    "# train a ensemble model based on four models above\n",
    "# set seed to make sure reproducible\n",
    "ensemble = H2OStackedEnsembleEstimator(base_models=[model_v4,model_v3, model_v2,model_v1],\n",
    "                                       metalearner_algorithm = 'deeplearning',seed=123, \n",
    "                                       metalearner_params = {'hidden':[128,384,512],'activation':\"RectifierWithDropout\",\n",
    "                                                             'input_dropout_ratio': 0.1}\n",
    "                                       )\n",
    "ensemble.train(X, y, training_frame=train)\n",
    "print('rmse for ensemble model:{}'.format(ensemble.rmse()))\n",
    "h2o.save_model(model=ensemble, path=\"/mymodel\", force=True) # save model"
   ]
  },
  {
   "cell_type": "code",
   "execution_count": 10,
   "metadata": {},
   "outputs": [
    {
     "name": "stdout",
     "output_type": "stream",
     "text": [
      "\n",
      "ModelMetricsRegression: stackedensemble\n",
      "** Reported on test data. **\n",
      "\n",
      "MSE: 14768032388.45377\n",
      "RMSE: 121523.79350750112\n",
      "MAE: 72606.6977994553\n",
      "RMSLE: 0.19035198217892466\n",
      "Mean Residual Deviance: 14768032388.45377\n"
     ]
    },
    {
     "data": {
      "text/plain": []
     },
     "execution_count": 10,
     "metadata": {},
     "output_type": "execute_result"
    }
   ],
   "source": [
    "# get the model performance on test set\n",
    "ensemble.model_performance(test)\n",
    "\n",
    "## the RMSE is 121,523 which is an RMSE below 123,000."
   ]
  },
  {
   "cell_type": "code",
   "execution_count": null,
   "metadata": {
    "collapsed": true
   },
   "outputs": [],
   "source": [
    "h2o.cluster().shutdown()"
   ]
  },
  {
   "cell_type": "code",
   "execution_count": null,
   "metadata": {
    "collapsed": true
   },
   "outputs": [],
   "source": []
  },
  {
   "cell_type": "code",
   "execution_count": null,
   "metadata": {
    "collapsed": true
   },
   "outputs": [],
   "source": []
  },
  {
   "cell_type": "code",
   "execution_count": null,
   "metadata": {
    "collapsed": true
   },
   "outputs": [],
   "source": []
  }
 ],
 "metadata": {
  "kernelspec": {
   "display_name": "Python 3",
   "language": "python",
   "name": "python3"
  },
  "language_info": {
   "codemirror_mode": {
    "name": "ipython",
    "version": 3
   },
   "file_extension": ".py",
   "mimetype": "text/x-python",
   "name": "python",
   "nbconvert_exporter": "python",
   "pygments_lexer": "ipython3",
   "version": "3.6.2"
  }
 },
 "nbformat": 4,
 "nbformat_minor": 2
}
