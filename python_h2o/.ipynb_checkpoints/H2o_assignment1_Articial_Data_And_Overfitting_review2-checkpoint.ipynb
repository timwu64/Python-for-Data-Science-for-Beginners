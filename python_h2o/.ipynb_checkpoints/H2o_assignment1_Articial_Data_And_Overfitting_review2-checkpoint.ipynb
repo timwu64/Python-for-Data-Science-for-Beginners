{
 "cells": [
  {
   "cell_type": "code",
   "execution_count": 5,
   "metadata": {},
   "outputs": [
    {
     "name": "stdout",
     "output_type": "stream",
     "text": [
      "\n",
      "H2O is not running yet, starting it now...\n",
      "\n",
      "Note:  In case of errors look at the following log files:\n",
      "    /var/folders/61/sfyb5b517dd3tj1_cdjsx6_w0000gn/T//RtmpTRTjW2/h2o_tim_wu_started_from_r.out\n",
      "    /var/folders/61/sfyb5b517dd3tj1_cdjsx6_w0000gn/T//RtmpTRTjW2/h2o_tim_wu_started_from_r.err\n",
      "\n",
      "\n",
      "Starting H2O JVM and connecting: .. Connection successful!\n",
      "\n",
      "R is connected to the H2O cluster: \n",
      "    H2O cluster uptime:         2 seconds 326 milliseconds \n",
      "    H2O cluster timezone:       America/New_York \n",
      "    H2O data parsing timezone:  UTC \n",
      "    H2O cluster version:        3.20.0.8 \n",
      "    H2O cluster version age:    2 months and 26 days  \n",
      "    H2O cluster name:           H2O_started_from_R_tim.wu_hvp821 \n",
      "    H2O cluster total nodes:    1 \n",
      "    H2O cluster total memory:   3.56 GB \n",
      "    H2O cluster total cores:    8 \n",
      "    H2O cluster allowed cores:  8 \n",
      "    H2O cluster healthy:        TRUE \n",
      "    H2O Connection ip:          localhost \n",
      "    H2O Connection port:        54321 \n",
      "    H2O Connection proxy:       NA \n",
      "    H2O Internal Security:      FALSE \n",
      "    H2O API Extensions:         XGBoost, Algos, AutoML, Core V3, Core V4 \n",
      "    R Version:                  R version 3.4.2 (2017-09-28) \n",
      "\n"
     ]
    },
    {
     "data": {
      "text/plain": [
       "v\n",
       "  0   1   2   3   4 \n",
       "  5  61 229 402 303 "
      ]
     },
     "metadata": {},
     "output_type": "display_data"
    },
    {
     "data": {
      "text/plain": [
       "v\n",
       "  0   1   2   3   4   5 \n",
       " 67 228 375 267  56   7 "
      ]
     },
     "metadata": {},
     "output_type": "display_data"
    },
    {
     "name": "stdout",
     "output_type": "stream",
     "text": [
      "\r",
      "  |                                                                            \r",
      "  |                                                                      |   0%\r",
      "  |                                                                            \r",
      "  |======================================================================| 100%\n"
     ]
    },
    {
     "data": {
      "text/plain": [
       "  id  name  language noOfFights noOfSongs grossCollection\n",
       "1  1 JRHSU   English          2         1        54000000\n",
       "2  2 QUJXB Malayalam          3         1        94500000\n",
       "3  3 CYGAX    Yourba          4         2       162000000\n",
       "4  4 LYSEQ    Yourba          3         2       105300000\n",
       "5  5 KEBZX  Japanese          3         0        90900000\n",
       "6  6 LIJHI     Hindi          4         3       180000000\n",
       "\n",
       "[1000 rows x 6 columns] "
      ]
     },
     "metadata": {},
     "output_type": "display_data"
    },
    {
     "name": "stderr",
     "output_type": "stream",
     "text": [
      "Warning message in summary.H2OFrame(movies):\n",
      "“Approximated quantiles computed! If you are interested in exact quantiles, please pass the `exact_quantiles=TRUE` parameter.”"
     ]
    },
    {
     "data": {
      "text/plain": [
       " id               name language       noOfFights      noOfSongs      \n",
       " Min.   :   1.0        English  :250  Min.   :0.000   Min.   :0.000  \n",
       " 1st Qu.: 250.8        Yourba   :250  1st Qu.:2.000   1st Qu.:1.000  \n",
       " Median : 500.5        Hindi    :125  Median :3.000   Median :2.000  \n",
       " Mean   : 500.5        Japanese :125  Mean   :2.937   Mean   :2.038  \n",
       " 3rd Qu.: 750.2        Malayalam:125  3rd Qu.:4.000   3rd Qu.:3.000  \n",
       " Max.   :1000.0        Spanish  :125  Max.   :4.000   Max.   :5.000  \n",
       " grossCollection    \n",
       " Min.   : 18000000  \n",
       " 1st Qu.: 82782000  \n",
       " Median :105181200  \n",
       " Mean   :113215500  \n",
       " 3rd Qu.:151077601  \n",
       " Max.   :237600000  "
      ]
     },
     "metadata": {},
     "output_type": "display_data"
    },
    {
     "name": "stderr",
     "output_type": "stream",
     "text": [
      "Warning message in .h2o.startModelJob(algo, params, h2oRestApiVersion):\n",
      "“Dropping bad and constant columns: [name].\n",
      "”"
     ]
    },
    {
     "name": "stdout",
     "output_type": "stream",
     "text": [
      "\r",
      "  |                                                                            \r",
      "  |                                                                      |   0%\r",
      "  |                                                                            \r",
      "  |======================================================================| 100%\n"
     ]
    },
    {
     "data": {
      "text/plain": [
       "H2ORegressionMetrics: gbm\n",
       "** Reported on training data. **\n",
       "\n",
       "MSE:  7.742215e+12\n",
       "RMSE:  2782484\n",
       "MAE:  787975.1\n",
       "RMSLE:  0.02901744\n",
       "Mean Residual Deviance :  7.742215e+12\n"
      ]
     },
     "metadata": {},
     "output_type": "display_data"
    },
    {
     "data": {
      "text/plain": [
       "H2ORegressionMetrics: gbm\n",
       "** Reported on validation data. **\n",
       "\n",
       "MSE:  1.979512e+12\n",
       "RMSE:  1406951\n",
       "MAE:  666179.5\n",
       "RMSLE:  0.01749877\n",
       "Mean Residual Deviance :  1.979512e+12\n"
      ]
     },
     "metadata": {},
     "output_type": "display_data"
    },
    {
     "data": {
      "text/plain": [
       "H2ORegressionMetrics: gbm\n",
       "\n",
       "MSE:  1.315718e+12\n",
       "RMSE:  1147048\n",
       "MAE:  555577.7\n",
       "RMSLE:  0.0110369\n",
       "Mean Residual Deviance :  1.315718e+12\n"
      ]
     },
     "metadata": {},
     "output_type": "display_data"
    },
    {
     "name": "stderr",
     "output_type": "stream",
     "text": [
      "Warning message in .h2o.startModelJob(algo, params, h2oRestApiVersion):\n",
      "“Dropping bad and constant columns: [name].\n",
      "”"
     ]
    },
    {
     "name": "stdout",
     "output_type": "stream",
     "text": [
      "\r",
      "  |                                                                            \r",
      "  |                                                                      |   0%\r",
      "  |                                                                            \r",
      "  |=                                                                     |   1%\r",
      "  |                                                                            \r",
      "  |===============                                                       |  21%\r",
      "  |                                                                            \r",
      "  |============================                                          |  39%\r",
      "  |                                                                            \r",
      "  |=======================================                               |  56%\r",
      "  |                                                                            \r",
      "  |======================================================================| 100%\n"
     ]
    },
    {
     "data": {
      "text/plain": [
       "H2ORegressionMetrics: gbm\n",
       "** Reported on training data. **\n",
       "\n",
       "MSE:  6.030085e+12\n",
       "RMSE:  2455623\n",
       "MAE:  441534\n",
       "RMSLE:  0.01922631\n",
       "Mean Residual Deviance :  6.030085e+12\n"
      ]
     },
     "metadata": {},
     "output_type": "display_data"
    },
    {
     "data": {
      "text/plain": [
       "H2ORegressionMetrics: gbm\n",
       "** Reported on validation data. **\n",
       "\n",
       "MSE:  7.23701e+12\n",
       "RMSE:  2690169\n",
       "MAE:  762959.3\n",
       "RMSLE:  0.03296876\n",
       "Mean Residual Deviance :  7.23701e+12\n"
      ]
     },
     "metadata": {},
     "output_type": "display_data"
    },
    {
     "data": {
      "text/plain": [
       "H2ORegressionMetrics: gbm\n",
       "\n",
       "MSE:  3.400839e+12\n",
       "RMSE:  1844136\n",
       "MAE:  346278.2\n",
       "RMSLE:  0.01163702\n",
       "Mean Residual Deviance :  3.400839e+12\n"
      ]
     },
     "metadata": {},
     "output_type": "display_data"
    }
   ],
   "source": [
    "# Coursera Machine Learning Submission for H20\n",
    "\n",
    "# Need to run install.packages(\"random\") and install.packages(\"h2o\")\n",
    "\n",
    "# H2o library loading and initalization\n",
    "library(h2o)\n",
    "h2o.init()\n",
    "\n",
    "# Artificial Data Creation\n",
    "set.seed(123)\n",
    "N <- 1000\n",
    "data <- data.frame(id= 1:N)\n",
    "\n",
    "# Name generation Random ; Trying another package\n",
    "library(random)\n",
    "string_5 <- as.vector(randomStrings(n=N, len=5, digits=FALSE, upperalpha=TRUE,\n",
    "                                    loweralpha=FALSE, unique=TRUE, check=TRUE))\n",
    "data$name = string_5\n",
    "\n",
    "# Language of the Movie , HollyWood , Nollywood etc :D\n",
    "languages <-c('English','English', 'Malayalam', 'Yourba','Yourba', 'Japanese', 'Hindi', 'Spanish')\n",
    "data$language <- as.factor(languages[data$id %% length(languages) +1])\n",
    "\n",
    "# No of Fights\n",
    "v = round(rnorm(N, mean=3, sd=1))\n",
    "v = pmax(v,0)\n",
    "v = pmin(v,4)\n",
    "table(v)\n",
    "data$noOfFights = v\n",
    "\n",
    "# No of Songs\n",
    "v = round(rnorm(N, mean=2, sd=1))\n",
    "v = pmax(v,0)\n",
    "v = pmin(v,5)\n",
    "table(v)\n",
    "data$noOfSongs = v\n",
    "\n",
    "# Gross collection depends on no of fights, songs and if english or not\n",
    "v = 200000 +((data$noOfFights * 300) ^ 2) +((data$noOfSongs * 200) ^ 2)\n",
    "v = v * 100 *(if( c('English') %in% data$language) 0.9 else 0.3)\n",
    "data$grossCollection =v\n",
    "\n",
    "# Convert to H2o Data Frame\n",
    "as.h2o(data, destination_frame = \"movies\")\n",
    "movies <- h2o.getFrame(\"movies\")\n",
    "\n",
    "# Summary\n",
    "summary(movies)\n",
    "\n",
    "parts <- h2o.splitFrame(data = movies, \n",
    "                        ratios = c(0.8,0.1),\n",
    "                        destination_frames = c(\"movies_train\",\"movies_valid\",\"movies_test\"),\n",
    "                        seed=123)\n",
    "\n",
    "train <-h2o.getFrame(\"movies_train\")\n",
    "valid <-h2o.getFrame(\"movies_valid\")\n",
    "test  <-h2o.getFrame(\"movies_test\")\n",
    "\n",
    "y<- \"grossCollection\"\n",
    "\n",
    "x<-setdiff(names(train), c(\"id\",y))\n",
    "# Purposefully leaving the name column in\n",
    "\n",
    "\n",
    "m1 <- h2o.gbm(x, y, train,\n",
    "              model_id = \"movies_r\",\n",
    "              validation_frame = valid)\n",
    "\n",
    "# The model will kick out name as it is bad / constanct column\n",
    "# Message : \n",
    " # In .h2o.startModelJob(algo, params, h2oRestApiVersion) :\n",
    " # Dropping bad and constant columns: [name].\n",
    "\n",
    "h2o.performance(m1, train = TRUE)\n",
    "h2o.performance(m1, valid = TRUE)\n",
    "h2o.performance(m1, test)\n",
    "\n",
    "# Overfitting by giving more trees and more depths\n",
    "\n",
    "m2 <- h2o.gbm(x, y, training_frame = train,\n",
    "              model_id = \"movies_overfit_r\",\n",
    "              validation_frame = valid,\n",
    "              ntrees = 1000,\n",
    "              max_depth = 10)\n",
    "\n",
    "\n",
    "h2o.performance(m2, train = TRUE)\n",
    "h2o.performance(m2, valid = TRUE)\n",
    "h2o.performance(m2, test)"
   ]
  },
  {
   "cell_type": "code",
   "execution_count": 2,
   "metadata": {},
   "outputs": [
    {
     "name": "stderr",
     "output_type": "stream",
     "text": [
      "Updating HTML index of packages in '.Library'\n",
      "Making 'packages.html' ... done\n"
     ]
    }
   ],
   "source": [
    "install.packages(\"random\")"
   ]
  },
  {
   "cell_type": "code",
   "execution_count": 3,
   "metadata": {},
   "outputs": [
    {
     "name": "stderr",
     "output_type": "stream",
     "text": [
      "Updating HTML index of packages in '.Library'\n",
      "Making 'packages.html' ... done\n"
     ]
    }
   ],
   "source": [
    "install.packages(\"h2o\")"
   ]
  },
  {
   "cell_type": "code",
   "execution_count": null,
   "metadata": {},
   "outputs": [],
   "source": []
  }
 ],
 "metadata": {
  "kernelspec": {
   "display_name": "R",
   "language": "R",
   "name": "ir"
  },
  "language_info": {
   "codemirror_mode": "r",
   "file_extension": ".r",
   "mimetype": "text/x-r-source",
   "name": "R",
   "pygments_lexer": "r",
   "version": "3.4.2"
  }
 },
 "nbformat": 4,
 "nbformat_minor": 2
}
