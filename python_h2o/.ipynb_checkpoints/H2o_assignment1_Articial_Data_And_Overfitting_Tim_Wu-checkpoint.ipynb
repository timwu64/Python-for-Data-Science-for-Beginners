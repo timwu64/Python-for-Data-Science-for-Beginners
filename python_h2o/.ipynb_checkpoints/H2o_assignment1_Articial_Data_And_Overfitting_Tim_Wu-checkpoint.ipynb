{
 "cells": [
  {
   "cell_type": "markdown",
   "metadata": {},
   "source": [
    "Step One is to create a data set, as we saw in earlier videos. If you took my example and modified it, add a comment explaining what your modification was."
   ]
  },
  {
   "cell_type": "code",
   "execution_count": 2,
   "metadata": {
    "collapsed": true
   },
   "outputs": [],
   "source": [
    "import datetime\n",
    "import math\n",
    "import random\n",
    "import pandas as pd\n",
    "import numpy as np\n",
    "now = datetime.datetime.now()\n",
    "nfolds = 5\n",
    "SEED = 123\n",
    "random.seed(SEED)"
   ]
  },
  {
   "cell_type": "code",
   "execution_count": 3,
   "metadata": {
    "collapsed": true
   },
   "outputs": [],
   "source": [
    "N = 1000"
   ]
  },
  {
   "cell_type": "code",
   "execution_count": 4,
   "metadata": {
    "collapsed": true
   },
   "outputs": [],
   "source": [
    "bloodTypes = ['A','A','A','O','O','O','AB','B']"
   ]
  },
  {
   "cell_type": "code",
   "execution_count": 5,
   "metadata": {
    "collapsed": true
   },
   "outputs": [],
   "source": [
    "d = pd.DataFrame(list(range(1, N+1)), columns=['id'])"
   ]
  },
  {
   "cell_type": "code",
   "execution_count": 6,
   "metadata": {
    "collapsed": true
   },
   "outputs": [],
   "source": [
    "d['bloodTypes']=[bloodTypes[(i%len(bloodTypes))] for i in range(1, N+1)]"
   ]
  },
  {
   "cell_type": "code",
   "execution_count": 7,
   "metadata": {
    "collapsed": true
   },
   "outputs": [],
   "source": [
    "from numpy.random import randint\n",
    "d['age'] = randint(18, 65, N)"
   ]
  },
  {
   "cell_type": "code",
   "execution_count": 8,
   "metadata": {
    "collapsed": true
   },
   "outputs": [],
   "source": [
    "from scipy.stats import truncnorm\n",
    "\n",
    "def get_truncated_normal(mean=0, sd=1, low=0, upp=10):\n",
    "    return truncnorm(\n",
    "        (low - mean) / sd, (upp - mean) / sd, loc=mean, scale=sd)"
   ]
  },
  {
   "cell_type": "code",
   "execution_count": 9,
   "metadata": {
    "collapsed": true
   },
   "outputs": [],
   "source": [
    "X = get_truncated_normal(mean=5, sd=2, low=0, upp=9)"
   ]
  },
  {
   "cell_type": "code",
   "execution_count": 10,
   "metadata": {
    "collapsed": true
   },
   "outputs": [],
   "source": [
    "d['healthyEating'] = X.rvs(N)\n",
    "d['healthyEating'] = round(d['healthyEating'])"
   ]
  },
  {
   "cell_type": "code",
   "execution_count": 11,
   "metadata": {
    "collapsed": true
   },
   "outputs": [],
   "source": [
    "d['activeLifestyle'] = np.where(d['age']<30, 1, 0)\n",
    "d['activeLifestyle'] = X.rvs(N)+d['activeLifestyle']\n",
    "d['activeLifestyle'] = round(d['activeLifestyle'])\n",
    "d['activeLifestyle'] = d['activeLifestyle'].clip(upper=9)"
   ]
  },
  {
   "cell_type": "code",
   "execution_count": 12,
   "metadata": {
    "collapsed": true
   },
   "outputs": [],
   "source": [
    "d['income'] = 20000 + (d['age']*3)**2\n",
    "d['income'] = d['income'] + d['healthyEating']*500\n",
    "d['income'] = d['income'] - d['activeLifestyle']*300\n",
    "d['income'] = d['income'] + randint(0, 5000, N)\n",
    "d['income'] = round(d['income'] / 100) * 100"
   ]
  },
  {
   "cell_type": "markdown",
   "metadata": {},
   "source": [
    "Step Two is to start h2o, and import your data."
   ]
  },
  {
   "cell_type": "code",
   "execution_count": 15,
   "metadata": {},
   "outputs": [
    {
     "data": {
      "text/html": [
       "<div>\n",
       "<style>\n",
       "    .dataframe thead tr:only-child th {\n",
       "        text-align: right;\n",
       "    }\n",
       "\n",
       "    .dataframe thead th {\n",
       "        text-align: left;\n",
       "    }\n",
       "\n",
       "    .dataframe tbody tr th {\n",
       "        vertical-align: top;\n",
       "    }\n",
       "</style>\n",
       "<table border=\"1\" class=\"dataframe\">\n",
       "  <thead>\n",
       "    <tr style=\"text-align: right;\">\n",
       "      <th></th>\n",
       "      <th>id</th>\n",
       "      <th>age</th>\n",
       "      <th>healthyEating</th>\n",
       "      <th>activeLifestyle</th>\n",
       "      <th>income</th>\n",
       "    </tr>\n",
       "  </thead>\n",
       "  <tbody>\n",
       "    <tr>\n",
       "      <th>count</th>\n",
       "      <td>1000.000000</td>\n",
       "      <td>1000.000000</td>\n",
       "      <td>1000.000000</td>\n",
       "      <td>1000.000000</td>\n",
       "      <td>1000.000000</td>\n",
       "    </tr>\n",
       "    <tr>\n",
       "      <th>mean</th>\n",
       "      <td>500.500000</td>\n",
       "      <td>40.777000</td>\n",
       "      <td>4.891000</td>\n",
       "      <td>5.204000</td>\n",
       "      <td>40080.400000</td>\n",
       "    </tr>\n",
       "    <tr>\n",
       "      <th>std</th>\n",
       "      <td>288.819436</td>\n",
       "      <td>13.779882</td>\n",
       "      <td>1.882728</td>\n",
       "      <td>1.907885</td>\n",
       "      <td>10474.780994</td>\n",
       "    </tr>\n",
       "    <tr>\n",
       "      <th>min</th>\n",
       "      <td>1.000000</td>\n",
       "      <td>18.000000</td>\n",
       "      <td>0.000000</td>\n",
       "      <td>0.000000</td>\n",
       "      <td>22200.000000</td>\n",
       "    </tr>\n",
       "    <tr>\n",
       "      <th>25%</th>\n",
       "      <td>250.750000</td>\n",
       "      <td>29.000000</td>\n",
       "      <td>4.000000</td>\n",
       "      <td>4.000000</td>\n",
       "      <td>30700.000000</td>\n",
       "    </tr>\n",
       "    <tr>\n",
       "      <th>50%</th>\n",
       "      <td>500.500000</td>\n",
       "      <td>41.000000</td>\n",
       "      <td>5.000000</td>\n",
       "      <td>5.000000</td>\n",
       "      <td>38800.000000</td>\n",
       "    </tr>\n",
       "    <tr>\n",
       "      <th>75%</th>\n",
       "      <td>750.250000</td>\n",
       "      <td>53.000000</td>\n",
       "      <td>6.000000</td>\n",
       "      <td>7.000000</td>\n",
       "      <td>48850.000000</td>\n",
       "    </tr>\n",
       "    <tr>\n",
       "      <th>max</th>\n",
       "      <td>1000.000000</td>\n",
       "      <td>64.000000</td>\n",
       "      <td>9.000000</td>\n",
       "      <td>9.000000</td>\n",
       "      <td>63200.000000</td>\n",
       "    </tr>\n",
       "  </tbody>\n",
       "</table>\n",
       "</div>"
      ],
      "text/plain": [
       "                id          age  healthyEating  activeLifestyle        income\n",
       "count  1000.000000  1000.000000    1000.000000      1000.000000   1000.000000\n",
       "mean    500.500000    40.777000       4.891000         5.204000  40080.400000\n",
       "std     288.819436    13.779882       1.882728         1.907885  10474.780994\n",
       "min       1.000000    18.000000       0.000000         0.000000  22200.000000\n",
       "25%     250.750000    29.000000       4.000000         4.000000  30700.000000\n",
       "50%     500.500000    41.000000       5.000000         5.000000  38800.000000\n",
       "75%     750.250000    53.000000       6.000000         7.000000  48850.000000\n",
       "max    1000.000000    64.000000       9.000000         9.000000  63200.000000"
      ]
     },
     "execution_count": 15,
     "metadata": {},
     "output_type": "execute_result"
    }
   ],
   "source": [
    "d.describe()"
   ]
  },
  {
   "cell_type": "code",
   "execution_count": 20,
   "metadata": {},
   "outputs": [
    {
     "name": "stdout",
     "output_type": "stream",
     "text": [
      "Checking whether there is an H2O instance running at http://localhost:54321..... not found.\n",
      "Attempting to start a local H2O server...\n",
      "  Java Version: java version \"1.8.0_102\"; Java(TM) SE Runtime Environment (build 1.8.0_102-b14); Java HotSpot(TM) 64-Bit Server VM (build 25.102-b14, mixed mode)\n",
      "  Starting server from /Users/tim.wu/anaconda3/lib/python3.6/site-packages/h2o/backend/bin/h2o.jar\n",
      "  Ice root: /var/folders/61/sfyb5b517dd3tj1_cdjsx6_w0000gn/T/tmplkveyr9v\n",
      "  JVM stdout: /var/folders/61/sfyb5b517dd3tj1_cdjsx6_w0000gn/T/tmplkveyr9v/h2o_tim_wu_started_from_python.out\n",
      "  JVM stderr: /var/folders/61/sfyb5b517dd3tj1_cdjsx6_w0000gn/T/tmplkveyr9v/h2o_tim_wu_started_from_python.err\n",
      "  Server is running at http://127.0.0.1:54321\n",
      "Connecting to H2O server at http://127.0.0.1:54321... successful.\n"
     ]
    },
    {
     "data": {
      "text/html": [
       "<div style=\"overflow:auto\"><table style=\"width:50%\"><tr><td>H2O cluster uptime:</td>\n",
       "<td>02 secs</td></tr>\n",
       "<tr><td>H2O cluster timezone:</td>\n",
       "<td>America/New_York</td></tr>\n",
       "<tr><td>H2O data parsing timezone:</td>\n",
       "<td>UTC</td></tr>\n",
       "<tr><td>H2O cluster version:</td>\n",
       "<td>3.22.0.2</td></tr>\n",
       "<tr><td>H2O cluster version age:</td>\n",
       "<td>19 days </td></tr>\n",
       "<tr><td>H2O cluster name:</td>\n",
       "<td>H2O_from_python_tim_wu_3h5qh6</td></tr>\n",
       "<tr><td>H2O cluster total nodes:</td>\n",
       "<td>1</td></tr>\n",
       "<tr><td>H2O cluster free memory:</td>\n",
       "<td>3.556 Gb</td></tr>\n",
       "<tr><td>H2O cluster total cores:</td>\n",
       "<td>8</td></tr>\n",
       "<tr><td>H2O cluster allowed cores:</td>\n",
       "<td>8</td></tr>\n",
       "<tr><td>H2O cluster status:</td>\n",
       "<td>accepting new members, healthy</td></tr>\n",
       "<tr><td>H2O connection url:</td>\n",
       "<td>http://127.0.0.1:54321</td></tr>\n",
       "<tr><td>H2O connection proxy:</td>\n",
       "<td>None</td></tr>\n",
       "<tr><td>H2O internal security:</td>\n",
       "<td>False</td></tr>\n",
       "<tr><td>H2O API Extensions:</td>\n",
       "<td>XGBoost, Algos, AutoML, Core V3, Core V4</td></tr>\n",
       "<tr><td>Python version:</td>\n",
       "<td>3.6.2 final</td></tr></table></div>"
      ],
      "text/plain": [
       "--------------------------  ----------------------------------------\n",
       "H2O cluster uptime:         02 secs\n",
       "H2O cluster timezone:       America/New_York\n",
       "H2O data parsing timezone:  UTC\n",
       "H2O cluster version:        3.22.0.2\n",
       "H2O cluster version age:    19 days\n",
       "H2O cluster name:           H2O_from_python_tim_wu_3h5qh6\n",
       "H2O cluster total nodes:    1\n",
       "H2O cluster free memory:    3.556 Gb\n",
       "H2O cluster total cores:    8\n",
       "H2O cluster allowed cores:  8\n",
       "H2O cluster status:         accepting new members, healthy\n",
       "H2O connection url:         http://127.0.0.1:54321\n",
       "H2O connection proxy:\n",
       "H2O internal security:      False\n",
       "H2O API Extensions:         XGBoost, Algos, AutoML, Core V3, Core V4\n",
       "Python version:             3.6.2 final\n",
       "--------------------------  ----------------------------------------"
      ]
     },
     "metadata": {},
     "output_type": "display_data"
    }
   ],
   "source": [
    "import h2o\n",
    "h2o.init()"
   ]
  },
  {
   "cell_type": "code",
   "execution_count": 21,
   "metadata": {},
   "outputs": [
    {
     "name": "stdout",
     "output_type": "stream",
     "text": [
      "Parse progress: |█████████████████████████████████████████████████████████| 100%\n"
     ]
    }
   ],
   "source": [
    "people = h2o.H2OFrame(d, destination_frame = \"people\")"
   ]
  },
  {
   "cell_type": "markdown",
   "metadata": {},
   "source": [
    "Step Three is to split the data. If you plan to use cross-validation, split into train and test. Otherwise split into train, valid and test"
   ]
  },
  {
   "cell_type": "code",
   "execution_count": 23,
   "metadata": {
    "collapsed": true
   },
   "outputs": [],
   "source": [
    "train, valid, test = people.split_frame(ratios = [0.8, 0.1], destination_frames = [\"train\", \"valid\", \"test\"], seed=SEED)"
   ]
  },
  {
   "cell_type": "markdown",
   "metadata": {},
   "source": [
    "Step four is to choose either random forest or gbm, and make a model. It can be classification or regression. Then show the results, on both training data and the test data. You can show all the performance stats, or choose just one (e.g. I focused on MAE in the videos)."
   ]
  },
  {
   "cell_type": "code",
   "execution_count": 26,
   "metadata": {
    "collapsed": true
   },
   "outputs": [],
   "source": [
    "# Identify predictors and response\n",
    "x = people.columns\n",
    "y = \"income\"\n",
    "x.remove(y)"
   ]
  },
  {
   "cell_type": "code",
   "execution_count": 27,
   "metadata": {
    "collapsed": true
   },
   "outputs": [],
   "source": [
    "from h2o.estimators.gbm import H2OGradientBoostingEstimator"
   ]
  },
  {
   "cell_type": "code",
   "execution_count": 28,
   "metadata": {},
   "outputs": [
    {
     "name": "stdout",
     "output_type": "stream",
     "text": [
      "gbm Model Build progress: |███████████████████████████████████████████████| 100%\n",
      "CPU times: user 36.1 ms, sys: 17.4 ms, total: 53.5 ms\n",
      "Wall time: 760 ms\n"
     ]
    }
   ],
   "source": [
    "mGBM_default = H2OGradientBoostingEstimator(model_id = \"GBM_model_default_\"+now.strftime(\"%Y-%m-%d_%H_%M_%S\"),\n",
    "                                   ntrees = 15,\n",
    "                                   nfolds = nfolds,\n",
    "                                   fold_assignment = \"Modulo\",\n",
    "                                   keep_cross_validation_predictions = True,\n",
    "                                   seed = SEED)\n",
    "%time mGBM_default.train(x, y, train, validation_frame = valid)"
   ]
  },
  {
   "cell_type": "code",
   "execution_count": 29,
   "metadata": {},
   "outputs": [
    {
     "data": {
      "image/png": "[encoded data removed]",
      "text/plain": [
       "<matplotlib.figure.Figure at 0x10c0caac8>"
      ]
     },
     "metadata": {},
     "output_type": "display_data"
    }
   ],
   "source": [
    "mGBM_default.plot()"
   ]
  },
  {
   "cell_type": "code",
   "execution_count": 30,
   "metadata": {},
   "outputs": [
    {
     "name": "stdout",
     "output_type": "stream",
     "text": [
      "GBM Default Train MAE score: 2093.671942\n",
      "GBM Default Validation MAE score: 2414.294036\n",
      "GBM Default Cross Validation MAE score: 2226.341648\n",
      "GBM Default Test MAE score: 2364.437122\n"
     ]
    }
   ],
   "source": [
    "print(\"GBM Default Train MAE score: %f\" % mGBM_default.mae(train=True))\n",
    "print(\"GBM Default Validation MAE score: %f\" % mGBM_default.mae(valid=True))\n",
    "print(\"GBM Default Cross Validation MAE score: %f\" % mGBM_default.mae(xval=True))\n",
    "perf = mGBM_default.model_performance(test)\n",
    "print(\"GBM Default Test MAE score: %f\" % perf.mae())"
   ]
  },
  {
   "cell_type": "markdown",
   "metadata": {},
   "source": [
    "Step five is then to try some alternative parameters, to build a different model, and show how the results differ."
   ]
  },
  {
   "cell_type": "code",
   "execution_count": 31,
   "metadata": {},
   "outputs": [
    {
     "name": "stdout",
     "output_type": "stream",
     "text": [
      "gbm Model Build progress: |███████████████████████████████████████████████| 100%\n",
      "CPU times: user 208 ms, sys: 137 ms, total: 345 ms\n",
      "Wall time: 7.71 s\n"
     ]
    }
   ],
   "source": [
    "mGBM_overfit = H2OGradientBoostingEstimator(model_id = \"GBM_model_python_\"+now.strftime(\"%Y-%m-%d_%H_%M_%S\"),\n",
    "                                   ntrees = 500,\n",
    "                                   max_depth =10,\n",
    "                                   nfolds = nfolds,\n",
    "                                   fold_assignment = \"Modulo\",\n",
    "                                   keep_cross_validation_predictions = True,\n",
    "                                   seed = SEED)\n",
    "%time mGBM_overfit.train(x, y, train, validation_frame = valid)"
   ]
  },
  {
   "cell_type": "code",
   "execution_count": 32,
   "metadata": {},
   "outputs": [
    {
     "data": {
      "image/png": "[encoded data removed]",
      "text/plain": [
       "<matplotlib.figure.Figure at 0x1a14559278>"
      ]
     },
     "metadata": {},
     "output_type": "display_data"
    }
   ],
   "source": [
    "mGBM_overfit.plot()"
   ]
  },
  {
   "cell_type": "code",
   "execution_count": 33,
   "metadata": {},
   "outputs": [
    {
     "name": "stdout",
     "output_type": "stream",
     "text": [
      "GBM Overfit Train MAE score: 124.959279\n",
      "GBM Overfit Validation MAE score: 1560.245359\n",
      "GBM Overfit Cross Validation MAE score: 1488.261629\n",
      "GBM Overfit Test MAE score: 1438.452701\n"
     ]
    }
   ],
   "source": [
    "print(\"GBM Overfit Train MAE score: %f\" % mGBM_overfit.mae(train=True))\n",
    "print(\"GBM Overfit Validation MAE score: %f\" % mGBM_overfit.mae(valid=True))\n",
    "print(\"GBM Overfit Cross Validation MAE score: %f\" % mGBM_overfit.mae(xval=True))\n",
    "perf = mGBM_overfit.model_performance(test)\n",
    "print(\"GBM Overfit Test MAE score: %f\" % perf.mae())"
   ]
  },
  {
   "cell_type": "markdown",
   "metadata": {},
   "source": [
    "Step six is to save your script, then close down h2o, and run your script in a fresh session to make sure there are no bugs and the results are repeatable. If your script takes more than a couple of minutes to run, please put the required resources in a comment at the very top. (But first consider if you can get the same results with a smaller data set: this task is about tuning and over-fitting, not about big data.)"
   ]
  },
  {
   "cell_type": "code",
   "execution_count": 34,
   "metadata": {},
   "outputs": [
    {
     "name": "stdout",
     "output_type": "stream",
     "text": [
      "H2O session _sid_97f4 closed.\n"
     ]
    }
   ],
   "source": [
    "h2o.cluster().shutdown()"
   ]
  }
 ],
 "metadata": {
  "kernelspec": {
   "display_name": "Python 3",
   "language": "python",
   "name": "python3"
  },
  "language_info": {
   "codemirror_mode": {
    "name": "ipython",
    "version": 3
   },
   "file_extension": ".py",
   "mimetype": "text/x-python",
   "name": "python",
   "nbconvert_exporter": "python",
   "pygments_lexer": "ipython3",
   "version": "3.6.2"
  }
 },
 "nbformat": 4,
 "nbformat_minor": 2
}
