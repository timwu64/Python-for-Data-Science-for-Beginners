{
 "cells": [
  {
   "cell_type": "markdown",
   "metadata": {},
   "source": [
    "Final Project for Tim Wu\n",
    "\n",
    "Step one is to start h2o, load your chosen data set(s) and follow the project-specific data manipulation steps.\n",
    "\n",
    "This is a regression problem. You have to predict \"price\"."
   ]
  },
  {
   "cell_type": "code",
   "execution_count": 85,
   "metadata": {},
   "outputs": [],
   "source": [
    "## Import Libraries\n",
    "\n",
    "import numpy as np    # linear algebra\n",
    "import pandas as pd    # data processing, CSV file I/O (e.g. pd.read_csv)\n",
    "import h2o\n",
    "from h2o.grid.grid_search import H2OGridSearch\n",
    "from h2o.estimators.gbm import H2OGradientBoostingEstimator\n",
    "from h2o.estimators.random_forest import H2ORandomForestEstimator\n",
    "from h2o.estimators.deeplearning import H2ODeepLearningEstimator\n",
    "from h2o.estimators.stackedensemble import H2OStackedEnsembleEstimator\n",
    "import os, time, sys\n",
    "import warnings\n",
    "warnings.filterwarnings(\"ignore\")\n",
    "SEED = 123"
   ]
  },
  {
   "cell_type": "code",
   "execution_count": 100,
   "metadata": {},
   "outputs": [
    {
     "name": "stdout",
     "output_type": "stream",
     "text": [
      "  501 73355 66734   0  5:04PM ??       317:26.46 /usr/bin/java -ea -cp /Users/tim.wu/anaconda3/lib/python3.6/site-packages/h2o/backend/bin/h2o.jar water.H2OApp -ip 127.0.0.1 -web_ip 127.0.0.1 -baseport 54321 -ice_root /var/folders/61/sfyb5b517dd3tj1_cdjsx6_w0000gn/T/tmpux817kmf -name H2O_from_python_tim_wu_3h5qh6 -log_level INFO\r\n",
      "  501 45658 66734   0 12:15AM ttys002    0:00.01 /bin/sh -c  ps -efww | grep h2o\r\n",
      "  501 45660 45658   0 12:15AM ttys002    0:00.00 grep h2o\r\n"
     ]
    }
   ],
   "source": [
    "! ps -efww | grep h2o"
   ]
  },
  {
   "cell_type": "code",
   "execution_count": 2,
   "metadata": {},
   "outputs": [
    {
     "name": "stdout",
     "output_type": "stream",
     "text": [
      "Checking whether there is an H2O instance running at http://localhost:54321..... not found.\n",
      "Attempting to start a local H2O server...\n",
      "  Java Version: java version \"1.8.0_102\"; Java(TM) SE Runtime Environment (build 1.8.0_102-b14); Java HotSpot(TM) 64-Bit Server VM (build 25.102-b14, mixed mode)\n",
      "  Starting server from /Users/tim.wu/anaconda3/lib/python3.6/site-packages/h2o/backend/bin/h2o.jar\n",
      "  Ice root: /var/folders/61/sfyb5b517dd3tj1_cdjsx6_w0000gn/T/tmpux817kmf\n",
      "  JVM stdout: /var/folders/61/sfyb5b517dd3tj1_cdjsx6_w0000gn/T/tmpux817kmf/h2o_tim_wu_started_from_python.out\n",
      "  JVM stderr: /var/folders/61/sfyb5b517dd3tj1_cdjsx6_w0000gn/T/tmpux817kmf/h2o_tim_wu_started_from_python.err\n",
      "  Server is running at http://127.0.0.1:54321\n",
      "Connecting to H2O server at http://127.0.0.1:54321... successful.\n"
     ]
    },
    {
     "data": {
      "text/html": [
       "<div style=\"overflow:auto\"><table style=\"width:50%\"><tr><td>H2O cluster uptime:</td>\n",
       "<td>02 secs</td></tr>\n",
       "<tr><td>H2O cluster timezone:</td>\n",
       "<td>America/Los_Angeles</td></tr>\n",
       "<tr><td>H2O data parsing timezone:</td>\n",
       "<td>UTC</td></tr>\n",
       "<tr><td>H2O cluster version:</td>\n",
       "<td>3.22.0.3</td></tr>\n",
       "<tr><td>H2O cluster version age:</td>\n",
       "<td>15 days </td></tr>\n",
       "<tr><td>H2O cluster name:</td>\n",
       "<td>H2O_from_python_tim_wu_3h5qh6</td></tr>\n",
       "<tr><td>H2O cluster total nodes:</td>\n",
       "<td>1</td></tr>\n",
       "<tr><td>H2O cluster free memory:</td>\n",
       "<td>3.556 Gb</td></tr>\n",
       "<tr><td>H2O cluster total cores:</td>\n",
       "<td>8</td></tr>\n",
       "<tr><td>H2O cluster allowed cores:</td>\n",
       "<td>8</td></tr>\n",
       "<tr><td>H2O cluster status:</td>\n",
       "<td>accepting new members, healthy</td></tr>\n",
       "<tr><td>H2O connection url:</td>\n",
       "<td>http://127.0.0.1:54321</td></tr>\n",
       "<tr><td>H2O connection proxy:</td>\n",
       "<td>None</td></tr>\n",
       "<tr><td>H2O internal security:</td>\n",
       "<td>False</td></tr>\n",
       "<tr><td>H2O API Extensions:</td>\n",
       "<td>XGBoost, Algos, AutoML, Core V3, Core V4</td></tr>\n",
       "<tr><td>Python version:</td>\n",
       "<td>3.6.2 final</td></tr></table></div>"
      ],
      "text/plain": [
       "--------------------------  ----------------------------------------\n",
       "H2O cluster uptime:         02 secs\n",
       "H2O cluster timezone:       America/Los_Angeles\n",
       "H2O data parsing timezone:  UTC\n",
       "H2O cluster version:        3.22.0.3\n",
       "H2O cluster version age:    15 days\n",
       "H2O cluster name:           H2O_from_python_tim_wu_3h5qh6\n",
       "H2O cluster total nodes:    1\n",
       "H2O cluster free memory:    3.556 Gb\n",
       "H2O cluster total cores:    8\n",
       "H2O cluster allowed cores:  8\n",
       "H2O cluster status:         accepting new members, healthy\n",
       "H2O connection url:         http://127.0.0.1:54321\n",
       "H2O connection proxy:\n",
       "H2O internal security:      False\n",
       "H2O API Extensions:         XGBoost, Algos, AutoML, Core V3, Core V4\n",
       "Python version:             3.6.2 final\n",
       "--------------------------  ----------------------------------------"
      ]
     },
     "metadata": {},
     "output_type": "display_data"
    }
   ],
   "source": [
    "#start h2o\n",
    "import h2o\n",
    "from h2o.grid.grid_search import H2OGridSearch\n",
    "h2o.init()"
   ]
  },
  {
   "cell_type": "code",
   "execution_count": 43,
   "metadata": {},
   "outputs": [
    {
     "name": "stdout",
     "output_type": "stream",
     "text": [
      "Parse progress: |█████████████████████████████████████████████████████████| 100%\n"
     ]
    }
   ],
   "source": [
    "# load your chosen data set(s)\n",
    "df = h2o.import_file(\"http://coursera.h2o.ai/house_data.3487.csv\")"
   ]
  },
  {
   "cell_type": "code",
   "execution_count": 44,
   "metadata": {},
   "outputs": [
    {
     "name": "stdout",
     "output_type": "stream",
     "text": [
      "(21613, 21)\n"
     ]
    }
   ],
   "source": [
    "print(df.shape)"
   ]
  },
  {
   "cell_type": "markdown",
   "metadata": {},
   "source": [
    "Split date into year and month columns. You can then optionally combine them into a numeric date column"
   ]
  },
  {
   "cell_type": "code",
   "execution_count": 46,
   "metadata": {
    "collapsed": true
   },
   "outputs": [],
   "source": [
    "df[\"date\"] = df[\"date\"].gsub(pattern = \"T000000\", replacement = \"\")\n",
    "df[\"date\"] = df[\"date\"].trim()"
   ]
  },
  {
   "cell_type": "code",
   "execution_count": 47,
   "metadata": {},
   "outputs": [
    {
     "data": {
      "text/html": [
       "<table>\n",
       "<thead>\n",
       "<tr><th style=\"text-align: right;\">  month</th></tr>\n",
       "</thead>\n",
       "<tbody>\n",
       "<tr><td style=\"text-align: right;\">     10</td></tr>\n",
       "<tr><td style=\"text-align: right;\">     12</td></tr>\n",
       "<tr><td style=\"text-align: right;\">      2</td></tr>\n",
       "<tr><td style=\"text-align: right;\">     12</td></tr>\n",
       "<tr><td style=\"text-align: right;\">      2</td></tr>\n",
       "<tr><td style=\"text-align: right;\">      5</td></tr>\n",
       "<tr><td style=\"text-align: right;\">      6</td></tr>\n",
       "<tr><td style=\"text-align: right;\">      1</td></tr>\n",
       "<tr><td style=\"text-align: right;\">      4</td></tr>\n",
       "<tr><td style=\"text-align: right;\">      3</td></tr>\n",
       "</tbody>\n",
       "</table>"
      ]
     },
     "metadata": {},
     "output_type": "display_data"
    },
    {
     "data": {
      "text/plain": []
     },
     "execution_count": 47,
     "metadata": {},
     "output_type": "execute_result"
    }
   ],
   "source": [
    "df_month_date = df[\"date\"].strsplit(pattern = \"20\\d\\d\")\n",
    "df_month = df_month_date[1].strsplit(pattern = \"\\d\\d$\")\n",
    "df_month.set_names(['month'])"
   ]
  },
  {
   "cell_type": "code",
   "execution_count": 48,
   "metadata": {},
   "outputs": [
    {
     "data": {
      "text/html": [
       "<table>\n",
       "<thead>\n",
       "<tr><th style=\"text-align: right;\">  year</th></tr>\n",
       "</thead>\n",
       "<tbody>\n",
       "<tr><td style=\"text-align: right;\">  2014</td></tr>\n",
       "<tr><td style=\"text-align: right;\">  2014</td></tr>\n",
       "<tr><td style=\"text-align: right;\">  2015</td></tr>\n",
       "<tr><td style=\"text-align: right;\">  2014</td></tr>\n",
       "<tr><td style=\"text-align: right;\">  2015</td></tr>\n",
       "<tr><td style=\"text-align: right;\">  2014</td></tr>\n",
       "<tr><td style=\"text-align: right;\">  2014</td></tr>\n",
       "<tr><td style=\"text-align: right;\">  2015</td></tr>\n",
       "<tr><td style=\"text-align: right;\">  2015</td></tr>\n",
       "<tr><td style=\"text-align: right;\">  2015</td></tr>\n",
       "</tbody>\n",
       "</table>"
      ]
     },
     "metadata": {},
     "output_type": "display_data"
    },
    {
     "data": {
      "text/plain": []
     },
     "execution_count": 48,
     "metadata": {},
     "output_type": "execute_result"
    }
   ],
   "source": [
    "df_year = df[\"date\"].strsplit(pattern = \"\\d\\d\\d\\d$\")\n",
    "df_year.set_names(['year'])"
   ]
  },
  {
   "cell_type": "code",
   "execution_count": 49,
   "metadata": {},
   "outputs": [
    {
     "data": {
      "text/html": [
       "<table>\n",
       "<thead>\n",
       "<tr><th style=\"text-align: right;\">         id</th><th style=\"text-align: right;\">    date</th><th style=\"text-align: right;\">         price</th><th style=\"text-align: right;\">  bedrooms</th><th style=\"text-align: right;\">  bathrooms</th><th style=\"text-align: right;\">  sqft_living</th><th style=\"text-align: right;\">  sqft_lot</th><th style=\"text-align: right;\">  floors</th><th style=\"text-align: right;\">  waterfront</th><th style=\"text-align: right;\">  view</th><th style=\"text-align: right;\">  condition</th><th style=\"text-align: right;\">  grade</th><th style=\"text-align: right;\">  sqft_above</th><th style=\"text-align: right;\">  sqft_basement</th><th style=\"text-align: right;\">  yr_built</th><th style=\"text-align: right;\">  yr_renovated</th><th style=\"text-align: right;\">  zipcode</th><th style=\"text-align: right;\">    lat</th><th style=\"text-align: right;\">    long</th><th style=\"text-align: right;\">  sqft_living15</th><th style=\"text-align: right;\">  sqft_lot15</th><th style=\"text-align: right;\">  year</th><th style=\"text-align: right;\">  month</th></tr>\n",
       "</thead>\n",
       "<tbody>\n",
       "<tr><td style=\"text-align: right;\">7.1293e+09 </td><td style=\"text-align: right;\">20141013</td><td style=\"text-align: right;\">221900        </td><td style=\"text-align: right;\">         3</td><td style=\"text-align: right;\">       1   </td><td style=\"text-align: right;\">         1180</td><td style=\"text-align: right;\">      5650</td><td style=\"text-align: right;\">       1</td><td style=\"text-align: right;\">           0</td><td style=\"text-align: right;\">     0</td><td style=\"text-align: right;\">          3</td><td style=\"text-align: right;\">      7</td><td style=\"text-align: right;\">        1180</td><td style=\"text-align: right;\">              0</td><td style=\"text-align: right;\">      1955</td><td style=\"text-align: right;\">             0</td><td style=\"text-align: right;\">    98178</td><td style=\"text-align: right;\">47.5112</td><td style=\"text-align: right;\">-122.257</td><td style=\"text-align: right;\">           1340</td><td style=\"text-align: right;\">        5650</td><td style=\"text-align: right;\">  2014</td><td style=\"text-align: right;\">     10</td></tr>\n",
       "<tr><td style=\"text-align: right;\">6.4141e+09 </td><td style=\"text-align: right;\">20141209</td><td style=\"text-align: right;\">538000        </td><td style=\"text-align: right;\">         3</td><td style=\"text-align: right;\">       2.25</td><td style=\"text-align: right;\">         2570</td><td style=\"text-align: right;\">      7242</td><td style=\"text-align: right;\">       2</td><td style=\"text-align: right;\">           0</td><td style=\"text-align: right;\">     0</td><td style=\"text-align: right;\">          3</td><td style=\"text-align: right;\">      7</td><td style=\"text-align: right;\">        2170</td><td style=\"text-align: right;\">            400</td><td style=\"text-align: right;\">      1951</td><td style=\"text-align: right;\">          1991</td><td style=\"text-align: right;\">    98125</td><td style=\"text-align: right;\">47.721 </td><td style=\"text-align: right;\">-122.319</td><td style=\"text-align: right;\">           1690</td><td style=\"text-align: right;\">        7639</td><td style=\"text-align: right;\">  2014</td><td style=\"text-align: right;\">     12</td></tr>\n",
       "<tr><td style=\"text-align: right;\">5.6315e+09 </td><td style=\"text-align: right;\">20150225</td><td style=\"text-align: right;\">180000        </td><td style=\"text-align: right;\">         2</td><td style=\"text-align: right;\">       1   </td><td style=\"text-align: right;\">          770</td><td style=\"text-align: right;\">     10000</td><td style=\"text-align: right;\">       1</td><td style=\"text-align: right;\">           0</td><td style=\"text-align: right;\">     0</td><td style=\"text-align: right;\">          3</td><td style=\"text-align: right;\">      6</td><td style=\"text-align: right;\">         770</td><td style=\"text-align: right;\">              0</td><td style=\"text-align: right;\">      1933</td><td style=\"text-align: right;\">             0</td><td style=\"text-align: right;\">    98028</td><td style=\"text-align: right;\">47.7379</td><td style=\"text-align: right;\">-122.233</td><td style=\"text-align: right;\">           2720</td><td style=\"text-align: right;\">        8062</td><td style=\"text-align: right;\">  2015</td><td style=\"text-align: right;\">     02</td></tr>\n",
       "<tr><td style=\"text-align: right;\">2.4872e+09 </td><td style=\"text-align: right;\">20141209</td><td style=\"text-align: right;\">604000        </td><td style=\"text-align: right;\">         4</td><td style=\"text-align: right;\">       3   </td><td style=\"text-align: right;\">         1960</td><td style=\"text-align: right;\">      5000</td><td style=\"text-align: right;\">       1</td><td style=\"text-align: right;\">           0</td><td style=\"text-align: right;\">     0</td><td style=\"text-align: right;\">          5</td><td style=\"text-align: right;\">      7</td><td style=\"text-align: right;\">        1050</td><td style=\"text-align: right;\">            910</td><td style=\"text-align: right;\">      1965</td><td style=\"text-align: right;\">             0</td><td style=\"text-align: right;\">    98136</td><td style=\"text-align: right;\">47.5208</td><td style=\"text-align: right;\">-122.393</td><td style=\"text-align: right;\">           1360</td><td style=\"text-align: right;\">        5000</td><td style=\"text-align: right;\">  2014</td><td style=\"text-align: right;\">     12</td></tr>\n",
       "<tr><td style=\"text-align: right;\">1.9544e+09 </td><td style=\"text-align: right;\">20150218</td><td style=\"text-align: right;\">510000        </td><td style=\"text-align: right;\">         3</td><td style=\"text-align: right;\">       2   </td><td style=\"text-align: right;\">         1680</td><td style=\"text-align: right;\">      8080</td><td style=\"text-align: right;\">       1</td><td style=\"text-align: right;\">           0</td><td style=\"text-align: right;\">     0</td><td style=\"text-align: right;\">          3</td><td style=\"text-align: right;\">      8</td><td style=\"text-align: right;\">        1680</td><td style=\"text-align: right;\">              0</td><td style=\"text-align: right;\">      1987</td><td style=\"text-align: right;\">             0</td><td style=\"text-align: right;\">    98074</td><td style=\"text-align: right;\">47.6168</td><td style=\"text-align: right;\">-122.045</td><td style=\"text-align: right;\">           1800</td><td style=\"text-align: right;\">        7503</td><td style=\"text-align: right;\">  2015</td><td style=\"text-align: right;\">     02</td></tr>\n",
       "<tr><td style=\"text-align: right;\">7.23755e+09</td><td style=\"text-align: right;\">20140512</td><td style=\"text-align: right;\">     1.225e+06</td><td style=\"text-align: right;\">         4</td><td style=\"text-align: right;\">       4.5 </td><td style=\"text-align: right;\">         5420</td><td style=\"text-align: right;\">    101930</td><td style=\"text-align: right;\">       1</td><td style=\"text-align: right;\">           0</td><td style=\"text-align: right;\">     0</td><td style=\"text-align: right;\">          3</td><td style=\"text-align: right;\">     11</td><td style=\"text-align: right;\">        3890</td><td style=\"text-align: right;\">           1530</td><td style=\"text-align: right;\">      2001</td><td style=\"text-align: right;\">             0</td><td style=\"text-align: right;\">    98053</td><td style=\"text-align: right;\">47.6561</td><td style=\"text-align: right;\">-122.005</td><td style=\"text-align: right;\">           4760</td><td style=\"text-align: right;\">      101930</td><td style=\"text-align: right;\">  2014</td><td style=\"text-align: right;\">     05</td></tr>\n",
       "<tr><td style=\"text-align: right;\">1.3214e+09 </td><td style=\"text-align: right;\">20140627</td><td style=\"text-align: right;\">257500        </td><td style=\"text-align: right;\">         3</td><td style=\"text-align: right;\">       2.25</td><td style=\"text-align: right;\">         1715</td><td style=\"text-align: right;\">      6819</td><td style=\"text-align: right;\">       2</td><td style=\"text-align: right;\">           0</td><td style=\"text-align: right;\">     0</td><td style=\"text-align: right;\">          3</td><td style=\"text-align: right;\">      7</td><td style=\"text-align: right;\">        1715</td><td style=\"text-align: right;\">              0</td><td style=\"text-align: right;\">      1995</td><td style=\"text-align: right;\">             0</td><td style=\"text-align: right;\">    98003</td><td style=\"text-align: right;\">47.3097</td><td style=\"text-align: right;\">-122.327</td><td style=\"text-align: right;\">           2238</td><td style=\"text-align: right;\">        6819</td><td style=\"text-align: right;\">  2014</td><td style=\"text-align: right;\">     06</td></tr>\n",
       "<tr><td style=\"text-align: right;\">2.008e+09  </td><td style=\"text-align: right;\">20150115</td><td style=\"text-align: right;\">291850        </td><td style=\"text-align: right;\">         3</td><td style=\"text-align: right;\">       1.5 </td><td style=\"text-align: right;\">         1060</td><td style=\"text-align: right;\">      9711</td><td style=\"text-align: right;\">       1</td><td style=\"text-align: right;\">           0</td><td style=\"text-align: right;\">     0</td><td style=\"text-align: right;\">          3</td><td style=\"text-align: right;\">      7</td><td style=\"text-align: right;\">        1060</td><td style=\"text-align: right;\">              0</td><td style=\"text-align: right;\">      1963</td><td style=\"text-align: right;\">             0</td><td style=\"text-align: right;\">    98198</td><td style=\"text-align: right;\">47.4095</td><td style=\"text-align: right;\">-122.315</td><td style=\"text-align: right;\">           1650</td><td style=\"text-align: right;\">        9711</td><td style=\"text-align: right;\">  2015</td><td style=\"text-align: right;\">     01</td></tr>\n",
       "<tr><td style=\"text-align: right;\">2.4146e+09 </td><td style=\"text-align: right;\">20150415</td><td style=\"text-align: right;\">229500        </td><td style=\"text-align: right;\">         3</td><td style=\"text-align: right;\">       1   </td><td style=\"text-align: right;\">         1780</td><td style=\"text-align: right;\">      7470</td><td style=\"text-align: right;\">       1</td><td style=\"text-align: right;\">           0</td><td style=\"text-align: right;\">     0</td><td style=\"text-align: right;\">          3</td><td style=\"text-align: right;\">      7</td><td style=\"text-align: right;\">        1050</td><td style=\"text-align: right;\">            730</td><td style=\"text-align: right;\">      1960</td><td style=\"text-align: right;\">             0</td><td style=\"text-align: right;\">    98146</td><td style=\"text-align: right;\">47.5123</td><td style=\"text-align: right;\">-122.337</td><td style=\"text-align: right;\">           1780</td><td style=\"text-align: right;\">        8113</td><td style=\"text-align: right;\">  2015</td><td style=\"text-align: right;\">     04</td></tr>\n",
       "<tr><td style=\"text-align: right;\">3.7935e+09 </td><td style=\"text-align: right;\">20150312</td><td style=\"text-align: right;\">323000        </td><td style=\"text-align: right;\">         3</td><td style=\"text-align: right;\">       2.5 </td><td style=\"text-align: right;\">         1890</td><td style=\"text-align: right;\">      6560</td><td style=\"text-align: right;\">       2</td><td style=\"text-align: right;\">           0</td><td style=\"text-align: right;\">     0</td><td style=\"text-align: right;\">          3</td><td style=\"text-align: right;\">      7</td><td style=\"text-align: right;\">        1890</td><td style=\"text-align: right;\">              0</td><td style=\"text-align: right;\">      2003</td><td style=\"text-align: right;\">             0</td><td style=\"text-align: right;\">    98038</td><td style=\"text-align: right;\">47.3684</td><td style=\"text-align: right;\">-122.031</td><td style=\"text-align: right;\">           2390</td><td style=\"text-align: right;\">        7570</td><td style=\"text-align: right;\">  2015</td><td style=\"text-align: right;\">     03</td></tr>\n",
       "</tbody>\n",
       "</table>"
      ]
     },
     "metadata": {},
     "output_type": "display_data"
    },
    {
     "data": {
      "text/plain": [
       "<bound method H2OFrame.summary of >"
      ]
     },
     "execution_count": 49,
     "metadata": {},
     "output_type": "execute_result"
    }
   ],
   "source": [
    "df = df.cbind(df_year)\n",
    "df = df.cbind(df_month)"
   ]
  },
  {
   "cell_type": "code",
   "execution_count": 57,
   "metadata": {},
   "outputs": [],
   "source": [
    "df[\"year\"] = df[\"year\"].asnumeric()\n",
    "df[\"month\"] = df[\"month\"].asnumeric()\n",
    "df[\"date\"] = df[\"date\"].asnumeric()"
   ]
  },
  {
   "cell_type": "code",
   "execution_count": 58,
   "metadata": {},
   "outputs": [
    {
     "data": {
      "text/html": [
       "<table>\n",
       "<thead>\n",
       "<tr><th>       </th><th>id                </th><th>date             </th><th>price             </th><th>bedrooms         </th><th>bathrooms         </th><th>sqft_living      </th><th>sqft_lot         </th><th>floors            </th><th>waterfront          </th><th>view               </th><th>condition         </th><th>grade             </th><th>sqft_above        </th><th>sqft_basement     </th><th>yr_built          </th><th>yr_renovated      </th><th>zipcode          </th><th>lat                </th><th>long               </th><th>sqft_living15     </th><th>sqft_lot15        </th><th>year              </th><th>month             </th></tr>\n",
       "</thead>\n",
       "<tbody>\n",
       "<tr><td>type   </td><td>int               </td><td>int              </td><td>int               </td><td>int              </td><td>real              </td><td>int              </td><td>int              </td><td>real              </td><td>int                 </td><td>int                </td><td>int               </td><td>int               </td><td>int               </td><td>int               </td><td>int               </td><td>int               </td><td>int              </td><td>real               </td><td>real               </td><td>int               </td><td>int               </td><td>int               </td><td>int               </td></tr>\n",
       "<tr><td>mins   </td><td>1000102.0         </td><td>20140502.0       </td><td>75000.0           </td><td>0.0              </td><td>0.0               </td><td>290.0            </td><td>520.0            </td><td>1.0               </td><td>0.0                 </td><td>0.0                </td><td>1.0               </td><td>1.0               </td><td>290.0             </td><td>0.0               </td><td>1900.0            </td><td>0.0               </td><td>98001.0          </td><td>47.1559            </td><td>-122.519           </td><td>399.0             </td><td>651.0             </td><td>2014.0            </td><td>1.0               </td></tr>\n",
       "<tr><td>mean   </td><td>4580301520.864987 </td><td>20143902.6682551 </td><td>540088.1417665284 </td><td>3.370841623097218</td><td>2.114757321982139 </td><td>2079.899736269819</td><td>15106.96756581695</td><td>1.4943089807060526</td><td>0.007541757275713691</td><td>0.23430342849211097</td><td>3.4094295100171164</td><td>7.6568731781798105</td><td>1788.3906907879518</td><td>291.50904548188555</td><td>1971.0051357979064</td><td>84.4022579003377  </td><td>98077.93980474674</td><td>47.56005251931665  </td><td>-122.21389640494158</td><td>1986.5524915560036</td><td>12768.45565169118 </td><td>2014.3229537778102</td><td>6.574422801091883 </td></tr>\n",
       "<tr><td>maxs   </td><td>9900000190.0      </td><td>20150527.0       </td><td>7700000.0         </td><td>33.0             </td><td>8.0               </td><td>13540.0          </td><td>1651359.0        </td><td>3.5               </td><td>1.0                 </td><td>4.0                </td><td>5.0               </td><td>13.0              </td><td>9410.0            </td><td>4820.0            </td><td>2015.0            </td><td>2015.0            </td><td>98199.0          </td><td>47.7776            </td><td>-121.315           </td><td>6210.0            </td><td>871200.0          </td><td>2015.0            </td><td>12.0              </td></tr>\n",
       "<tr><td>sigma  </td><td>2876565571.3120522</td><td>4436.582468634118</td><td>367127.19648270035</td><td>0.930061831147451</td><td>0.7701631572177408</td><td>918.4408970468095</td><td>41420.51151513551</td><td>0.5399888951423489</td><td>0.08651719772788766 </td><td>0.7663175692736117 </td><td>0.6507430463662044</td><td>1.1754587569743344</td><td>828.0909776519175 </td><td>442.57504267746685</td><td>29.373410802386235</td><td>401.67924001917555</td><td>53.50502625747248</td><td>0.13856371024192365</td><td>0.14082834238139275</td><td>685.3913042527788 </td><td>27304.179631338524</td><td>0.4676160310451536</td><td>3.1153077787263648</td></tr>\n",
       "<tr><td>zeros  </td><td>0                 </td><td>0                </td><td>0                 </td><td>13               </td><td>10                </td><td>0                </td><td>0                </td><td>0                 </td><td>21450               </td><td>19489              </td><td>0                 </td><td>0                 </td><td>0                 </td><td>13126             </td><td>0                 </td><td>20699             </td><td>0                </td><td>0                  </td><td>0                  </td><td>0                 </td><td>0                 </td><td>0                 </td><td>0                 </td></tr>\n",
       "<tr><td>missing</td><td>0                 </td><td>0                </td><td>0                 </td><td>0                </td><td>0                 </td><td>0                </td><td>0                </td><td>0                 </td><td>0                   </td><td>0                  </td><td>0                 </td><td>0                 </td><td>0                 </td><td>0                 </td><td>0                 </td><td>0                 </td><td>0                </td><td>0                  </td><td>0                  </td><td>0                 </td><td>0                 </td><td>0                 </td><td>0                 </td></tr>\n",
       "<tr><td>0      </td><td>7129300520.0      </td><td>20141013.0       </td><td>221900.0          </td><td>3.0              </td><td>1.0               </td><td>1180.0           </td><td>5650.0           </td><td>1.0               </td><td>0.0                 </td><td>0.0                </td><td>3.0               </td><td>7.0               </td><td>1180.0            </td><td>0.0               </td><td>1955.0            </td><td>0.0               </td><td>98178.0          </td><td>47.5112            </td><td>-122.257           </td><td>1340.0            </td><td>5650.0            </td><td>2014.0            </td><td>10.0              </td></tr>\n",
       "<tr><td>1      </td><td>6414100192.0      </td><td>20141209.0       </td><td>538000.0          </td><td>3.0              </td><td>2.25              </td><td>2570.0           </td><td>7242.0           </td><td>2.0               </td><td>0.0                 </td><td>0.0                </td><td>3.0               </td><td>7.0               </td><td>2170.0            </td><td>400.0             </td><td>1951.0            </td><td>1991.0            </td><td>98125.0          </td><td>47.721             </td><td>-122.319           </td><td>1690.0            </td><td>7639.0            </td><td>2014.0            </td><td>12.0              </td></tr>\n",
       "<tr><td>2      </td><td>5631500400.0      </td><td>20150225.0       </td><td>180000.0          </td><td>2.0              </td><td>1.0               </td><td>770.0            </td><td>10000.0          </td><td>1.0               </td><td>0.0                 </td><td>0.0                </td><td>3.0               </td><td>6.0               </td><td>770.0             </td><td>0.0               </td><td>1933.0            </td><td>0.0               </td><td>98028.0          </td><td>47.7379            </td><td>-122.233           </td><td>2720.0            </td><td>8062.0            </td><td>2015.0            </td><td>2.0               </td></tr>\n",
       "<tr><td>3      </td><td>2487200875.0      </td><td>20141209.0       </td><td>604000.0          </td><td>4.0              </td><td>3.0               </td><td>1960.0           </td><td>5000.0           </td><td>1.0               </td><td>0.0                 </td><td>0.0                </td><td>5.0               </td><td>7.0               </td><td>1050.0            </td><td>910.0             </td><td>1965.0            </td><td>0.0               </td><td>98136.0          </td><td>47.5208            </td><td>-122.393           </td><td>1360.0            </td><td>5000.0            </td><td>2014.0            </td><td>12.0              </td></tr>\n",
       "<tr><td>4      </td><td>1954400510.0      </td><td>20150218.0       </td><td>510000.0          </td><td>3.0              </td><td>2.0               </td><td>1680.0           </td><td>8080.0           </td><td>1.0               </td><td>0.0                 </td><td>0.0                </td><td>3.0               </td><td>8.0               </td><td>1680.0            </td><td>0.0               </td><td>1987.0            </td><td>0.0               </td><td>98074.0          </td><td>47.6168            </td><td>-122.045           </td><td>1800.0            </td><td>7503.0            </td><td>2015.0            </td><td>2.0               </td></tr>\n",
       "<tr><td>5      </td><td>7237550310.0      </td><td>20140512.0       </td><td>1225000.0         </td><td>4.0              </td><td>4.5               </td><td>5420.0           </td><td>101930.0         </td><td>1.0               </td><td>0.0                 </td><td>0.0                </td><td>3.0               </td><td>11.0              </td><td>3890.0            </td><td>1530.0            </td><td>2001.0            </td><td>0.0               </td><td>98053.0          </td><td>47.6561            </td><td>-122.005           </td><td>4760.0            </td><td>101930.0          </td><td>2014.0            </td><td>5.0               </td></tr>\n",
       "<tr><td>6      </td><td>1321400060.0      </td><td>20140627.0       </td><td>257500.0          </td><td>3.0              </td><td>2.25              </td><td>1715.0           </td><td>6819.0           </td><td>2.0               </td><td>0.0                 </td><td>0.0                </td><td>3.0               </td><td>7.0               </td><td>1715.0            </td><td>0.0               </td><td>1995.0            </td><td>0.0               </td><td>98003.0          </td><td>47.3097            </td><td>-122.327           </td><td>2238.0            </td><td>6819.0            </td><td>2014.0            </td><td>6.0               </td></tr>\n",
       "<tr><td>7      </td><td>2008000270.0      </td><td>20150115.0       </td><td>291850.0          </td><td>3.0              </td><td>1.5               </td><td>1060.0           </td><td>9711.0           </td><td>1.0               </td><td>0.0                 </td><td>0.0                </td><td>3.0               </td><td>7.0               </td><td>1060.0            </td><td>0.0               </td><td>1963.0            </td><td>0.0               </td><td>98198.0          </td><td>47.4095            </td><td>-122.315           </td><td>1650.0            </td><td>9711.0            </td><td>2015.0            </td><td>1.0               </td></tr>\n",
       "<tr><td>8      </td><td>2414600126.0      </td><td>20150415.0       </td><td>229500.0          </td><td>3.0              </td><td>1.0               </td><td>1780.0           </td><td>7470.0           </td><td>1.0               </td><td>0.0                 </td><td>0.0                </td><td>3.0               </td><td>7.0               </td><td>1050.0            </td><td>730.0             </td><td>1960.0            </td><td>0.0               </td><td>98146.0          </td><td>47.5123            </td><td>-122.337           </td><td>1780.0            </td><td>8113.0            </td><td>2015.0            </td><td>4.0               </td></tr>\n",
       "<tr><td>9      </td><td>3793500160.0      </td><td>20150312.0       </td><td>323000.0          </td><td>3.0              </td><td>2.5               </td><td>1890.0           </td><td>6560.0           </td><td>2.0               </td><td>0.0                 </td><td>0.0                </td><td>3.0               </td><td>7.0               </td><td>1890.0            </td><td>0.0               </td><td>2003.0            </td><td>0.0               </td><td>98038.0          </td><td>47.3684            </td><td>-122.031           </td><td>2390.0            </td><td>7570.0            </td><td>2015.0            </td><td>3.0               </td></tr>\n",
       "</tbody>\n",
       "</table>"
      ]
     },
     "metadata": {},
     "output_type": "display_data"
    }
   ],
   "source": [
    "df.summary()"
   ]
  },
  {
   "cell_type": "markdown",
   "metadata": {},
   "source": [
    "Split the data into train and test, using 0.9 for the ratio, and a seed of 123. That should give you 19,462 training rows and 2,151 test rows."
   ]
  },
  {
   "cell_type": "code",
   "execution_count": 60,
   "metadata": {},
   "outputs": [],
   "source": [
    "# Split the train dataset\n",
    "train, test = df.split_frame(ratios=[0.9], seed=SEED)"
   ]
  },
  {
   "cell_type": "code",
   "execution_count": 61,
   "metadata": {},
   "outputs": [
    {
     "name": "stdout",
     "output_type": "stream",
     "text": [
      "(19462, 23)\n",
      "(2151, 23)\n"
     ]
    }
   ],
   "source": [
    "print(train.shape)\n",
    "print(test.shape)"
   ]
  },
  {
   "cell_type": "code",
   "execution_count": 91,
   "metadata": {
    "collapsed": true
   },
   "outputs": [],
   "source": [
    "train, valid = df.split_frame(ratios=[0.8], seed=SEED)"
   ]
  },
  {
   "cell_type": "code",
   "execution_count": 64,
   "metadata": {
    "collapsed": true
   },
   "outputs": [],
   "source": [
    "# Seperate the target data and store it into y variable\n",
    "y = 'price'\n",
    "Id = test['id']"
   ]
  },
  {
   "cell_type": "code",
   "execution_count": 66,
   "metadata": {},
   "outputs": [],
   "source": [
    "# remove target and Id column from the dataset and store rest of the columns in X variable\n",
    "X = list(train.columns)\n",
    "X.remove(y)\n",
    "X.remove('id')"
   ]
  },
  {
   "cell_type": "markdown",
   "metadata": {},
   "source": [
    "At the end of this step you will have `train`, `test`, `x` and `y` variables, and possibly `valid` also. Check you have the correct number of rows and columns (as specified in the project description) before moving on."
   ]
  },
  {
   "cell_type": "code",
   "execution_count": 68,
   "metadata": {},
   "outputs": [
    {
     "name": "stdout",
     "output_type": "stream",
     "text": [
      "AutoML progress: |████████████████████████████████████████████████████████| 100%\n",
      "CPU times: user 7.88 s, sys: 3.22 s, total: 11.1 s\n",
      "Wall time: 37min 14s\n"
     ]
    }
   ],
   "source": [
    "# Run AutoML\n",
    "from h2o.automl import H2OAutoML\n",
    "aml = H2OAutoML(max_models=20, seed=SEED, max_runtime_secs = 3600)\n",
    "%time aml.train(x=X, y=y, training_frame =train, leaderboard_frame =valid)"
   ]
  },
  {
   "cell_type": "code",
   "execution_count": 69,
   "metadata": {},
   "outputs": [
    {
     "name": "stdout",
     "output_type": "stream",
     "text": [
      "\n",
      "ModelMetricsRegression: xgboost\n",
      "** Reported on test data. **\n",
      "\n",
      "MSE: 12591264214.81418\n",
      "RMSE: 112210.80257628577\n",
      "MAE: 62172.53206357508\n",
      "RMSLE: 0.16179263406162583\n",
      "Mean Residual Deviance: 12591264214.81418\n"
     ]
    },
    {
     "data": {
      "text/plain": []
     },
     "execution_count": 69,
     "metadata": {},
     "output_type": "execute_result"
    }
   ],
   "source": [
    "aml.leader.model_performance(test) "
   ]
  },
  {
   "cell_type": "code",
   "execution_count": 70,
   "metadata": {},
   "outputs": [
    {
     "data": {
      "text/html": [
       "<table>\n",
       "<thead>\n",
       "<tr><th>model_id                                           </th><th style=\"text-align: right;\">  mean_residual_deviance</th><th style=\"text-align: right;\">  rmse</th><th style=\"text-align: right;\">        mse</th><th style=\"text-align: right;\">     mae</th><th style=\"text-align: right;\">   rmsle</th></tr>\n",
       "</thead>\n",
       "<tbody>\n",
       "<tr><td>XGBoost_grid_1_AutoML_20190106_183809_model_4      </td><td style=\"text-align: right;\">             1.25913e+10</td><td style=\"text-align: right;\">112211</td><td style=\"text-align: right;\">1.25913e+10</td><td style=\"text-align: right;\"> 62172.5</td><td style=\"text-align: right;\">0.161793</td></tr>\n",
       "<tr><td>XGBoost_grid_1_AutoML_20190106_183809_model_2      </td><td style=\"text-align: right;\">             1.28142e+10</td><td style=\"text-align: right;\">113200</td><td style=\"text-align: right;\">1.28142e+10</td><td style=\"text-align: right;\"> 66275.7</td><td style=\"text-align: right;\">0.167236</td></tr>\n",
       "<tr><td>XGBoost_1_AutoML_20190106_183809                   </td><td style=\"text-align: right;\">             1.31792e+10</td><td style=\"text-align: right;\">114801</td><td style=\"text-align: right;\">1.31792e+10</td><td style=\"text-align: right;\"> 65324.1</td><td style=\"text-align: right;\">0.165804</td></tr>\n",
       "<tr><td>XGBoost_3_AutoML_20190106_183809                   </td><td style=\"text-align: right;\">             1.36361e+10</td><td style=\"text-align: right;\">116774</td><td style=\"text-align: right;\">1.36361e+10</td><td style=\"text-align: right;\"> 64259.6</td><td style=\"text-align: right;\">0.16496 </td></tr>\n",
       "<tr><td>GBM_2_AutoML_20190106_183809                       </td><td style=\"text-align: right;\">             1.4488e+10 </td><td style=\"text-align: right;\">120366</td><td style=\"text-align: right;\">1.4488e+10 </td><td style=\"text-align: right;\"> 66180.8</td><td style=\"text-align: right;\">0.166113</td></tr>\n",
       "<tr><td>XGBoost_grid_1_AutoML_20190106_183809_model_3      </td><td style=\"text-align: right;\">             1.46446e+10</td><td style=\"text-align: right;\">121015</td><td style=\"text-align: right;\">1.46446e+10</td><td style=\"text-align: right;\"> 68120.8</td><td style=\"text-align: right;\">0.169696</td></tr>\n",
       "<tr><td>XGBoost_2_AutoML_20190106_183809                   </td><td style=\"text-align: right;\">             1.4814e+10 </td><td style=\"text-align: right;\">121713</td><td style=\"text-align: right;\">1.4814e+10 </td><td style=\"text-align: right;\"> 64518.2</td><td style=\"text-align: right;\">0.163354</td></tr>\n",
       "<tr><td>GBM_1_AutoML_20190106_183809                       </td><td style=\"text-align: right;\">             1.49971e+10</td><td style=\"text-align: right;\">122463</td><td style=\"text-align: right;\">1.49971e+10</td><td style=\"text-align: right;\"> 65402.7</td><td style=\"text-align: right;\">0.166778</td></tr>\n",
       "<tr><td>GBM_grid_1_AutoML_20190106_183809_model_2          </td><td style=\"text-align: right;\">             1.53002e+10</td><td style=\"text-align: right;\">123694</td><td style=\"text-align: right;\">1.53002e+10</td><td style=\"text-align: right;\"> 67207.2</td><td style=\"text-align: right;\">0.169442</td></tr>\n",
       "<tr><td>XGBoost_grid_1_AutoML_20190106_183809_model_1      </td><td style=\"text-align: right;\">             1.57542e+10</td><td style=\"text-align: right;\">125516</td><td style=\"text-align: right;\">1.57542e+10</td><td style=\"text-align: right;\"> 66117.6</td><td style=\"text-align: right;\">0.1681  </td></tr>\n",
       "<tr><td>GBM_3_AutoML_20190106_183809                       </td><td style=\"text-align: right;\">             1.58873e+10</td><td style=\"text-align: right;\">126045</td><td style=\"text-align: right;\">1.58873e+10</td><td style=\"text-align: right;\"> 66655.6</td><td style=\"text-align: right;\">0.167312</td></tr>\n",
       "<tr><td>XRT_1_AutoML_20190106_183809                       </td><td style=\"text-align: right;\">             1.62348e+10</td><td style=\"text-align: right;\">127416</td><td style=\"text-align: right;\">1.62348e+10</td><td style=\"text-align: right;\"> 71208.4</td><td style=\"text-align: right;\">0.177363</td></tr>\n",
       "<tr><td>GBM_5_AutoML_20190106_183809                       </td><td style=\"text-align: right;\">             1.63374e+10</td><td style=\"text-align: right;\">127818</td><td style=\"text-align: right;\">1.63374e+10</td><td style=\"text-align: right;\"> 68184.1</td><td style=\"text-align: right;\">0.167878</td></tr>\n",
       "<tr><td>GBM_4_AutoML_20190106_183809                       </td><td style=\"text-align: right;\">             1.63408e+10</td><td style=\"text-align: right;\">127831</td><td style=\"text-align: right;\">1.63408e+10</td><td style=\"text-align: right;\"> 66348.9</td><td style=\"text-align: right;\">0.165719</td></tr>\n",
       "<tr><td>DeepLearning_1_AutoML_20190106_183809              </td><td style=\"text-align: right;\">             1.67375e+10</td><td style=\"text-align: right;\">129373</td><td style=\"text-align: right;\">1.67375e+10</td><td style=\"text-align: right;\"> 77425.4</td><td style=\"text-align: right;\">0.190864</td></tr>\n",
       "<tr><td>DRF_1_AutoML_20190106_183809                       </td><td style=\"text-align: right;\">             1.70197e+10</td><td style=\"text-align: right;\">130460</td><td style=\"text-align: right;\">1.70197e+10</td><td style=\"text-align: right;\"> 72037.8</td><td style=\"text-align: right;\">0.178067</td></tr>\n",
       "<tr><td>DeepLearning_grid_1_AutoML_20190106_183809_model_2 </td><td style=\"text-align: right;\">             1.7123e+10 </td><td style=\"text-align: right;\">130855</td><td style=\"text-align: right;\">1.7123e+10 </td><td style=\"text-align: right;\"> 80317.9</td><td style=\"text-align: right;\">0.208012</td></tr>\n",
       "<tr><td>DeepLearning_grid_1_AutoML_20190106_183809_model_1 </td><td style=\"text-align: right;\">             1.77722e+10</td><td style=\"text-align: right;\">133312</td><td style=\"text-align: right;\">1.77722e+10</td><td style=\"text-align: right;\"> 80468  </td><td style=\"text-align: right;\">0.201507</td></tr>\n",
       "<tr><td>GBM_grid_1_AutoML_20190106_183809_model_1          </td><td style=\"text-align: right;\">             2.1288e+10 </td><td style=\"text-align: right;\">145904</td><td style=\"text-align: right;\">2.1288e+10 </td><td style=\"text-align: right;\"> 84196.2</td><td style=\"text-align: right;\">0.218617</td></tr>\n",
       "<tr><td>StackedEnsemble_AllModels_AutoML_20190106_183809   </td><td style=\"text-align: right;\">             1.20781e+11</td><td style=\"text-align: right;\">347536</td><td style=\"text-align: right;\">1.20781e+11</td><td style=\"text-align: right;\">226821  </td><td style=\"text-align: right;\">0.528949</td></tr>\n",
       "<tr><td>StackedEnsemble_BestOfFamily_AutoML_20190106_183809</td><td style=\"text-align: right;\">             1.29568e+11</td><td style=\"text-align: right;\">359955</td><td style=\"text-align: right;\">1.29568e+11</td><td style=\"text-align: right;\">235162  </td><td style=\"text-align: right;\">0.548431</td></tr>\n",
       "<tr><td>GLM_grid_1_AutoML_20190106_183809_model_1          </td><td style=\"text-align: right;\">             1.32931e+11</td><td style=\"text-align: right;\">364597</td><td style=\"text-align: right;\">1.32931e+11</td><td style=\"text-align: right;\">238323  </td><td style=\"text-align: right;\">0.556004</td></tr>\n",
       "</tbody>\n",
       "</table>"
      ]
     },
     "metadata": {},
     "output_type": "display_data"
    },
    {
     "data": {
      "text/plain": []
     },
     "execution_count": 70,
     "metadata": {},
     "output_type": "execute_result"
    }
   ],
   "source": [
    "# View the AutoML Leaderboard\n",
    "lb = aml.leaderboard\n",
    "lb.head(rows=lb.nrows)"
   ]
  },
  {
   "cell_type": "code",
   "execution_count": 93,
   "metadata": {},
   "outputs": [
    {
     "name": "stdout",
     "output_type": "stream",
     "text": [
      "gbm Model Build progress: |███████████████████████████████████████████████| 100%\n"
     ]
    },
    {
     "data": {
      "text/plain": [
       "'/Users/tim.wu/Documents/Programming_Code/python_code/python_h2o/models/GBM_model_python_'"
      ]
     },
     "execution_count": 93,
     "metadata": {},
     "output_type": "execute_result"
    }
   ],
   "source": [
    "### 1. Gradient Boosting Machine (GBM)\n",
    "\n",
    "mGBM = H2OGradientBoostingEstimator(model_id = \"GBM_model_baseline\",\n",
    "                                   stopping_rounds = 4,\n",
    "                                   stopping_metric =\"RMSE\",\n",
    "                                   stopping_tolerance = 0.001,\n",
    "                                   ntrees = 200,\n",
    "                                   max_depth =5,\n",
    "                                   nfolds = 5,\n",
    "                                   fold_assignment = \"Modulo\",\n",
    "                                   keep_cross_validation_predictions = True,\n",
    "                                   seed = SEED)\n",
    "mGBM.train(X, y, train, validation_frame = valid)\n",
    " \n",
    "h2o.save_model(mGBM, \"./models/\")"
   ]
  },
  {
   "cell_type": "code",
   "execution_count": 95,
   "metadata": {},
   "outputs": [
    {
     "name": "stdout",
     "output_type": "stream",
     "text": [
      "\n",
      "ModelMetricsRegression: gbm\n",
      "** Reported on test data. **\n",
      "\n",
      "MSE: 15722256445.096155\n",
      "RMSE: 125388.42229287421\n",
      "MAE: 68479.11714883726\n",
      "RMSLE: 0.17020260550422092\n",
      "Mean Residual Deviance: 15722256445.096155\n",
      "\n"
     ]
    }
   ],
   "source": [
    "print(mGBM.model_performance(test))"
   ]
  },
  {
   "cell_type": "code",
   "execution_count": 96,
   "metadata": {},
   "outputs": [
    {
     "name": "stdout",
     "output_type": "stream",
     "text": [
      "drf Model Build progress: |███████████████████████████████████████████████| 100%\n"
     ]
    },
    {
     "data": {
      "text/plain": [
       "'/Users/tim.wu/Documents/Programming_Code/python_code/python_h2o/models/RF_model_python_2019-01-06_13_59_52'"
      ]
     },
     "execution_count": 96,
     "metadata": {},
     "output_type": "execute_result"
    }
   ],
   "source": [
    "### 2. Random Forest Algorithm\n",
    "\n",
    "mRF = H2ORandomForestEstimator(model_id = \"RF_model_baseline\",\n",
    "                               nfolds = 5,\n",
    "                               fold_assignment = \"Modulo\",\n",
    "                               keep_cross_validation_predictions = True,\n",
    "                               seed = SEED\n",
    "                              )\n",
    "mRF.train(X, y, train, validation_frame = valid)\n",
    " \n",
    "h2o.save_model(mRF, \"./models/\")"
   ]
  },
  {
   "cell_type": "code",
   "execution_count": 97,
   "metadata": {},
   "outputs": [
    {
     "name": "stdout",
     "output_type": "stream",
     "text": [
      "\n",
      "ModelMetricsRegression: drf\n",
      "** Reported on test data. **\n",
      "\n",
      "MSE: 16639842953.874172\n",
      "RMSE: 128995.5152471363\n",
      "MAE: 70619.13117692334\n",
      "RMSLE: 0.17580020448537878\n",
      "Mean Residual Deviance: 16639842953.874172\n",
      "\n"
     ]
    }
   ],
   "source": [
    "print(mRF.model_performance(test))"
   ]
  },
  {
   "cell_type": "code",
   "execution_count": 106,
   "metadata": {},
   "outputs": [
    {
     "name": "stdout",
     "output_type": "stream",
     "text": [
      "deeplearning Model Build progress: |██████████████████████████████████████| 100%\n"
     ]
    },
    {
     "data": {
      "text/plain": [
       "'/Users/tim.wu/Documents/Programming_Code/python_code/python_h2o/models/DeepLearning_model_baseline'"
      ]
     },
     "execution_count": 106,
     "metadata": {},
     "output_type": "execute_result"
    }
   ],
   "source": [
    "from h2o.estimators.deeplearning import H2ODeepLearningEstimator\n",
    "mDL = H2ODeepLearningEstimator(model_id = \"DeepLearning_model_baseline\",\n",
    "                               nfolds = 5,\n",
    "                               fold_assignment = \"Modulo\",\n",
    "                               keep_cross_validation_predictions = True,\n",
    "                               seed = SEED\n",
    "                              )\n",
    "mDL.train(X, y, train, validation_frame = valid)\n",
    " \n",
    "h2o.save_model(mDL, \"./models/\")"
   ]
  },
  {
   "cell_type": "code",
   "execution_count": 107,
   "metadata": {},
   "outputs": [
    {
     "name": "stdout",
     "output_type": "stream",
     "text": [
      "\n",
      "ModelMetricsRegression: deeplearning\n",
      "** Reported on test data. **\n",
      "\n",
      "MSE: 14283548645.06324\n",
      "RMSE: 119513.80106524618\n",
      "MAE: 70465.84374216468\n",
      "RMSLE: 0.17846135557969112\n",
      "Mean Residual Deviance: 14283548645.06324\n",
      "\n"
     ]
    }
   ],
   "source": [
    "print(mDL.model_performance(test))"
   ]
  },
  {
   "cell_type": "markdown",
   "metadata": {},
   "source": [
    "Step three is to train a stacked ensemble of the models you made in step two."
   ]
  },
  {
   "cell_type": "code",
   "execution_count": 109,
   "metadata": {},
   "outputs": [
    {
     "name": "stdout",
     "output_type": "stream",
     "text": [
      "stackedensemble Model Build progress: |███████████████████████████████████| 100%\n"
     ]
    },
    {
     "data": {
      "text/plain": [
       "'/Users/tim.wu/Documents/Programming_Code/python_code/python_h2o/models/SE_model'"
      ]
     },
     "execution_count": 109,
     "metadata": {},
     "output_type": "execute_result"
    }
   ],
   "source": [
    "models = [mRF.model_id, mGBM.model_id, mDL.model_id]\n",
    " \n",
    "mSE = H2OStackedEnsembleEstimator(model_id = \"SE_model\",\n",
    "                                 base_models=models)\n",
    "mSE.train(x, y, train, validation_frame = valid)\n",
    " \n",
    "h2o.save_model(mSE, \"./models/\")"
   ]
  },
  {
   "cell_type": "code",
   "execution_count": 110,
   "metadata": {},
   "outputs": [
    {
     "name": "stdout",
     "output_type": "stream",
     "text": [
      "\n",
      "ModelMetricsRegressionGLM: stackedensemble\n",
      "** Reported on test data. **\n",
      "\n",
      "MSE: 114749677691.38939\n",
      "RMSE: 338747.2179832469\n",
      "MAE: 220621.27151157678\n",
      "RMSLE: 0.515027661645394\n",
      "R^2: 0.13676663374213271\n",
      "Mean Residual Deviance: 114749677691.38939\n",
      "Null degrees of freedom: 2150\n",
      "Residual degrees of freedom: 2147\n",
      "Null deviance: 285936137785399.56\n",
      "Residual deviance: 246826556714178.56\n",
      "AIC: 60891.68017447459\n",
      "\n"
     ]
    }
   ],
   "source": [
    "print(mSE.model_performance(test))"
   ]
  },
  {
   "cell_type": "markdown",
   "metadata": {},
   "source": [
    "Repeat steps two and three until your best model (which is usually your ensemble model, but does not have to be) has the minimum required performance on the validation data."
   ]
  },
  {
   "cell_type": "code",
   "execution_count": 75,
   "metadata": {},
   "outputs": [
    {
     "name": "stdout",
     "output_type": "stream",
     "text": [
      "gbm Grid Build progress: |████████████████████████████████████████████████| 100%\n",
      "Model Details\n",
      "=============\n",
      "H2OGradientBoostingEstimator :  Gradient Boosting Machine\n",
      "Model Key:  gbm_grid1_model_34\n",
      "\n",
      "\n",
      "ModelMetricsRegression: gbm\n",
      "** Reported on train data. **\n",
      "\n",
      "MSE: 8817933641.344765\n",
      "RMSE: 93903.8531762396\n",
      "MAE: 59636.942430280804\n",
      "RMSLE: 0.1580489906087874\n",
      "Mean Residual Deviance: 8817933641.344765\n",
      "\n",
      "ModelMetricsRegression: gbm\n",
      "** Reported on validation data. **\n",
      "\n",
      "MSE: 13727064873.487852\n",
      "RMSE: 117162.55747246153\n",
      "MAE: 69129.6804735256\n",
      "RMSLE: 0.1717852964207071\n",
      "Mean Residual Deviance: 13727064873.487852\n",
      "Scoring History: \n"
     ]
    },
    {
     "data": {
      "text/html": [
       "<div style=\"overflow:auto\"><table style=\"width:50%\"><tr><td><b></b></td>\n",
       "<td><b>timestamp</b></td>\n",
       "<td><b>duration</b></td>\n",
       "<td><b>number_of_trees</b></td>\n",
       "<td><b>training_rmse</b></td>\n",
       "<td><b>training_mae</b></td>\n",
       "<td><b>training_deviance</b></td>\n",
       "<td><b>validation_rmse</b></td>\n",
       "<td><b>validation_mae</b></td>\n",
       "<td><b>validation_deviance</b></td></tr>\n",
       "<tr><td></td>\n",
       "<td>2019-01-06 19:35:54</td>\n",
       "<td>27.403 sec</td>\n",
       "<td>0.0</td>\n",
       "<td>367396.3298333</td>\n",
       "<td>233426.2553599</td>\n",
       "<td>134980063174.9631042</td>\n",
       "<td>364597.3132844</td>\n",
       "<td>238323.6006897</td>\n",
       "<td>132931200854.2085419</td></tr>\n",
       "<tr><td></td>\n",
       "<td>2019-01-06 19:35:55</td>\n",
       "<td>27.446 sec</td>\n",
       "<td>5.0</td>\n",
       "<td>261592.4196124</td>\n",
       "<td>163111.5554960</td>\n",
       "<td>68430593998.6665039</td>\n",
       "<td>261568.1522329</td>\n",
       "<td>165897.6556361</td>\n",
       "<td>68417898262.5095291</td></tr>\n",
       "<tr><td></td>\n",
       "<td>2019-01-06 19:35:55</td>\n",
       "<td>27.484 sec</td>\n",
       "<td>10.0</td>\n",
       "<td>200097.0751764</td>\n",
       "<td>123289.9646988</td>\n",
       "<td>40038839494.1423950</td>\n",
       "<td>204492.6798143</td>\n",
       "<td>126281.2705969</td>\n",
       "<td>41817256097.6166687</td></tr>\n",
       "<tr><td></td>\n",
       "<td>2019-01-06 19:35:55</td>\n",
       "<td>27.525 sec</td>\n",
       "<td>15.0</td>\n",
       "<td>163747.9193035</td>\n",
       "<td>100121.3182131</td>\n",
       "<td>26813381076.2328033</td>\n",
       "<td>170796.0813748</td>\n",
       "<td>103700.7731120</td>\n",
       "<td>29171301412.9744949</td></tr>\n",
       "<tr><td></td>\n",
       "<td>2019-01-06 19:35:55</td>\n",
       "<td>27.567 sec</td>\n",
       "<td>20.0</td>\n",
       "<td>144040.5788171</td>\n",
       "<td>86993.1659331</td>\n",
       "<td>20747688345.9534035</td>\n",
       "<td>153447.2147103</td>\n",
       "<td>91297.0636777</td>\n",
       "<td>23546047702.3390388</td></tr>\n",
       "<tr><td>---</td>\n",
       "<td>---</td>\n",
       "<td>---</td>\n",
       "<td>---</td>\n",
       "<td>---</td>\n",
       "<td>---</td>\n",
       "<td>---</td>\n",
       "<td>---</td>\n",
       "<td>---</td>\n",
       "<td>---</td></tr>\n",
       "<tr><td></td>\n",
       "<td>2019-01-06 19:35:55</td>\n",
       "<td>27.974 sec</td>\n",
       "<td>80.0</td>\n",
       "<td>98592.6235600</td>\n",
       "<td>61759.6726546</td>\n",
       "<td>9720505420.4460239</td>\n",
       "<td>118271.1926818</td>\n",
       "<td>69898.3888135</td>\n",
       "<td>13988075018.3737392</td></tr>\n",
       "<tr><td></td>\n",
       "<td>2019-01-06 19:35:55</td>\n",
       "<td>28.011 sec</td>\n",
       "<td>85.0</td>\n",
       "<td>97687.7210327</td>\n",
       "<td>61345.9088291</td>\n",
       "<td>9542890840.5688934</td>\n",
       "<td>117997.2897509</td>\n",
       "<td>69733.9091186</td>\n",
       "<td>13923360388.5493088</td></tr>\n",
       "<tr><td></td>\n",
       "<td>2019-01-06 19:35:55</td>\n",
       "<td>28.042 sec</td>\n",
       "<td>90.0</td>\n",
       "<td>96843.6671319</td>\n",
       "<td>60958.4816690</td>\n",
       "<td>9378695863.5515518</td>\n",
       "<td>117824.3003385</td>\n",
       "<td>69508.4442292</td>\n",
       "<td>13882565750.2602749</td></tr>\n",
       "<tr><td></td>\n",
       "<td>2019-01-06 19:35:55</td>\n",
       "<td>28.075 sec</td>\n",
       "<td>95.0</td>\n",
       "<td>95402.8203307</td>\n",
       "<td>60314.1201669</td>\n",
       "<td>9101698127.0531387</td>\n",
       "<td>117722.6097048</td>\n",
       "<td>69411.1071311</td>\n",
       "<td>13858612835.7114925</td></tr>\n",
       "<tr><td></td>\n",
       "<td>2019-01-06 19:35:55</td>\n",
       "<td>28.109 sec</td>\n",
       "<td>100.0</td>\n",
       "<td>93903.8531762</td>\n",
       "<td>59636.9424303</td>\n",
       "<td>8817933641.3447647</td>\n",
       "<td>117162.5574725</td>\n",
       "<td>69129.6804735</td>\n",
       "<td>13727064873.4878521</td></tr></table></div>"
      ],
      "text/plain": [
       "     timestamp            duration    number_of_trees    training_rmse       training_mae        training_deviance    validation_rmse     validation_mae      validation_deviance\n",
       "---  -------------------  ----------  -----------------  ------------------  ------------------  -------------------  ------------------  ------------------  ---------------------\n",
       "     2019-01-06 19:35:54  27.403 sec  0.0                367396.32983327843  233426.25535986997  134980063174.9631    364597.3132844077   238323.60068972426  132931200854.20854\n",
       "     2019-01-06 19:35:55  27.446 sec  5.0                261592.4196123934   163111.5554959665   68430593998.666504   261568.15223285407  165897.65563607207  68417898262.50953\n",
       "     2019-01-06 19:35:55  27.484 sec  10.0               200097.0751763813   123289.9646988362   40038839494.142395   204492.67981425807  126281.27059688434  41817256097.61667\n",
       "     2019-01-06 19:35:55  27.525 sec  15.0               163747.91930352215  100121.3182130562   26813381076.232803   170796.0813747625   103700.77311200494  29171301412.974495\n",
       "     2019-01-06 19:35:55  27.567 sec  20.0               144040.57881705905  86993.16593313252   20747688345.953403   153447.21471026784  91297.06367772432   23546047702.33904\n",
       "---  ---                  ---         ---                ---                 ---                 ---                  ---                 ---                 ---\n",
       "     2019-01-06 19:35:55  27.974 sec  80.0               98592.62356001094   61759.67265456402   9720505420.446024    118271.19268179272  69898.38881350574   13988075018.37374\n",
       "     2019-01-06 19:35:55  28.011 sec  85.0               97687.72103273212   61345.90882914462   9542890840.568893    117997.28975086381  69733.90911858209   13923360388.549309\n",
       "     2019-01-06 19:35:55  28.042 sec  90.0               96843.66713188608   60958.481669005625  9378695863.551552    117824.30033851368  69508.44422924149   13882565750.260275\n",
       "     2019-01-06 19:35:55  28.075 sec  95.0               95402.82033070689   60314.120166863635  9101698127.053139    117722.60970481198  69411.10713110636   13858612835.711493\n",
       "     2019-01-06 19:35:55  28.109 sec  100.0              93903.8531762396    59636.942430280804  8817933641.344765    117162.55747246153  69129.6804735256    13727064873.487852"
      ]
     },
     "metadata": {},
     "output_type": "display_data"
    },
    {
     "name": "stdout",
     "output_type": "stream",
     "text": [
      "\n",
      "See the whole table with table.as_data_frame()\n",
      "Variable Importances: \n"
     ]
    },
    {
     "data": {
      "text/html": [
       "<div style=\"overflow:auto\"><table style=\"width:50%\"><tr><td><b>variable</b></td>\n",
       "<td><b>relative_importance</b></td>\n",
       "<td><b>scaled_importance</b></td>\n",
       "<td><b>percentage</b></td></tr>\n",
       "<tr><td>sqft_living</td>\n",
       "<td>2335553286569984.0000000</td>\n",
       "<td>1.0</td>\n",
       "<td>0.2080564</td></tr>\n",
       "<tr><td>grade</td>\n",
       "<td>1745423840575488.0000000</td>\n",
       "<td>0.7473278</td>\n",
       "<td>0.1554863</td></tr>\n",
       "<tr><td>lat</td>\n",
       "<td>1587439508389888.0000000</td>\n",
       "<td>0.6796846</td>\n",
       "<td>0.1414127</td></tr>\n",
       "<tr><td>sqft_living15</td>\n",
       "<td>1301159402799104.0000000</td>\n",
       "<td>0.5571097</td>\n",
       "<td>0.1159102</td></tr>\n",
       "<tr><td>sqft_above</td>\n",
       "<td>865851246903296.0000000</td>\n",
       "<td>0.3707264</td>\n",
       "<td>0.0771320</td></tr>\n",
       "<tr><td>---</td>\n",
       "<td>---</td>\n",
       "<td>---</td>\n",
       "<td>---</td></tr>\n",
       "<tr><td>date</td>\n",
       "<td>33907424624640.0000000</td>\n",
       "<td>0.0145179</td>\n",
       "<td>0.0030205</td></tr>\n",
       "<tr><td>yr_renovated</td>\n",
       "<td>33614827880448.0000000</td>\n",
       "<td>0.0143927</td>\n",
       "<td>0.0029945</td></tr>\n",
       "<tr><td>sqft_lot15</td>\n",
       "<td>32590075527168.0000000</td>\n",
       "<td>0.0139539</td>\n",
       "<td>0.0029032</td></tr>\n",
       "<tr><td>month</td>\n",
       "<td>23096559927296.0000000</td>\n",
       "<td>0.0098891</td>\n",
       "<td>0.0020575</td></tr>\n",
       "<tr><td>year</td>\n",
       "<td>7535843606528.0000000</td>\n",
       "<td>0.0032266</td>\n",
       "<td>0.0006713</td></tr></table></div>"
      ],
      "text/plain": [
       "variable       relative_importance    scaled_importance      percentage\n",
       "-------------  ---------------------  ---------------------  ---------------------\n",
       "sqft_living    2335553286569984.0     1.0                    0.20805635813348342\n",
       "grade          1745423840575488.0     0.7473277747984223     0.1554862951565598\n",
       "lat            1587439508389888.0     0.6796845601931082     0.1414126942733365\n",
       "sqft_living15  1301159402799104.0     0.5571097051311551     0.11591021633040695\n",
       "sqft_above     865851246903296.0      0.37072639356256926    0.07713198330858863\n",
       "---            ---                    ---                    ---\n",
       "date           33907424624640.0       0.014517940917732933   0.003020549914940596\n",
       "yr_renovated   33614827880448.0       0.014392661504981143   0.002994484736574357\n",
       "sqft_lot15     32590075527168.0       0.013953899367044671   0.0029031974840684335\n",
       "month          23096559927296.0       0.009889117092770693   0.002057493687477452\n",
       "year           7535843606528.0        0.0032265774666161494  0.0006713099569397172"
      ]
     },
     "metadata": {},
     "output_type": "display_data"
    },
    {
     "name": "stdout",
     "output_type": "stream",
     "text": [
      "\n",
      "See the whole table with table.as_data_frame()\n"
     ]
    },
    {
     "data": {
      "text/plain": []
     },
     "execution_count": 75,
     "metadata": {},
     "output_type": "execute_result"
    }
   ],
   "source": [
    "### 1. Gradient Boosting Machine (GBM)\n",
    "\n",
    "# Prepare the hyperparameters\n",
    "gbm_params = {\n",
    "                'learn_rate': [0.01, 0.1], \n",
    "                'max_depth': [4, 5, 7],\n",
    "                'sample_rate': [0.6, 0.8],               # Row sample rate\n",
    "                'col_sample_rate': [0.2, 0.5, 0.9]       # Column sample rate per split (from 0.0 to 1.0)\n",
    "                }\n",
    "\n",
    "\n",
    "\n",
    "# Prepare the grid object\n",
    "gbm_grid = H2OGridSearch(model=H2OGradientBoostingEstimator,   # Model to be trained\n",
    "                          grid_id='gbm_grid1',                  # Grid Search ID\n",
    "                          hyper_params=gbm_params,              # Dictionary of parameters\n",
    "                          search_criteria={\"strategy\": \"Cartesian\"}   # RandomDiscrete\n",
    "                          )\n",
    "\n",
    "\n",
    "\n",
    "# Train the Model\n",
    "start = time.time() \n",
    "gbm_grid.train(x=X,y=y, \n",
    "                training_frame=train,\n",
    "                validation_frame=valid,\n",
    "                ntrees=100,      # Specify other GBM parameters not in grid\n",
    "                score_tree_interval=5,     # For early stopping\n",
    "                stopping_rounds=3,         # For early stopping\n",
    "                stopping_tolerance=0.0005,\n",
    "                seed=SEED)\n",
    "\n",
    "end = time.time()\n",
    "(end - start)/60\n",
    "\n",
    "\n",
    "\n",
    "# Find the Model grid performance \n",
    "gbm_gridperf = gbm_grid.get_grid(sort_by='RMSE',decreasing = False)\n",
    "\n",
    "\n",
    "# Identify the best model generated with least error\n",
    "best_gbm_model = gbm_gridperf.models[0]"
   ]
  },
  {
   "cell_type": "code",
   "execution_count": 111,
   "metadata": {},
   "outputs": [
    {
     "name": "stdout",
     "output_type": "stream",
     "text": [
      "     col_sample_rate learn_rate max_depth sample_rate           model_ids  \\\n",
      "0                0.2        0.1         7         0.8  gbm_grid1_model_34   \n",
      "1                0.5        0.1         5         0.8  gbm_grid1_model_29   \n",
      "2                0.5        0.1         7         0.8  gbm_grid1_model_35   \n",
      "3                0.2        0.1         7         0.6  gbm_grid1_model_16   \n",
      "4                0.9        0.1         5         0.8  gbm_grid1_model_30   \n",
      "5                0.2        0.1         5         0.8  gbm_grid1_model_28   \n",
      "6                0.5        0.1         4         0.8  gbm_grid1_model_23   \n",
      "7                0.2        0.1         4         0.8  gbm_grid1_model_22   \n",
      "8                0.9        0.1         4         0.8  gbm_grid1_model_24   \n",
      "9                0.5        0.1         5         0.6  gbm_grid1_model_11   \n",
      "10               0.2        0.1         5         0.6  gbm_grid1_model_10   \n",
      "11               0.5        0.1         7         0.6  gbm_grid1_model_17   \n",
      "12               0.9        0.1         5         0.6  gbm_grid1_model_12   \n",
      "13               0.2        0.1         4         0.6   gbm_grid1_model_4   \n",
      "14               0.9        0.1         7         0.8  gbm_grid1_model_36   \n",
      "15               0.9        0.1         4         0.6   gbm_grid1_model_6   \n",
      "16               0.5        0.1         4         0.6   gbm_grid1_model_5   \n",
      "17               0.9        0.1         7         0.6  gbm_grid1_model_18   \n",
      "18               0.9       0.01         7         0.6  gbm_grid1_model_15   \n",
      "19               0.9       0.01         7         0.8  gbm_grid1_model_33   \n",
      "20               0.5       0.01         7         0.8  gbm_grid1_model_32   \n",
      "21               0.5       0.01         7         0.6  gbm_grid1_model_14   \n",
      "22               0.2       0.01         7         0.8  gbm_grid1_model_31   \n",
      "23               0.2       0.01         7         0.6  gbm_grid1_model_13   \n",
      "24               0.9       0.01         5         0.6   gbm_grid1_model_9   \n",
      "25               0.9       0.01         5         0.8  gbm_grid1_model_27   \n",
      "26               0.5       0.01         5         0.8  gbm_grid1_model_26   \n",
      "27               0.5       0.01         5         0.6   gbm_grid1_model_8   \n",
      "28               0.9       0.01         4         0.6   gbm_grid1_model_3   \n",
      "29               0.9       0.01         4         0.8  gbm_grid1_model_21   \n",
      "30               0.5       0.01         4         0.8  gbm_grid1_model_20   \n",
      "31               0.2       0.01         5         0.6   gbm_grid1_model_7   \n",
      "32               0.2       0.01         5         0.8  gbm_grid1_model_25   \n",
      "33               0.5       0.01         4         0.6   gbm_grid1_model_2   \n",
      "34               0.2       0.01         4         0.6   gbm_grid1_model_1   \n",
      "35               0.2       0.01         4         0.8  gbm_grid1_model_19   \n",
      "\n",
      "                  rmse  \n",
      "0   117162.55747246153  \n",
      "1   119308.46765269544  \n",
      "2   119757.84204222538  \n",
      "3    120086.4177490129  \n",
      "4   121050.64144724683  \n",
      "5   121807.53162296725  \n",
      "6   121857.05454707448  \n",
      "7   123099.66256495287  \n",
      "8   123248.09828551431  \n",
      "9   123575.81517699284  \n",
      "10  123594.12755446779  \n",
      "11  124317.15049645092  \n",
      "12  125144.35686127264  \n",
      "13  126790.63695492498  \n",
      "14  126940.69693956303  \n",
      "15  127429.83132521716  \n",
      "16  128804.27400600757  \n",
      "17  132159.98598785352  \n",
      "18  192453.02440999675  \n",
      "19  193188.09626379484  \n",
      "20  194132.77646137637  \n",
      "21  194850.85760642958  \n",
      "22  204188.78963905075  \n",
      "23  204207.37816528854  \n",
      "24  206010.72019299623  \n",
      "25  206707.78417347552  \n",
      "26  207543.58085727887  \n",
      "27  208266.58632085612  \n",
      "28   215788.9201887675  \n",
      "29  216594.63770294315  \n",
      "30  217523.59559403532  \n",
      "31  218524.50066609072  \n",
      "32  218688.13784054064  \n",
      "33  219076.42381659846  \n",
      "34  229342.29113045707  \n",
      "35  229733.20450850166  \n"
     ]
    },
    {
     "data": {
      "text/plain": []
     },
     "execution_count": 111,
     "metadata": {},
     "output_type": "execute_result"
    }
   ],
   "source": [
    "gbm_gridperf"
   ]
  },
  {
   "cell_type": "code",
   "execution_count": 125,
   "metadata": {},
   "outputs": [
    {
     "name": "stdout",
     "output_type": "stream",
     "text": [
      "gbm Model Build progress: |███████████████████████████████████████████████| 100%\n"
     ]
    },
    {
     "data": {
      "text/plain": [
       "'/Users/tim.wu/Documents/Programming_Code/python_code/python_h2o/models/GBM_model_best_4'"
      ]
     },
     "execution_count": 125,
     "metadata": {},
     "output_type": "execute_result"
    }
   ],
   "source": [
    "### 1. Gradient Boosting Machine (GBM)\n",
    "\n",
    "mGBM_best = H2OGradientBoostingEstimator(model_id = \"GBM_model_best_4\",\n",
    "                                   score_tree_interval=5,     # For early stopping\n",
    "                                   stopping_rounds=3,         # For early stopping\n",
    "                                   stopping_tolerance=0.0005,\n",
    "                                   ntrees=200,\n",
    "                                   col_sample_rate = 0.2,\n",
    "                                   learn_rate = 0.1,\n",
    "                                   sample_rate = 0.8,\n",
    "                                   seed = SEED)\n",
    "mGBM_best.train(X, y,\n",
    "                training_frame=train,\n",
    "                validation_frame=valid)\n",
    "\n",
    "h2o.save_model(mGBM_best, \"./models/\")\n"
   ]
  },
  {
   "cell_type": "code",
   "execution_count": 126,
   "metadata": {},
   "outputs": [
    {
     "name": "stdout",
     "output_type": "stream",
     "text": [
      "\n",
      "ModelMetricsRegression: gbm\n",
      "** Reported on test data. **\n",
      "\n",
      "MSE: 14197863207.460981\n",
      "RMSE: 119154.78675848898\n",
      "MAE: 69866.26518889358\n",
      "RMSLE: 0.1738943780516706\n",
      "Mean Residual Deviance: 14197863207.460981\n",
      "\n"
     ]
    }
   ],
   "source": [
    "print(mGBM_best.model_performance(test))"
   ]
  },
  {
   "cell_type": "code",
   "execution_count": 76,
   "metadata": {},
   "outputs": [
    {
     "name": "stdout",
     "output_type": "stream",
     "text": [
      "drf Grid Build progress: |████████████████████████████████████████████████| 100%\n",
      "Model Details\n",
      "=============\n",
      "H2ORandomForestEstimator :  Distributed Random Forest\n",
      "Model Key:  rf_grid_model_7\n",
      "\n",
      "\n",
      "ModelMetricsRegression: drf\n",
      "** Reported on train data. **\n",
      "\n",
      "MSE: 36654134222.6107\n",
      "RMSE: 191452.69447727996\n",
      "MAE: 115557.92191281033\n",
      "RMSLE: 0.2804407379913934\n",
      "Mean Residual Deviance: 36654134222.6107\n",
      "\n",
      "ModelMetricsRegression: drf\n",
      "** Reported on validation data. **\n",
      "\n",
      "MSE: 33346496146.79453\n",
      "RMSE: 182610.23012633913\n",
      "MAE: 113545.77279956991\n",
      "RMSLE: 0.2770989615915768\n",
      "Mean Residual Deviance: 33346496146.79453\n",
      "\n",
      "ModelMetricsRegression: drf\n",
      "** Reported on cross-validation data. **\n",
      "\n",
      "MSE: 35495903928.5359\n",
      "RMSE: 188403.5666555596\n",
      "MAE: 113891.34491938619\n",
      "RMSLE: 0.27699071806691905\n",
      "Mean Residual Deviance: 35495903928.5359\n",
      "Cross-Validation Metrics Summary: \n"
     ]
    },
    {
     "data": {
      "text/html": [
       "<div style=\"overflow:auto\"><table style=\"width:50%\"><tr><td><b></b></td>\n",
       "<td><b>mean</b></td>\n",
       "<td><b>sd</b></td>\n",
       "<td><b>cv_1_valid</b></td>\n",
       "<td><b>cv_2_valid</b></td>\n",
       "<td><b>cv_3_valid</b></td>\n",
       "<td><b>cv_4_valid</b></td>\n",
       "<td><b>cv_5_valid</b></td></tr>\n",
       "<tr><td>mae</td>\n",
       "<td>113891.2340000</td>\n",
       "<td>1126.3811</td>\n",
       "<td>114914.89</td>\n",
       "<td>115010.62</td>\n",
       "<td>115477.3</td>\n",
       "<td>111349.29</td>\n",
       "<td>112704.07</td></tr>\n",
       "<tr><td>mean_residual_deviance</td>\n",
       "<td>35495739000.0000000</td>\n",
       "<td>1837184130.0000000</td>\n",
       "<td>34624643000.0000000</td>\n",
       "<td>39543894000.0000000</td>\n",
       "<td>36655944000.0000000</td>\n",
       "<td>35037979000.0000000</td>\n",
       "<td>31616245800.0000000</td></tr>\n",
       "<tr><td>mse</td>\n",
       "<td>35495739000.0000000</td>\n",
       "<td>1837184130.0000000</td>\n",
       "<td>34624643000.0000000</td>\n",
       "<td>39543894000.0000000</td>\n",
       "<td>36655944000.0000000</td>\n",
       "<td>35037979000.0000000</td>\n",
       "<td>31616245800.0000000</td></tr>\n",
       "<tr><td>r2</td>\n",
       "<td>0.7372297</td>\n",
       "<td>0.0060014</td>\n",
       "<td>0.7459304</td>\n",
       "<td>0.7268798</td>\n",
       "<td>0.7272474</td>\n",
       "<td>0.7408041</td>\n",
       "<td>0.7452869</td></tr>\n",
       "<tr><td>residual_deviance</td>\n",
       "<td>35495739000.0000000</td>\n",
       "<td>1837184130.0000000</td>\n",
       "<td>34624643000.0000000</td>\n",
       "<td>39543894000.0000000</td>\n",
       "<td>36655944000.0000000</td>\n",
       "<td>35037979000.0000000</td>\n",
       "<td>31616245800.0000000</td></tr>\n",
       "<tr><td>rmse</td>\n",
       "<td>188276.95</td>\n",
       "<td>4874.8447</td>\n",
       "<td>186076.98</td>\n",
       "<td>198856.47</td>\n",
       "<td>191457.42</td>\n",
       "<td>187184.34</td>\n",
       "<td>177809.58</td></tr>\n",
       "<tr><td>rmsle</td>\n",
       "<td>0.2769551</td>\n",
       "<td>0.0031278</td>\n",
       "<td>0.2837964</td>\n",
       "<td>0.2752213</td>\n",
       "<td>0.2710806</td>\n",
       "<td>0.2747676</td>\n",
       "<td>0.2799096</td></tr></table></div>"
      ],
      "text/plain": [
       "                        mean         sd           cv_1_valid    cv_2_valid    cv_3_valid    cv_4_valid    cv_5_valid\n",
       "----------------------  -----------  -----------  ------------  ------------  ------------  ------------  ------------\n",
       "mae                     113891       1126.38      114915        115011        115477        111349        112704\n",
       "mean_residual_deviance  3.54957e+10  1.83718e+09  3.46246e+10   3.95439e+10   3.66559e+10   3.5038e+10    3.16162e+10\n",
       "mse                     3.54957e+10  1.83718e+09  3.46246e+10   3.95439e+10   3.66559e+10   3.5038e+10    3.16162e+10\n",
       "r2                      0.73723      0.00600137   0.74593       0.72688       0.727247      0.740804      0.745287\n",
       "residual_deviance       3.54957e+10  1.83718e+09  3.46246e+10   3.95439e+10   3.66559e+10   3.5038e+10    3.16162e+10\n",
       "rmse                    188277       4874.84      186077        198856        191457        187184        177810\n",
       "rmsle                   0.276955     0.00312783   0.283796      0.275221      0.271081      0.274768      0.27991"
      ]
     },
     "metadata": {},
     "output_type": "display_data"
    },
    {
     "name": "stdout",
     "output_type": "stream",
     "text": [
      "Scoring History: \n"
     ]
    },
    {
     "data": {
      "text/html": [
       "<div style=\"overflow:auto\"><table style=\"width:50%\"><tr><td><b></b></td>\n",
       "<td><b>timestamp</b></td>\n",
       "<td><b>duration</b></td>\n",
       "<td><b>number_of_trees</b></td>\n",
       "<td><b>training_rmse</b></td>\n",
       "<td><b>training_mae</b></td>\n",
       "<td><b>training_deviance</b></td>\n",
       "<td><b>validation_rmse</b></td>\n",
       "<td><b>validation_mae</b></td>\n",
       "<td><b>validation_deviance</b></td></tr>\n",
       "<tr><td></td>\n",
       "<td>2019-01-06 19:37:01</td>\n",
       "<td> 1 min  3.268 sec</td>\n",
       "<td>0.0</td>\n",
       "<td>nan</td>\n",
       "<td>nan</td>\n",
       "<td>nan</td>\n",
       "<td>nan</td>\n",
       "<td>nan</td>\n",
       "<td>nan</td></tr>\n",
       "<tr><td></td>\n",
       "<td>2019-01-06 19:37:01</td>\n",
       "<td> 1 min  3.279 sec</td>\n",
       "<td>1.0</td>\n",
       "<td>220691.4922518</td>\n",
       "<td>131717.3903040</td>\n",
       "<td>48704734752.3164978</td>\n",
       "<td>226344.5034122</td>\n",
       "<td>134081.0339232</td>\n",
       "<td>51231834224.9318542</td></tr>\n",
       "<tr><td></td>\n",
       "<td>2019-01-06 19:37:01</td>\n",
       "<td> 1 min  3.285 sec</td>\n",
       "<td>2.0</td>\n",
       "<td>228582.2969000</td>\n",
       "<td>142434.4256540</td>\n",
       "<td>52249866456.0706177</td>\n",
       "<td>209833.6310157</td>\n",
       "<td>126244.2117111</td>\n",
       "<td>44030152705.2520828</td></tr>\n",
       "<tr><td></td>\n",
       "<td>2019-01-06 19:37:01</td>\n",
       "<td> 1 min  3.292 sec</td>\n",
       "<td>3.0</td>\n",
       "<td>235966.8296361</td>\n",
       "<td>143569.9098359</td>\n",
       "<td>55680344688.4936829</td>\n",
       "<td>199647.6384792</td>\n",
       "<td>126364.8329169</td>\n",
       "<td>39859179550.3106537</td></tr>\n",
       "<tr><td></td>\n",
       "<td>2019-01-06 19:37:01</td>\n",
       "<td> 1 min  3.299 sec</td>\n",
       "<td>4.0</td>\n",
       "<td>233645.2683184</td>\n",
       "<td>143726.3455724</td>\n",
       "<td>54590111407.5662689</td>\n",
       "<td>197204.5109521</td>\n",
       "<td>125398.8698461</td>\n",
       "<td>38889619139.8541031</td></tr>\n",
       "<tr><td>---</td>\n",
       "<td>---</td>\n",
       "<td>---</td>\n",
       "<td>---</td>\n",
       "<td>---</td>\n",
       "<td>---</td>\n",
       "<td>---</td>\n",
       "<td>---</td>\n",
       "<td>---</td>\n",
       "<td>---</td></tr>\n",
       "<tr><td></td>\n",
       "<td>2019-01-06 19:37:04</td>\n",
       "<td> 1 min  5.777 sec</td>\n",
       "<td>96.0</td>\n",
       "<td>191457.4831842</td>\n",
       "<td>115321.3413101</td>\n",
       "<td>36655967867.2330093</td>\n",
       "<td>182301.5559470</td>\n",
       "<td>113282.8628095</td>\n",
       "<td>33233857300.7137527</td></tr>\n",
       "<tr><td></td>\n",
       "<td>2019-01-06 19:37:04</td>\n",
       "<td> 1 min  5.821 sec</td>\n",
       "<td>97.0</td>\n",
       "<td>191150.7638614</td>\n",
       "<td>115261.0100909</td>\n",
       "<td>36538614524.8131866</td>\n",
       "<td>182266.8874648</td>\n",
       "<td>113267.5545010</td>\n",
       "<td>33221218266.0879326</td></tr>\n",
       "<tr><td></td>\n",
       "<td>2019-01-06 19:37:04</td>\n",
       "<td> 1 min  5.866 sec</td>\n",
       "<td>98.0</td>\n",
       "<td>191363.6250005</td>\n",
       "<td>115349.2776078</td>\n",
       "<td>36620036973.3374786</td>\n",
       "<td>182406.3172281</td>\n",
       "<td>113351.6013252</td>\n",
       "<td>33272064564.7027626</td></tr>\n",
       "<tr><td></td>\n",
       "<td>2019-01-06 19:37:04</td>\n",
       "<td> 1 min  5.911 sec</td>\n",
       "<td>99.0</td>\n",
       "<td>191323.0698078</td>\n",
       "<td>115429.9736966</td>\n",
       "<td>36604517040.6796494</td>\n",
       "<td>182550.2956606</td>\n",
       "<td>113436.8178807</td>\n",
       "<td>33324610445.7645874</td></tr>\n",
       "<tr><td></td>\n",
       "<td>2019-01-06 19:37:04</td>\n",
       "<td> 1 min  5.956 sec</td>\n",
       "<td>100.0</td>\n",
       "<td>191452.6944773</td>\n",
       "<td>115557.9219128</td>\n",
       "<td>36654134222.6107025</td>\n",
       "<td>182610.2301263</td>\n",
       "<td>113545.7727996</td>\n",
       "<td>33346496146.7945290</td></tr></table></div>"
      ],
      "text/plain": [
       "     timestamp            duration          number_of_trees    training_rmse       training_mae        training_deviance    validation_rmse     validation_mae      validation_deviance\n",
       "---  -------------------  ----------------  -----------------  ------------------  ------------------  -------------------  ------------------  ------------------  ---------------------\n",
       "     2019-01-06 19:37:01  1 min  3.268 sec  0.0                nan                 nan                 nan                  nan                 nan                 nan\n",
       "     2019-01-06 19:37:01  1 min  3.279 sec  1.0                220691.4922517778   131717.39030396618  48704734752.3165     226344.5034122363   134081.03392317527  51231834224.931854\n",
       "     2019-01-06 19:37:01  1 min  3.285 sec  2.0                228582.29689998002  142434.4256540286   52249866456.07062    209833.63101574563  126244.21171112273  44030152705.25208\n",
       "     2019-01-06 19:37:01  1 min  3.292 sec  3.0                235966.82963606066  143569.90983592128  55680344688.49368    199647.63847917324  126364.83291686041  39859179550.31065\n",
       "     2019-01-06 19:37:01  1 min  3.299 sec  4.0                233645.26831837677  143726.34557236996  54590111407.56627    197204.51095209282  125398.86984614714  38889619139.8541\n",
       "---  ---                  ---               ---                ---                 ---                 ---                  ---                 ---                 ---\n",
       "     2019-01-06 19:37:04  1 min  5.777 sec  96.0               191457.4831842125   115321.34131014204  36655967867.23301    182301.55594704548  113282.86280953987  33233857300.713753\n",
       "     2019-01-06 19:37:04  1 min  5.821 sec  97.0               191150.76386144312  115261.01009088907  36538614524.81319    182266.88746475024  113267.55450099337  33221218266.087933\n",
       "     2019-01-06 19:37:04  1 min  5.866 sec  98.0               191363.62500051435  115349.27760775216  36620036973.33748    182406.31722805754  113351.6013252318   33272064564.702763\n",
       "     2019-01-06 19:37:04  1 min  5.911 sec  99.0               191323.06980779828  115429.97369655315  36604517040.67965    182550.29566057838  113436.81788068998  33324610445.764587\n",
       "     2019-01-06 19:37:04  1 min  5.956 sec  100.0              191452.69447727996  115557.92191281033  36654134222.6107     182610.23012633913  113545.77279956991  33346496146.79453"
      ]
     },
     "metadata": {},
     "output_type": "display_data"
    },
    {
     "name": "stdout",
     "output_type": "stream",
     "text": [
      "\n",
      "See the whole table with table.as_data_frame()\n",
      "Variable Importances: \n"
     ]
    },
    {
     "data": {
      "text/html": [
       "<div style=\"overflow:auto\"><table style=\"width:50%\"><tr><td><b>variable</b></td>\n",
       "<td><b>relative_importance</b></td>\n",
       "<td><b>scaled_importance</b></td>\n",
       "<td><b>percentage</b></td></tr>\n",
       "<tr><td>sqft_living</td>\n",
       "<td>36967139998957568.0000000</td>\n",
       "<td>1.0</td>\n",
       "<td>0.2525554</td></tr>\n",
       "<tr><td>grade</td>\n",
       "<td>28957711039201280.0000000</td>\n",
       "<td>0.7833365</td>\n",
       "<td>0.1978359</td></tr>\n",
       "<tr><td>sqft_living15</td>\n",
       "<td>16611074853830656.0000000</td>\n",
       "<td>0.4493470</td>\n",
       "<td>0.1134850</td></tr>\n",
       "<tr><td>lat</td>\n",
       "<td>13800538449641472.0000000</td>\n",
       "<td>0.3733191</td>\n",
       "<td>0.0942838</td></tr>\n",
       "<tr><td>sqft_above</td>\n",
       "<td>13109969985470464.0000000</td>\n",
       "<td>0.3546385</td>\n",
       "<td>0.0895659</td></tr>\n",
       "<tr><td>---</td>\n",
       "<td>---</td>\n",
       "<td>---</td>\n",
       "<td>---</td></tr>\n",
       "<tr><td>yr_renovated</td>\n",
       "<td>333848311234560.0000000</td>\n",
       "<td>0.0090309</td>\n",
       "<td>0.0022808</td></tr>\n",
       "<tr><td>condition</td>\n",
       "<td>253496536334336.0000000</td>\n",
       "<td>0.0068573</td>\n",
       "<td>0.0017319</td></tr>\n",
       "<tr><td>date</td>\n",
       "<td>115573761507328.0000000</td>\n",
       "<td>0.0031264</td>\n",
       "<td>0.0007896</td></tr>\n",
       "<tr><td>month</td>\n",
       "<td>50035144261632.0000000</td>\n",
       "<td>0.0013535</td>\n",
       "<td>0.0003418</td></tr>\n",
       "<tr><td>year</td>\n",
       "<td>4042107387904.0000000</td>\n",
       "<td>0.0001093</td>\n",
       "<td>0.0000276</td></tr></table></div>"
      ],
      "text/plain": [
       "variable       relative_importance     scaled_importance       percentage\n",
       "-------------  ----------------------  ----------------------  ----------------------\n",
       "sqft_living    3.696713999895757e+16   1.0                     0.25255544961655946\n",
       "grade          2.895771103920128e+16   0.78333652643991        0.1978359086361054\n",
       "sqft_living15  1.6611074853830656e+16  0.44934703778271917     0.11348504316108378\n",
       "lat            1.3800538449641472e+16  0.37331907337247705     0.0942837664260233\n",
       "sqft_above     1.3109969985470464e+16  0.3546384704318525      0.08956587835124544\n",
       "---            ---                     ---                     ---\n",
       "yr_renovated   333848311234560.0       0.009030947788873419    0.0022808150792826003\n",
       "condition      253496536334336.0       0.006857347805144902    0.001731860558105498\n",
       "date           115573761507328.0       0.003126391749823953    0.0007895872740542907\n",
       "month          50035144261632.0        0.0013535032535122527   0.00034183462274826307\n",
       "year           4042107387904.0         0.00010934325425277647  2.761523474034774e-05"
      ]
     },
     "metadata": {},
     "output_type": "display_data"
    },
    {
     "name": "stdout",
     "output_type": "stream",
     "text": [
      "\n",
      "See the whole table with table.as_data_frame()\n"
     ]
    },
    {
     "data": {
      "text/plain": []
     },
     "execution_count": 76,
     "metadata": {},
     "output_type": "execute_result"
    }
   ],
   "source": [
    "### 2. Random Forest Algorithm\n",
    "\n",
    "# Prepare the hyperparameters\n",
    "nfolds = 5\n",
    "rf_params = {\n",
    "                'max_depth': [3, 4,5],\n",
    "                'sample_rate': [0.8, 1.0],               # Row sample rate\n",
    "                'mtries' : [2,4,3]\n",
    "                }\n",
    "\n",
    "\n",
    "\n",
    "# Search criteria for parameter space\n",
    "search_criteria = {'strategy': \"RandomDiscrete\",\n",
    "                   \"seed\": 1,\n",
    "                   'stopping_metric': \"AUTO\",\n",
    "                   'stopping_tolerance': 0.0005\n",
    "                   }\n",
    "\n",
    "\n",
    "\n",
    "# Prepare the grid object\n",
    "rf_grid = H2OGridSearch(model=H2ORandomForestEstimator,   # Model to be trained\n",
    "                          grid_id='rf_grid',                  # Grid Search ID\n",
    "                          hyper_params=rf_params,              # Dictionary of parameters\n",
    "                          search_criteria=search_criteria,   # RandomDiscrete\n",
    "                          )\n",
    "\n",
    "\n",
    "\n",
    "# Train the Model\n",
    "start = time.time() \n",
    "rf_grid.train(x=X,y=y, \n",
    "                training_frame=train,\n",
    "                validation_frame=valid,\n",
    "                ntrees=100,      \n",
    "                score_each_iteration=True,\n",
    "                nfolds = nfolds,\n",
    "                fold_assignment= \"Modulo\",\n",
    "                seed=1\n",
    "                )\n",
    "\n",
    "end = time.time()\n",
    "(end - start)/60\n",
    "\n",
    "\n",
    "\n",
    "# Find the Model performance \n",
    "rf_gridperf = rf_grid.get_grid(sort_by='RMSE',decreasing = False)\n",
    "rf_gridperf\n",
    "\n",
    "\n",
    "\n",
    "# Identify the best model generated with least error\n",
    "best_rf_model = rf_gridperf.models[0]\n",
    "best_rf_model"
   ]
  },
  {
   "cell_type": "code",
   "execution_count": 77,
   "metadata": {},
   "outputs": [
    {
     "name": "stdout",
     "output_type": "stream",
     "text": [
      "deeplearning Grid Build progress: |███████████████████████████████████████| 100%\n",
      "Model Details\n",
      "=============\n",
      "H2ODeepLearningEstimator :  Deep Learning\n",
      "Model Key:  dl_grid_model_17\n",
      "\n",
      "\n",
      "ModelMetricsRegression: deeplearning\n",
      "** Reported on train data. **\n",
      "\n",
      "MSE: 15253054337.053463\n",
      "RMSE: 123503.25638238639\n",
      "MAE: 72660.78189164381\n",
      "RMSLE: 0.18225232339044084\n",
      "Mean Residual Deviance: 36330.390945821906\n",
      "\n",
      "ModelMetricsRegression: deeplearning\n",
      "** Reported on validation data. **\n",
      "\n",
      "MSE: 14207927109.887266\n",
      "RMSE: 119197.00965161528\n",
      "MAE: 72123.69812249478\n",
      "RMSLE: 0.17928546435170511\n",
      "Mean Residual Deviance: 36061.84906124739\n",
      "Scoring History: \n"
     ]
    },
    {
     "data": {
      "text/html": [
       "<div style=\"overflow:auto\"><table style=\"width:50%\"><tr><td><b></b></td>\n",
       "<td><b>timestamp</b></td>\n",
       "<td><b>duration</b></td>\n",
       "<td><b>training_speed</b></td>\n",
       "<td><b>epochs</b></td>\n",
       "<td><b>iterations</b></td>\n",
       "<td><b>samples</b></td>\n",
       "<td><b>training_rmse</b></td>\n",
       "<td><b>training_deviance</b></td>\n",
       "<td><b>training_mae</b></td>\n",
       "<td><b>training_r2</b></td>\n",
       "<td><b>validation_rmse</b></td>\n",
       "<td><b>validation_deviance</b></td>\n",
       "<td><b>validation_mae</b></td>\n",
       "<td><b>validation_r2</b></td></tr>\n",
       "<tr><td></td>\n",
       "<td>2019-01-06 19:47:22</td>\n",
       "<td> 0.000 sec</td>\n",
       "<td>None</td>\n",
       "<td>0.0</td>\n",
       "<td>0</td>\n",
       "<td>0.0</td>\n",
       "<td>nan</td>\n",
       "<td>nan</td>\n",
       "<td>nan</td>\n",
       "<td>nan</td>\n",
       "<td>nan</td>\n",
       "<td>nan</td>\n",
       "<td>nan</td>\n",
       "<td>nan</td></tr>\n",
       "<tr><td></td>\n",
       "<td>2019-01-06 19:47:26</td>\n",
       "<td> 8 min 43.163 sec</td>\n",
       "<td>23645 obs/sec</td>\n",
       "<td>5.1357003</td>\n",
       "<td>1</td>\n",
       "<td>99951.0</td>\n",
       "<td>147352.1507274</td>\n",
       "<td>42950.9001621</td>\n",
       "<td>85901.8003241</td>\n",
       "<td>0.8432513</td>\n",
       "<td>138101.9842749</td>\n",
       "<td>42338.2739977</td>\n",
       "<td>84676.5479953</td>\n",
       "<td>0.8565249</td></tr>\n",
       "<tr><td></td>\n",
       "<td>2019-01-06 19:47:33</td>\n",
       "<td> 8 min 49.937 sec</td>\n",
       "<td>27813 obs/sec</td>\n",
       "<td>15.4204604</td>\n",
       "<td>3</td>\n",
       "<td>300113.0</td>\n",
       "<td>130387.5560357</td>\n",
       "<td>38510.4507816</td>\n",
       "<td>77020.9015632</td>\n",
       "<td>0.8772665</td>\n",
       "<td>130374.1923061</td>\n",
       "<td>38623.1833028</td>\n",
       "<td>77246.3666056</td>\n",
       "<td>0.8721325</td></tr>\n",
       "<tr><td></td>\n",
       "<td>2019-01-06 19:47:39</td>\n",
       "<td> 8 min 56.232 sec</td>\n",
       "<td>29643 obs/sec</td>\n",
       "<td>25.6969479</td>\n",
       "<td>5</td>\n",
       "<td>500114.0</td>\n",
       "<td>126327.8087439</td>\n",
       "<td>37497.4886987</td>\n",
       "<td>74994.9773975</td>\n",
       "<td>0.8847903</td>\n",
       "<td>130927.0778437</td>\n",
       "<td>37952.0369369</td>\n",
       "<td>75904.0738737</td>\n",
       "<td>0.8710457</td></tr>\n",
       "<tr><td></td>\n",
       "<td>2019-01-06 19:47:45</td>\n",
       "<td> 9 min  1.584 sec</td>\n",
       "<td>31739 obs/sec</td>\n",
       "<td>35.9634159</td>\n",
       "<td>7</td>\n",
       "<td>699920.0</td>\n",
       "<td>139425.2618128</td>\n",
       "<td>40386.3148770</td>\n",
       "<td>80772.6297539</td>\n",
       "<td>0.8596624</td>\n",
       "<td>142056.1808247</td>\n",
       "<td>41114.5196545</td>\n",
       "<td>82229.0393091</td>\n",
       "<td>0.8481912</td></tr>\n",
       "<tr><td></td>\n",
       "<td>2019-01-06 19:47:52</td>\n",
       "<td> 9 min  9.118 sec</td>\n",
       "<td>34018 obs/sec</td>\n",
       "<td>51.3864968</td>\n",
       "<td>10</td>\n",
       "<td>1000084.0</td>\n",
       "<td>123503.2563824</td>\n",
       "<td>36330.3909458</td>\n",
       "<td>72660.7818916</td>\n",
       "<td>0.8898847</td>\n",
       "<td>119197.0096516</td>\n",
       "<td>36061.8490612</td>\n",
       "<td>72123.6981225</td>\n",
       "<td>0.8931173</td></tr></table></div>"
      ],
      "text/plain": [
       "    timestamp            duration          training_speed    epochs    iterations    samples      training_rmse    training_deviance    training_mae    training_r2    validation_rmse    validation_deviance    validation_mae    validation_r2\n",
       "--  -------------------  ----------------  ----------------  --------  ------------  -----------  ---------------  -------------------  --------------  -------------  -----------------  ---------------------  ----------------  ---------------\n",
       "    2019-01-06 19:47:22  0.000 sec                           0         0             0            nan              nan                  nan             nan            nan                nan                    nan               nan\n",
       "    2019-01-06 19:47:26  8 min 43.163 sec  23645 obs/sec     5.1357    1             99951        147352           42950.9              85901.8         0.843251       138102             42338.3                84676.5           0.856525\n",
       "    2019-01-06 19:47:33  8 min 49.937 sec  27813 obs/sec     15.4205   3             300113       130388           38510.5              77020.9         0.877266       130374             38623.2                77246.4           0.872133\n",
       "    2019-01-06 19:47:39  8 min 56.232 sec  29643 obs/sec     25.6969   5             500114       126328           37497.5              74995           0.88479        130927             37952                  75904.1           0.871046\n",
       "    2019-01-06 19:47:45  9 min  1.584 sec  31739 obs/sec     35.9634   7             699920       139425           40386.3              80772.6         0.859662       142056             41114.5                82229             0.848191\n",
       "    2019-01-06 19:47:52  9 min  9.118 sec  34018 obs/sec     51.3865   10            1.00008e+06  123503           36330.4              72660.8         0.889885       119197             36061.8                72123.7           0.893117"
      ]
     },
     "metadata": {},
     "output_type": "display_data"
    },
    {
     "name": "stdout",
     "output_type": "stream",
     "text": [
      "Variable Importances: \n"
     ]
    },
    {
     "data": {
      "text/html": [
       "<div style=\"overflow:auto\"><table style=\"width:50%\"><tr><td><b>variable</b></td>\n",
       "<td><b>relative_importance</b></td>\n",
       "<td><b>scaled_importance</b></td>\n",
       "<td><b>percentage</b></td></tr>\n",
       "<tr><td>lat</td>\n",
       "<td>1.0</td>\n",
       "<td>1.0</td>\n",
       "<td>0.1581501</td></tr>\n",
       "<tr><td>long</td>\n",
       "<td>0.6742221</td>\n",
       "<td>0.6742221</td>\n",
       "<td>0.1066283</td></tr>\n",
       "<tr><td>grade</td>\n",
       "<td>0.3698377</td>\n",
       "<td>0.3698377</td>\n",
       "<td>0.0584899</td></tr>\n",
       "<tr><td>yr_built</td>\n",
       "<td>0.3664151</td>\n",
       "<td>0.3664151</td>\n",
       "<td>0.0579486</td></tr>\n",
       "<tr><td>zipcode</td>\n",
       "<td>0.3587174</td>\n",
       "<td>0.3587174</td>\n",
       "<td>0.0567312</td></tr>\n",
       "<tr><td>---</td>\n",
       "<td>---</td>\n",
       "<td>---</td>\n",
       "<td>---</td></tr>\n",
       "<tr><td>month</td>\n",
       "<td>0.1687332</td>\n",
       "<td>0.1687332</td>\n",
       "<td>0.0266852</td></tr>\n",
       "<tr><td>year</td>\n",
       "<td>0.1467465</td>\n",
       "<td>0.1467465</td>\n",
       "<td>0.0232080</td></tr>\n",
       "<tr><td>date</td>\n",
       "<td>0.1440507</td>\n",
       "<td>0.1440507</td>\n",
       "<td>0.0227816</td></tr>\n",
       "<tr><td>waterfront</td>\n",
       "<td>0.1338116</td>\n",
       "<td>0.1338116</td>\n",
       "<td>0.0211623</td></tr>\n",
       "<tr><td>yr_renovated</td>\n",
       "<td>0.1270789</td>\n",
       "<td>0.1270789</td>\n",
       "<td>0.0200975</td></tr></table></div>"
      ],
      "text/plain": [
       "variable      relative_importance    scaled_importance    percentage\n",
       "------------  ---------------------  -------------------  --------------------\n",
       "lat           1.0                    1.0                  0.15815005746380986\n",
       "long          0.6742221117019653     0.6742221117019653   0.10662826570903705\n",
       "grade         0.3698377013206482     0.3698377013206482   0.05848985371614386\n",
       "yr_built      0.3664150834083557     0.3664150834083557   0.05794856649663814\n",
       "zipcode       0.3587173521518707     0.3587173521518707   0.05673116985608408\n",
       "---           ---                    ---                  ---\n",
       "month         0.16873322427272797    0.16873322427272797  0.026685169114785846\n",
       "year          0.14674653112888336    0.14674653112888336  0.023207972330647666\n",
       "date          0.144050732254982      0.144050732254982    0.02278163158382929\n",
       "waterfront    0.1338115930557251     0.1338115930557251   0.021162311131086867\n",
       "yr_renovated  0.12707893550395966    0.12707893550395966  0.020097540952391007"
      ]
     },
     "metadata": {},
     "output_type": "display_data"
    },
    {
     "name": "stdout",
     "output_type": "stream",
     "text": [
      "\n",
      "See the whole table with table.as_data_frame()\n"
     ]
    },
    {
     "data": {
      "text/plain": []
     },
     "execution_count": 77,
     "metadata": {},
     "output_type": "execute_result"
    }
   ],
   "source": [
    "### 3. Deep Learning Algorithm\n",
    "\n",
    "\n",
    "\n",
    "activation_opt = [\"RectifierWithDropout\",\n",
    "                  \"TanhWithDropout\"]\n",
    "#L1 & L2 regularization\n",
    "l1_opt = [0, 0.00001,\n",
    "          0.0001,\n",
    "          0.001,\n",
    "          0.01,\n",
    "          0.1]\n",
    "\n",
    "l2_opt = [0, 0.00001,\n",
    "          0.0001,\n",
    "          0.001,\n",
    "          0.01,\n",
    "          0.1]\n",
    "\n",
    "\n",
    "\n",
    "# Create the Hyperparameters\n",
    "dl_params = {\n",
    "             'activation': activation_opt,\n",
    "             \"input_dropout_ratio\" : [0,0.05, 0.1],  # input layer dropout ratio to improve generalization. Suggested values are 0.1 or 0.2.\n",
    "             'l1': l1_opt,\n",
    "             'l2': l2_opt,\n",
    "             'hidden_dropout_ratios':[[0.1,0.2,0.3], # hidden layer dropout ratio to improve generalization: one value per hidden layer.\n",
    "                                      [0.1,0.5,0.5],\n",
    "                                      [0.5,0.5,0.5]]\n",
    "             }\n",
    "\n",
    "\n",
    "\n",
    "search_criteria = {\n",
    "                   'strategy': 'RandomDiscrete',\n",
    "                   'max_runtime_secs': 1000,\n",
    "                   'seed':1\n",
    "                   }\n",
    "\n",
    "\n",
    "\n",
    "# Prepare the grid object\n",
    "dl_grid = H2OGridSearch(model=H2ODeepLearningEstimator(\n",
    "                                                    epochs = 100,   ## hopefully converges earlier...\n",
    "                                                    adaptive_rate = True,  # http://cs231n.github.io/neural-networks-3/#sgd\n",
    "                                                    stopping_metric=\"AUTO\",\n",
    "                                                    stopping_tolerance=1e-2,    ## stop when misclassification does not improve by >=1% for 2 scoring events\n",
    "                                                    stopping_rounds=3,\n",
    "                                                    hidden=[128,128,128],      ## more hidden layers -> more complex interactions\n",
    "                                                    balance_classes= False,\n",
    "                                                    standardize = True,  # If enabled, automatically standardize the data (mean 0, variance 1). If disabled, the user must provide properly scaled input data.\n",
    "                                                    loss = \"quantile\"  # quantile for regression\n",
    "                                                    ),\n",
    "                        grid_id='dl_grid',\n",
    "                        hyper_params=dl_params,\n",
    "                        search_criteria=search_criteria)\n",
    "\n",
    "\n",
    "\n",
    "# Train the Model\n",
    "start = time.time() \n",
    "dl_grid.train(x=X,y=y, \n",
    "                training_frame=train,\n",
    "                validation_frame=valid,\n",
    "                stopping_rounds=2,\n",
    "                stopping_tolerance=0.0005,\n",
    "                seed=1\n",
    "                )\n",
    "\n",
    "end = time.time()\n",
    "(end - start)/60\n",
    "\n",
    "\n",
    "\n",
    "# Find the Model performance \n",
    "dl_gridperf = dl_grid.get_grid(sort_by='RMSE',decreasing = False)\n",
    "dl_gridperf\n",
    "\n",
    "\n",
    "\n",
    "# Identify the best model generated with least error\n",
    "best_dl_model = dl_gridperf.models[0]\n",
    "best_dl_model"
   ]
  },
  {
   "cell_type": "markdown",
   "metadata": {},
   "source": [
    "Step four is to get the performance on the test data of your chosen model/ensemble, and confirm that this also reaches the minimum target on the test data. Record your model performance in comments at the end of your script"
   ]
  },
  {
   "cell_type": "code",
   "execution_count": 78,
   "metadata": {
    "collapsed": true
   },
   "outputs": [],
   "source": [
    "## Compare Model Performances\n",
    "\n",
    "best_gbm_perf= best_gbm_model.model_performance(test)  # GBM Model after grid search\n",
    "best_rf_perf = best_rf_model.model_performance(test)   # Random Forest Model after grid search\n",
    "best_dl_perf = best_dl_model.model_performance(test)   #deep Learning Model after grid search"
   ]
  },
  {
   "cell_type": "code",
   "execution_count": 79,
   "metadata": {},
   "outputs": [
    {
     "name": "stdout",
     "output_type": "stream",
     "text": [
      "\n",
      "ModelMetricsRegression: gbm\n",
      "** Reported on test data. **\n",
      "\n",
      "MSE: 13727064873.487852\n",
      "RMSE: 117162.55747246153\n",
      "MAE: 69129.6804735256\n",
      "RMSLE: 0.1717852964207071\n",
      "Mean Residual Deviance: 13727064873.487852\n",
      "<bound method MetricsBase.gini of >\n",
      "\n",
      "ModelMetricsRegression: drf\n",
      "** Reported on test data. **\n",
      "\n",
      "MSE: 33346496146.79453\n",
      "RMSE: 182610.23012633913\n",
      "MAE: 113545.77279956991\n",
      "RMSLE: 0.2770989615915768\n",
      "Mean Residual Deviance: 33346496146.79453\n",
      "<bound method MetricsBase.gini of >\n",
      "\n",
      "ModelMetricsRegression: deeplearning\n",
      "** Reported on test data. **\n",
      "\n",
      "MSE: 14207927109.887266\n",
      "RMSE: 119197.00965161528\n",
      "MAE: 72123.69812249478\n",
      "RMSLE: 0.17928546435170511\n",
      "Mean Residual Deviance: 36061.84906124739\n",
      "<bound method MetricsBase.gini of >\n"
     ]
    }
   ],
   "source": [
    "### Retreive test set AUC\n",
    "print(best_gbm_perf.gini)\n",
    "print(best_rf_perf.gini)\n",
    "print(best_dl_perf.gini)"
   ]
  },
  {
   "cell_type": "markdown",
   "metadata": {},
   "source": [
    "After grid search, best_gbm_model gives the best RMSE: 119,155 which is lower than the target RMSE below 123,000"
   ]
  },
  {
   "cell_type": "code",
   "execution_count": 128,
   "metadata": {},
   "outputs": [
    {
     "name": "stdout",
     "output_type": "stream",
     "text": [
      "H2O session _sid_9d67 closed.\n"
     ]
    }
   ],
   "source": [
    "h2o.cluster().shutdown()"
   ]
  }
 ],
 "metadata": {
  "kernelspec": {
   "display_name": "Python 3",
   "language": "python",
   "name": "python3"
  },
  "language_info": {
   "codemirror_mode": {
    "name": "ipython",
    "version": 3
   },
   "file_extension": ".py",
   "mimetype": "text/x-python",
   "name": "python",
   "nbconvert_exporter": "python",
   "pygments_lexer": "ipython3",
   "version": "3.6.2"
  }
 },
 "nbformat": 4,
 "nbformat_minor": 2
}
