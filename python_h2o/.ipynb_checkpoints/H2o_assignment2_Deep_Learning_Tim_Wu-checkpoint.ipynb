{
 "cells": [
  {
   "cell_type": "markdown",
   "metadata": {},
   "source": [
    "Project Choice #1\n",
    "\n",
    "http://coursera.h2o.ai/cacao.882.csv\n",
    "\n",
    "This is a regression problem. You have to predict \"Rating\".\n",
    "\n",
    "You should split the data into train, valid and test. Use a seed (of your choice) to make your experiments more reproducible. Alternatively, you can split into just train and test, and then use cross-validation."
   ]
  },
  {
   "cell_type": "markdown",
   "metadata": {},
   "source": [
    "Step one is to start h2o, load your data set, and split it if necessary. By the end of this stage you should have three variables, pointing to three data frames on h2o: train, valid, test. However, if you are choosing to use cross-validation, you will only have two: train and test."
   ]
  },
  {
   "cell_type": "code",
   "execution_count": 1,
   "metadata": {
    "collapsed": true
   },
   "outputs": [],
   "source": [
    "import datetime\n",
    "import math\n",
    "import random\n",
    "import pandas as pd\n",
    "import numpy as np\n",
    "import os, time, sys\n",
    "import warnings\n",
    "warnings.filterwarnings(\"ignore\")\n",
    "\n",
    "nfolds = 5\n",
    "SEED = 123\n",
    "random.seed(SEED)\n",
    "now = datetime.datetime.now()"
   ]
  },
  {
   "cell_type": "code",
   "execution_count": 2,
   "metadata": {},
   "outputs": [
    {
     "name": "stdout",
     "output_type": "stream",
     "text": [
      "Checking whether there is an H2O instance running at http://localhost:54321..... not found.\n",
      "Attempting to start a local H2O server...\n",
      "  Java Version: java version \"1.8.0_102\"; Java(TM) SE Runtime Environment (build 1.8.0_102-b14); Java HotSpot(TM) 64-Bit Server VM (build 25.102-b14, mixed mode)\n",
      "  Starting server from /Users/tim.wu/anaconda3/lib/python3.6/site-packages/h2o/backend/bin/h2o.jar\n",
      "  Ice root: /var/folders/61/sfyb5b517dd3tj1_cdjsx6_w0000gn/T/tmpjhq_3jcu\n",
      "  JVM stdout: /var/folders/61/sfyb5b517dd3tj1_cdjsx6_w0000gn/T/tmpjhq_3jcu/h2o_tim_wu_started_from_python.out\n",
      "  JVM stderr: /var/folders/61/sfyb5b517dd3tj1_cdjsx6_w0000gn/T/tmpjhq_3jcu/h2o_tim_wu_started_from_python.err\n",
      "  Server is running at http://127.0.0.1:54323\n",
      "Connecting to H2O server at http://127.0.0.1:54323... successful.\n"
     ]
    },
    {
     "data": {
      "text/html": [
       "<div style=\"overflow:auto\"><table style=\"width:50%\"><tr><td>H2O cluster uptime:</td>\n",
       "<td>02 secs</td></tr>\n",
       "<tr><td>H2O cluster timezone:</td>\n",
       "<td>America/Los_Angeles</td></tr>\n",
       "<tr><td>H2O data parsing timezone:</td>\n",
       "<td>UTC</td></tr>\n",
       "<tr><td>H2O cluster version:</td>\n",
       "<td>3.22.0.1</td></tr>\n",
       "<tr><td>H2O cluster version age:</td>\n",
       "<td>1 month and 25 days </td></tr>\n",
       "<tr><td>H2O cluster name:</td>\n",
       "<td>H2O_from_python_tim_wu_3h5qh6</td></tr>\n",
       "<tr><td>H2O cluster total nodes:</td>\n",
       "<td>1</td></tr>\n",
       "<tr><td>H2O cluster free memory:</td>\n",
       "<td>3.556 Gb</td></tr>\n",
       "<tr><td>H2O cluster total cores:</td>\n",
       "<td>8</td></tr>\n",
       "<tr><td>H2O cluster allowed cores:</td>\n",
       "<td>8</td></tr>\n",
       "<tr><td>H2O cluster status:</td>\n",
       "<td>accepting new members, healthy</td></tr>\n",
       "<tr><td>H2O connection url:</td>\n",
       "<td>http://127.0.0.1:54323</td></tr>\n",
       "<tr><td>H2O connection proxy:</td>\n",
       "<td>None</td></tr>\n",
       "<tr><td>H2O internal security:</td>\n",
       "<td>False</td></tr>\n",
       "<tr><td>H2O API Extensions:</td>\n",
       "<td>XGBoost, Algos, AutoML, Core V3, Core V4</td></tr>\n",
       "<tr><td>Python version:</td>\n",
       "<td>3.6.2 final</td></tr></table></div>"
      ],
      "text/plain": [
       "--------------------------  ----------------------------------------\n",
       "H2O cluster uptime:         02 secs\n",
       "H2O cluster timezone:       America/Los_Angeles\n",
       "H2O data parsing timezone:  UTC\n",
       "H2O cluster version:        3.22.0.1\n",
       "H2O cluster version age:    1 month and 25 days\n",
       "H2O cluster name:           H2O_from_python_tim_wu_3h5qh6\n",
       "H2O cluster total nodes:    1\n",
       "H2O cluster free memory:    3.556 Gb\n",
       "H2O cluster total cores:    8\n",
       "H2O cluster allowed cores:  8\n",
       "H2O cluster status:         accepting new members, healthy\n",
       "H2O connection url:         http://127.0.0.1:54323\n",
       "H2O connection proxy:\n",
       "H2O internal security:      False\n",
       "H2O API Extensions:         XGBoost, Algos, AutoML, Core V3, Core V4\n",
       "Python version:             3.6.2 final\n",
       "--------------------------  ----------------------------------------"
      ]
     },
     "metadata": {},
     "output_type": "display_data"
    }
   ],
   "source": [
    "#Start H2o\n",
    "import h2o\n",
    "from h2o.grid.grid_search import H2OGridSearch\n",
    "from h2o.estimators.deeplearning import H2ODeepLearningEstimator\n",
    "h2o.init()"
   ]
  },
  {
   "cell_type": "code",
   "execution_count": 3,
   "metadata": {},
   "outputs": [
    {
     "name": "stdout",
     "output_type": "stream",
     "text": [
      "Parse progress: |█████████████████████████████████████████████████████████| 100%\n"
     ]
    }
   ],
   "source": [
    "#load data Set\n",
    "df = h2o.import_file(\"http://coursera.h2o.ai/cacao.882.csv\")"
   ]
  },
  {
   "cell_type": "code",
   "execution_count": 4,
   "metadata": {},
   "outputs": [
    {
     "name": "stdout",
     "output_type": "stream",
     "text": [
      "(1795, 9)\n"
     ]
    }
   ],
   "source": [
    "print(df.shape)"
   ]
  },
  {
   "cell_type": "code",
   "execution_count": 5,
   "metadata": {},
   "outputs": [
    {
     "data": {
      "text/html": [
       "<table>\n",
       "<thead>\n",
       "<tr><th>       </th><th>Maker   </th><th>Origin        </th><th>REF               </th><th>Review Date      </th><th>Cocoa Percent     </th><th>Maker Location  </th><th>Rating            </th><th>Bean Type  </th><th>Bean Origin  </th></tr>\n",
       "</thead>\n",
       "<tbody>\n",
       "<tr><td>type   </td><td>enum    </td><td>enum          </td><td>int               </td><td>int              </td><td>real              </td><td>enum            </td><td>real              </td><td>enum       </td><td>enum         </td></tr>\n",
       "<tr><td>mins   </td><td>        </td><td>              </td><td>5.0               </td><td>2006.0           </td><td>0.42              </td><td>                </td><td>1.0               </td><td>           </td><td>             </td></tr>\n",
       "<tr><td>mean   </td><td>        </td><td>              </td><td>1035.9047353760463</td><td>2012.325348189414</td><td>0.7169832869080772</td><td>                </td><td>3.185933147632313 </td><td>           </td><td>             </td></tr>\n",
       "<tr><td>maxs   </td><td>        </td><td>              </td><td>1952.0            </td><td>2017.0           </td><td>1.0               </td><td>                </td><td>5.0               </td><td>           </td><td>             </td></tr>\n",
       "<tr><td>sigma  </td><td>        </td><td>              </td><td>552.8863650101442 </td><td>2.92721027766861 </td><td>0.0632311833842919</td><td>                </td><td>0.4780623935863306</td><td>           </td><td>             </td></tr>\n",
       "<tr><td>zeros  </td><td>        </td><td>              </td><td>0                 </td><td>0                </td><td>0                 </td><td>                </td><td>0                 </td><td>           </td><td>             </td></tr>\n",
       "<tr><td>missing</td><td>0       </td><td>0             </td><td>0                 </td><td>0                </td><td>0                 </td><td>0               </td><td>0                 </td><td>1          </td><td>1            </td></tr>\n",
       "<tr><td>0      </td><td>A. Morin</td><td>Agua Grande   </td><td>1876.0            </td><td>2016.0           </td><td>0.63              </td><td>France          </td><td>3.75              </td><td>           </td><td>Sao Tome     </td></tr>\n",
       "<tr><td>1      </td><td>A. Morin</td><td>Kpime         </td><td>1676.0            </td><td>2015.0           </td><td>0.7               </td><td>France          </td><td>2.75              </td><td>           </td><td>Togo         </td></tr>\n",
       "<tr><td>2      </td><td>A. Morin</td><td>Atsane        </td><td>1676.0            </td><td>2015.0           </td><td>0.7               </td><td>France          </td><td>3.0               </td><td>           </td><td>Togo         </td></tr>\n",
       "<tr><td>3      </td><td>A. Morin</td><td>Akata         </td><td>1680.0            </td><td>2015.0           </td><td>0.7               </td><td>France          </td><td>3.5               </td><td>           </td><td>Togo         </td></tr>\n",
       "<tr><td>4      </td><td>A. Morin</td><td>Quilla        </td><td>1704.0            </td><td>2015.0           </td><td>0.7               </td><td>France          </td><td>3.5               </td><td>           </td><td>Peru         </td></tr>\n",
       "<tr><td>5      </td><td>A. Morin</td><td>Carenero      </td><td>1315.0            </td><td>2014.0           </td><td>0.7               </td><td>France          </td><td>2.75              </td><td>Criollo    </td><td>Venezuela    </td></tr>\n",
       "<tr><td>6      </td><td>A. Morin</td><td>Cuba          </td><td>1315.0            </td><td>2014.0           </td><td>0.7               </td><td>France          </td><td>3.5               </td><td>           </td><td>Cuba         </td></tr>\n",
       "<tr><td>7      </td><td>A. Morin</td><td>Sur del Lago  </td><td>1315.0            </td><td>2014.0           </td><td>0.7               </td><td>France          </td><td>3.5               </td><td>Criollo    </td><td>Venezuela    </td></tr>\n",
       "<tr><td>8      </td><td>A. Morin</td><td>Puerto Cabello</td><td>1319.0            </td><td>2014.0           </td><td>0.7               </td><td>France          </td><td>3.75              </td><td>Criollo    </td><td>Venezuela    </td></tr>\n",
       "<tr><td>9      </td><td>A. Morin</td><td>Pablino       </td><td>1319.0            </td><td>2014.0           </td><td>0.7               </td><td>France          </td><td>4.0               </td><td>           </td><td>Peru         </td></tr>\n",
       "</tbody>\n",
       "</table>"
      ]
     },
     "metadata": {},
     "output_type": "display_data"
    }
   ],
   "source": [
    "df.summary()"
   ]
  },
  {
   "cell_type": "code",
   "execution_count": 6,
   "metadata": {},
   "outputs": [
    {
     "name": "stdout",
     "output_type": "stream",
     "text": [
      "(1793, 9)\n"
     ]
    }
   ],
   "source": [
    "df = df.na_omit()\n",
    "print(df.shape)"
   ]
  },
  {
   "cell_type": "markdown",
   "metadata": {},
   "source": [
    "Step two is to set x to be the list of columns you will use to train on, to be the column you will learn. Your choice of y decides if it will be a classification or a regression."
   ]
  },
  {
   "cell_type": "code",
   "execution_count": 7,
   "metadata": {
    "collapsed": true
   },
   "outputs": [],
   "source": [
    "train, valid, test = df.split_frame(ratios = [0.8, 0.1], destination_frames = [\"train\", \"valid\", \"test\"], seed=SEED)"
   ]
  },
  {
   "cell_type": "markdown",
   "metadata": {},
   "source": [
    "Step two is to set x to be the list of columns you will use to train on, to be the column you will learn. Your choice of y decides if it will be a classification or a regression."
   ]
  },
  {
   "cell_type": "code",
   "execution_count": 8,
   "metadata": {
    "collapsed": true
   },
   "outputs": [],
   "source": [
    "# Identify predictors and response\n",
    "x = df.columns\n",
    "y = \"Rating\"\n",
    "x.remove(y)"
   ]
  },
  {
   "cell_type": "markdown",
   "metadata": {},
   "source": [
    "Step three is to create a baseline deep learning model. It is recommended to use all default settings (remembering to specify either nfolds or validation_frame); if you want to use different settings you should include a comment in your source file justifying this. Allowable reasons are that the default settings were taking too long on your hardware, or that they were over-fitting. Your script must include timing code."
   ]
  },
  {
   "cell_type": "code",
   "execution_count": 9,
   "metadata": {},
   "outputs": [
    {
     "name": "stdout",
     "output_type": "stream",
     "text": [
      "AutoML progress: |████████████████████████████████████████████████████████| 100%\n",
      "CPU times: user 2.26 s, sys: 870 ms, total: 3.13 s\n",
      "Wall time: 7min 49s\n"
     ]
    }
   ],
   "source": [
    "# Run AutoML\n",
    "from h2o.automl import H2OAutoML\n",
    "aml = H2OAutoML(max_models=20, seed=SEED, max_runtime_secs = 3600)\n",
    "%time aml.train(x=x, y=y, training_frame =train, leaderboard_frame =valid)"
   ]
  },
  {
   "cell_type": "code",
   "execution_count": 10,
   "metadata": {},
   "outputs": [
    {
     "name": "stdout",
     "output_type": "stream",
     "text": [
      "\n",
      "ModelMetricsRegressionGLM: stackedensemble\n",
      "** Reported on test data. **\n",
      "\n",
      "MSE: 0.17382547366051365\n",
      "RMSE: 0.41692382237108216\n",
      "MAE: 0.3389443244682731\n",
      "RMSLE: 0.10826456986746967\n",
      "R^2: 0.3086041703819402\n",
      "Mean Residual Deviance: 0.17382547366051365\n",
      "Null degrees of freedom: 175\n",
      "Residual degrees of freedom: 168\n",
      "Null deviance: 45.136143253681375\n",
      "Residual deviance: 30.593283364250404\n",
      "AIC: 209.5185462671405\n"
     ]
    },
    {
     "data": {
      "text/plain": []
     },
     "execution_count": 10,
     "metadata": {},
     "output_type": "execute_result"
    }
   ],
   "source": [
    "aml.leader.model_performance(test) "
   ]
  },
  {
   "cell_type": "code",
   "execution_count": 11,
   "metadata": {},
   "outputs": [
    {
     "data": {
      "text/html": [
       "<table>\n",
       "<thead>\n",
       "<tr><th>model_id                                           </th><th style=\"text-align: right;\">  mean_residual_deviance</th><th style=\"text-align: right;\">    rmse</th><th style=\"text-align: right;\">     mse</th><th style=\"text-align: right;\">     mae</th><th style=\"text-align: right;\">   rmsle</th></tr>\n",
       "</thead>\n",
       "<tbody>\n",
       "<tr><td>StackedEnsemble_AllModels_AutoML_20181221_204226   </td><td style=\"text-align: right;\">                0.16095 </td><td style=\"text-align: right;\">0.401185</td><td style=\"text-align: right;\">0.16095 </td><td style=\"text-align: right;\">0.315201</td><td style=\"text-align: right;\">0.102908</td></tr>\n",
       "<tr><td>StackedEnsemble_BestOfFamily_AutoML_20181221_204226</td><td style=\"text-align: right;\">                0.162248</td><td style=\"text-align: right;\">0.4028  </td><td style=\"text-align: right;\">0.162248</td><td style=\"text-align: right;\">0.317911</td><td style=\"text-align: right;\">0.103043</td></tr>\n",
       "<tr><td>XGBoost_1_AutoML_20181221_204226                   </td><td style=\"text-align: right;\">                0.175077</td><td style=\"text-align: right;\">0.418422</td><td style=\"text-align: right;\">0.175077</td><td style=\"text-align: right;\">0.337049</td><td style=\"text-align: right;\">0.106802</td></tr>\n",
       "<tr><td>XGBoost_2_AutoML_20181221_204226                   </td><td style=\"text-align: right;\">                0.17612 </td><td style=\"text-align: right;\">0.419666</td><td style=\"text-align: right;\">0.17612 </td><td style=\"text-align: right;\">0.3372  </td><td style=\"text-align: right;\">0.106849</td></tr>\n",
       "<tr><td>XGBoost_grid_1_AutoML_20181221_204226_model_1      </td><td style=\"text-align: right;\">                0.177887</td><td style=\"text-align: right;\">0.421766</td><td style=\"text-align: right;\">0.177887</td><td style=\"text-align: right;\">0.338514</td><td style=\"text-align: right;\">0.106111</td></tr>\n",
       "<tr><td>GLM_grid_1_AutoML_20181221_204226_model_1          </td><td style=\"text-align: right;\">                0.18094 </td><td style=\"text-align: right;\">0.425371</td><td style=\"text-align: right;\">0.18094 </td><td style=\"text-align: right;\">0.335025</td><td style=\"text-align: right;\">0.110496</td></tr>\n",
       "<tr><td>DeepLearning_grid_1_AutoML_20181221_204226_model_2 </td><td style=\"text-align: right;\">                0.180969</td><td style=\"text-align: right;\">0.425404</td><td style=\"text-align: right;\">0.180969</td><td style=\"text-align: right;\">0.325315</td><td style=\"text-align: right;\">0.108849</td></tr>\n",
       "<tr><td>XRT_1_AutoML_20181221_204226                       </td><td style=\"text-align: right;\">                0.183079</td><td style=\"text-align: right;\">0.427878</td><td style=\"text-align: right;\">0.183079</td><td style=\"text-align: right;\">0.34566 </td><td style=\"text-align: right;\">0.110145</td></tr>\n",
       "<tr><td>XGBoost_grid_1_AutoML_20181221_204226_model_3      </td><td style=\"text-align: right;\">                0.184038</td><td style=\"text-align: right;\">0.428997</td><td style=\"text-align: right;\">0.184038</td><td style=\"text-align: right;\">0.344522</td><td style=\"text-align: right;\">0.109939</td></tr>\n",
       "<tr><td>XGBoost_grid_1_AutoML_20181221_204226_model_2      </td><td style=\"text-align: right;\">                0.186173</td><td style=\"text-align: right;\">0.431477</td><td style=\"text-align: right;\">0.186173</td><td style=\"text-align: right;\">0.341083</td><td style=\"text-align: right;\">0.111547</td></tr>\n",
       "<tr><td>GBM_4_AutoML_20181221_204226                       </td><td style=\"text-align: right;\">                0.186392</td><td style=\"text-align: right;\">0.431731</td><td style=\"text-align: right;\">0.186392</td><td style=\"text-align: right;\">0.330132</td><td style=\"text-align: right;\">0.112447</td></tr>\n",
       "<tr><td>GBM_1_AutoML_20181221_204226                       </td><td style=\"text-align: right;\">                0.186613</td><td style=\"text-align: right;\">0.431988</td><td style=\"text-align: right;\">0.186613</td><td style=\"text-align: right;\">0.329071</td><td style=\"text-align: right;\">0.112636</td></tr>\n",
       "<tr><td>XGBoost_3_AutoML_20181221_204226                   </td><td style=\"text-align: right;\">                0.187138</td><td style=\"text-align: right;\">0.432594</td><td style=\"text-align: right;\">0.187138</td><td style=\"text-align: right;\">0.343403</td><td style=\"text-align: right;\">0.110503</td></tr>\n",
       "<tr><td>DeepLearning_grid_1_AutoML_20181221_204226_model_1 </td><td style=\"text-align: right;\">                0.187233</td><td style=\"text-align: right;\">0.432705</td><td style=\"text-align: right;\">0.187233</td><td style=\"text-align: right;\">0.336891</td><td style=\"text-align: right;\">0.111663</td></tr>\n",
       "<tr><td>DRF_1_AutoML_20181221_204226                       </td><td style=\"text-align: right;\">                0.18725 </td><td style=\"text-align: right;\">0.432723</td><td style=\"text-align: right;\">0.18725 </td><td style=\"text-align: right;\">0.33041 </td><td style=\"text-align: right;\">0.113615</td></tr>\n",
       "<tr><td>GBM_3_AutoML_20181221_204226                       </td><td style=\"text-align: right;\">                0.187439</td><td style=\"text-align: right;\">0.432942</td><td style=\"text-align: right;\">0.187439</td><td style=\"text-align: right;\">0.333659</td><td style=\"text-align: right;\">0.112776</td></tr>\n",
       "<tr><td>GBM_2_AutoML_20181221_204226                       </td><td style=\"text-align: right;\">                0.190202</td><td style=\"text-align: right;\">0.436122</td><td style=\"text-align: right;\">0.190202</td><td style=\"text-align: right;\">0.33376 </td><td style=\"text-align: right;\">0.113276</td></tr>\n",
       "<tr><td>XGBoost_grid_1_AutoML_20181221_204226_model_4      </td><td style=\"text-align: right;\">                0.191967</td><td style=\"text-align: right;\">0.43814 </td><td style=\"text-align: right;\">0.191967</td><td style=\"text-align: right;\">0.336496</td><td style=\"text-align: right;\">0.114494</td></tr>\n",
       "<tr><td>GBM_5_AutoML_20181221_204226                       </td><td style=\"text-align: right;\">                0.197987</td><td style=\"text-align: right;\">0.444957</td><td style=\"text-align: right;\">0.197987</td><td style=\"text-align: right;\">0.336927</td><td style=\"text-align: right;\">0.116973</td></tr>\n",
       "<tr><td>DeepLearning_1_AutoML_20181221_204226              </td><td style=\"text-align: right;\">                0.20858 </td><td style=\"text-align: right;\">0.456705</td><td style=\"text-align: right;\">0.20858 </td><td style=\"text-align: right;\">0.361052</td><td style=\"text-align: right;\">0.118077</td></tr>\n",
       "<tr><td>GBM_grid_1_AutoML_20181221_204226_model_2          </td><td style=\"text-align: right;\">                0.208876</td><td style=\"text-align: right;\">0.45703 </td><td style=\"text-align: right;\">0.208876</td><td style=\"text-align: right;\">0.3538  </td><td style=\"text-align: right;\">0.120426</td></tr>\n",
       "<tr><td>GBM_grid_1_AutoML_20181221_204226_model_1          </td><td style=\"text-align: right;\">                0.221008</td><td style=\"text-align: right;\">0.470115</td><td style=\"text-align: right;\">0.221008</td><td style=\"text-align: right;\">0.365336</td><td style=\"text-align: right;\">0.123451</td></tr>\n",
       "</tbody>\n",
       "</table>"
      ]
     },
     "metadata": {},
     "output_type": "display_data"
    },
    {
     "data": {
      "text/plain": []
     },
     "execution_count": 11,
     "metadata": {},
     "output_type": "execute_result"
    }
   ],
   "source": [
    "# View the AutoML Leaderboard\n",
    "lb = aml.leaderboard\n",
    "lb.head(rows=lb.nrows)"
   ]
  },
  {
   "cell_type": "code",
   "execution_count": 12,
   "metadata": {
    "collapsed": true
   },
   "outputs": [],
   "source": [
    "# Get model ids for all models in the AutoML Leaderboard\n",
    "model_ids = list(aml.leaderboard['model_id'].as_data_frame().iloc[:,0])\n",
    "# Get the \"All Models\" Stacked Ensemble model\n",
    "se = h2o.get_model([mid for mid in model_ids if \"StackedEnsemble_AllModels\" in mid][0])\n",
    "# Get the Stacked Ensemble metalearner model\n",
    "metalearner = h2o.get_model(aml.leader.metalearner()['name'])\n",
    "#metalearner.coef_norm()"
   ]
  },
  {
   "cell_type": "code",
   "execution_count": 13,
   "metadata": {},
   "outputs": [
    {
     "data": {
      "image/png": "[encoded data removed]",
      "text/plain": [
       "<matplotlib.figure.Figure at 0x10c395c50>"
      ]
     },
     "metadata": {},
     "output_type": "display_data"
    }
   ],
   "source": [
    "import matplotlib.pyplot as plt\n",
    "%matplotlib inline\n",
    "metalearner.std_coef_plot()"
   ]
  },
  {
   "cell_type": "code",
   "execution_count": 14,
   "metadata": {},
   "outputs": [
    {
     "name": "stdout",
     "output_type": "stream",
     "text": [
      "deeplearning Model Build progress: |██████████████████████████████████████| 100%\n",
      "CPU times: user 162 ms, sys: 133 ms, total: 295 ms\n",
      "Wall time: 4.31 s\n"
     ]
    }
   ],
   "source": [
    "from h2o.estimators.deeplearning import H2ODeepLearningEstimator\n",
    "mDL = H2ODeepLearningEstimator(model_id = \"DeepLearning_model_baseline_\"+now.strftime(\"%Y-%m-%d_%H_%M_%S\"),\n",
    "                               seed = SEED\n",
    "                              )\n",
    "%time mDL.train(x, y, train, validation_frame = valid)"
   ]
  },
  {
   "cell_type": "code",
   "execution_count": 15,
   "metadata": {},
   "outputs": [
    {
     "data": {
      "text/plain": [
       "[1663, 200, 200, 1]"
      ]
     },
     "execution_count": 15,
     "metadata": {},
     "output_type": "execute_result"
    }
   ],
   "source": [
    "mDL.summary()['units']"
   ]
  },
  {
   "cell_type": "code",
   "execution_count": 16,
   "metadata": {},
   "outputs": [
    {
     "data": {
      "image/png": "[encoded data removed]",
      "text/plain": [
       "<matplotlib.figure.Figure at 0x10cd18dd8>"
      ]
     },
     "metadata": {},
     "output_type": "display_data"
    }
   ],
   "source": [
    "mDL.plot()"
   ]
  },
  {
   "cell_type": "code",
   "execution_count": 17,
   "metadata": {},
   "outputs": [
    {
     "name": "stdout",
     "output_type": "stream",
     "text": [
      "\n",
      "ModelMetricsRegression: deeplearning\n",
      "** Reported on test data. **\n",
      "\n",
      "MSE: 0.17437369385600593\n",
      "RMSE: 0.4175807632734127\n",
      "MAE: 0.3408845128863432\n",
      "RMSLE: 0.10681860235245275\n",
      "Mean Residual Deviance: 0.17437369385600593\n"
     ]
    },
    {
     "data": {
      "text/plain": []
     },
     "execution_count": 17,
     "metadata": {},
     "output_type": "execute_result"
    }
   ],
   "source": [
    "mDL.model_performance(test) "
   ]
  },
  {
   "cell_type": "markdown",
   "metadata": {
    "collapsed": true
   },
   "source": [
    "Step four is to produce a tuned model, that gives superior performance. However you should use no more than 10 times the running time of your baseline model, so again your script should be timing the model."
   ]
  },
  {
   "cell_type": "markdown",
   "metadata": {},
   "source": [
    "For steps three and four you should include, in comments in your source file, the results in your chosen metric on the train, valid (or cross-validation) and test data sets, as well as the running time. Also include a comment at the top of your script describing how many cores and how much memory you used (you can get both of these from the output of h2o.init())."
   ]
  },
  {
   "cell_type": "code",
   "execution_count": 18,
   "metadata": {
    "collapsed": true
   },
   "outputs": [],
   "source": [
    "### Deep Learning Algorithm\n",
    "\n",
    "activation_opt = [\"RectifierWithDropout\",\n",
    "                  \"TanhWithDropout\"]\n",
    "#L1 & L2 regularization\n",
    "l1_opt = [0, 0.00001,\n",
    "          0.0001,\n",
    "          0.001,\n",
    "          0.01,\n",
    "          0.1]\n",
    "\n",
    "l2_opt = [0, 0.00001,\n",
    "          0.0001,\n",
    "          0.001,\n",
    "          0.01,\n",
    "          0.1]"
   ]
  },
  {
   "cell_type": "code",
   "execution_count": 19,
   "metadata": {
    "collapsed": true
   },
   "outputs": [],
   "source": [
    "# Create the Hyperparameters\n",
    "dl_params = {\n",
    "             'activation': activation_opt,\n",
    "             \"input_dropout_ratio\" : [0,0.05, 0.1],  # input layer dropout ratio to improve generalization. Suggested values are 0.1 or 0.2.\n",
    "             'l1': l1_opt,\n",
    "             'l2': l2_opt,\n",
    "             'hidden_dropout_ratios':[[0.1,0.2,0.3], # hidden layer dropout ratio to improve generalization: one value per hidden layer.\n",
    "                                      [0.1,0.5,0.5],\n",
    "                                      [0.5,0.5,0.5]]\n",
    "             }\n",
    "\n",
    "search_criteria = {\n",
    "                   'strategy': 'RandomDiscrete',\n",
    "                   'max_runtime_secs': 1000,\n",
    "                   'seed':SEED\n",
    "                   }"
   ]
  },
  {
   "cell_type": "code",
   "execution_count": 20,
   "metadata": {
    "collapsed": true
   },
   "outputs": [],
   "source": [
    "# Prepare the grid object\n",
    "dl_grid = H2OGridSearch(model=H2ODeepLearningEstimator(\n",
    "                                                    epochs = 150,   ## hopefully converges earlier...\n",
    "                                                    adaptive_rate = True,  \n",
    "                                                    stopping_metric=\"AUTO\",\n",
    "                                                    stopping_rounds=2,\n",
    "                                                    stopping_tolerance=0.0005,\n",
    "                                                    hidden=[200,200,200],      ## more hidden layers -> more complex interactions\n",
    "                                                    balance_classes= False,\n",
    "                                                    standardize = True,  # If enabled, automatically standardize the data (mean 0, variance 1). If disabled, the user must provide properly scaled input data.\n",
    "                                                    loss = \"quantile\",  # quantile for regression\n",
    "                                                    seed=SEED\n",
    "                                                    ),\n",
    "                        grid_id='dl_grid'+now.strftime(\"%Y-%m-%d_%H_%M_%S\"),\n",
    "                        hyper_params=dl_params,\n",
    "                        search_criteria=search_criteria)"
   ]
  },
  {
   "cell_type": "code",
   "execution_count": 21,
   "metadata": {},
   "outputs": [
    {
     "name": "stdout",
     "output_type": "stream",
     "text": [
      "deeplearning Grid Build progress: |███████████████████████████████████████| 100%\n"
     ]
    },
    {
     "data": {
      "text/plain": [
       "16.724687798817953"
      ]
     },
     "execution_count": 21,
     "metadata": {},
     "output_type": "execute_result"
    }
   ],
   "source": [
    "# Train the Model\n",
    "start = time.time() \n",
    "dl_grid.train(x=x,y=y, \n",
    "                training_frame=train,\n",
    "                validation_frame=valid\n",
    "                )\n",
    "\n",
    "end = time.time()\n",
    "(end - start)/60"
   ]
  },
  {
   "cell_type": "code",
   "execution_count": 22,
   "metadata": {},
   "outputs": [],
   "source": [
    "# Find the Model performance \n",
    "dl_gridperf = dl_grid.get_grid(sort_by='RMSE',decreasing = False)"
   ]
  },
  {
   "cell_type": "code",
   "execution_count": 23,
   "metadata": {},
   "outputs": [
    {
     "data": {
      "text/html": [
       "<div>\n",
       "<style>\n",
       "    .dataframe thead tr:only-child th {\n",
       "        text-align: right;\n",
       "    }\n",
       "\n",
       "    .dataframe thead th {\n",
       "        text-align: left;\n",
       "    }\n",
       "\n",
       "    .dataframe tbody tr th {\n",
       "        vertical-align: top;\n",
       "    }\n",
       "</style>\n",
       "<table border=\"1\" class=\"dataframe\">\n",
       "  <thead>\n",
       "    <tr style=\"text-align: right;\">\n",
       "      <th></th>\n",
       "      <th></th>\n",
       "      <th>activation</th>\n",
       "      <th>hidden_dropout_ratios</th>\n",
       "      <th>input_dropout_ratio</th>\n",
       "      <th>l1</th>\n",
       "      <th>l2</th>\n",
       "      <th>model_ids</th>\n",
       "      <th>rmse</th>\n",
       "    </tr>\n",
       "  </thead>\n",
       "  <tbody>\n",
       "    <tr>\n",
       "      <th>0</th>\n",
       "      <td></td>\n",
       "      <td>RectifierWithDropout</td>\n",
       "      <td>[0.1, 0.2, 0.3]</td>\n",
       "      <td>0.0</td>\n",
       "      <td>0.001</td>\n",
       "      <td>0.001</td>\n",
       "      <td>dl_grid2018-12-21_20_42_05_model_34</td>\n",
       "      <td>0.4246266920391013</td>\n",
       "    </tr>\n",
       "    <tr>\n",
       "      <th>1</th>\n",
       "      <td></td>\n",
       "      <td>RectifierWithDropout</td>\n",
       "      <td>[0.5, 0.5, 0.5]</td>\n",
       "      <td>0.1</td>\n",
       "      <td>0.0</td>\n",
       "      <td>0.0</td>\n",
       "      <td>dl_grid2018-12-21_20_42_05_model_21</td>\n",
       "      <td>0.42624386392922664</td>\n",
       "    </tr>\n",
       "    <tr>\n",
       "      <th>2</th>\n",
       "      <td></td>\n",
       "      <td>RectifierWithDropout</td>\n",
       "      <td>[0.1, 0.5, 0.5]</td>\n",
       "      <td>0.05</td>\n",
       "      <td>1.0E-5</td>\n",
       "      <td>0.01</td>\n",
       "      <td>dl_grid2018-12-21_20_42_05_model_6</td>\n",
       "      <td>0.4262458621636417</td>\n",
       "    </tr>\n",
       "    <tr>\n",
       "      <th>3</th>\n",
       "      <td></td>\n",
       "      <td>RectifierWithDropout</td>\n",
       "      <td>[0.5, 0.5, 0.5]</td>\n",
       "      <td>0.05</td>\n",
       "      <td>0.0</td>\n",
       "      <td>0.001</td>\n",
       "      <td>dl_grid2018-12-21_20_42_05_model_37</td>\n",
       "      <td>0.4343838306521974</td>\n",
       "    </tr>\n",
       "    <tr>\n",
       "      <th>4</th>\n",
       "      <td></td>\n",
       "      <td>RectifierWithDropout</td>\n",
       "      <td>[0.1, 0.2, 0.3]</td>\n",
       "      <td>0.05</td>\n",
       "      <td>1.0E-4</td>\n",
       "      <td>1.0E-5</td>\n",
       "      <td>dl_grid2018-12-21_20_42_05_model_20</td>\n",
       "      <td>0.4347436696869743</td>\n",
       "    </tr>\n",
       "    <tr>\n",
       "      <th>5</th>\n",
       "      <td></td>\n",
       "      <td>RectifierWithDropout</td>\n",
       "      <td>[0.1, 0.2, 0.3]</td>\n",
       "      <td>0.1</td>\n",
       "      <td>1.0E-5</td>\n",
       "      <td>0.0</td>\n",
       "      <td>dl_grid2018-12-21_20_42_05_model_27</td>\n",
       "      <td>0.4353214324889452</td>\n",
       "    </tr>\n",
       "    <tr>\n",
       "      <th>6</th>\n",
       "      <td></td>\n",
       "      <td>TanhWithDropout</td>\n",
       "      <td>[0.1, 0.5, 0.5]</td>\n",
       "      <td>0.1</td>\n",
       "      <td>0.0</td>\n",
       "      <td>0.001</td>\n",
       "      <td>dl_grid2018-12-21_20_42_05_model_41</td>\n",
       "      <td>0.43560147080129147</td>\n",
       "    </tr>\n",
       "    <tr>\n",
       "      <th>7</th>\n",
       "      <td></td>\n",
       "      <td>RectifierWithDropout</td>\n",
       "      <td>[0.1, 0.5, 0.5]</td>\n",
       "      <td>0.0</td>\n",
       "      <td>1.0E-4</td>\n",
       "      <td>0.0</td>\n",
       "      <td>dl_grid2018-12-21_20_42_05_model_23</td>\n",
       "      <td>0.4363625042980262</td>\n",
       "    </tr>\n",
       "    <tr>\n",
       "      <th>8</th>\n",
       "      <td></td>\n",
       "      <td>RectifierWithDropout</td>\n",
       "      <td>[0.1, 0.5, 0.5]</td>\n",
       "      <td>0.05</td>\n",
       "      <td>1.0E-4</td>\n",
       "      <td>0.001</td>\n",
       "      <td>dl_grid2018-12-21_20_42_05_model_11</td>\n",
       "      <td>0.43678896771970804</td>\n",
       "    </tr>\n",
       "    <tr>\n",
       "      <th>9</th>\n",
       "      <td></td>\n",
       "      <td>TanhWithDropout</td>\n",
       "      <td>[0.1, 0.2, 0.3]</td>\n",
       "      <td>0.0</td>\n",
       "      <td>1.0E-4</td>\n",
       "      <td>1.0E-4</td>\n",
       "      <td>dl_grid2018-12-21_20_42_05_model_5</td>\n",
       "      <td>0.4402797738207109</td>\n",
       "    </tr>\n",
       "    <tr>\n",
       "      <th>10</th>\n",
       "      <td></td>\n",
       "      <td>RectifierWithDropout</td>\n",
       "      <td>[0.1, 0.5, 0.5]</td>\n",
       "      <td>0.05</td>\n",
       "      <td>1.0E-5</td>\n",
       "      <td>0.0</td>\n",
       "      <td>dl_grid2018-12-21_20_42_05_model_25</td>\n",
       "      <td>0.4410218686853606</td>\n",
       "    </tr>\n",
       "    <tr>\n",
       "      <th>11</th>\n",
       "      <td></td>\n",
       "      <td>RectifierWithDropout</td>\n",
       "      <td>[0.1, 0.2, 0.3]</td>\n",
       "      <td>0.1</td>\n",
       "      <td>1.0E-4</td>\n",
       "      <td>1.0E-4</td>\n",
       "      <td>dl_grid2018-12-21_20_42_05_model_22</td>\n",
       "      <td>0.4461152423309348</td>\n",
       "    </tr>\n",
       "    <tr>\n",
       "      <th>12</th>\n",
       "      <td></td>\n",
       "      <td>TanhWithDropout</td>\n",
       "      <td>[0.1, 0.5, 0.5]</td>\n",
       "      <td>0.05</td>\n",
       "      <td>1.0E-5</td>\n",
       "      <td>1.0E-4</td>\n",
       "      <td>dl_grid2018-12-21_20_42_05_model_16</td>\n",
       "      <td>0.4528741179817872</td>\n",
       "    </tr>\n",
       "    <tr>\n",
       "      <th>13</th>\n",
       "      <td></td>\n",
       "      <td>TanhWithDropout</td>\n",
       "      <td>[0.1, 0.2, 0.3]</td>\n",
       "      <td>0.0</td>\n",
       "      <td>1.0E-5</td>\n",
       "      <td>0.001</td>\n",
       "      <td>dl_grid2018-12-21_20_42_05_model_38</td>\n",
       "      <td>0.4613984797801903</td>\n",
       "    </tr>\n",
       "    <tr>\n",
       "      <th>14</th>\n",
       "      <td></td>\n",
       "      <td>TanhWithDropout</td>\n",
       "      <td>[0.1, 0.2, 0.3]</td>\n",
       "      <td>0.05</td>\n",
       "      <td>1.0E-4</td>\n",
       "      <td>1.0E-4</td>\n",
       "      <td>dl_grid2018-12-21_20_42_05_model_14</td>\n",
       "      <td>0.4645426773682948</td>\n",
       "    </tr>\n",
       "    <tr>\n",
       "      <th>15</th>\n",
       "      <td></td>\n",
       "      <td>RectifierWithDropout</td>\n",
       "      <td>[0.5, 0.5, 0.5]</td>\n",
       "      <td>0.0</td>\n",
       "      <td>0.01</td>\n",
       "      <td>1.0E-4</td>\n",
       "      <td>dl_grid2018-12-21_20_42_05_model_9</td>\n",
       "      <td>0.46929432208998706</td>\n",
       "    </tr>\n",
       "    <tr>\n",
       "      <th>16</th>\n",
       "      <td></td>\n",
       "      <td>RectifierWithDropout</td>\n",
       "      <td>[0.1, 0.5, 0.5]</td>\n",
       "      <td>0.0</td>\n",
       "      <td>0.1</td>\n",
       "      <td>0.1</td>\n",
       "      <td>dl_grid2018-12-21_20_42_05_model_32</td>\n",
       "      <td>0.4698211623280059</td>\n",
       "    </tr>\n",
       "    <tr>\n",
       "      <th>17</th>\n",
       "      <td></td>\n",
       "      <td>TanhWithDropout</td>\n",
       "      <td>[0.1, 0.5, 0.5]</td>\n",
       "      <td>0.0</td>\n",
       "      <td>1.0E-5</td>\n",
       "      <td>0.0</td>\n",
       "      <td>dl_grid2018-12-21_20_42_05_model_15</td>\n",
       "      <td>0.47087805640633956</td>\n",
       "    </tr>\n",
       "    <tr>\n",
       "      <th>18</th>\n",
       "      <td></td>\n",
       "      <td>RectifierWithDropout</td>\n",
       "      <td>[0.1, 0.2, 0.3]</td>\n",
       "      <td>0.1</td>\n",
       "      <td>0.0</td>\n",
       "      <td>0.1</td>\n",
       "      <td>dl_grid2018-12-21_20_42_05_model_13</td>\n",
       "      <td>0.471096065712417</td>\n",
       "    </tr>\n",
       "    <tr>\n",
       "      <th>19</th>\n",
       "      <td></td>\n",
       "      <td>RectifierWithDropout</td>\n",
       "      <td>[0.1, 0.5, 0.5]</td>\n",
       "      <td>0.1</td>\n",
       "      <td>1.0E-5</td>\n",
       "      <td>0.1</td>\n",
       "      <td>dl_grid2018-12-21_20_42_05_model_42</td>\n",
       "      <td>0.471532877889651</td>\n",
       "    </tr>\n",
       "    <tr>\n",
       "      <th>20</th>\n",
       "      <td></td>\n",
       "      <td>RectifierWithDropout</td>\n",
       "      <td>[0.5, 0.5, 0.5]</td>\n",
       "      <td>0.05</td>\n",
       "      <td>0.001</td>\n",
       "      <td>0.001</td>\n",
       "      <td>dl_grid2018-12-21_20_42_05_model_17</td>\n",
       "      <td>0.4723892770299383</td>\n",
       "    </tr>\n",
       "    <tr>\n",
       "      <th>21</th>\n",
       "      <td></td>\n",
       "      <td>TanhWithDropout</td>\n",
       "      <td>[0.1, 0.2, 0.3]</td>\n",
       "      <td>0.1</td>\n",
       "      <td>0.0</td>\n",
       "      <td>0.1</td>\n",
       "      <td>dl_grid2018-12-21_20_42_05_model_33</td>\n",
       "      <td>0.47322673374297264</td>\n",
       "    </tr>\n",
       "    <tr>\n",
       "      <th>22</th>\n",
       "      <td></td>\n",
       "      <td>TanhWithDropout</td>\n",
       "      <td>[0.1, 0.5, 0.5]</td>\n",
       "      <td>0.0</td>\n",
       "      <td>0.001</td>\n",
       "      <td>0.1</td>\n",
       "      <td>dl_grid2018-12-21_20_42_05_model_31</td>\n",
       "      <td>0.4734091968769422</td>\n",
       "    </tr>\n",
       "    <tr>\n",
       "      <th>23</th>\n",
       "      <td></td>\n",
       "      <td>TanhWithDropout</td>\n",
       "      <td>[0.1, 0.5, 0.5]</td>\n",
       "      <td>0.05</td>\n",
       "      <td>1.0E-5</td>\n",
       "      <td>0.1</td>\n",
       "      <td>dl_grid2018-12-21_20_42_05_model_24</td>\n",
       "      <td>0.4734945587069541</td>\n",
       "    </tr>\n",
       "    <tr>\n",
       "      <th>24</th>\n",
       "      <td></td>\n",
       "      <td>TanhWithDropout</td>\n",
       "      <td>[0.1, 0.2, 0.3]</td>\n",
       "      <td>0.0</td>\n",
       "      <td>1.0E-5</td>\n",
       "      <td>1.0E-5</td>\n",
       "      <td>dl_grid2018-12-21_20_42_05_model_36</td>\n",
       "      <td>0.47440109453083557</td>\n",
       "    </tr>\n",
       "    <tr>\n",
       "      <th>25</th>\n",
       "      <td></td>\n",
       "      <td>TanhWithDropout</td>\n",
       "      <td>[0.1, 0.2, 0.3]</td>\n",
       "      <td>0.05</td>\n",
       "      <td>0.1</td>\n",
       "      <td>0.001</td>\n",
       "      <td>dl_grid2018-12-21_20_42_05_model_44</td>\n",
       "      <td>0.47459868910823855</td>\n",
       "    </tr>\n",
       "    <tr>\n",
       "      <th>26</th>\n",
       "      <td></td>\n",
       "      <td>RectifierWithDropout</td>\n",
       "      <td>[0.5, 0.5, 0.5]</td>\n",
       "      <td>0.0</td>\n",
       "      <td>0.001</td>\n",
       "      <td>0.0</td>\n",
       "      <td>dl_grid2018-12-21_20_42_05_model_7</td>\n",
       "      <td>0.4751411618160152</td>\n",
       "    </tr>\n",
       "    <tr>\n",
       "      <th>27</th>\n",
       "      <td></td>\n",
       "      <td>TanhWithDropout</td>\n",
       "      <td>[0.5, 0.5, 0.5]</td>\n",
       "      <td>0.1</td>\n",
       "      <td>0.0</td>\n",
       "      <td>0.0</td>\n",
       "      <td>dl_grid2018-12-21_20_42_05_model_4</td>\n",
       "      <td>0.47624214124466097</td>\n",
       "    </tr>\n",
       "    <tr>\n",
       "      <th>28</th>\n",
       "      <td></td>\n",
       "      <td>TanhWithDropout</td>\n",
       "      <td>[0.5, 0.5, 0.5]</td>\n",
       "      <td>0.05</td>\n",
       "      <td>0.001</td>\n",
       "      <td>0.01</td>\n",
       "      <td>dl_grid2018-12-21_20_42_05_model_18</td>\n",
       "      <td>0.47728660896079117</td>\n",
       "    </tr>\n",
       "    <tr>\n",
       "      <th>29</th>\n",
       "      <td></td>\n",
       "      <td>RectifierWithDropout</td>\n",
       "      <td>[0.1, 0.2, 0.3]</td>\n",
       "      <td>0.05</td>\n",
       "      <td>0.001</td>\n",
       "      <td>0.0</td>\n",
       "      <td>dl_grid2018-12-21_20_42_05_model_43</td>\n",
       "      <td>0.4779565115101782</td>\n",
       "    </tr>\n",
       "    <tr>\n",
       "      <th>30</th>\n",
       "      <td></td>\n",
       "      <td>TanhWithDropout</td>\n",
       "      <td>[0.1, 0.2, 0.3]</td>\n",
       "      <td>0.0</td>\n",
       "      <td>0.001</td>\n",
       "      <td>0.001</td>\n",
       "      <td>dl_grid2018-12-21_20_42_05_model_30</td>\n",
       "      <td>0.4780735438452997</td>\n",
       "    </tr>\n",
       "    <tr>\n",
       "      <th>31</th>\n",
       "      <td></td>\n",
       "      <td>RectifierWithDropout</td>\n",
       "      <td>[0.1, 0.5, 0.5]</td>\n",
       "      <td>0.1</td>\n",
       "      <td>0.001</td>\n",
       "      <td>1.0E-5</td>\n",
       "      <td>dl_grid2018-12-21_20_42_05_model_12</td>\n",
       "      <td>0.47944927537224846</td>\n",
       "    </tr>\n",
       "    <tr>\n",
       "      <th>32</th>\n",
       "      <td></td>\n",
       "      <td>TanhWithDropout</td>\n",
       "      <td>[0.1, 0.2, 0.3]</td>\n",
       "      <td>0.05</td>\n",
       "      <td>0.1</td>\n",
       "      <td>1.0E-5</td>\n",
       "      <td>dl_grid2018-12-21_20_42_05_model_2</td>\n",
       "      <td>0.4795547662927095</td>\n",
       "    </tr>\n",
       "    <tr>\n",
       "      <th>33</th>\n",
       "      <td></td>\n",
       "      <td>TanhWithDropout</td>\n",
       "      <td>[0.1, 0.5, 0.5]</td>\n",
       "      <td>0.0</td>\n",
       "      <td>0.01</td>\n",
       "      <td>0.01</td>\n",
       "      <td>dl_grid2018-12-21_20_42_05_model_10</td>\n",
       "      <td>0.4799292666711147</td>\n",
       "    </tr>\n",
       "    <tr>\n",
       "      <th>34</th>\n",
       "      <td></td>\n",
       "      <td>TanhWithDropout</td>\n",
       "      <td>[0.1, 0.2, 0.3]</td>\n",
       "      <td>0.1</td>\n",
       "      <td>0.1</td>\n",
       "      <td>1.0E-5</td>\n",
       "      <td>dl_grid2018-12-21_20_42_05_model_3</td>\n",
       "      <td>0.48108620684225745</td>\n",
       "    </tr>\n",
       "    <tr>\n",
       "      <th>35</th>\n",
       "      <td></td>\n",
       "      <td>TanhWithDropout</td>\n",
       "      <td>[0.1, 0.5, 0.5]</td>\n",
       "      <td>0.1</td>\n",
       "      <td>0.1</td>\n",
       "      <td>0.001</td>\n",
       "      <td>dl_grid2018-12-21_20_42_05_model_29</td>\n",
       "      <td>0.4813427867465026</td>\n",
       "    </tr>\n",
       "    <tr>\n",
       "      <th>36</th>\n",
       "      <td></td>\n",
       "      <td>TanhWithDropout</td>\n",
       "      <td>[0.5, 0.5, 0.5]</td>\n",
       "      <td>0.0</td>\n",
       "      <td>0.01</td>\n",
       "      <td>0.01</td>\n",
       "      <td>dl_grid2018-12-21_20_42_05_model_39</td>\n",
       "      <td>0.4815624508483453</td>\n",
       "    </tr>\n",
       "    <tr>\n",
       "      <th>37</th>\n",
       "      <td></td>\n",
       "      <td>TanhWithDropout</td>\n",
       "      <td>[0.1, 0.2, 0.3]</td>\n",
       "      <td>0.0</td>\n",
       "      <td>0.01</td>\n",
       "      <td>0.001</td>\n",
       "      <td>dl_grid2018-12-21_20_42_05_model_40</td>\n",
       "      <td>0.4817510815532656</td>\n",
       "    </tr>\n",
       "    <tr>\n",
       "      <th>38</th>\n",
       "      <td></td>\n",
       "      <td>TanhWithDropout</td>\n",
       "      <td>[0.5, 0.5, 0.5]</td>\n",
       "      <td>0.1</td>\n",
       "      <td>0.1</td>\n",
       "      <td>0.001</td>\n",
       "      <td>dl_grid2018-12-21_20_42_05_model_1</td>\n",
       "      <td>0.4822918279935473</td>\n",
       "    </tr>\n",
       "    <tr>\n",
       "      <th>39</th>\n",
       "      <td></td>\n",
       "      <td>TanhWithDropout</td>\n",
       "      <td>[0.1, 0.5, 0.5]</td>\n",
       "      <td>0.0</td>\n",
       "      <td>0.1</td>\n",
       "      <td>0.01</td>\n",
       "      <td>dl_grid2018-12-21_20_42_05_model_8</td>\n",
       "      <td>0.4823750654844981</td>\n",
       "    </tr>\n",
       "    <tr>\n",
       "      <th>40</th>\n",
       "      <td></td>\n",
       "      <td>TanhWithDropout</td>\n",
       "      <td>[0.1, 0.5, 0.5]</td>\n",
       "      <td>0.05</td>\n",
       "      <td>0.01</td>\n",
       "      <td>0.001</td>\n",
       "      <td>dl_grid2018-12-21_20_42_05_model_19</td>\n",
       "      <td>0.48326395108480624</td>\n",
       "    </tr>\n",
       "    <tr>\n",
       "      <th>41</th>\n",
       "      <td></td>\n",
       "      <td>RectifierWithDropout</td>\n",
       "      <td>[0.5, 0.5, 0.5]</td>\n",
       "      <td>0.1</td>\n",
       "      <td>1.0E-4</td>\n",
       "      <td>0.1</td>\n",
       "      <td>dl_grid2018-12-21_20_42_05_model_35</td>\n",
       "      <td>0.4875856391618494</td>\n",
       "    </tr>\n",
       "    <tr>\n",
       "      <th>42</th>\n",
       "      <td></td>\n",
       "      <td>RectifierWithDropout</td>\n",
       "      <td>[0.1, 0.5, 0.5]</td>\n",
       "      <td>0.1</td>\n",
       "      <td>0.1</td>\n",
       "      <td>0.1</td>\n",
       "      <td>dl_grid2018-12-21_20_42_05_model_28</td>\n",
       "      <td>0.4930804846189489</td>\n",
       "    </tr>\n",
       "    <tr>\n",
       "      <th>43</th>\n",
       "      <td></td>\n",
       "      <td>RectifierWithDropout</td>\n",
       "      <td>[0.5, 0.5, 0.5]</td>\n",
       "      <td>0.1</td>\n",
       "      <td>0.001</td>\n",
       "      <td>0.1</td>\n",
       "      <td>dl_grid2018-12-21_20_42_05_model_26</td>\n",
       "      <td>0.5474060635162612</td>\n",
       "    </tr>\n",
       "  </tbody>\n",
       "</table>\n",
       "</div>"
      ],
      "text/plain": [
       "                activation hidden_dropout_ratios input_dropout_ratio      l1  \\\n",
       "0     RectifierWithDropout       [0.1, 0.2, 0.3]                 0.0   0.001   \n",
       "1     RectifierWithDropout       [0.5, 0.5, 0.5]                 0.1     0.0   \n",
       "2     RectifierWithDropout       [0.1, 0.5, 0.5]                0.05  1.0E-5   \n",
       "3     RectifierWithDropout       [0.5, 0.5, 0.5]                0.05     0.0   \n",
       "4     RectifierWithDropout       [0.1, 0.2, 0.3]                0.05  1.0E-4   \n",
       "5     RectifierWithDropout       [0.1, 0.2, 0.3]                 0.1  1.0E-5   \n",
       "6          TanhWithDropout       [0.1, 0.5, 0.5]                 0.1     0.0   \n",
       "7     RectifierWithDropout       [0.1, 0.5, 0.5]                 0.0  1.0E-4   \n",
       "8     RectifierWithDropout       [0.1, 0.5, 0.5]                0.05  1.0E-4   \n",
       "9          TanhWithDropout       [0.1, 0.2, 0.3]                 0.0  1.0E-4   \n",
       "10    RectifierWithDropout       [0.1, 0.5, 0.5]                0.05  1.0E-5   \n",
       "11    RectifierWithDropout       [0.1, 0.2, 0.3]                 0.1  1.0E-4   \n",
       "12         TanhWithDropout       [0.1, 0.5, 0.5]                0.05  1.0E-5   \n",
       "13         TanhWithDropout       [0.1, 0.2, 0.3]                 0.0  1.0E-5   \n",
       "14         TanhWithDropout       [0.1, 0.2, 0.3]                0.05  1.0E-4   \n",
       "15    RectifierWithDropout       [0.5, 0.5, 0.5]                 0.0    0.01   \n",
       "16    RectifierWithDropout       [0.1, 0.5, 0.5]                 0.0     0.1   \n",
       "17         TanhWithDropout       [0.1, 0.5, 0.5]                 0.0  1.0E-5   \n",
       "18    RectifierWithDropout       [0.1, 0.2, 0.3]                 0.1     0.0   \n",
       "19    RectifierWithDropout       [0.1, 0.5, 0.5]                 0.1  1.0E-5   \n",
       "20    RectifierWithDropout       [0.5, 0.5, 0.5]                0.05   0.001   \n",
       "21         TanhWithDropout       [0.1, 0.2, 0.3]                 0.1     0.0   \n",
       "22         TanhWithDropout       [0.1, 0.5, 0.5]                 0.0   0.001   \n",
       "23         TanhWithDropout       [0.1, 0.5, 0.5]                0.05  1.0E-5   \n",
       "24         TanhWithDropout       [0.1, 0.2, 0.3]                 0.0  1.0E-5   \n",
       "25         TanhWithDropout       [0.1, 0.2, 0.3]                0.05     0.1   \n",
       "26    RectifierWithDropout       [0.5, 0.5, 0.5]                 0.0   0.001   \n",
       "27         TanhWithDropout       [0.5, 0.5, 0.5]                 0.1     0.0   \n",
       "28         TanhWithDropout       [0.5, 0.5, 0.5]                0.05   0.001   \n",
       "29    RectifierWithDropout       [0.1, 0.2, 0.3]                0.05   0.001   \n",
       "30         TanhWithDropout       [0.1, 0.2, 0.3]                 0.0   0.001   \n",
       "31    RectifierWithDropout       [0.1, 0.5, 0.5]                 0.1   0.001   \n",
       "32         TanhWithDropout       [0.1, 0.2, 0.3]                0.05     0.1   \n",
       "33         TanhWithDropout       [0.1, 0.5, 0.5]                 0.0    0.01   \n",
       "34         TanhWithDropout       [0.1, 0.2, 0.3]                 0.1     0.1   \n",
       "35         TanhWithDropout       [0.1, 0.5, 0.5]                 0.1     0.1   \n",
       "36         TanhWithDropout       [0.5, 0.5, 0.5]                 0.0    0.01   \n",
       "37         TanhWithDropout       [0.1, 0.2, 0.3]                 0.0    0.01   \n",
       "38         TanhWithDropout       [0.5, 0.5, 0.5]                 0.1     0.1   \n",
       "39         TanhWithDropout       [0.1, 0.5, 0.5]                 0.0     0.1   \n",
       "40         TanhWithDropout       [0.1, 0.5, 0.5]                0.05    0.01   \n",
       "41    RectifierWithDropout       [0.5, 0.5, 0.5]                 0.1  1.0E-4   \n",
       "42    RectifierWithDropout       [0.1, 0.5, 0.5]                 0.1     0.1   \n",
       "43    RectifierWithDropout       [0.5, 0.5, 0.5]                 0.1   0.001   \n",
       "\n",
       "        l2                            model_ids                 rmse  \n",
       "0    0.001  dl_grid2018-12-21_20_42_05_model_34   0.4246266920391013  \n",
       "1      0.0  dl_grid2018-12-21_20_42_05_model_21  0.42624386392922664  \n",
       "2     0.01   dl_grid2018-12-21_20_42_05_model_6   0.4262458621636417  \n",
       "3    0.001  dl_grid2018-12-21_20_42_05_model_37   0.4343838306521974  \n",
       "4   1.0E-5  dl_grid2018-12-21_20_42_05_model_20   0.4347436696869743  \n",
       "5      0.0  dl_grid2018-12-21_20_42_05_model_27   0.4353214324889452  \n",
       "6    0.001  dl_grid2018-12-21_20_42_05_model_41  0.43560147080129147  \n",
       "7      0.0  dl_grid2018-12-21_20_42_05_model_23   0.4363625042980262  \n",
       "8    0.001  dl_grid2018-12-21_20_42_05_model_11  0.43678896771970804  \n",
       "9   1.0E-4   dl_grid2018-12-21_20_42_05_model_5   0.4402797738207109  \n",
       "10     0.0  dl_grid2018-12-21_20_42_05_model_25   0.4410218686853606  \n",
       "11  1.0E-4  dl_grid2018-12-21_20_42_05_model_22   0.4461152423309348  \n",
       "12  1.0E-4  dl_grid2018-12-21_20_42_05_model_16   0.4528741179817872  \n",
       "13   0.001  dl_grid2018-12-21_20_42_05_model_38   0.4613984797801903  \n",
       "14  1.0E-4  dl_grid2018-12-21_20_42_05_model_14   0.4645426773682948  \n",
       "15  1.0E-4   dl_grid2018-12-21_20_42_05_model_9  0.46929432208998706  \n",
       "16     0.1  dl_grid2018-12-21_20_42_05_model_32   0.4698211623280059  \n",
       "17     0.0  dl_grid2018-12-21_20_42_05_model_15  0.47087805640633956  \n",
       "18     0.1  dl_grid2018-12-21_20_42_05_model_13    0.471096065712417  \n",
       "19     0.1  dl_grid2018-12-21_20_42_05_model_42    0.471532877889651  \n",
       "20   0.001  dl_grid2018-12-21_20_42_05_model_17   0.4723892770299383  \n",
       "21     0.1  dl_grid2018-12-21_20_42_05_model_33  0.47322673374297264  \n",
       "22     0.1  dl_grid2018-12-21_20_42_05_model_31   0.4734091968769422  \n",
       "23     0.1  dl_grid2018-12-21_20_42_05_model_24   0.4734945587069541  \n",
       "24  1.0E-5  dl_grid2018-12-21_20_42_05_model_36  0.47440109453083557  \n",
       "25   0.001  dl_grid2018-12-21_20_42_05_model_44  0.47459868910823855  \n",
       "26     0.0   dl_grid2018-12-21_20_42_05_model_7   0.4751411618160152  \n",
       "27     0.0   dl_grid2018-12-21_20_42_05_model_4  0.47624214124466097  \n",
       "28    0.01  dl_grid2018-12-21_20_42_05_model_18  0.47728660896079117  \n",
       "29     0.0  dl_grid2018-12-21_20_42_05_model_43   0.4779565115101782  \n",
       "30   0.001  dl_grid2018-12-21_20_42_05_model_30   0.4780735438452997  \n",
       "31  1.0E-5  dl_grid2018-12-21_20_42_05_model_12  0.47944927537224846  \n",
       "32  1.0E-5   dl_grid2018-12-21_20_42_05_model_2   0.4795547662927095  \n",
       "33    0.01  dl_grid2018-12-21_20_42_05_model_10   0.4799292666711147  \n",
       "34  1.0E-5   dl_grid2018-12-21_20_42_05_model_3  0.48108620684225745  \n",
       "35   0.001  dl_grid2018-12-21_20_42_05_model_29   0.4813427867465026  \n",
       "36    0.01  dl_grid2018-12-21_20_42_05_model_39   0.4815624508483453  \n",
       "37   0.001  dl_grid2018-12-21_20_42_05_model_40   0.4817510815532656  \n",
       "38   0.001   dl_grid2018-12-21_20_42_05_model_1   0.4822918279935473  \n",
       "39    0.01   dl_grid2018-12-21_20_42_05_model_8   0.4823750654844981  \n",
       "40   0.001  dl_grid2018-12-21_20_42_05_model_19  0.48326395108480624  \n",
       "41     0.1  dl_grid2018-12-21_20_42_05_model_35   0.4875856391618494  \n",
       "42     0.1  dl_grid2018-12-21_20_42_05_model_28   0.4930804846189489  \n",
       "43     0.1  dl_grid2018-12-21_20_42_05_model_26   0.5474060635162612  "
      ]
     },
     "execution_count": 23,
     "metadata": {},
     "output_type": "execute_result"
    }
   ],
   "source": [
    "dl_gridperf.sorted_metric_table()"
   ]
  },
  {
   "cell_type": "code",
   "execution_count": 24,
   "metadata": {},
   "outputs": [
    {
     "name": "stdout",
     "output_type": "stream",
     "text": [
      "Model Details\n",
      "=============\n",
      "H2ODeepLearningEstimator :  Deep Learning\n",
      "Model Key:  dl_grid2018-12-21_20_42_05_model_34\n",
      "\n",
      "\n",
      "ModelMetricsRegression: deeplearning\n",
      "** Reported on train data. **\n",
      "\n",
      "MSE: 0.06181931342807845\n",
      "RMSE: 0.24863489985936899\n",
      "MAE: 0.1696128716455215\n",
      "RMSLE: 0.06326495635030656\n",
      "Mean Residual Deviance: 0.08480643582276075\n",
      "\n",
      "ModelMetricsRegression: deeplearning\n",
      "** Reported on validation data. **\n",
      "\n",
      "MSE: 0.18030782759206976\n",
      "RMSE: 0.4246266920391013\n",
      "MAE: 0.31944550438520725\n",
      "RMSLE: 0.1108430955775783\n",
      "Mean Residual Deviance: 0.15972275219260362\n",
      "Scoring History: \n"
     ]
    },
    {
     "data": {
      "text/html": [
       "<div style=\"overflow:auto\"><table style=\"width:50%\"><tr><td><b></b></td>\n",
       "<td><b>timestamp</b></td>\n",
       "<td><b>duration</b></td>\n",
       "<td><b>training_speed</b></td>\n",
       "<td><b>epochs</b></td>\n",
       "<td><b>iterations</b></td>\n",
       "<td><b>samples</b></td>\n",
       "<td><b>training_rmse</b></td>\n",
       "<td><b>training_deviance</b></td>\n",
       "<td><b>training_mae</b></td>\n",
       "<td><b>training_r2</b></td>\n",
       "<td><b>validation_rmse</b></td>\n",
       "<td><b>validation_deviance</b></td>\n",
       "<td><b>validation_mae</b></td>\n",
       "<td><b>validation_r2</b></td></tr>\n",
       "<tr><td></td>\n",
       "<td>2018-12-21 21:03:13</td>\n",
       "<td> 0.000 sec</td>\n",
       "<td>None</td>\n",
       "<td>0.0</td>\n",
       "<td>0</td>\n",
       "<td>0.0</td>\n",
       "<td>nan</td>\n",
       "<td>nan</td>\n",
       "<td>nan</td>\n",
       "<td>nan</td>\n",
       "<td>nan</td>\n",
       "<td>nan</td>\n",
       "<td>nan</td>\n",
       "<td>nan</td></tr>\n",
       "<tr><td></td>\n",
       "<td>2018-12-21 21:03:15</td>\n",
       "<td>12 min 54.797 sec</td>\n",
       "<td>6447 obs/sec</td>\n",
       "<td>9.2790210</td>\n",
       "<td>1</td>\n",
       "<td>13269.0</td>\n",
       "<td>0.4476050</td>\n",
       "<td>0.1778407</td>\n",
       "<td>0.3556815</td>\n",
       "<td>0.1101763</td>\n",
       "<td>0.4540528</td>\n",
       "<td>0.1763493</td>\n",
       "<td>0.3526986</td>\n",
       "<td>0.0631888</td></tr>\n",
       "<tr><td></td>\n",
       "<td>2018-12-21 21:03:24</td>\n",
       "<td>13 min  3.555 sec</td>\n",
       "<td>8978 obs/sec</td>\n",
       "<td>64.9706294</td>\n",
       "<td>7</td>\n",
       "<td>92908.0</td>\n",
       "<td>0.3472096</td>\n",
       "<td>0.1273577</td>\n",
       "<td>0.2547155</td>\n",
       "<td>0.4645763</td>\n",
       "<td>0.4395849</td>\n",
       "<td>0.1680034</td>\n",
       "<td>0.3360068</td>\n",
       "<td>0.1219387</td></tr>\n",
       "<tr><td></td>\n",
       "<td>2018-12-21 21:03:30</td>\n",
       "<td>13 min  9.578 sec</td>\n",
       "<td>10011 obs/sec</td>\n",
       "<td>111.3531469</td>\n",
       "<td>12</td>\n",
       "<td>159235.0</td>\n",
       "<td>0.2936576</td>\n",
       "<td>0.1027774</td>\n",
       "<td>0.2055549</td>\n",
       "<td>0.6170020</td>\n",
       "<td>0.4411081</td>\n",
       "<td>0.1654651</td>\n",
       "<td>0.3309303</td>\n",
       "<td>0.1158431</td></tr>\n",
       "<tr><td></td>\n",
       "<td>2018-12-21 21:03:36</td>\n",
       "<td>13 min 15.420 sec</td>\n",
       "<td>10605 obs/sec</td>\n",
       "<td>157.8181818</td>\n",
       "<td>17</td>\n",
       "<td>225680.0</td>\n",
       "<td>0.2486349</td>\n",
       "<td>0.0848064</td>\n",
       "<td>0.1696129</td>\n",
       "<td>0.7254393</td>\n",
       "<td>0.4246267</td>\n",
       "<td>0.1597228</td>\n",
       "<td>0.3194455</td>\n",
       "<td>0.1806794</td></tr></table></div>"
      ],
      "text/plain": [
       "    timestamp            duration           training_speed    epochs    iterations    samples    training_rmse    training_deviance    training_mae    training_r2    validation_rmse    validation_deviance    validation_mae    validation_r2\n",
       "--  -------------------  -----------------  ----------------  --------  ------------  ---------  ---------------  -------------------  --------------  -------------  -----------------  ---------------------  ----------------  ---------------\n",
       "    2018-12-21 21:03:13  0.000 sec                            0         0             0          nan              nan                  nan             nan            nan                nan                    nan               nan\n",
       "    2018-12-21 21:03:15  12 min 54.797 sec  6447 obs/sec      9.27902   1             13269      0.447605         0.177841             0.355681        0.110176       0.454053           0.176349               0.352699          0.0631888\n",
       "    2018-12-21 21:03:24  13 min  3.555 sec  8978 obs/sec      64.9706   7             92908      0.34721          0.127358             0.254715        0.464576       0.439585           0.168003               0.336007          0.121939\n",
       "    2018-12-21 21:03:30  13 min  9.578 sec  10011 obs/sec     111.353   12            159235     0.293658         0.102777             0.205555        0.617002       0.441108           0.165465               0.33093           0.115843\n",
       "    2018-12-21 21:03:36  13 min 15.420 sec  10605 obs/sec     157.818   17            225680     0.248635         0.0848064            0.169613        0.725439       0.424627           0.159723               0.319446          0.180679"
      ]
     },
     "metadata": {},
     "output_type": "display_data"
    },
    {
     "name": "stdout",
     "output_type": "stream",
     "text": [
      "Variable Importances: \n"
     ]
    },
    {
     "data": {
      "text/html": [
       "<div style=\"overflow:auto\"><table style=\"width:50%\"><tr><td><b>variable</b></td>\n",
       "<td><b>relative_importance</b></td>\n",
       "<td><b>scaled_importance</b></td>\n",
       "<td><b>percentage</b></td></tr>\n",
       "<tr><td>Maker.Soma</td>\n",
       "<td>1.0</td>\n",
       "<td>1.0</td>\n",
       "<td>0.0016247</td></tr>\n",
       "<tr><td>Bean Origin.Venezuela</td>\n",
       "<td>0.9451424</td>\n",
       "<td>0.9451424</td>\n",
       "<td>0.0015356</td></tr>\n",
       "<tr><td>Bean Origin.Peru</td>\n",
       "<td>0.8114035</td>\n",
       "<td>0.8114035</td>\n",
       "<td>0.0013183</td></tr>\n",
       "<tr><td>Maker.Amedei</td>\n",
       "<td>0.8013229</td>\n",
       "<td>0.8013229</td>\n",
       "<td>0.0013019</td></tr>\n",
       "<tr><td>Maker.Shark's</td>\n",
       "<td>0.7977075</td>\n",
       "<td>0.7977075</td>\n",
       "<td>0.0012960</td></tr>\n",
       "<tr><td>---</td>\n",
       "<td>---</td>\n",
       "<td>---</td>\n",
       "<td>---</td></tr>\n",
       "<tr><td>Origin.missing(NA)</td>\n",
       "<td>0.0</td>\n",
       "<td>0.0</td>\n",
       "<td>0.0</td></tr>\n",
       "<tr><td>Maker.missing(NA)</td>\n",
       "<td>0.0</td>\n",
       "<td>0.0</td>\n",
       "<td>0.0</td></tr>\n",
       "<tr><td>Bean Origin.missing(NA)</td>\n",
       "<td>0.0</td>\n",
       "<td>0.0</td>\n",
       "<td>0.0</td></tr>\n",
       "<tr><td>Maker Location.missing(NA)</td>\n",
       "<td>0.0</td>\n",
       "<td>0.0</td>\n",
       "<td>0.0</td></tr>\n",
       "<tr><td>Bean Type.missing(NA)</td>\n",
       "<td>0.0</td>\n",
       "<td>0.0</td>\n",
       "<td>0.0</td></tr></table></div>"
      ],
      "text/plain": [
       "variable                    relative_importance    scaled_importance    percentage\n",
       "--------------------------  ---------------------  -------------------  ---------------------\n",
       "Maker.Soma                  1.0                    1.0                  0.0016247023595485066\n",
       "Bean Origin.Venezuela       0.9451424479484558     0.9451424479484558   0.001535575165291308\n",
       "Bean Origin.Peru            0.8114034533500671     0.8114034533500671   0.0013182891052036607\n",
       "Maker.Amedei                0.8013229370117188     0.8013229370117188   0.001301911266523279\n",
       "Maker.Shark's               0.7977074980735779     0.7977074980735779   0.001296037254349678\n",
       "---                         ---                    ---                  ---\n",
       "Origin.missing(NA)          0.0                    0.0                  0.0\n",
       "Maker.missing(NA)           0.0                    0.0                  0.0\n",
       "Bean Origin.missing(NA)     0.0                    0.0                  0.0\n",
       "Maker Location.missing(NA)  0.0                    0.0                  0.0\n",
       "Bean Type.missing(NA)       0.0                    0.0                  0.0"
      ]
     },
     "metadata": {},
     "output_type": "display_data"
    },
    {
     "name": "stdout",
     "output_type": "stream",
     "text": [
      "\n",
      "See the whole table with table.as_data_frame()\n"
     ]
    },
    {
     "data": {
      "text/plain": []
     },
     "execution_count": 24,
     "metadata": {},
     "output_type": "execute_result"
    }
   ],
   "source": [
    "# Identify the best model generated with least error\n",
    "best_dl_model = dl_gridperf.models[0]\n",
    "best_dl_model"
   ]
  },
  {
   "cell_type": "code",
   "execution_count": 25,
   "metadata": {},
   "outputs": [
    {
     "data": {
      "text/plain": [
       "[1663, 200, 200, 200, 1]"
      ]
     },
     "execution_count": 25,
     "metadata": {},
     "output_type": "execute_result"
    }
   ],
   "source": [
    "best_dl_model.summary()['units']"
   ]
  },
  {
   "cell_type": "code",
   "execution_count": 26,
   "metadata": {},
   "outputs": [
    {
     "data": {
      "image/png": "[encoded data removed]",
      "text/plain": [
       "<matplotlib.figure.Figure at 0x1102ad550>"
      ]
     },
     "metadata": {},
     "output_type": "display_data"
    }
   ],
   "source": [
    "best_dl_model.plot()"
   ]
  },
  {
   "cell_type": "code",
   "execution_count": 27,
   "metadata": {},
   "outputs": [
    {
     "name": "stdout",
     "output_type": "stream",
     "text": [
      "\n",
      "ModelMetricsRegression: deeplearning\n",
      "** Reported on test data. **\n",
      "\n",
      "MSE: 0.18909708940580125\n",
      "RMSE: 0.4348529514741751\n",
      "MAE: 0.3488083214737229\n",
      "RMSLE: 0.11379354253862498\n",
      "Mean Residual Deviance: 0.17440416073686146\n"
     ]
    },
    {
     "data": {
      "text/plain": []
     },
     "execution_count": 27,
     "metadata": {},
     "output_type": "execute_result"
    }
   ],
   "source": [
    "best_dl_model.model_performance(test) "
   ]
  },
  {
   "cell_type": "markdown",
   "metadata": {},
   "source": [
    "Step five is to save both your models, to your local disk, and they should be submitted with your script. Use saveModel() (in R) or save_model() (Python), to export the binary version of the model. (Do not export a POJO.)"
   ]
  },
  {
   "cell_type": "code",
   "execution_count": 40,
   "metadata": {},
   "outputs": [],
   "source": [
    "mDL2 = H2ODeepLearningEstimator(model_id = \"DeepLearning_model_best_\"+now.strftime(\"%Y-%m-%d_%H_%M_%S\"),\n",
    "                                epochs = 80,   ## hopefully converges earlier...\n",
    "                                score_validation_samples=10000,  # downsample validation set for faster scoring\n",
    "                                score_duty_cycle=0.025,          # don't score more than 2.5% of the wall time\n",
    "                                adaptive_rate=False,             # manually tuned learning rate\n",
    "                                rate=0.01, \n",
    "                                rate_annealing=0.000002,            \n",
    "                                momentum_start=0.2,              # manually tuned momentum\n",
    "                                momentum_stable=0.4, \n",
    "                                momentum_ramp=10000000, \n",
    "                                #adaptive_rate = True,  \n",
    "                                stopping_metric=\"AUTO\",\n",
    "                                stopping_rounds=2,\n",
    "                                stopping_tolerance=0.0005,\n",
    "                                hidden=[200,200,200],      ## more hidden layers -> more complex interactions\n",
    "                                balance_classes= False,\n",
    "                                standardize = True,  # If enabled, automatically standardize the data (mean 0, variance 1). If disabled, the user must provide properly scaled input data.\n",
    "                                loss = \"quantile\",  # quantile for regression\n",
    "                                seed=SEED,\n",
    "                                activation = \"RectifierWithDropout\",\n",
    "                                hidden_dropout_ratios = [0.1, 0.5, 0.5], \n",
    "                                input_dropout_ratio = 0.05,\n",
    "                                l1=1.0E-5,                      \n",
    "                                l2=0.01\n",
    "                               )\n"
   ]
  },
  {
   "cell_type": "code",
   "execution_count": 41,
   "metadata": {},
   "outputs": [
    {
     "name": "stdout",
     "output_type": "stream",
     "text": [
      "deeplearning Model Build progress: |██████████████████████████████████████| 100%\n",
      "CPU times: user 243 ms, sys: 190 ms, total: 432 ms\n",
      "Wall time: 20.1 s\n"
     ]
    }
   ],
   "source": [
    "%time mDL2.train(x, y, training_frame=train,validation_frame=valid)"
   ]
  },
  {
   "cell_type": "code",
   "execution_count": 42,
   "metadata": {},
   "outputs": [
    {
     "data": {
      "image/png": "[encoded data removed]",
      "text/plain": [
       "<matplotlib.figure.Figure at 0x11063fbe0>"
      ]
     },
     "metadata": {},
     "output_type": "display_data"
    }
   ],
   "source": [
    "mDL2.plot()"
   ]
  },
  {
   "cell_type": "code",
   "execution_count": 43,
   "metadata": {},
   "outputs": [
    {
     "name": "stdout",
     "output_type": "stream",
     "text": [
      "\n",
      "ModelMetricsRegression: deeplearning\n",
      "** Reported on test data. **\n",
      "\n",
      "MSE: 0.18218255404395914\n",
      "RMSE: 0.42682848316854294\n",
      "MAE: 0.3235138450106631\n",
      "RMSLE: 0.10996925274199085\n",
      "Mean Residual Deviance: 0.16175692250533155\n"
     ]
    },
    {
     "data": {
      "text/plain": []
     },
     "execution_count": 43,
     "metadata": {},
     "output_type": "execute_result"
    }
   ],
   "source": [
    "mDL2.model_performance(valid) "
   ]
  },
  {
   "cell_type": "code",
   "execution_count": 44,
   "metadata": {},
   "outputs": [
    {
     "name": "stdout",
     "output_type": "stream",
     "text": [
      "\n",
      "ModelMetricsRegression: deeplearning\n",
      "** Reported on test data. **\n",
      "\n",
      "MSE: 0.17192888065994577\n",
      "RMSE: 0.4146430762233294\n",
      "MAE: 0.3283172569034881\n",
      "RMSLE: 0.10773891967730584\n",
      "Mean Residual Deviance: 0.16415862845174406\n"
     ]
    },
    {
     "data": {
      "text/plain": []
     },
     "execution_count": 44,
     "metadata": {},
     "output_type": "execute_result"
    }
   ],
   "source": [
    "mDL2.model_performance(test) "
   ]
  },
  {
   "cell_type": "code",
   "execution_count": 34,
   "metadata": {},
   "outputs": [
    {
     "data": {
      "text/plain": [
       "'/Users/tim.wu/Documents/Programming_Code/python_code/python_h2o'"
      ]
     },
     "execution_count": 34,
     "metadata": {},
     "output_type": "execute_result"
    }
   ],
   "source": [
    "cwd = os.getcwd()\n",
    "cwd"
   ]
  },
  {
   "cell_type": "code",
   "execution_count": 45,
   "metadata": {},
   "outputs": [
    {
     "data": {
      "text/plain": [
       "'/Users/tim.wu/Documents/Programming_Code/python_code/python_h2o/H2o_model_Base_deep_learning/DeepLearning_model_baseline_2018-12-21_20_42_05'"
      ]
     },
     "execution_count": 45,
     "metadata": {},
     "output_type": "execute_result"
    }
   ],
   "source": [
    "h2o.save_model(mDL, path = cwd + \"/H2o_model_Base_deep_learning\")"
   ]
  },
  {
   "cell_type": "code",
   "execution_count": 46,
   "metadata": {},
   "outputs": [
    {
     "data": {
      "text/plain": [
       "'/Users/tim.wu/Documents/Programming_Code/python_code/python_h2o/H2o_model_BEST_deep_learning/DeepLearning_model_best_2018-12-21_20_42_05'"
      ]
     },
     "execution_count": 46,
     "metadata": {},
     "output_type": "execute_result"
    }
   ],
   "source": [
    "h2o.save_model(mDL2, path = cwd + \"/H2o_model_BEST_deep_learning\")"
   ]
  },
  {
   "cell_type": "markdown",
   "metadata": {},
   "source": [
    "Step six is to save your script, shutdown h2o, and run your script again in a fresh session to be sure the results are reproducible, and that there are no bugs. This is a very important step: scripts that do not run might fail to be graded."
   ]
  },
  {
   "cell_type": "raw",
   "metadata": {
    "collapsed": true
   },
   "source": [
    "Additional Guidelines:\n",
    "\n",
    "Also include some justification that your tuned model has not over-fitted. If you have used early stopping, pointing that out should be sufficient.\n",
    "\n",
    "Make sure your script is clear, easy to understand for other students, and no longer than it needs to be. (It is unlikely to need to be more than 60 lines.)\n",
    "\n",
    "You may use a grid search to discover good parameters. However do not include it in your final script.\n",
    "\n",
    "You may use AutoML to get ideas; however do not include it in your final script, and remember you must use a single deep learning model: no other algorithms, no ensembles."
   ]
  },
  {
   "cell_type": "code",
   "execution_count": 47,
   "metadata": {},
   "outputs": [
    {
     "name": "stdout",
     "output_type": "stream",
     "text": [
      "H2O session _sid_8d83 closed.\n"
     ]
    }
   ],
   "source": [
    "h2o.cluster().shutdown()"
   ]
  }
 ],
 "metadata": {
  "kernelspec": {
   "display_name": "Python 3",
   "language": "python",
   "name": "python3"
  },
  "language_info": {
   "codemirror_mode": {
    "name": "ipython",
    "version": 3
   },
   "file_extension": ".py",
   "mimetype": "text/x-python",
   "name": "python",
   "nbconvert_exporter": "python",
   "pygments_lexer": "ipython3",
   "version": "3.6.2"
  }
 },
 "nbformat": 4,
 "nbformat_minor": 2
}
