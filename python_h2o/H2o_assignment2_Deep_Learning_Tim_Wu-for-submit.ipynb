{
 "cells": [
  {
   "cell_type": "markdown",
   "metadata": {},
   "source": [
    "H2o Assignmern 2: Project Choice #1\n",
    "\n",
    "http://coursera.h2o.ai/cacao.882.csv\n",
    "\n",
    "This is a regression problem. You have to predict \"Rating\".\n",
    "\n",
    "You should split the data into train, valid and test. Use a seed (of your choice) to make your experiments more reproducible. Alternatively, you can split into just train and test, and then use cross-validation."
   ]
  },
  {
   "cell_type": "markdown",
   "metadata": {},
   "source": [
    "Step one is to start h2o, load your data set, and split it if necessary. By the end of this stage you should have three variables, pointing to three data frames on h2o: train, valid, test. However, if you are choosing to use cross-validation, you will only have two: train and test."
   ]
  },
  {
   "cell_type": "code",
   "execution_count": 1,
   "metadata": {
    "collapsed": true
   },
   "outputs": [],
   "source": [
    "import datetime\n",
    "import math\n",
    "import random\n",
    "import pandas as pd\n",
    "import numpy as np\n",
    "import os, time, sys\n",
    "import warnings\n",
    "warnings.filterwarnings(\"ignore\")\n",
    "\n",
    "nfolds = 5\n",
    "SEED = 123\n",
    "random.seed(SEED)\n",
    "now = datetime.datetime.now()"
   ]
  },
  {
   "cell_type": "code",
   "execution_count": 2,
   "metadata": {},
   "outputs": [
    {
     "name": "stdout",
     "output_type": "stream",
     "text": [
      "Checking whether there is an H2O instance running at http://localhost:54321..... not found.\n",
      "Attempting to start a local H2O server...\n",
      "  Java Version: java version \"1.8.0_102\"; Java(TM) SE Runtime Environment (build 1.8.0_102-b14); Java HotSpot(TM) 64-Bit Server VM (build 25.102-b14, mixed mode)\n",
      "  Starting server from /Users/tim.wu/anaconda3/lib/python3.6/site-packages/h2o/backend/bin/h2o.jar\n",
      "  Ice root: /var/folders/61/sfyb5b517dd3tj1_cdjsx6_w0000gn/T/tmpjhq_3jcu\n",
      "  JVM stdout: /var/folders/61/sfyb5b517dd3tj1_cdjsx6_w0000gn/T/tmpjhq_3jcu/h2o_tim_wu_started_from_python.out\n",
      "  JVM stderr: /var/folders/61/sfyb5b517dd3tj1_cdjsx6_w0000gn/T/tmpjhq_3jcu/h2o_tim_wu_started_from_python.err\n",
      "  Server is running at http://127.0.0.1:54323\n",
      "Connecting to H2O server at http://127.0.0.1:54323... successful.\n"
     ]
    },
    {
     "data": {
      "text/html": [
       "<div style=\"overflow:auto\"><table style=\"width:50%\"><tr><td>H2O cluster uptime:</td>\n",
       "<td>02 secs</td></tr>\n",
       "<tr><td>H2O cluster timezone:</td>\n",
       "<td>America/Los_Angeles</td></tr>\n",
       "<tr><td>H2O data parsing timezone:</td>\n",
       "<td>UTC</td></tr>\n",
       "<tr><td>H2O cluster version:</td>\n",
       "<td>3.22.0.1</td></tr>\n",
       "<tr><td>H2O cluster version age:</td>\n",
       "<td>1 month and 25 days </td></tr>\n",
       "<tr><td>H2O cluster name:</td>\n",
       "<td>H2O_from_python_tim_wu_3h5qh6</td></tr>\n",
       "<tr><td>H2O cluster total nodes:</td>\n",
       "<td>1</td></tr>\n",
       "<tr><td>H2O cluster free memory:</td>\n",
       "<td>3.556 Gb</td></tr>\n",
       "<tr><td>H2O cluster total cores:</td>\n",
       "<td>8</td></tr>\n",
       "<tr><td>H2O cluster allowed cores:</td>\n",
       "<td>8</td></tr>\n",
       "<tr><td>H2O cluster status:</td>\n",
       "<td>accepting new members, healthy</td></tr>\n",
       "<tr><td>H2O connection url:</td>\n",
       "<td>http://127.0.0.1:54323</td></tr>\n",
       "<tr><td>H2O connection proxy:</td>\n",
       "<td>None</td></tr>\n",
       "<tr><td>H2O internal security:</td>\n",
       "<td>False</td></tr>\n",
       "<tr><td>H2O API Extensions:</td>\n",
       "<td>XGBoost, Algos, AutoML, Core V3, Core V4</td></tr>\n",
       "<tr><td>Python version:</td>\n",
       "<td>3.6.2 final</td></tr></table></div>"
      ],
      "text/plain": [
       "--------------------------  ----------------------------------------\n",
       "H2O cluster uptime:         02 secs\n",
       "H2O cluster timezone:       America/Los_Angeles\n",
       "H2O data parsing timezone:  UTC\n",
       "H2O cluster version:        3.22.0.1\n",
       "H2O cluster version age:    1 month and 25 days\n",
       "H2O cluster name:           H2O_from_python_tim_wu_3h5qh6\n",
       "H2O cluster total nodes:    1\n",
       "H2O cluster free memory:    3.556 Gb\n",
       "H2O cluster total cores:    8\n",
       "H2O cluster allowed cores:  8\n",
       "H2O cluster status:         accepting new members, healthy\n",
       "H2O connection url:         http://127.0.0.1:54323\n",
       "H2O connection proxy:\n",
       "H2O internal security:      False\n",
       "H2O API Extensions:         XGBoost, Algos, AutoML, Core V3, Core V4\n",
       "Python version:             3.6.2 final\n",
       "--------------------------  ----------------------------------------"
      ]
     },
     "metadata": {},
     "output_type": "display_data"
    }
   ],
   "source": [
    "#Start H2o\n",
    "import h2o\n",
    "from h2o.grid.grid_search import H2OGridSearch\n",
    "from h2o.estimators.deeplearning import H2ODeepLearningEstimator\n",
    "h2o.init()"
   ]
  },
  {
   "cell_type": "code",
   "execution_count": 3,
   "metadata": {},
   "outputs": [
    {
     "name": "stdout",
     "output_type": "stream",
     "text": [
      "Parse progress: |█████████████████████████████████████████████████████████| 100%\n"
     ]
    }
   ],
   "source": [
    "#load data Set\n",
    "df = h2o.import_file(\"http://coursera.h2o.ai/cacao.882.csv\")"
   ]
  },
  {
   "cell_type": "code",
   "execution_count": 5,
   "metadata": {},
   "outputs": [
    {
     "data": {
      "text/html": [
       "<table>\n",
       "<thead>\n",
       "<tr><th>       </th><th>Maker   </th><th>Origin        </th><th>REF               </th><th>Review Date      </th><th>Cocoa Percent     </th><th>Maker Location  </th><th>Rating            </th><th>Bean Type  </th><th>Bean Origin  </th></tr>\n",
       "</thead>\n",
       "<tbody>\n",
       "<tr><td>type   </td><td>enum    </td><td>enum          </td><td>int               </td><td>int              </td><td>real              </td><td>enum            </td><td>real              </td><td>enum       </td><td>enum         </td></tr>\n",
       "<tr><td>mins   </td><td>        </td><td>              </td><td>5.0               </td><td>2006.0           </td><td>0.42              </td><td>                </td><td>1.0               </td><td>           </td><td>             </td></tr>\n",
       "<tr><td>mean   </td><td>        </td><td>              </td><td>1035.9047353760463</td><td>2012.325348189414</td><td>0.7169832869080772</td><td>                </td><td>3.185933147632313 </td><td>           </td><td>             </td></tr>\n",
       "<tr><td>maxs   </td><td>        </td><td>              </td><td>1952.0            </td><td>2017.0           </td><td>1.0               </td><td>                </td><td>5.0               </td><td>           </td><td>             </td></tr>\n",
       "<tr><td>sigma  </td><td>        </td><td>              </td><td>552.8863650101442 </td><td>2.92721027766861 </td><td>0.0632311833842919</td><td>                </td><td>0.4780623935863306</td><td>           </td><td>             </td></tr>\n",
       "<tr><td>zeros  </td><td>        </td><td>              </td><td>0                 </td><td>0                </td><td>0                 </td><td>                </td><td>0                 </td><td>           </td><td>             </td></tr>\n",
       "<tr><td>missing</td><td>0       </td><td>0             </td><td>0                 </td><td>0                </td><td>0                 </td><td>0               </td><td>0                 </td><td>1          </td><td>1            </td></tr>\n",
       "<tr><td>0      </td><td>A. Morin</td><td>Agua Grande   </td><td>1876.0            </td><td>2016.0           </td><td>0.63              </td><td>France          </td><td>3.75              </td><td>           </td><td>Sao Tome     </td></tr>\n",
       "<tr><td>1      </td><td>A. Morin</td><td>Kpime         </td><td>1676.0            </td><td>2015.0           </td><td>0.7               </td><td>France          </td><td>2.75              </td><td>           </td><td>Togo         </td></tr>\n",
       "<tr><td>2      </td><td>A. Morin</td><td>Atsane        </td><td>1676.0            </td><td>2015.0           </td><td>0.7               </td><td>France          </td><td>3.0               </td><td>           </td><td>Togo         </td></tr>\n",
       "<tr><td>3      </td><td>A. Morin</td><td>Akata         </td><td>1680.0            </td><td>2015.0           </td><td>0.7               </td><td>France          </td><td>3.5               </td><td>           </td><td>Togo         </td></tr>\n",
       "<tr><td>4      </td><td>A. Morin</td><td>Quilla        </td><td>1704.0            </td><td>2015.0           </td><td>0.7               </td><td>France          </td><td>3.5               </td><td>           </td><td>Peru         </td></tr>\n",
       "<tr><td>5      </td><td>A. Morin</td><td>Carenero      </td><td>1315.0            </td><td>2014.0           </td><td>0.7               </td><td>France          </td><td>2.75              </td><td>Criollo    </td><td>Venezuela    </td></tr>\n",
       "<tr><td>6      </td><td>A. Morin</td><td>Cuba          </td><td>1315.0            </td><td>2014.0           </td><td>0.7               </td><td>France          </td><td>3.5               </td><td>           </td><td>Cuba         </td></tr>\n",
       "<tr><td>7      </td><td>A. Morin</td><td>Sur del Lago  </td><td>1315.0            </td><td>2014.0           </td><td>0.7               </td><td>France          </td><td>3.5               </td><td>Criollo    </td><td>Venezuela    </td></tr>\n",
       "<tr><td>8      </td><td>A. Morin</td><td>Puerto Cabello</td><td>1319.0            </td><td>2014.0           </td><td>0.7               </td><td>France          </td><td>3.75              </td><td>Criollo    </td><td>Venezuela    </td></tr>\n",
       "<tr><td>9      </td><td>A. Morin</td><td>Pablino       </td><td>1319.0            </td><td>2014.0           </td><td>0.7               </td><td>France          </td><td>4.0               </td><td>           </td><td>Peru         </td></tr>\n",
       "</tbody>\n",
       "</table>"
      ]
     },
     "metadata": {},
     "output_type": "display_data"
    }
   ],
   "source": [
    "df.summary()"
   ]
  },
  {
   "cell_type": "code",
   "execution_count": 6,
   "metadata": {},
   "outputs": [
    {
     "name": "stdout",
     "output_type": "stream",
     "text": [
      "(1793, 9)\n"
     ]
    }
   ],
   "source": [
    "df = df.na_omit()\n",
    "print(df.shape)"
   ]
  },
  {
   "cell_type": "markdown",
   "metadata": {},
   "source": [
    "Step two is to set x to be the list of columns you will use to train on, to be the column you will learn. Your choice of y decides if it will be a classification or a regression."
   ]
  },
  {
   "cell_type": "code",
   "execution_count": 7,
   "metadata": {
    "collapsed": true
   },
   "outputs": [],
   "source": [
    "train, valid, test = df.split_frame(ratios = [0.8, 0.1], destination_frames = [\"train\", \"valid\", \"test\"], seed=SEED)"
   ]
  },
  {
   "cell_type": "markdown",
   "metadata": {},
   "source": [
    "Step two is to set x to be the list of columns you will use to train on, to be the column you will learn. Your choice of y decides if it will be a classification or a regression."
   ]
  },
  {
   "cell_type": "code",
   "execution_count": 8,
   "metadata": {
    "collapsed": true
   },
   "outputs": [],
   "source": [
    "# Identify predictors and response\n",
    "x = df.columns\n",
    "y = \"Rating\"\n",
    "x.remove(y)"
   ]
  },
  {
   "cell_type": "markdown",
   "metadata": {},
   "source": [
    "Step three is to create a baseline deep learning model. It is recommended to use all default settings (remembering to specify either nfolds or validation_frame); if you want to use different settings you should include a comment in your source file justifying this. Allowable reasons are that the default settings were taking too long on your hardware, or that they were over-fitting. Your script must include timing code."
   ]
  },
  {
   "cell_type": "code",
   "execution_count": 14,
   "metadata": {},
   "outputs": [
    {
     "name": "stdout",
     "output_type": "stream",
     "text": [
      "deeplearning Model Build progress: |██████████████████████████████████████| 100%\n",
      "CPU times: user 162 ms, sys: 133 ms, total: 295 ms\n",
      "Wall time: 4.31 s\n"
     ]
    }
   ],
   "source": [
    "from h2o.estimators.deeplearning import H2ODeepLearningEstimator\n",
    "mDL = H2ODeepLearningEstimator(model_id = \"DeepLearning_model_baseline_\"+now.strftime(\"%Y-%m-%d_%H_%M_%S\"),\n",
    "                               seed = SEED\n",
    "                              )\n",
    "%time mDL.train(x, y, train, validation_frame = valid)"
   ]
  },
  {
   "cell_type": "code",
   "execution_count": 16,
   "metadata": {},
   "outputs": [
    {
     "data": {
      "image/png": "[encoded data removed]",
      "text/plain": [
       "<matplotlib.figure.Figure at 0x10cd18dd8>"
      ]
     },
     "metadata": {},
     "output_type": "display_data"
    }
   ],
   "source": [
    "mDL.plot()"
   ]
  },
  {
   "cell_type": "code",
   "execution_count": 17,
   "metadata": {},
   "outputs": [
    {
     "name": "stdout",
     "output_type": "stream",
     "text": [
      "\n",
      "ModelMetricsRegression: deeplearning\n",
      "** Reported on test data. **\n",
      "\n",
      "MSE: 0.17437369385600593\n",
      "RMSE: 0.4175807632734127\n",
      "MAE: 0.3408845128863432\n",
      "RMSLE: 0.10681860235245275\n",
      "Mean Residual Deviance: 0.17437369385600593\n"
     ]
    },
    {
     "data": {
      "text/plain": []
     },
     "execution_count": 17,
     "metadata": {},
     "output_type": "execute_result"
    }
   ],
   "source": [
    "mDL.model_performance(test) "
   ]
  },
  {
   "cell_type": "markdown",
   "metadata": {
    "collapsed": true
   },
   "source": [
    "Step four is to produce a tuned model, that gives superior performance. However you should use no more than 10 times the running time of your baseline model, so again your script should be timing the model."
   ]
  },
  {
   "cell_type": "markdown",
   "metadata": {},
   "source": [
    "For steps three and four you should include, in comments in your source file, the results in your chosen metric on the train, valid (or cross-validation) and test data sets, as well as the running time. Also include a comment at the top of your script describing how many cores and how much memory you used (you can get both of these from the output of h2o.init())."
   ]
  },
  {
   "cell_type": "code",
   "execution_count": 18,
   "metadata": {
    "collapsed": true
   },
   "outputs": [],
   "source": [
    "### Deep Learning Algorithm\n",
    "\n",
    "activation_opt = [\"RectifierWithDropout\",\n",
    "                  \"TanhWithDropout\"]\n",
    "#L1 & L2 regularization\n",
    "l1_opt = [0, 0.00001,\n",
    "          0.0001,\n",
    "          0.001,\n",
    "          0.01,\n",
    "          0.1]\n",
    "\n",
    "l2_opt = [0, 0.00001,\n",
    "          0.0001,\n",
    "          0.001,\n",
    "          0.01,\n",
    "          0.1]"
   ]
  },
  {
   "cell_type": "code",
   "execution_count": 19,
   "metadata": {
    "collapsed": true
   },
   "outputs": [],
   "source": [
    "# Create the Hyperparameters\n",
    "dl_params = {\n",
    "             'activation': activation_opt,\n",
    "             \"input_dropout_ratio\" : [0,0.05, 0.1],  # input layer dropout ratio to improve generalization. Suggested values are 0.1 or 0.2.\n",
    "             'l1': l1_opt,\n",
    "             'l2': l2_opt,\n",
    "             'hidden_dropout_ratios':[[0.1,0.2,0.3], # hidden layer dropout ratio to improve generalization: one value per hidden layer.\n",
    "                                      [0.1,0.5,0.5],\n",
    "                                      [0.5,0.5,0.5]]\n",
    "             }\n",
    "\n",
    "search_criteria = {\n",
    "                   'strategy': 'RandomDiscrete',\n",
    "                   'max_runtime_secs': 1000,\n",
    "                   'seed':SEED\n",
    "}"
   ]
  },
  {
   "cell_type": "code",
   "execution_count": 20,
   "metadata": {
    "collapsed": true
   },
   "outputs": [],
   "source": [
    "# Prepare the grid object\n",
    "dl_grid = H2OGridSearch(model=H2ODeepLearningEstimator(\n",
    "                                                    epochs = 150,   ## hopefully converges earlier...\n",
    "                                                    adaptive_rate = True,  \n",
    "                                                    stopping_metric=\"AUTO\",\n",
    "                                                    stopping_rounds=2,\n",
    "                                                    stopping_tolerance=0.0005,\n",
    "                                                    hidden=[200,200,200],      ## more hidden layers -> more complex interactions\n",
    "                                                    balance_classes= False,\n",
    "                                                    standardize = True,  # If enabled, automatically standardize the data (mean 0, variance 1). If disabled, the user must provide properly scaled input data.\n",
    "                                                    loss = \"quantile\",  # quantile for regression\n",
    "                                                    seed=SEED\n",
    "                                                    ),\n",
    "                        grid_id='dl_grid'+now.strftime(\"%Y-%m-%d_%H_%M_%S\"),\n",
    "                        hyper_params=dl_params,\n",
    "                        search_criteria=search_criteria)"
   ]
  },
  {
   "cell_type": "raw",
   "metadata": {},
   "source": [
    "# Train the Model\n",
    "start = time.time() \n",
    "dl_grid.train(x=x,y=y, \n",
    "                training_frame=train,\n",
    "                validation_frame=valid\n",
    "                )\n",
    "\n",
    "end = time.time()\n",
    "(end - start)/60"
   ]
  },
  {
   "cell_type": "raw",
   "metadata": {},
   "source": [
    "# Find the Model performance \n",
    "dl_gridperf = dl_grid.get_grid(sort_by='RMSE',decreasing = False)"
   ]
  },
  {
   "cell_type": "raw",
   "metadata": {},
   "source": [
    "dl_gridperf.sorted_metric_table()"
   ]
  },
  {
   "cell_type": "raw",
   "metadata": {},
   "source": [
    "# Identify the best model generated with least error\n",
    "best_dl_model = dl_gridperf.models[0]\n",
    "best_dl_model"
   ]
  },
  {
   "cell_type": "raw",
   "metadata": {},
   "source": [
    "best_dl_model.summary()['units']"
   ]
  },
  {
   "cell_type": "raw",
   "metadata": {},
   "source": [
    "best_dl_model.plot()"
   ]
  },
  {
   "cell_type": "raw",
   "metadata": {},
   "source": [
    "best_dl_model.model_performance(test) "
   ]
  },
  {
   "cell_type": "markdown",
   "metadata": {},
   "source": [
    "Step five is to save both your models, to your local disk, and they should be submitted with your script. Use saveModel() (in R) or save_model() (Python), to export the binary version of the model. (Do not export a POJO.)"
   ]
  },
  {
   "cell_type": "code",
   "execution_count": 40,
   "metadata": {
    "collapsed": true
   },
   "outputs": [],
   "source": [
    "mDL2 = H2ODeepLearningEstimator(model_id = \"DeepLearning_model_best_\"+now.strftime(\"%Y-%m-%d_%H_%M_%S\"),\n",
    "                                epochs = 80,   ## hopefully converges earlier...\n",
    "                                score_validation_samples=10000,  # downsample validation set for faster scoring\n",
    "                                score_duty_cycle=0.025,          # don't score more than 2.5% of the wall time\n",
    "                                adaptive_rate=False,             # manually tuned learning rate\n",
    "                                rate=0.01, \n",
    "                                rate_annealing=0.000002,            \n",
    "                                momentum_start=0.2,              # manually tuned momentum\n",
    "                                momentum_stable=0.4, \n",
    "                                momentum_ramp=10000000, \n",
    "                                #adaptive_rate = True,  \n",
    "                                stopping_metric=\"AUTO\", # use early stopping to avoid overfitting\n",
    "                                stopping_rounds=2,\n",
    "                                stopping_tolerance=0.0005,\n",
    "                                hidden=[200,200,200],      ## more hidden layers -> more complex interactions\n",
    "                                balance_classes= False,\n",
    "                                standardize = True,  # If enabled, automatically standardize the data (mean 0, variance 1). If disabled, the user must provide properly scaled input data.\n",
    "                                loss = \"quantile\",  # quantile for regression\n",
    "                                seed=SEED,\n",
    "                                activation = \"RectifierWithDropout\",\n",
    "                                hidden_dropout_ratios = [0.1, 0.5, 0.5], \n",
    "                                input_dropout_ratio = 0.05,\n",
    "                                l1=1.0E-5,                      \n",
    "                                l2=0.01\n",
    "                               )\n"
   ]
  },
  {
   "cell_type": "code",
   "execution_count": 41,
   "metadata": {},
   "outputs": [
    {
     "name": "stdout",
     "output_type": "stream",
     "text": [
      "deeplearning Model Build progress: |██████████████████████████████████████| 100%\n",
      "CPU times: user 243 ms, sys: 190 ms, total: 432 ms\n",
      "Wall time: 20.1 s\n"
     ]
    }
   ],
   "source": [
    "%time mDL2.train(x, y, training_frame=train,validation_frame=valid)"
   ]
  },
  {
   "cell_type": "code",
   "execution_count": 42,
   "metadata": {},
   "outputs": [
    {
     "data": {
      "image/png": "[encoded data removed]",
      "text/plain": [
       "<matplotlib.figure.Figure at 0x11063fbe0>"
      ]
     },
     "metadata": {},
     "output_type": "display_data"
    }
   ],
   "source": [
    "mDL2.plot()"
   ]
  },
  {
   "cell_type": "code",
   "execution_count": 43,
   "metadata": {},
   "outputs": [
    {
     "name": "stdout",
     "output_type": "stream",
     "text": [
      "\n",
      "ModelMetricsRegression: deeplearning\n",
      "** Reported on test data. **\n",
      "\n",
      "MSE: 0.18218255404395914\n",
      "RMSE: 0.42682848316854294\n",
      "MAE: 0.3235138450106631\n",
      "RMSLE: 0.10996925274199085\n",
      "Mean Residual Deviance: 0.16175692250533155\n"
     ]
    },
    {
     "data": {
      "text/plain": []
     },
     "execution_count": 43,
     "metadata": {},
     "output_type": "execute_result"
    }
   ],
   "source": [
    "mDL2.model_performance(valid) "
   ]
  },
  {
   "cell_type": "code",
   "execution_count": 44,
   "metadata": {},
   "outputs": [
    {
     "name": "stdout",
     "output_type": "stream",
     "text": [
      "\n",
      "ModelMetricsRegression: deeplearning\n",
      "** Reported on test data. **\n",
      "\n",
      "MSE: 0.17192888065994577\n",
      "RMSE: 0.4146430762233294\n",
      "MAE: 0.3283172569034881\n",
      "RMSLE: 0.10773891967730584\n",
      "Mean Residual Deviance: 0.16415862845174406\n"
     ]
    },
    {
     "data": {
      "text/plain": []
     },
     "execution_count": 44,
     "metadata": {},
     "output_type": "execute_result"
    }
   ],
   "source": [
    "mDL2.model_performance(test) "
   ]
  },
  {
   "cell_type": "code",
   "execution_count": 34,
   "metadata": {},
   "outputs": [
    {
     "data": {
      "text/plain": [
       "'/Users/tim.wu/Documents/Programming_Code/python_code/python_h2o'"
      ]
     },
     "execution_count": 34,
     "metadata": {},
     "output_type": "execute_result"
    }
   ],
   "source": [
    "cwd = os.getcwd()\n",
    "cwd"
   ]
  },
  {
   "cell_type": "code",
   "execution_count": null,
   "metadata": {
    "collapsed": true
   },
   "outputs": [],
   "source": [
    "h2o.save_model(mDL, path = cwd + \"/H2o_model_Base_deep_learning\")"
   ]
  },
  {
   "cell_type": "code",
   "execution_count": null,
   "metadata": {
    "collapsed": true
   },
   "outputs": [],
   "source": [
    "h2o.save_model(mDL2, path = cwd + \"/H2o_model_BEST_deep_learning\")"
   ]
  },
  {
   "cell_type": "markdown",
   "metadata": {},
   "source": [
    "Step six is to save your script, shutdown h2o, and run your script again in a fresh session to be sure the results are reproducible, and that there are no bugs. This is a very important step: scripts that do not run might fail to be graded."
   ]
  },
  {
   "cell_type": "raw",
   "metadata": {
    "collapsed": true
   },
   "source": [
    "Additional Guidelines:\n",
    "\n",
    "Also include some justification that your tuned model has not over-fitted. If you have used early stopping, pointing that out should be sufficient.\n",
    "\n",
    "Make sure your script is clear, easy to understand for other students, and no longer than it needs to be. (It is unlikely to need to be more than 60 lines.)\n",
    "\n",
    "You may use a grid search to discover good parameters. However do not include it in your final script.\n",
    "\n",
    "You may use AutoML to get ideas; however do not include it in your final script, and remember you must use a single deep learning model: no other algorithms, no ensembles."
   ]
  },
  {
   "cell_type": "code",
   "execution_count": null,
   "metadata": {
    "collapsed": true
   },
   "outputs": [],
   "source": [
    "h2o.cluster().shutdown()"
   ]
  }
 ],
 "metadata": {
  "kernelspec": {
   "display_name": "Python 3",
   "language": "python",
   "name": "python3"
  },
  "language_info": {
   "codemirror_mode": {
    "name": "ipython",
    "version": 3
   },
   "file_extension": ".py",
   "mimetype": "text/x-python",
   "name": "python",
   "nbconvert_exporter": "python",
   "pygments_lexer": "ipython3",
   "version": "3.6.2"
  }
 },
 "nbformat": 4,
 "nbformat_minor": 2
}
