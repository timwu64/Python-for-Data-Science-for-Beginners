{
 "cells": [
  {
   "cell_type": "code",
   "execution_count": 3,
   "metadata": {
    "collapsed": true
   },
   "outputs": [],
   "source": [
    "import pandas as pd\n",
    "import numpy as np\n",
    "import h2o\n",
    "from h2o.estimators.deeplearning import H2ODeepLearningEstimator\n",
    "from h2o.estimators.glm import H2OGeneralizedLinearEstimator\n",
    "from h2o.estimators.gbm import H2OGradientBoostingEstimator\n",
    "from h2o.estimators.stackedensemble import H2OStackedEnsembleEstimator\n",
    "from h2o.estimators.random_forest import H2ORandomForestEstimator\n",
    "import time \n",
    "import datetime\n",
    "from datetime import datetime"
   ]
  },
  {
   "cell_type": "code",
   "execution_count": 4,
   "metadata": {},
   "outputs": [
    {
     "name": "stdout",
     "output_type": "stream",
     "text": [
      "Checking whether there is an H2O instance running at http://localhost:54321..... not found.\n"
     ]
    },
    {
     "ename": "H2OStartupError",
     "evalue": "Cannot start local server: h2o.jar not found. Paths searched:\n    /Users/tim.wu/anaconda3/lib/python3.6/site-packages/h2o/backend/bin/h2o.jar\n    /Users/tim.wu/anaconda3/h2o_jar/h2o.jar\n    /usr/local/h2o_jar/h2o.jar\n    /Users/tim.wu/anaconda3/local/h2o_jar/h2o.jar\n    /Users/tim.wu/.local/h2o_jar/h2o.jar\n    /Users/tim.wu/anaconda3/h2o_jar/h2o.jar\n",
     "output_type": "error",
     "traceback": [
      "\u001b[0;31m---------------------------------------------------------------------------\u001b[0m",
      "\u001b[0;31mH2OConnectionError\u001b[0m                        Traceback (most recent call last)",
      "\u001b[0;32m~/anaconda3/lib/python3.6/site-packages/h2o/h2o.py\u001b[0m in \u001b[0;36minit\u001b[0;34m(url, ip, port, name, https, insecure, username, password, cookies, proxy, start_h2o, nthreads, ice_root, log_dir, log_level, enable_assertions, max_mem_size, min_mem_size, strict_version_check, ignore_config, extra_classpath, jvm_custom_args, bind_to_localhost, **kwargs)\u001b[0m\n\u001b[1;32m    263\u001b[0m                                      _msgs=(\"Checking whether there is an H2O instance running at {url}\",\n\u001b[0;32m--> 264\u001b[0;31m                                             \"connected.\", \"not found.\"))\n\u001b[0m\u001b[1;32m    265\u001b[0m     \u001b[0;32mexcept\u001b[0m \u001b[0mH2OConnectionError\u001b[0m\u001b[0;34m:\u001b[0m\u001b[0;34m\u001b[0m\u001b[0m\n",
      "\u001b[0;32m~/anaconda3/lib/python3.6/site-packages/h2o/backend/connection.py\u001b[0m in \u001b[0;36mopen\u001b[0;34m(server, url, ip, port, name, https, auth, verify_ssl_certificates, proxy, cookies, verbose, _msgs)\u001b[0m\n\u001b[1;32m    322\u001b[0m             \u001b[0mconn\u001b[0m\u001b[0;34m.\u001b[0m\u001b[0m_timeout\u001b[0m \u001b[0;34m=\u001b[0m \u001b[0;36m3.0\u001b[0m\u001b[0;34m\u001b[0m\u001b[0m\n\u001b[0;32m--> 323\u001b[0;31m             \u001b[0mconn\u001b[0m\u001b[0;34m.\u001b[0m\u001b[0m_cluster\u001b[0m \u001b[0;34m=\u001b[0m \u001b[0mconn\u001b[0m\u001b[0;34m.\u001b[0m\u001b[0m_test_connection\u001b[0m\u001b[0;34m(\u001b[0m\u001b[0mretries\u001b[0m\u001b[0;34m,\u001b[0m \u001b[0mmessages\u001b[0m\u001b[0;34m=\u001b[0m\u001b[0m_msgs\u001b[0m\u001b[0;34m)\u001b[0m\u001b[0;34m\u001b[0m\u001b[0m\n\u001b[0m\u001b[1;32m    324\u001b[0m             \u001b[0;31m# If a server is unable to respond within 1s, it should be considered a bug. However we disable this\u001b[0m\u001b[0;34m\u001b[0m\u001b[0;34m\u001b[0m\u001b[0m\n",
      "\u001b[0;32m~/anaconda3/lib/python3.6/site-packages/h2o/backend/connection.py\u001b[0m in \u001b[0;36m_test_connection\u001b[0;34m(self, max_retries, messages)\u001b[0m\n\u001b[1;32m    602\u001b[0m             raise H2OConnectionError(\"Could not establish link to the H2O cloud %s after %d retries\\n%s\"\n\u001b[0;32m--> 603\u001b[0;31m                                      % (self._base_url, max_retries, \"\\n\".join(errors)))\n\u001b[0m\u001b[1;32m    604\u001b[0m \u001b[0;34m\u001b[0m\u001b[0m\n",
      "\u001b[0;31mH2OConnectionError\u001b[0m: Could not establish link to the H2O cloud http://localhost:54321 after 5 retries\n[42:13.00] H2OConnectionError: Unexpected HTTP error: HTTPConnectionPool(host='localhost', port=54321): Max retries exceeded with url: /3/Cloud (Caused by NewConnectionError('<urllib3.connection.HTTPConnection object at 0x10b2bd5c0>: Failed to establish a new connection: [Errno 61] Connection refused',))\n[42:13.21] H2OConnectionError: Unexpected HTTP error: HTTPConnectionPool(host='localhost', port=54321): Max retries exceeded with url: /3/Cloud (Caused by NewConnectionError('<urllib3.connection.HTTPConnection object at 0x10b2bd860>: Failed to establish a new connection: [Errno 61] Connection refused',))\n[42:13.42] H2OConnectionError: Unexpected HTTP error: HTTPConnectionPool(host='localhost', port=54321): Max retries exceeded with url: /3/Cloud (Caused by NewConnectionError('<urllib3.connection.HTTPConnection object at 0x10b2bd6a0>: Failed to establish a new connection: [Errno 61] Connection refused',))\n[42:13.63] H2OConnectionError: Unexpected HTTP error: HTTPConnectionPool(host='localhost', port=54321): Max retries exceeded with url: /3/Cloud (Caused by NewConnectionError('<urllib3.connection.HTTPConnection object at 0x10b3ac4e0>: Failed to establish a new connection: [Errno 61] Connection refused',))\n[42:13.84] H2OConnectionError: Unexpected HTTP error: HTTPConnectionPool(host='localhost', port=54321): Max retries exceeded with url: /3/Cloud (Caused by NewConnectionError('<urllib3.connection.HTTPConnection object at 0x10b3acba8>: Failed to establish a new connection: [Errno 61] Connection refused',))",
      "\nDuring handling of the above exception, another exception occurred:\n",
      "\u001b[0;31mH2OStartupError\u001b[0m                           Traceback (most recent call last)",
      "\u001b[0;32m<ipython-input-4-10c687143935>\u001b[0m in \u001b[0;36m<module>\u001b[0;34m()\u001b[0m\n\u001b[0;32m----> 1\u001b[0;31m \u001b[0mh2o\u001b[0m\u001b[0;34m.\u001b[0m\u001b[0minit\u001b[0m\u001b[0;34m(\u001b[0m\u001b[0;34m)\u001b[0m \u001b[0;31m# start h2o\u001b[0m\u001b[0;34m\u001b[0m\u001b[0m\n\u001b[0m\u001b[1;32m      2\u001b[0m \u001b[0;31m# 2 cluster 1.759Gb\u001b[0m\u001b[0;34m\u001b[0m\u001b[0;34m\u001b[0m\u001b[0m\n",
      "\u001b[0;32m~/anaconda3/lib/python3.6/site-packages/h2o/h2o.py\u001b[0m in \u001b[0;36minit\u001b[0;34m(url, ip, port, name, https, insecure, username, password, cookies, proxy, start_h2o, nthreads, ice_root, log_dir, log_level, enable_assertions, max_mem_size, min_mem_size, strict_version_check, ignore_config, extra_classpath, jvm_custom_args, bind_to_localhost, **kwargs)\u001b[0m\n\u001b[1;32m    274\u001b[0m                                   \u001b[0mport\u001b[0m\u001b[0;34m=\u001b[0m\u001b[0mport\u001b[0m\u001b[0;34m,\u001b[0m \u001b[0mname\u001b[0m\u001b[0;34m=\u001b[0m\u001b[0mname\u001b[0m\u001b[0;34m,\u001b[0m\u001b[0;34m\u001b[0m\u001b[0m\n\u001b[1;32m    275\u001b[0m                                   \u001b[0mextra_classpath\u001b[0m\u001b[0;34m=\u001b[0m\u001b[0mextra_classpath\u001b[0m\u001b[0;34m,\u001b[0m \u001b[0mjvm_custom_args\u001b[0m\u001b[0;34m=\u001b[0m\u001b[0mjvm_custom_args\u001b[0m\u001b[0;34m,\u001b[0m\u001b[0;34m\u001b[0m\u001b[0m\n\u001b[0;32m--> 276\u001b[0;31m                                   bind_to_localhost=bind_to_localhost)\n\u001b[0m\u001b[1;32m    277\u001b[0m         h2oconn = H2OConnection.open(server=hs, https=https, verify_ssl_certificates=not insecure,\n\u001b[1;32m    278\u001b[0m                                      auth=auth, proxy=proxy,cookies=cookies, verbose=True)\n",
      "\u001b[0;32m~/anaconda3/lib/python3.6/site-packages/h2o/backend/server.py\u001b[0m in \u001b[0;36mstart\u001b[0;34m(jar_path, nthreads, enable_assertions, max_mem_size, min_mem_size, ice_root, log_dir, log_level, port, name, extra_classpath, verbose, jvm_custom_args, bind_to_localhost)\u001b[0m\n\u001b[1;32m    125\u001b[0m         \u001b[0mhs\u001b[0m \u001b[0;34m=\u001b[0m \u001b[0mH2OLocalServer\u001b[0m\u001b[0;34m(\u001b[0m\u001b[0;34m)\u001b[0m\u001b[0;34m\u001b[0m\u001b[0m\n\u001b[1;32m    126\u001b[0m         \u001b[0mhs\u001b[0m\u001b[0;34m.\u001b[0m\u001b[0m_verbose\u001b[0m \u001b[0;34m=\u001b[0m \u001b[0mbool\u001b[0m\u001b[0;34m(\u001b[0m\u001b[0mverbose\u001b[0m\u001b[0;34m)\u001b[0m\u001b[0;34m\u001b[0m\u001b[0m\n\u001b[0;32m--> 127\u001b[0;31m         \u001b[0mhs\u001b[0m\u001b[0;34m.\u001b[0m\u001b[0m_jar_path\u001b[0m \u001b[0;34m=\u001b[0m \u001b[0mhs\u001b[0m\u001b[0;34m.\u001b[0m\u001b[0m_find_jar\u001b[0m\u001b[0;34m(\u001b[0m\u001b[0mjar_path\u001b[0m\u001b[0;34m)\u001b[0m\u001b[0;34m\u001b[0m\u001b[0m\n\u001b[0m\u001b[1;32m    128\u001b[0m         \u001b[0mhs\u001b[0m\u001b[0;34m.\u001b[0m\u001b[0m_extra_classpath\u001b[0m \u001b[0;34m=\u001b[0m \u001b[0mextra_classpath\u001b[0m\u001b[0;34m\u001b[0m\u001b[0m\n\u001b[1;32m    129\u001b[0m         \u001b[0mhs\u001b[0m\u001b[0;34m.\u001b[0m\u001b[0m_ice_root\u001b[0m \u001b[0;34m=\u001b[0m \u001b[0mice_root\u001b[0m\u001b[0;34m\u001b[0m\u001b[0m\n",
      "\u001b[0;32m~/anaconda3/lib/python3.6/site-packages/h2o/backend/server.py\u001b[0m in \u001b[0;36m_find_jar\u001b[0;34m(self, path0)\u001b[0m\n\u001b[1;32m    226\u001b[0m                 \u001b[0;32mreturn\u001b[0m \u001b[0mjp\u001b[0m\u001b[0;34m\u001b[0m\u001b[0m\n\u001b[1;32m    227\u001b[0m         raise H2OStartupError(\"Cannot start local server: h2o.jar not found. Paths searched:\\n\" +\n\u001b[0;32m--> 228\u001b[0;31m                               \"\".join(\"    %s\\n\" % s for s in searched_paths))\n\u001b[0m\u001b[1;32m    229\u001b[0m \u001b[0;34m\u001b[0m\u001b[0m\n\u001b[1;32m    230\u001b[0m     \u001b[0;34m@\u001b[0m\u001b[0mstaticmethod\u001b[0m\u001b[0;34m\u001b[0m\u001b[0m\n",
      "\u001b[0;31mH2OStartupError\u001b[0m: Cannot start local server: h2o.jar not found. Paths searched:\n    /Users/tim.wu/anaconda3/lib/python3.6/site-packages/h2o/backend/bin/h2o.jar\n    /Users/tim.wu/anaconda3/h2o_jar/h2o.jar\n    /usr/local/h2o_jar/h2o.jar\n    /Users/tim.wu/anaconda3/local/h2o_jar/h2o.jar\n    /Users/tim.wu/.local/h2o_jar/h2o.jar\n    /Users/tim.wu/anaconda3/h2o_jar/h2o.jar\n"
     ]
    }
   ],
   "source": [
    "h2o.init() # start h2o\n",
    "# 2 cluster 1.759Gb"
   ]
  },
  {
   "cell_type": "code",
   "execution_count": 3,
   "metadata": {},
   "outputs": [
    {
     "name": "stdout",
     "output_type": "stream",
     "text": [
      "Parse progress: |█████████████████████████████████████████████████████████| 100%\n"
     ]
    }
   ],
   "source": [
    "dataPath = \"http://coursera.h2o.ai/house_data.3487.csv\"\n",
    "data = h2o.import_file(path=dataPath)  # import dataset to h2oframe"
   ]
  },
  {
   "cell_type": "code",
   "execution_count": 4,
   "metadata": {
    "collapsed": true
   },
   "outputs": [],
   "source": [
    "# generate date feature to year and month\n",
    "data['year'] = data['date'].substring(0,4)\n",
    "data['month'] = data['date'].substring(4,6)\n",
    "# transform some features to categorical features\n",
    "data['waterfront'] =  data['waterfront'].asfactor()\n",
    "data['view'] =  data['view'].asfactor()\n",
    "data['condition'] =  data['condition'].asfactor()\n",
    "data['grade'] =  data['grade'].asfactor()\n",
    "data['zipcode'] =  data['zipcode'].asfactor()\n",
    "data['year'] =  data['year'].asfactor()\n",
    "data['month'] =  data['month'].asfactor()\n",
    "# split 90% for train and 10% for test\n",
    "data_split = data.split_frame(ratios=[0.9],seed=123)  \n",
    "train = data_split[0]\n",
    "test = data_split[1]\n",
    "X = ['bedrooms','bathrooms','sqft_living',\n",
    "     'sqft_lot','floors','waterfront',\n",
    "     'view','condition','grade',\n",
    "     'sqft_above','sqft_basement','yr_built',\n",
    "     'yr_renovated','zipcode','lat',\n",
    "     'long','sqft_living15','sqft_lot15']\n",
    "y = 'price'"
   ]
  },
  {
   "cell_type": "code",
   "execution_count": 5,
   "metadata": {},
   "outputs": [
    {
     "name": "stdout",
     "output_type": "stream",
     "text": [
      "glm Model Build progress: |███████████████████████████████████████████████| 100%\n",
      "rmse for penalized regression model:151138.85161107054\n"
     ]
    }
   ],
   "source": [
    "# train a linear regression model in 10-fold cross validation with lasso regularization \n",
    "# set seed to make sure reproducible\n",
    "model_v1 = H2OGeneralizedLinearEstimator(family= \"gaussian\", lambda_= 0.1, alpha = 1,\n",
    "                                         nfolds = 10, seed = 123,keep_cross_validation_predictions=True)\n",
    "model_v1.train(X, y, training_frame= train)\n",
    "print('rmse for penalized regression model:{}'.format(model_v1.rmse(xval=True)))\n",
    "#h2o.save_model(model=model_v1, path=\"/mymodel\", force=True) # save model"
   ]
  },
  {
   "cell_type": "code",
   "execution_count": 6,
   "metadata": {},
   "outputs": [
    {
     "name": "stdout",
     "output_type": "stream",
     "text": [
      "gbm Model Build progress: |███████████████████████████████████████████████| 100%\n",
      "rmse for GBM model:122640.99558214223\n"
     ]
    }
   ],
   "source": [
    "# train a gbm model in 10-fold cross validation \n",
    "# set seed to make sure reproducible\n",
    "model_v2 = H2OGradientBoostingEstimator(\n",
    "    ntrees=400,\n",
    "    learn_rate=0.2,\n",
    "    max_depth=8,\n",
    "    stopping_tolerance=0.01, \n",
    "    stopping_rounds=2,\n",
    "    score_each_iteration=True,\n",
    "    seed=123,\n",
    "    nfolds = 10,\n",
    "    keep_cross_validation_predictions=True\n",
    ")\n",
    "model_v2.train(X, y, training_frame= train)\n",
    "print('rmse for GBM model:{}'.format(model_v2.rmse(xval=True)))\n",
    "#h2o.save_model(model=model_v2, path=\"/mymodel\", force=True) # save model"
   ]
  },
  {
   "cell_type": "code",
   "execution_count": 7,
   "metadata": {},
   "outputs": [
    {
     "name": "stdout",
     "output_type": "stream",
     "text": [
      "drf Model Build progress: |███████████████████████████████████████████████| 100%\n",
      "rmse for RF model:137898.55625461036\n"
     ]
    }
   ],
   "source": [
    "# train a random forest  model in 10-fold cross validation \n",
    "# set seed to make sure reproducible\n",
    "model_v3 = H2ORandomForestEstimator(\n",
    "    ntrees=50,\n",
    "    max_depth=10,\n",
    "    stopping_tolerance=0.01, \n",
    "    stopping_rounds=2,\n",
    "    score_each_iteration=True,\n",
    "    seed=123,\n",
    "    nfolds = 10,\n",
    "    keep_cross_validation_predictions=True\n",
    ")\n",
    "model_v3.train(X, y, training_frame= train)\n",
    "print('rmse for RF model:{}'.format(model_v3.rmse(xval=True)))\n",
    "#h2o.save_model(model=model_v3, path=\"/mymodel\", force=True) # save model"
   ]
  },
  {
   "cell_type": "code",
   "execution_count": 8,
   "metadata": {},
   "outputs": [
    {
     "name": "stdout",
     "output_type": "stream",
     "text": [
      "deeplearning Model Build progress: |██████████████████████████████████████| 100%\n",
      "rmse for DL model:126786.24420521386\n"
     ]
    }
   ],
   "source": [
    "# train a deep learning model in 10-fold cross validation \n",
    "# set seed to make sure reproducible\n",
    "model_v4 = H2ODeepLearningEstimator(epochs=10,\n",
    "                                    nfolds=10,\n",
    "                                    seed=123,\n",
    "                                    l1=1e-5,\n",
    "                                    l2=1e-5,\n",
    "                                    activation=\"RectifierWithDropout\",\n",
    "                                    hidden=[256,512,64],\n",
    "                                    input_dropout_ratio = 0.1,\n",
    "                                    hidden_dropout_ratios = [0.15,0.2,0.05],\n",
    "                                    keep_cross_validation_predictions=True)\n",
    "model_v4.train(X, y, training_frame= train)\n",
    "print('rmse for DL model:{}'.format(model_v4.rmse(xval=True)))\n",
    "#h2o.save_model(model=model_v4, path=\"/mymodel\", force=True) # save model"
   ]
  },
  {
   "cell_type": "code",
   "execution_count": 9,
   "metadata": {},
   "outputs": [
    {
     "name": "stdout",
     "output_type": "stream",
     "text": [
      "stackedensemble Model Build progress: |███████████████████████████████████| 100%\n",
      "rmse for ensemble model:101659.27596982196\n"
     ]
    }
   ],
   "source": [
    "# train a ensemble model based on four models above\n",
    "# set seed to make sure reproducible\n",
    "ensemble = H2OStackedEnsembleEstimator(base_models=[model_v4,model_v3, model_v2,model_v1],\n",
    "                                       metalearner_algorithm = 'deeplearning',seed=123, \n",
    "                                       metalearner_params = {'hidden':[128,384,512],'activation':\"RectifierWithDropout\",\n",
    "                                                             'input_dropout_ratio': 0.1}\n",
    "                                       )\n",
    "ensemble.train(X, y, training_frame=train)\n",
    "print('rmse for ensemble model:{}'.format(ensemble.rmse()))\n",
    "#h2o.save_model(model=ensemble, path=\"/mymodel\", force=True) # save model"
   ]
  },
  {
   "cell_type": "code",
   "execution_count": 10,
   "metadata": {},
   "outputs": [
    {
     "name": "stdout",
     "output_type": "stream",
     "text": [
      "\n",
      "ModelMetricsRegression: stackedensemble\n",
      "** Reported on test data. **\n",
      "\n",
      "MSE: 15337386361.086788\n",
      "RMSE: 123844.2019679839\n",
      "MAE: 71817.28892240314\n",
      "RMSLE: 0.17790808317400533\n",
      "Mean Residual Deviance: 15337386361.086788\n"
     ]
    },
    {
     "data": {
      "text/plain": []
     },
     "execution_count": 10,
     "metadata": {},
     "output_type": "execute_result"
    }
   ],
   "source": [
    "# get the model performance on test set\n",
    "ensemble.model_performance(test)\n",
    "\n",
    "## the RMSE is 121,523 which is an RMSE below 123,000."
   ]
  },
  {
   "cell_type": "code",
   "execution_count": 11,
   "metadata": {},
   "outputs": [
    {
     "name": "stdout",
     "output_type": "stream",
     "text": [
      "H2O session _sid_81e8 closed.\n"
     ]
    }
   ],
   "source": [
    "h2o.cluster().shutdown()"
   ]
  }
 ],
 "metadata": {
  "kernelspec": {
   "display_name": "Python 3",
   "language": "python",
   "name": "python3"
  },
  "language_info": {
   "codemirror_mode": {
    "name": "ipython",
    "version": 3
   },
   "file_extension": ".py",
   "mimetype": "text/x-python",
   "name": "python",
   "nbconvert_exporter": "python",
   "pygments_lexer": "ipython3",
   "version": "3.6.2"
  }
 },
 "nbformat": 4,
 "nbformat_minor": 2
}
