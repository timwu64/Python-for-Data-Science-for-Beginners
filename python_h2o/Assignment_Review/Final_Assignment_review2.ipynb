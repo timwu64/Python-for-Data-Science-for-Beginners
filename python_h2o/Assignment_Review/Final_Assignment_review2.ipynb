{
 "cells": [
  {
   "cell_type": "code",
   "execution_count": 1,
   "metadata": {
    "collapsed": true
   },
   "outputs": [],
   "source": [
    "import h2o\n",
    "import h2o.grid\n",
    "import numpy as np\n",
    "import pandas as pd\n",
    "import matplotlib.pyplot as plt\n",
    "%matplotlib inline"
   ]
  },
  {
   "cell_type": "code",
   "execution_count": 2,
   "metadata": {},
   "outputs": [
    {
     "name": "stdout",
     "output_type": "stream",
     "text": [
      "Checking whether there is an H2O instance running at http://localhost:54321..... not found.\n",
      "Attempting to start a local H2O server...\n",
      "  Java Version: java version \"1.8.0_102\"; Java(TM) SE Runtime Environment (build 1.8.0_102-b14); Java HotSpot(TM) 64-Bit Server VM (build 25.102-b14, mixed mode)\n",
      "  Starting server from /Users/tim.wu/anaconda3/lib/python3.6/site-packages/h2o/backend/bin/h2o.jar\n",
      "  Ice root: /var/folders/61/sfyb5b517dd3tj1_cdjsx6_w0000gn/T/tmpqu2pbefy\n",
      "  JVM stdout: /var/folders/61/sfyb5b517dd3tj1_cdjsx6_w0000gn/T/tmpqu2pbefy/h2o_tim_wu_started_from_python.out\n",
      "  JVM stderr: /var/folders/61/sfyb5b517dd3tj1_cdjsx6_w0000gn/T/tmpqu2pbefy/h2o_tim_wu_started_from_python.err\n",
      "  Server is running at http://127.0.0.1:54321\n",
      "Connecting to H2O server at http://127.0.0.1:54321... successful.\n"
     ]
    },
    {
     "data": {
      "text/html": [
       "<div style=\"overflow:auto\"><table style=\"width:50%\"><tr><td>H2O cluster uptime:</td>\n",
       "<td>02 secs</td></tr>\n",
       "<tr><td>H2O cluster timezone:</td>\n",
       "<td>America/New_York</td></tr>\n",
       "<tr><td>H2O data parsing timezone:</td>\n",
       "<td>UTC</td></tr>\n",
       "<tr><td>H2O cluster version:</td>\n",
       "<td>3.22.0.3</td></tr>\n",
       "<tr><td>H2O cluster version age:</td>\n",
       "<td>17 days </td></tr>\n",
       "<tr><td>H2O cluster name:</td>\n",
       "<td>H2O_from_python_tim_wu_evl5e7</td></tr>\n",
       "<tr><td>H2O cluster total nodes:</td>\n",
       "<td>1</td></tr>\n",
       "<tr><td>H2O cluster free memory:</td>\n",
       "<td>3.556 Gb</td></tr>\n",
       "<tr><td>H2O cluster total cores:</td>\n",
       "<td>8</td></tr>\n",
       "<tr><td>H2O cluster allowed cores:</td>\n",
       "<td>8</td></tr>\n",
       "<tr><td>H2O cluster status:</td>\n",
       "<td>accepting new members, healthy</td></tr>\n",
       "<tr><td>H2O connection url:</td>\n",
       "<td>http://127.0.0.1:54321</td></tr>\n",
       "<tr><td>H2O connection proxy:</td>\n",
       "<td>None</td></tr>\n",
       "<tr><td>H2O internal security:</td>\n",
       "<td>False</td></tr>\n",
       "<tr><td>H2O API Extensions:</td>\n",
       "<td>XGBoost, Algos, AutoML, Core V3, Core V4</td></tr>\n",
       "<tr><td>Python version:</td>\n",
       "<td>3.6.2 final</td></tr></table></div>"
      ],
      "text/plain": [
       "--------------------------  ----------------------------------------\n",
       "H2O cluster uptime:         02 secs\n",
       "H2O cluster timezone:       America/New_York\n",
       "H2O data parsing timezone:  UTC\n",
       "H2O cluster version:        3.22.0.3\n",
       "H2O cluster version age:    17 days\n",
       "H2O cluster name:           H2O_from_python_tim_wu_evl5e7\n",
       "H2O cluster total nodes:    1\n",
       "H2O cluster free memory:    3.556 Gb\n",
       "H2O cluster total cores:    8\n",
       "H2O cluster allowed cores:  8\n",
       "H2O cluster status:         accepting new members, healthy\n",
       "H2O connection url:         http://127.0.0.1:54321\n",
       "H2O connection proxy:\n",
       "H2O internal security:      False\n",
       "H2O API Extensions:         XGBoost, Algos, AutoML, Core V3, Core V4\n",
       "Python version:             3.6.2 final\n",
       "--------------------------  ----------------------------------------"
      ]
     },
     "metadata": {},
     "output_type": "display_data"
    }
   ],
   "source": [
    "h2o.init()"
   ]
  },
  {
   "cell_type": "code",
   "execution_count": 3,
   "metadata": {},
   "outputs": [
    {
     "name": "stdout",
     "output_type": "stream",
     "text": [
      "Parse progress: |█████████████████████████████████████████████████████████| 100%\n"
     ]
    }
   ],
   "source": [
    "data = h2o.import_file(\"http://coursera.h2o.ai/house_data.3487.csv\")"
   ]
  },
  {
   "cell_type": "raw",
   "metadata": {
    "collapsed": true
   },
   "source": [
    "data['date'] = data['date'].as_date(\"%yyyy%mm%dd\")"
   ]
  },
  {
   "cell_type": "raw",
   "metadata": {
    "collapsed": true
   },
   "source": [
    "data[\"Month\"] = data['date'].month()\n",
    "data[\"Year\"] = data['date'].year()"
   ]
  },
  {
   "cell_type": "code",
   "execution_count": 4,
   "metadata": {},
   "outputs": [],
   "source": [
    "train,test = data.split_frame(ratios=[0.9],seed=123) "
   ]
  },
  {
   "cell_type": "code",
   "execution_count": 5,
   "metadata": {},
   "outputs": [
    {
     "name": "stdout",
     "output_type": "stream",
     "text": [
      "19462/2151/21/21\n"
     ]
    }
   ],
   "source": [
    "print (\"%d/%d/%d/%d\" % (train.nrows, test.nrows, train.ncols, test.ncols))"
   ]
  },
  {
   "cell_type": "code",
   "execution_count": 6,
   "metadata": {},
   "outputs": [
    {
     "data": {
      "text/html": [
       "<table>\n",
       "<thead>\n",
       "<tr><th>       </th><th>id                </th><th>date           </th><th>price            </th><th>bedrooms          </th><th>bathrooms         </th><th>sqft_living      </th><th>sqft_lot          </th><th>floors            </th><th>waterfront          </th><th>view               </th><th>condition         </th><th>grade             </th><th>sqft_above        </th><th>sqft_basement    </th><th>yr_built          </th><th>yr_renovated     </th><th>zipcode          </th><th>lat                </th><th>long               </th><th>sqft_living15    </th><th>sqft_lot15        </th></tr>\n",
       "</thead>\n",
       "<tbody>\n",
       "<tr><td>type   </td><td>int               </td><td>enum           </td><td>int              </td><td>int               </td><td>real              </td><td>int              </td><td>int               </td><td>real              </td><td>int                 </td><td>int                </td><td>int               </td><td>int               </td><td>int               </td><td>int              </td><td>int               </td><td>int              </td><td>int              </td><td>real               </td><td>real               </td><td>int              </td><td>int               </td></tr>\n",
       "<tr><td>mins   </td><td>1000102.0         </td><td>               </td><td>78000.0          </td><td>0.0               </td><td>0.0               </td><td>290.0            </td><td>520.0             </td><td>1.0               </td><td>0.0                 </td><td>0.0                </td><td>1.0               </td><td>1.0               </td><td>290.0             </td><td>0.0              </td><td>1900.0            </td><td>0.0              </td><td>98001.0          </td><td>47.1559            </td><td>-122.519           </td><td>399.0            </td><td>651.0             </td></tr>\n",
       "<tr><td>mean   </td><td>4581346684.730702 </td><td>               </td><td>539982.6266056903</td><td>3.371544548350645 </td><td>2.114787791593865 </td><td>2079.184050971123</td><td>15049.536429966145</td><td>1.4942451957661036</td><td>0.007758709279621827</td><td>0.23610112013153875</td><td>3.4110574452779696</td><td>7.653375809269368 </td><td>1787.3764772376937</td><td>291.8075737334292</td><td>1970.9579179940415</td><td>85.32422155996302</td><td>98077.92934950143</td><td>47.559901757270644 </td><td>-122.21393207275716</td><td>1986.878121467476</td><td>12751.246891378067</td></tr>\n",
       "<tr><td>maxs   </td><td>9900000190.0      </td><td>               </td><td>7700000.0        </td><td>33.0              </td><td>8.0               </td><td>13540.0          </td><td>1651359.0         </td><td>3.5               </td><td>1.0                 </td><td>4.0                </td><td>5.0               </td><td>13.0              </td><td>9410.0            </td><td>4820.0           </td><td>2015.0            </td><td>2015.0           </td><td>98199.0          </td><td>47.7776            </td><td>-121.315           </td><td>6110.0           </td><td>871200.0          </td></tr>\n",
       "<tr><td>sigma  </td><td>2877897558.1014643</td><td>               </td><td>367405.7690093323</td><td>0.9338745899199743</td><td>0.7692910360146942</td><td>916.094109851376 </td><td>41715.737486865284</td><td>0.5391204063036162</td><td>0.08774341739744204 </td><td>0.7682525499631796 </td><td>0.6516291472858844</td><td>1.1725776077521208</td><td>823.9362690250998 </td><td>442.580967470654 </td><td>29.434671803146365</td><td>403.7773508064845</td><td>53.50027882462719</td><td>0.13857786757276008</td><td>0.14089074181959535</td><td>681.7492280247506</td><td>27417.599795212253</td></tr>\n",
       "<tr><td>zeros  </td><td>0                 </td><td>               </td><td>0                </td><td>13                </td><td>9                 </td><td>0                </td><td>0                 </td><td>0                 </td><td>19311               </td><td>17531              </td><td>0                 </td><td>0                 </td><td>0                 </td><td>11805            </td><td>0                 </td><td>18630            </td><td>0                </td><td>0                  </td><td>0                  </td><td>0                </td><td>0                 </td></tr>\n",
       "<tr><td>missing</td><td>0                 </td><td>0              </td><td>0                </td><td>0                 </td><td>0                 </td><td>0                </td><td>0                 </td><td>0                 </td><td>0                   </td><td>0                  </td><td>0                 </td><td>0                 </td><td>0                 </td><td>0                </td><td>0                 </td><td>0                </td><td>0                </td><td>0                  </td><td>0                  </td><td>0                </td><td>0                 </td></tr>\n",
       "<tr><td>0      </td><td>7129300520.0      </td><td>20141013T000000</td><td>221900.0         </td><td>3.0               </td><td>1.0               </td><td>1180.0           </td><td>5650.0            </td><td>1.0               </td><td>0.0                 </td><td>0.0                </td><td>3.0               </td><td>7.0               </td><td>1180.0            </td><td>0.0              </td><td>1955.0            </td><td>0.0              </td><td>98178.0          </td><td>47.5112            </td><td>-122.257           </td><td>1340.0           </td><td>5650.0            </td></tr>\n",
       "<tr><td>1      </td><td>6414100192.0      </td><td>20141209T000000</td><td>538000.0         </td><td>3.0               </td><td>2.25              </td><td>2570.0           </td><td>7242.0            </td><td>2.0               </td><td>0.0                 </td><td>0.0                </td><td>3.0               </td><td>7.0               </td><td>2170.0            </td><td>400.0            </td><td>1951.0            </td><td>1991.0           </td><td>98125.0          </td><td>47.721             </td><td>-122.319           </td><td>1690.0           </td><td>7639.0            </td></tr>\n",
       "<tr><td>2      </td><td>5631500400.0      </td><td>20150225T000000</td><td>180000.0         </td><td>2.0               </td><td>1.0               </td><td>770.0            </td><td>10000.0           </td><td>1.0               </td><td>0.0                 </td><td>0.0                </td><td>3.0               </td><td>6.0               </td><td>770.0             </td><td>0.0              </td><td>1933.0            </td><td>0.0              </td><td>98028.0          </td><td>47.7379            </td><td>-122.233           </td><td>2720.0           </td><td>8062.0            </td></tr>\n",
       "<tr><td>3      </td><td>2487200875.0      </td><td>20141209T000000</td><td>604000.0         </td><td>4.0               </td><td>3.0               </td><td>1960.0           </td><td>5000.0            </td><td>1.0               </td><td>0.0                 </td><td>0.0                </td><td>5.0               </td><td>7.0               </td><td>1050.0            </td><td>910.0            </td><td>1965.0            </td><td>0.0              </td><td>98136.0          </td><td>47.5208            </td><td>-122.393           </td><td>1360.0           </td><td>5000.0            </td></tr>\n",
       "<tr><td>4      </td><td>1954400510.0      </td><td>20150218T000000</td><td>510000.0         </td><td>3.0               </td><td>2.0               </td><td>1680.0           </td><td>8080.0            </td><td>1.0               </td><td>0.0                 </td><td>0.0                </td><td>3.0               </td><td>8.0               </td><td>1680.0            </td><td>0.0              </td><td>1987.0            </td><td>0.0              </td><td>98074.0          </td><td>47.6168            </td><td>-122.045           </td><td>1800.0           </td><td>7503.0            </td></tr>\n",
       "<tr><td>5      </td><td>7237550310.0      </td><td>20140512T000000</td><td>1225000.0        </td><td>4.0               </td><td>4.5               </td><td>5420.0           </td><td>101930.0          </td><td>1.0               </td><td>0.0                 </td><td>0.0                </td><td>3.0               </td><td>11.0              </td><td>3890.0            </td><td>1530.0           </td><td>2001.0            </td><td>0.0              </td><td>98053.0          </td><td>47.6561            </td><td>-122.005           </td><td>4760.0           </td><td>101930.0          </td></tr>\n",
       "<tr><td>6      </td><td>1321400060.0      </td><td>20140627T000000</td><td>257500.0         </td><td>3.0               </td><td>2.25              </td><td>1715.0           </td><td>6819.0            </td><td>2.0               </td><td>0.0                 </td><td>0.0                </td><td>3.0               </td><td>7.0               </td><td>1715.0            </td><td>0.0              </td><td>1995.0            </td><td>0.0              </td><td>98003.0          </td><td>47.3097            </td><td>-122.327           </td><td>2238.0           </td><td>6819.0            </td></tr>\n",
       "<tr><td>7      </td><td>2008000270.0      </td><td>20150115T000000</td><td>291850.0         </td><td>3.0               </td><td>1.5               </td><td>1060.0           </td><td>9711.0            </td><td>1.0               </td><td>0.0                 </td><td>0.0                </td><td>3.0               </td><td>7.0               </td><td>1060.0            </td><td>0.0              </td><td>1963.0            </td><td>0.0              </td><td>98198.0          </td><td>47.4095            </td><td>-122.315           </td><td>1650.0           </td><td>9711.0            </td></tr>\n",
       "<tr><td>8      </td><td>1736800520.0      </td><td>20150403T000000</td><td>662500.0         </td><td>3.0               </td><td>2.5               </td><td>3560.0           </td><td>9796.0            </td><td>1.0               </td><td>0.0                 </td><td>0.0                </td><td>3.0               </td><td>8.0               </td><td>1860.0            </td><td>1700.0           </td><td>1965.0            </td><td>0.0              </td><td>98007.0          </td><td>47.6007            </td><td>-122.145           </td><td>2210.0           </td><td>8925.0            </td></tr>\n",
       "<tr><td>9      </td><td>9212900260.0      </td><td>20140527T000000</td><td>468000.0         </td><td>2.0               </td><td>1.0               </td><td>1160.0           </td><td>6000.0            </td><td>1.0               </td><td>0.0                 </td><td>0.0                </td><td>4.0               </td><td>7.0               </td><td>860.0             </td><td>300.0            </td><td>1942.0            </td><td>0.0              </td><td>98115.0          </td><td>47.69              </td><td>-122.292           </td><td>1330.0           </td><td>6000.0            </td></tr>\n",
       "</tbody>\n",
       "</table>"
      ]
     },
     "metadata": {},
     "output_type": "display_data"
    }
   ],
   "source": [
    "train.summary()"
   ]
  },
  {
   "cell_type": "code",
   "execution_count": 7,
   "metadata": {
    "collapsed": true
   },
   "outputs": [],
   "source": [
    "y=\"price\"\n",
    "x=[i for i in train.names if i not in y]\n",
    "#x = data.drop('price') \n",
    "#xAll=[\"Maker\",\"Origin\",\"REF\",\"Review Date\",\"Cocoa Percent\",\"Rating\",\"Bean Type\",\"Bean Origin\"]\n",
    "#xall_1=train[:,train.names!=\"Maker Location\"]"
   ]
  },
  {
   "cell_type": "code",
   "execution_count": 8,
   "metadata": {
    "collapsed": true
   },
   "outputs": [],
   "source": [
    "nflods=5"
   ]
  },
  {
   "cell_type": "code",
   "execution_count": 9,
   "metadata": {
    "collapsed": true
   },
   "outputs": [],
   "source": [
    "from h2o.automl import H2OAutoML"
   ]
  },
  {
   "cell_type": "code",
   "execution_count": 10,
   "metadata": {},
   "outputs": [
    {
     "name": "stdout",
     "output_type": "stream",
     "text": [
      "AutoML progress: |████████████████████████████████████████████████████████| 100%\n"
     ]
    }
   ],
   "source": [
    "mA=H2OAutoML(max_runtime_secs=120)\n",
    "mA.train(x,y,train)"
   ]
  },
  {
   "cell_type": "code",
   "execution_count": 11,
   "metadata": {
    "collapsed": true
   },
   "outputs": [],
   "source": [
    "lb=mA.leaderboard"
   ]
  },
  {
   "cell_type": "code",
   "execution_count": 12,
   "metadata": {},
   "outputs": [
    {
     "data": {
      "text/html": [
       "<table>\n",
       "<thead>\n",
       "<tr><th>model_id                                           </th><th style=\"text-align: right;\">  mean_residual_deviance</th><th style=\"text-align: right;\">  rmse</th><th style=\"text-align: right;\">        mse</th><th style=\"text-align: right;\">     mae</th><th style=\"text-align: right;\">   rmsle</th></tr>\n",
       "</thead>\n",
       "<tbody>\n",
       "<tr><td>XRT_1_AutoML_20190108_005811                       </td><td style=\"text-align: right;\">             1.81539e+10</td><td style=\"text-align: right;\">134737</td><td style=\"text-align: right;\">1.81539e+10</td><td style=\"text-align: right;\"> 73773.2</td><td style=\"text-align: right;\">0.184945</td></tr>\n",
       "<tr><td>DRF_1_AutoML_20190108_005811                       </td><td style=\"text-align: right;\">             2.93618e+10</td><td style=\"text-align: right;\">171353</td><td style=\"text-align: right;\">2.93618e+10</td><td style=\"text-align: right;\"> 87247.9</td><td style=\"text-align: right;\">0.207474</td></tr>\n",
       "<tr><td>StackedEnsemble_AllModels_AutoML_20190108_005811   </td><td style=\"text-align: right;\">             1.3395e+11 </td><td style=\"text-align: right;\">365991</td><td style=\"text-align: right;\">1.3395e+11 </td><td style=\"text-align: right;\">232435  </td><td style=\"text-align: right;\">0.544775</td></tr>\n",
       "<tr><td>StackedEnsemble_BestOfFamily_AutoML_20190108_005811</td><td style=\"text-align: right;\">             1.3395e+11 </td><td style=\"text-align: right;\">365991</td><td style=\"text-align: right;\">1.3395e+11 </td><td style=\"text-align: right;\">232435  </td><td style=\"text-align: right;\">0.544775</td></tr>\n",
       "<tr><td>GLM_grid_1_AutoML_20190108_005811_model_1          </td><td style=\"text-align: right;\">             1.34995e+11</td><td style=\"text-align: right;\">367417</td><td style=\"text-align: right;\">1.34995e+11</td><td style=\"text-align: right;\">233459  </td><td style=\"text-align: right;\">0.547183</td></tr>\n",
       "</tbody>\n",
       "</table>"
      ]
     },
     "metadata": {},
     "output_type": "display_data"
    },
    {
     "data": {
      "text/plain": []
     },
     "execution_count": 12,
     "metadata": {},
     "output_type": "execute_result"
    }
   ],
   "source": [
    "lb.head()"
   ]
  },
  {
   "cell_type": "code",
   "execution_count": 13,
   "metadata": {},
   "outputs": [
    {
     "name": "stdout",
     "output_type": "stream",
     "text": [
      "\n",
      "ModelMetricsRegression: drf\n",
      "** Reported on test data. **\n",
      "\n",
      "MSE: 16889143216.861649\n",
      "RMSE: 129958.23643333133\n",
      "MAE: 73665.25957098446\n",
      "RMSLE: 0.18028189456903745\n",
      "Mean Residual Deviance: 16889143216.861649\n"
     ]
    },
    {
     "data": {
      "text/plain": []
     },
     "execution_count": 13,
     "metadata": {},
     "output_type": "execute_result"
    }
   ],
   "source": [
    "mA.leader.model_performance(test)"
   ]
  },
  {
   "cell_type": "code",
   "execution_count": 14,
   "metadata": {},
   "outputs": [
    {
     "name": "stdout",
     "output_type": "stream",
     "text": [
      "drf prediction progress: |████████████████████████████████████████████████| 100%\n"
     ]
    }
   ],
   "source": [
    "p=mA.leader.predict(test)"
   ]
  },
  {
   "cell_type": "code",
   "execution_count": 15,
   "metadata": {
    "collapsed": true
   },
   "outputs": [],
   "source": [
    "from h2o.estimators.random_forest import H2ORandomForestEstimator"
   ]
  },
  {
   "cell_type": "code",
   "execution_count": 16,
   "metadata": {},
   "outputs": [
    {
     "name": "stdout",
     "output_type": "stream",
     "text": [
      "drf Model Build progress: |███████████████████████████████████████████████| 100%\n"
     ]
    }
   ],
   "source": [
    "mRF=H2ORandomForestEstimator(\n",
    "model_id=\"drf_def\",\n",
    "nfolds=5,\n",
    "    fold_assignment=\"modulo\",\n",
    "    keep_cross_validation_predictions=True\n",
    ")\n",
    "mRF.train(x,y,train)"
   ]
  },
  {
   "cell_type": "code",
   "execution_count": 17,
   "metadata": {},
   "outputs": [
    {
     "name": "stdout",
     "output_type": "stream",
     "text": [
      "Model Details\n",
      "=============\n",
      "H2ORandomForestEstimator :  Distributed Random Forest\n",
      "Model Key:  drf_def\n",
      "\n",
      "\n",
      "ModelMetricsRegression: drf\n",
      "** Reported on train data. **\n",
      "\n",
      "MSE: 28038468908.876617\n",
      "RMSE: 167446.91370364703\n",
      "MAE: 85720.1580648325\n",
      "RMSLE: 0.20457946594859563\n",
      "Mean Residual Deviance: 28038468908.876617\n",
      "\n",
      "ModelMetricsRegression: drf\n",
      "** Reported on cross-validation data. **\n",
      "\n",
      "MSE: 29117521510.35245\n",
      "RMSE: 170638.5698204027\n",
      "MAE: 85795.62858213286\n",
      "RMSLE: 0.20377011665294348\n",
      "Mean Residual Deviance: 29117521510.35245\n",
      "Cross-Validation Metrics Summary: \n"
     ]
    },
    {
     "data": {
      "text/html": [
       "<div style=\"overflow:auto\"><table style=\"width:50%\"><tr><td><b></b></td>\n",
       "<td><b>mean</b></td>\n",
       "<td><b>sd</b></td>\n",
       "<td><b>cv_1_valid</b></td>\n",
       "<td><b>cv_2_valid</b></td>\n",
       "<td><b>cv_3_valid</b></td>\n",
       "<td><b>cv_4_valid</b></td>\n",
       "<td><b>cv_5_valid</b></td></tr>\n",
       "<tr><td>mae</td>\n",
       "<td>85795.54</td>\n",
       "<td>1129.7909</td>\n",
       "<td>85483.9</td>\n",
       "<td>87824.55</td>\n",
       "<td>87439.24</td>\n",
       "<td>84431.4</td>\n",
       "<td>83798.625</td></tr>\n",
       "<tr><td>mean_residual_deviance</td>\n",
       "<td>29117390800.0000000</td>\n",
       "<td>1893660800.0000000</td>\n",
       "<td>28216066000.0000000</td>\n",
       "<td>32560422900.0000000</td>\n",
       "<td>29790519300.0000000</td>\n",
       "<td>30474088400.0000000</td>\n",
       "<td>24545857500.0000000</td></tr>\n",
       "<tr><td>mse</td>\n",
       "<td>29117390800.0000000</td>\n",
       "<td>1893660800.0000000</td>\n",
       "<td>28216066000.0000000</td>\n",
       "<td>32560422900.0000000</td>\n",
       "<td>29790519300.0000000</td>\n",
       "<td>30474088400.0000000</td>\n",
       "<td>24545857500.0000000</td></tr>\n",
       "<tr><td>r2</td>\n",
       "<td>0.784643</td>\n",
       "<td>0.0078183</td>\n",
       "<td>0.7929554</td>\n",
       "<td>0.7751129</td>\n",
       "<td>0.7783322</td>\n",
       "<td>0.7745658</td>\n",
       "<td>0.8022488</td></tr>\n",
       "<tr><td>residual_deviance</td>\n",
       "<td>29117390800.0000000</td>\n",
       "<td>1893660800.0000000</td>\n",
       "<td>28216066000.0000000</td>\n",
       "<td>32560422900.0000000</td>\n",
       "<td>29790519300.0000000</td>\n",
       "<td>30474088400.0000000</td>\n",
       "<td>24545857500.0000000</td></tr>\n",
       "<tr><td>rmse</td>\n",
       "<td>170452.05</td>\n",
       "<td>5634.3237</td>\n",
       "<td>167976.39</td>\n",
       "<td>180445.06</td>\n",
       "<td>172599.3</td>\n",
       "<td>174568.3</td>\n",
       "<td>156671.17</td></tr>\n",
       "<tr><td>rmsle</td>\n",
       "<td>0.2037656</td>\n",
       "<td>0.0009415</td>\n",
       "<td>0.2049506</td>\n",
       "<td>0.2054741</td>\n",
       "<td>0.2026826</td>\n",
       "<td>0.2037900</td>\n",
       "<td>0.2019308</td></tr></table></div>"
      ],
      "text/plain": [
       "                        mean         sd           cv_1_valid    cv_2_valid    cv_3_valid    cv_4_valid    cv_5_valid\n",
       "----------------------  -----------  -----------  ------------  ------------  ------------  ------------  ------------\n",
       "mae                     85795.5      1129.79      85483.9       87824.6       87439.2       84431.4       83798.6\n",
       "mean_residual_deviance  2.91174e+10  1.89366e+09  2.82161e+10   3.25604e+10   2.97905e+10   3.04741e+10   2.45459e+10\n",
       "mse                     2.91174e+10  1.89366e+09  2.82161e+10   3.25604e+10   2.97905e+10   3.04741e+10   2.45459e+10\n",
       "r2                      0.784643     0.00781829   0.792955      0.775113      0.778332      0.774566      0.802249\n",
       "residual_deviance       2.91174e+10  1.89366e+09  2.82161e+10   3.25604e+10   2.97905e+10   3.04741e+10   2.45459e+10\n",
       "rmse                    170452       5634.32      167976        180445        172599        174568        156671\n",
       "rmsle                   0.203766     0.000941452  0.204951      0.205474      0.202683      0.20379       0.201931"
      ]
     },
     "metadata": {},
     "output_type": "display_data"
    },
    {
     "name": "stdout",
     "output_type": "stream",
     "text": [
      "Scoring History: \n"
     ]
    },
    {
     "data": {
      "text/html": [
       "<div style=\"overflow:auto\"><table style=\"width:50%\"><tr><td><b></b></td>\n",
       "<td><b>timestamp</b></td>\n",
       "<td><b>duration</b></td>\n",
       "<td><b>number_of_trees</b></td>\n",
       "<td><b>training_rmse</b></td>\n",
       "<td><b>training_mae</b></td>\n",
       "<td><b>training_deviance</b></td></tr>\n",
       "<tr><td></td>\n",
       "<td>2019-01-08 01:00:38</td>\n",
       "<td>19.798 sec</td>\n",
       "<td>0.0</td>\n",
       "<td>nan</td>\n",
       "<td>nan</td>\n",
       "<td>nan</td></tr>\n",
       "<tr><td></td>\n",
       "<td>2019-01-08 01:00:38</td>\n",
       "<td>19.969 sec</td>\n",
       "<td>1.0</td>\n",
       "<td>230888.3495877</td>\n",
       "<td>127904.4683304</td>\n",
       "<td>53309429975.3452072</td></tr>\n",
       "<tr><td></td>\n",
       "<td>2019-01-08 01:00:38</td>\n",
       "<td>20.136 sec</td>\n",
       "<td>2.0</td>\n",
       "<td>226251.5370050</td>\n",
       "<td>123766.0936481</td>\n",
       "<td>51189757997.1289673</td></tr>\n",
       "<tr><td></td>\n",
       "<td>2019-01-08 01:00:38</td>\n",
       "<td>20.308 sec</td>\n",
       "<td>3.0</td>\n",
       "<td>222489.4015623</td>\n",
       "<td>119148.4930793</td>\n",
       "<td>49501533807.5323792</td></tr>\n",
       "<tr><td></td>\n",
       "<td>2019-01-08 01:00:38</td>\n",
       "<td>20.473 sec</td>\n",
       "<td>4.0</td>\n",
       "<td>220294.5761533</td>\n",
       "<td>115960.7668363</td>\n",
       "<td>48529700282.5502167</td></tr>\n",
       "<tr><td>---</td>\n",
       "<td>---</td>\n",
       "<td>---</td>\n",
       "<td>---</td>\n",
       "<td>---</td>\n",
       "<td>---</td>\n",
       "<td>---</td></tr>\n",
       "<tr><td></td>\n",
       "<td>2019-01-08 01:00:41</td>\n",
       "<td>23.368 sec</td>\n",
       "<td>22.0</td>\n",
       "<td>176064.2914328</td>\n",
       "<td>90709.1349365</td>\n",
       "<td>30998634717.7450027</td></tr>\n",
       "<tr><td></td>\n",
       "<td>2019-01-08 01:00:41</td>\n",
       "<td>23.527 sec</td>\n",
       "<td>23.0</td>\n",
       "<td>175432.4512928</td>\n",
       "<td>90236.3961580</td>\n",
       "<td>30776544966.6093216</td></tr>\n",
       "<tr><td></td>\n",
       "<td>2019-01-08 01:00:41</td>\n",
       "<td>23.680 sec</td>\n",
       "<td>24.0</td>\n",
       "<td>174449.4853771</td>\n",
       "<td>89841.4530288</td>\n",
       "<td>30432622948.3324432</td></tr>\n",
       "<tr><td></td>\n",
       "<td>2019-01-08 01:00:45</td>\n",
       "<td>27.759 sec</td>\n",
       "<td>47.0</td>\n",
       "<td>167814.3904195</td>\n",
       "<td>85971.1826879</td>\n",
       "<td>28161669631.8657494</td></tr>\n",
       "<tr><td></td>\n",
       "<td>2019-01-08 01:00:46</td>\n",
       "<td>28.252 sec</td>\n",
       "<td>50.0</td>\n",
       "<td>167446.9137036</td>\n",
       "<td>85720.1580648</td>\n",
       "<td>28038468908.8766174</td></tr></table></div>"
      ],
      "text/plain": [
       "     timestamp            duration    number_of_trees    training_rmse       training_mae        training_deviance\n",
       "---  -------------------  ----------  -----------------  ------------------  ------------------  -------------------\n",
       "     2019-01-08 01:00:38  19.798 sec  0.0                nan                 nan                 nan\n",
       "     2019-01-08 01:00:38  19.969 sec  1.0                230888.34958772868  127904.46833041958  53309429975.34521\n",
       "     2019-01-08 01:00:38  20.136 sec  2.0                226251.537005009    123766.09364806306  51189757997.12897\n",
       "     2019-01-08 01:00:38  20.308 sec  3.0                222489.40156225953  119148.49307932568  49501533807.53238\n",
       "     2019-01-08 01:00:38  20.473 sec  4.0                220294.57615327305  115960.76683626256  48529700282.55022\n",
       "---  ---                  ---         ---                ---                 ---                 ---\n",
       "     2019-01-08 01:00:41  23.368 sec  22.0               176064.29143283144  90709.13493647744   30998634717.745003\n",
       "     2019-01-08 01:00:41  23.527 sec  23.0               175432.45129282473  90236.39615799165   30776544966.60932\n",
       "     2019-01-08 01:00:41  23.680 sec  24.0               174449.48537709258  89841.45302876309   30432622948.332443\n",
       "     2019-01-08 01:00:45  27.759 sec  47.0               167814.39041949218  85971.1826879445    28161669631.86575\n",
       "     2019-01-08 01:00:46  28.252 sec  50.0               167446.91370364703  85720.1580648325    28038468908.876617"
      ]
     },
     "metadata": {},
     "output_type": "display_data"
    },
    {
     "name": "stdout",
     "output_type": "stream",
     "text": [
      "\n",
      "See the whole table with table.as_data_frame()\n",
      "Variable Importances: \n"
     ]
    },
    {
     "data": {
      "text/html": [
       "<div style=\"overflow:auto\"><table style=\"width:50%\"><tr><td><b>variable</b></td>\n",
       "<td><b>relative_importance</b></td>\n",
       "<td><b>scaled_importance</b></td>\n",
       "<td><b>percentage</b></td></tr>\n",
       "<tr><td>grade</td>\n",
       "<td>22675894019555328.0000000</td>\n",
       "<td>1.0</td>\n",
       "<td>0.2367860</td></tr>\n",
       "<tr><td>sqft_living</td>\n",
       "<td>19772743088078848.0000000</td>\n",
       "<td>0.8719719</td>\n",
       "<td>0.2064707</td></tr>\n",
       "<tr><td>date</td>\n",
       "<td>13524825171558400.0000000</td>\n",
       "<td>0.5964407</td>\n",
       "<td>0.1412288</td></tr>\n",
       "<tr><td>lat</td>\n",
       "<td>9123984784228352.0000000</td>\n",
       "<td>0.4023649</td>\n",
       "<td>0.0952744</td></tr>\n",
       "<tr><td>sqft_living15</td>\n",
       "<td>6757197958610944.0000000</td>\n",
       "<td>0.2979904</td>\n",
       "<td>0.0705599</td></tr>\n",
       "<tr><td>sqft_above</td>\n",
       "<td>5127715820666880.0000000</td>\n",
       "<td>0.2261307</td>\n",
       "<td>0.0535446</td></tr>\n",
       "<tr><td>bathrooms</td>\n",
       "<td>4961540314759168.0000000</td>\n",
       "<td>0.2188024</td>\n",
       "<td>0.0518093</td></tr>\n",
       "<tr><td>long</td>\n",
       "<td>2827622857834496.0000000</td>\n",
       "<td>0.1246973</td>\n",
       "<td>0.0295266</td></tr>\n",
       "<tr><td>view</td>\n",
       "<td>2552536376541184.0000000</td>\n",
       "<td>0.1125661</td>\n",
       "<td>0.0266541</td></tr>\n",
       "<tr><td>yr_built</td>\n",
       "<td>1995621523259392.0000000</td>\n",
       "<td>0.0880063</td>\n",
       "<td>0.0208387</td></tr>\n",
       "<tr><td>waterfront</td>\n",
       "<td>1579154784911360.0000000</td>\n",
       "<td>0.0696402</td>\n",
       "<td>0.0164898</td></tr>\n",
       "<tr><td>sqft_basement</td>\n",
       "<td>1477222594510848.0000000</td>\n",
       "<td>0.0651451</td>\n",
       "<td>0.0154254</td></tr>\n",
       "<tr><td>zipcode</td>\n",
       "<td>1017495670489088.0000000</td>\n",
       "<td>0.0448712</td>\n",
       "<td>0.0106249</td></tr>\n",
       "<tr><td>id</td>\n",
       "<td>564691092897792.0000000</td>\n",
       "<td>0.0249027</td>\n",
       "<td>0.0058966</td></tr>\n",
       "<tr><td>sqft_lot15</td>\n",
       "<td>461914672988160.0000000</td>\n",
       "<td>0.0203703</td>\n",
       "<td>0.0048234</td></tr>\n",
       "<tr><td>sqft_lot</td>\n",
       "<td>396547854434304.0000000</td>\n",
       "<td>0.0174876</td>\n",
       "<td>0.0041408</td></tr>\n",
       "<tr><td>bedrooms</td>\n",
       "<td>321956888969216.0000000</td>\n",
       "<td>0.0141982</td>\n",
       "<td>0.0033619</td></tr>\n",
       "<tr><td>condition</td>\n",
       "<td>268523821596672.0000000</td>\n",
       "<td>0.0118418</td>\n",
       "<td>0.0028040</td></tr>\n",
       "<tr><td>floors</td>\n",
       "<td>194169129664512.0000000</td>\n",
       "<td>0.0085628</td>\n",
       "<td>0.0020276</td></tr>\n",
       "<tr><td>yr_renovated</td>\n",
       "<td>164007654719488.0000000</td>\n",
       "<td>0.0072327</td>\n",
       "<td>0.0017126</td></tr></table></div>"
      ],
      "text/plain": [
       "variable       relative_importance    scaled_importance    percentage\n",
       "-------------  ---------------------  -------------------  ------------\n",
       "grade          2.26759e+16            1                    0.236786\n",
       "sqft_living    1.97727e+16            0.871972             0.206471\n",
       "date           1.35248e+16            0.596441             0.141229\n",
       "lat            9.12398e+15            0.402365             0.0952744\n",
       "sqft_living15  6.7572e+15             0.29799              0.0705599\n",
       "sqft_above     5.12772e+15            0.226131             0.0535446\n",
       "bathrooms      4.96154e+15            0.218802             0.0518093\n",
       "long           2.82762e+15            0.124697             0.0295266\n",
       "view           2.55254e+15            0.112566             0.0266541\n",
       "yr_built       1.99562e+15            0.0880063            0.0208387\n",
       "waterfront     1.57915e+15            0.0696402            0.0164898\n",
       "sqft_basement  1.47722e+15            0.0651451            0.0154254\n",
       "zipcode        1.0175e+15             0.0448712            0.0106249\n",
       "id             5.64691e+14            0.0249027            0.00589661\n",
       "sqft_lot15     4.61915e+14            0.0203703            0.0048234\n",
       "sqft_lot       3.96548e+14            0.0174876            0.00414083\n",
       "bedrooms       3.21957e+14            0.0141982            0.00336193\n",
       "condition      2.68524e+14            0.0118418            0.00280398\n",
       "floors         1.94169e+14            0.0085628            0.00202755\n",
       "yr_renovated   1.64008e+14            0.00723269           0.0017126"
      ]
     },
     "metadata": {},
     "output_type": "display_data"
    },
    {
     "data": {
      "text/plain": []
     },
     "execution_count": 17,
     "metadata": {},
     "output_type": "execute_result"
    }
   ],
   "source": [
    "mRF"
   ]
  },
  {
   "cell_type": "code",
   "execution_count": 18,
   "metadata": {},
   "outputs": [
    {
     "name": "stdout",
     "output_type": "stream",
     "text": [
      "\n",
      "ModelMetricsRegression: drf\n",
      "** Reported on test data. **\n",
      "\n",
      "MSE: 26426870685.00187\n",
      "RMSE: 162563.43587966473\n",
      "MAE: 84535.73160143531\n",
      "RMSLE: 0.19992887022475014\n",
      "Mean Residual Deviance: 26426870685.00187\n"
     ]
    },
    {
     "data": {
      "text/plain": []
     },
     "execution_count": 18,
     "metadata": {},
     "output_type": "execute_result"
    }
   ],
   "source": [
    "mRF.model_performance(test)"
   ]
  },
  {
   "cell_type": "code",
   "execution_count": 19,
   "metadata": {
    "collapsed": true
   },
   "outputs": [],
   "source": [
    "from h2o.estimators.gbm import H2OGradientBoostingEstimator"
   ]
  },
  {
   "cell_type": "code",
   "execution_count": 20,
   "metadata": {},
   "outputs": [
    {
     "name": "stdout",
     "output_type": "stream",
     "text": [
      "gbm Model Build progress: |███████████████████████████████████████████████| 100%\n"
     ]
    }
   ],
   "source": [
    "mGBM=H2OGradientBoostingEstimator(\n",
    "model_id=\"gbm_def\",\n",
    "nfolds=5,\n",
    "    fold_assignment=\"modulo\",\n",
    "    keep_cross_validation_predictions=True\n",
    ")\n",
    "mGBM.train(x,y,train)"
   ]
  },
  {
   "cell_type": "code",
   "execution_count": 21,
   "metadata": {},
   "outputs": [
    {
     "name": "stdout",
     "output_type": "stream",
     "text": [
      "Model Details\n",
      "=============\n",
      "H2OGradientBoostingEstimator :  Gradient Boosting Machine\n",
      "Model Key:  gbm_def\n",
      "\n",
      "\n",
      "ModelMetricsRegression: gbm\n",
      "** Reported on train data. **\n",
      "\n",
      "MSE: 7214563241.334981\n",
      "RMSE: 84938.58511498164\n",
      "MAE: 57130.61318932407\n",
      "RMSLE: 0.1585972039968085\n",
      "Mean Residual Deviance: 7214563241.334981\n",
      "\n",
      "ModelMetricsRegression: gbm\n",
      "** Reported on cross-validation data. **\n",
      "\n",
      "MSE: 31179074005.286102\n",
      "RMSE: 176575.97233283496\n",
      "MAE: 87517.50733495587\n",
      "RMSLE: 0.20725104217182955\n",
      "Mean Residual Deviance: 31179074005.286102\n",
      "Cross-Validation Metrics Summary: \n"
     ]
    },
    {
     "data": {
      "text/html": [
       "<div style=\"overflow:auto\"><table style=\"width:50%\"><tr><td><b></b></td>\n",
       "<td><b>mean</b></td>\n",
       "<td><b>sd</b></td>\n",
       "<td><b>cv_1_valid</b></td>\n",
       "<td><b>cv_2_valid</b></td>\n",
       "<td><b>cv_3_valid</b></td>\n",
       "<td><b>cv_4_valid</b></td>\n",
       "<td><b>cv_5_valid</b></td></tr>\n",
       "<tr><td>mae</td>\n",
       "<td>87517.34</td>\n",
       "<td>1256.9717</td>\n",
       "<td>88148.48</td>\n",
       "<td>90019.43</td>\n",
       "<td>88417.66</td>\n",
       "<td>85187.695</td>\n",
       "<td>85813.47</td></tr>\n",
       "<tr><td>mean_residual_deviance</td>\n",
       "<td>31178909700.0000000</td>\n",
       "<td>2773327360.0000000</td>\n",
       "<td>30735145000.0000000</td>\n",
       "<td>34806125000.0000000</td>\n",
       "<td>32673904600.0000000</td>\n",
       "<td>33858701300.0000000</td>\n",
       "<td>23820679200.0000000</td></tr>\n",
       "<tr><td>mse</td>\n",
       "<td>31178909700.0000000</td>\n",
       "<td>2773327360.0000000</td>\n",
       "<td>30735145000.0000000</td>\n",
       "<td>34806125000.0000000</td>\n",
       "<td>32673904600.0000000</td>\n",
       "<td>33858701300.0000000</td>\n",
       "<td>23820679200.0000000</td></tr>\n",
       "<tr><td>r2</td>\n",
       "<td>0.7697139</td>\n",
       "<td>0.0147307</td>\n",
       "<td>0.7744708</td>\n",
       "<td>0.7596024</td>\n",
       "<td>0.7568772</td>\n",
       "<td>0.7495279</td>\n",
       "<td>0.8080911</td></tr>\n",
       "<tr><td>residual_deviance</td>\n",
       "<td>31178909700.0000000</td>\n",
       "<td>2773327360.0000000</td>\n",
       "<td>30735145000.0000000</td>\n",
       "<td>34806125000.0000000</td>\n",
       "<td>32673904600.0000000</td>\n",
       "<td>33858701300.0000000</td>\n",
       "<td>23820679200.0000000</td></tr>\n",
       "<tr><td>rmse</td>\n",
       "<td>176196.89</td>\n",
       "<td>8172.0225</td>\n",
       "<td>175314.42</td>\n",
       "<td>186563.98</td>\n",
       "<td>180759.25</td>\n",
       "<td>184007.34</td>\n",
       "<td>154339.5</td></tr>\n",
       "<tr><td>rmsle</td>\n",
       "<td>0.2072317</td>\n",
       "<td>0.0019900</td>\n",
       "<td>0.2088440</td>\n",
       "<td>0.2110809</td>\n",
       "<td>0.2029524</td>\n",
       "<td>0.2053806</td>\n",
       "<td>0.2079005</td></tr></table></div>"
      ],
      "text/plain": [
       "                        mean         sd           cv_1_valid    cv_2_valid    cv_3_valid    cv_4_valid    cv_5_valid\n",
       "----------------------  -----------  -----------  ------------  ------------  ------------  ------------  ------------\n",
       "mae                     87517.3      1256.97      88148.5       90019.4       88417.7       85187.7       85813.5\n",
       "mean_residual_deviance  3.11789e+10  2.77333e+09  3.07351e+10   3.48061e+10   3.26739e+10   3.38587e+10   2.38207e+10\n",
       "mse                     3.11789e+10  2.77333e+09  3.07351e+10   3.48061e+10   3.26739e+10   3.38587e+10   2.38207e+10\n",
       "r2                      0.769714     0.0147307    0.774471      0.759602      0.756877      0.749528      0.808091\n",
       "residual_deviance       3.11789e+10  2.77333e+09  3.07351e+10   3.48061e+10   3.26739e+10   3.38587e+10   2.38207e+10\n",
       "rmse                    176197       8172.02      175314        186564        180759        184007        154340\n",
       "rmsle                   0.207232     0.00199003   0.208844      0.211081      0.202952      0.205381      0.2079"
      ]
     },
     "metadata": {},
     "output_type": "display_data"
    },
    {
     "name": "stdout",
     "output_type": "stream",
     "text": [
      "Scoring History: \n"
     ]
    },
    {
     "data": {
      "text/html": [
       "<div style=\"overflow:auto\"><table style=\"width:50%\"><tr><td><b></b></td>\n",
       "<td><b>timestamp</b></td>\n",
       "<td><b>duration</b></td>\n",
       "<td><b>number_of_trees</b></td>\n",
       "<td><b>training_rmse</b></td>\n",
       "<td><b>training_mae</b></td>\n",
       "<td><b>training_deviance</b></td></tr>\n",
       "<tr><td></td>\n",
       "<td>2019-01-08 01:00:50</td>\n",
       "<td> 3.641 sec</td>\n",
       "<td>0.0</td>\n",
       "<td>367396.3298333</td>\n",
       "<td>233426.2553599</td>\n",
       "<td>134980063174.9631042</td></tr>\n",
       "<tr><td></td>\n",
       "<td>2019-01-08 01:00:50</td>\n",
       "<td> 3.668 sec</td>\n",
       "<td>1.0</td>\n",
       "<td>340717.4860365</td>\n",
       "<td>215216.3973223</td>\n",
       "<td>116088405291.0055542</td></tr>\n",
       "<tr><td></td>\n",
       "<td>2019-01-08 01:00:50</td>\n",
       "<td> 3.691 sec</td>\n",
       "<td>2.0</td>\n",
       "<td>316059.7406036</td>\n",
       "<td>199266.7478147</td>\n",
       "<td>99893759630.4088287</td></tr>\n",
       "<tr><td></td>\n",
       "<td>2019-01-08 01:00:50</td>\n",
       "<td> 3.713 sec</td>\n",
       "<td>3.0</td>\n",
       "<td>294101.6084517</td>\n",
       "<td>184622.5386571</td>\n",
       "<td>86495756093.8805389</td></tr>\n",
       "<tr><td></td>\n",
       "<td>2019-01-08 01:00:50</td>\n",
       "<td> 3.738 sec</td>\n",
       "<td>4.0</td>\n",
       "<td>274093.0092181</td>\n",
       "<td>172060.1560878</td>\n",
       "<td>75126977702.2299652</td></tr>\n",
       "<tr><td>---</td>\n",
       "<td>---</td>\n",
       "<td>---</td>\n",
       "<td>---</td>\n",
       "<td>---</td>\n",
       "<td>---</td>\n",
       "<td>---</td></tr>\n",
       "<tr><td></td>\n",
       "<td>2019-01-08 01:00:51</td>\n",
       "<td> 4.309 sec</td>\n",
       "<td>46.0</td>\n",
       "<td>87892.3133219</td>\n",
       "<td>58808.8236828</td>\n",
       "<td>7725058741.0774527</td></tr>\n",
       "<tr><td></td>\n",
       "<td>2019-01-08 01:00:51</td>\n",
       "<td> 4.323 sec</td>\n",
       "<td>47.0</td>\n",
       "<td>87209.9531550</td>\n",
       "<td>58435.4433327</td>\n",
       "<td>7605575929.2919121</td></tr>\n",
       "<tr><td></td>\n",
       "<td>2019-01-08 01:00:51</td>\n",
       "<td> 4.336 sec</td>\n",
       "<td>48.0</td>\n",
       "<td>86492.2822730</td>\n",
       "<td>58059.8738495</td>\n",
       "<td>7480914892.7868958</td></tr>\n",
       "<tr><td></td>\n",
       "<td>2019-01-08 01:00:51</td>\n",
       "<td> 4.349 sec</td>\n",
       "<td>49.0</td>\n",
       "<td>85838.3132006</td>\n",
       "<td>57653.6442852</td>\n",
       "<td>7368216013.1220360</td></tr>\n",
       "<tr><td></td>\n",
       "<td>2019-01-08 01:00:51</td>\n",
       "<td> 4.362 sec</td>\n",
       "<td>50.0</td>\n",
       "<td>84938.5851150</td>\n",
       "<td>57130.6131893</td>\n",
       "<td>7214563241.3349810</td></tr></table></div>"
      ],
      "text/plain": [
       "     timestamp            duration    number_of_trees    training_rmse       training_mae        training_deviance\n",
       "---  -------------------  ----------  -----------------  ------------------  ------------------  -------------------\n",
       "     2019-01-08 01:00:50  3.641 sec   0.0                367396.32983327843  233426.25535986997  134980063174.9631\n",
       "     2019-01-08 01:00:50  3.668 sec   1.0                340717.4860364603   215216.3973223461   116088405291.00555\n",
       "     2019-01-08 01:00:50  3.691 sec   2.0                316059.7406035904   199266.74781465164  99893759630.40883\n",
       "     2019-01-08 01:00:50  3.713 sec   3.0                294101.6084517059   184622.53865706248  86495756093.88054\n",
       "     2019-01-08 01:00:50  3.738 sec   4.0                274093.00921809365  172060.156087825    75126977702.22997\n",
       "---  ---                  ---         ---                ---                 ---                 ---\n",
       "     2019-01-08 01:00:51  4.309 sec   46.0               87892.31332191372   58808.823682849914  7725058741.077453\n",
       "     2019-01-08 01:00:51  4.323 sec   47.0               87209.95315496915   58435.44333268035   7605575929.291912\n",
       "     2019-01-08 01:00:51  4.336 sec   48.0               86492.2822729687    58059.87384952086   7480914892.786896\n",
       "     2019-01-08 01:00:51  4.349 sec   49.0               85838.31320058681   57653.64428517753   7368216013.122036\n",
       "     2019-01-08 01:00:51  4.362 sec   50.0               84938.58511498164   57130.61318932407   7214563241.334981"
      ]
     },
     "metadata": {},
     "output_type": "display_data"
    },
    {
     "name": "stdout",
     "output_type": "stream",
     "text": [
      "\n",
      "See the whole table with table.as_data_frame()\n",
      "Variable Importances: \n"
     ]
    },
    {
     "data": {
      "text/html": [
       "<div style=\"overflow:auto\"><table style=\"width:50%\"><tr><td><b>variable</b></td>\n",
       "<td><b>relative_importance</b></td>\n",
       "<td><b>scaled_importance</b></td>\n",
       "<td><b>percentage</b></td></tr>\n",
       "<tr><td>grade</td>\n",
       "<td>4185213164847104.0000000</td>\n",
       "<td>1.0</td>\n",
       "<td>0.3197931</td></tr>\n",
       "<tr><td>sqft_living</td>\n",
       "<td>3399296158269440.0000000</td>\n",
       "<td>0.8122158</td>\n",
       "<td>0.2597410</td></tr>\n",
       "<tr><td>date</td>\n",
       "<td>1793370573766656.0000000</td>\n",
       "<td>0.4285016</td>\n",
       "<td>0.1370319</td></tr>\n",
       "<tr><td>lat</td>\n",
       "<td>1745918030249984.0000000</td>\n",
       "<td>0.4171635</td>\n",
       "<td>0.1334060</td></tr>\n",
       "<tr><td>long</td>\n",
       "<td>666293174796288.0000000</td>\n",
       "<td>0.1592017</td>\n",
       "<td>0.0509116</td></tr>\n",
       "<tr><td>waterfront</td>\n",
       "<td>339268023091200.0000000</td>\n",
       "<td>0.0810635</td>\n",
       "<td>0.0259236</td></tr>\n",
       "<tr><td>yr_built</td>\n",
       "<td>304015770386432.0000000</td>\n",
       "<td>0.0726405</td>\n",
       "<td>0.0232299</td></tr>\n",
       "<tr><td>sqft_living15</td>\n",
       "<td>279663557476352.0000000</td>\n",
       "<td>0.0668218</td>\n",
       "<td>0.0213692</td></tr>\n",
       "<tr><td>view</td>\n",
       "<td>162188853510144.0000000</td>\n",
       "<td>0.0387528</td>\n",
       "<td>0.0123929</td></tr>\n",
       "<tr><td>sqft_above</td>\n",
       "<td>73812401979392.0000000</td>\n",
       "<td>0.0176365</td>\n",
       "<td>0.0056400</td></tr>\n",
       "<tr><td>zipcode</td>\n",
       "<td>49809293574144.0000000</td>\n",
       "<td>0.0119013</td>\n",
       "<td>0.0038059</td></tr>\n",
       "<tr><td>bathrooms</td>\n",
       "<td>21566337318912.0000000</td>\n",
       "<td>0.0051530</td>\n",
       "<td>0.0016479</td></tr>\n",
       "<tr><td>condition</td>\n",
       "<td>20154096287744.0000000</td>\n",
       "<td>0.0048155</td>\n",
       "<td>0.0015400</td></tr>\n",
       "<tr><td>sqft_lot</td>\n",
       "<td>17600994082816.0000000</td>\n",
       "<td>0.0042055</td>\n",
       "<td>0.0013449</td></tr>\n",
       "<tr><td>sqft_lot15</td>\n",
       "<td>16321600290816.0000000</td>\n",
       "<td>0.0038998</td>\n",
       "<td>0.0012471</td></tr>\n",
       "<tr><td>yr_renovated</td>\n",
       "<td>7341841842176.0000000</td>\n",
       "<td>0.0017542</td>\n",
       "<td>0.0005610</td></tr>\n",
       "<tr><td>id</td>\n",
       "<td>2332368830464.0000000</td>\n",
       "<td>0.0005573</td>\n",
       "<td>0.0001782</td></tr>\n",
       "<tr><td>sqft_basement</td>\n",
       "<td>1981581230080.0000000</td>\n",
       "<td>0.0004735</td>\n",
       "<td>0.0001514</td></tr>\n",
       "<tr><td>bedrooms</td>\n",
       "<td>726968696832.0000000</td>\n",
       "<td>0.0001737</td>\n",
       "<td>0.0000555</td></tr>\n",
       "<tr><td>floors</td>\n",
       "<td>376204001280.0000000</td>\n",
       "<td>0.0000899</td>\n",
       "<td>0.0000287</td></tr></table></div>"
      ],
      "text/plain": [
       "variable       relative_importance    scaled_importance    percentage\n",
       "-------------  ---------------------  -------------------  ------------\n",
       "grade          4.18521e+15            1                    0.319793\n",
       "sqft_living    3.3993e+15             0.812216             0.259741\n",
       "date           1.79337e+15            0.428502             0.137032\n",
       "lat            1.74592e+15            0.417163             0.133406\n",
       "long           6.66293e+14            0.159202             0.0509116\n",
       "waterfront     3.39268e+14            0.0810635            0.0259236\n",
       "yr_built       3.04016e+14            0.0726405            0.0232299\n",
       "sqft_living15  2.79664e+14            0.0668218            0.0213692\n",
       "view           1.62189e+14            0.0387528            0.0123929\n",
       "sqft_above     7.38124e+13            0.0176365            0.00564002\n",
       "zipcode        4.98093e+13            0.0119013            0.00380594\n",
       "bathrooms      2.15663e+13            0.00515298           0.00164789\n",
       "condition      2.01541e+13            0.00481555           0.00153998\n",
       "sqft_lot       1.7601e+13             0.00420552           0.0013449\n",
       "sqft_lot15     1.63216e+13            0.00389983           0.00124714\n",
       "yr_renovated   7.34184e+12            0.00175423           0.000560992\n",
       "id             2.33237e+12            0.000557288          0.000178217\n",
       "sqft_basement  1.98158e+12            0.000473472          0.000151413\n",
       "bedrooms       7.26969e+11            0.000173699          5.55479e-05\n",
       "floors         3.76204e+11            8.98889e-05          2.87458e-05"
      ]
     },
     "metadata": {},
     "output_type": "display_data"
    },
    {
     "data": {
      "text/plain": []
     },
     "execution_count": 21,
     "metadata": {},
     "output_type": "execute_result"
    }
   ],
   "source": [
    "mGBM"
   ]
  },
  {
   "cell_type": "code",
   "execution_count": 22,
   "metadata": {},
   "outputs": [
    {
     "name": "stdout",
     "output_type": "stream",
     "text": [
      "\n",
      "ModelMetricsRegression: gbm\n",
      "** Reported on test data. **\n",
      "\n",
      "MSE: 27069990019.18346\n",
      "RMSE: 164529.60225802366\n",
      "MAE: 85935.11978674817\n",
      "RMSLE: 0.20146329140222027\n",
      "Mean Residual Deviance: 27069990019.18346\n"
     ]
    },
    {
     "data": {
      "text/plain": []
     },
     "execution_count": 22,
     "metadata": {},
     "output_type": "execute_result"
    }
   ],
   "source": [
    "mGBM.model_performance(test)"
   ]
  },
  {
   "cell_type": "code",
   "execution_count": 23,
   "metadata": {
    "collapsed": true
   },
   "outputs": [],
   "source": [
    "from h2o.estimators.deeplearning import H2ODeepLearningEstimator"
   ]
  },
  {
   "cell_type": "code",
   "execution_count": 24,
   "metadata": {},
   "outputs": [
    {
     "name": "stdout",
     "output_type": "stream",
     "text": [
      "deeplearning Model Build progress: |██████████████████████████████████████| 100%\n",
      "CPU times: user 759 ms, sys: 264 ms, total: 1.02 s\n",
      "Wall time: 1min 33s\n"
     ]
    }
   ],
   "source": [
    "mDL=H2ODeepLearningEstimator(\n",
    "model_id=\"dl_def\",\n",
    "nfolds=5,\n",
    "    fold_assignment=\"modulo\",\n",
    "    keep_cross_validation_predictions=True\n",
    ")\n",
    "%time mDL.train(x, y, train)"
   ]
  },
  {
   "cell_type": "code",
   "execution_count": 25,
   "metadata": {},
   "outputs": [
    {
     "name": "stdout",
     "output_type": "stream",
     "text": [
      "Model Details\n",
      "=============\n",
      "H2ODeepLearningEstimator :  Deep Learning\n",
      "Model Key:  dl_def\n",
      "\n",
      "\n",
      "ModelMetricsRegression: deeplearning\n",
      "** Reported on train data. **\n",
      "\n",
      "MSE: 10221343805.742994\n",
      "RMSE: 101100.66174730507\n",
      "MAE: 64756.75789928036\n",
      "RMSLE: 0.16940360289327197\n",
      "Mean Residual Deviance: 10221343805.742994\n",
      "\n",
      "ModelMetricsRegression: deeplearning\n",
      "** Reported on cross-validation data. **\n",
      "\n",
      "MSE: 15309093699.26781\n",
      "RMSE: 123729.92240871975\n",
      "MAE: 72806.46833691158\n",
      "RMSLE: 0.18428929521306642\n",
      "Mean Residual Deviance: 15309093699.26781\n",
      "Cross-Validation Metrics Summary: \n"
     ]
    },
    {
     "data": {
      "text/html": [
       "<div style=\"overflow:auto\"><table style=\"width:50%\"><tr><td><b></b></td>\n",
       "<td><b>mean</b></td>\n",
       "<td><b>sd</b></td>\n",
       "<td><b>cv_1_valid</b></td>\n",
       "<td><b>cv_2_valid</b></td>\n",
       "<td><b>cv_3_valid</b></td>\n",
       "<td><b>cv_4_valid</b></td>\n",
       "<td><b>cv_5_valid</b></td></tr>\n",
       "<tr><td>mae</td>\n",
       "<td>72806.336</td>\n",
       "<td>1443.1835</td>\n",
       "<td>71666.71</td>\n",
       "<td>76575.76</td>\n",
       "<td>72372.086</td>\n",
       "<td>70542.01</td>\n",
       "<td>72875.1</td></tr>\n",
       "<tr><td>mean_residual_deviance</td>\n",
       "<td>15308994600.0000000</td>\n",
       "<td>1088147580.0000000</td>\n",
       "<td>14197096400.0000000</td>\n",
       "<td>18341840900.0000000</td>\n",
       "<td>14413983700.0000000</td>\n",
       "<td>14994598900.0000000</td>\n",
       "<td>14597453800.0000000</td></tr>\n",
       "<tr><td>mse</td>\n",
       "<td>15308994600.0000000</td>\n",
       "<td>1088147580.0000000</td>\n",
       "<td>14197096400.0000000</td>\n",
       "<td>18341840900.0000000</td>\n",
       "<td>14413983700.0000000</td>\n",
       "<td>14994598900.0000000</td>\n",
       "<td>14597453800.0000000</td></tr>\n",
       "<tr><td>r2</td>\n",
       "<td>0.8866724</td>\n",
       "<td>0.0056840</td>\n",
       "<td>0.8958241</td>\n",
       "<td>0.8733173</td>\n",
       "<td>0.8927472</td>\n",
       "<td>0.8890764</td>\n",
       "<td>0.8823971</td></tr>\n",
       "<tr><td>residual_deviance</td>\n",
       "<td>15308994600.0000000</td>\n",
       "<td>1088147580.0000000</td>\n",
       "<td>14197096400.0000000</td>\n",
       "<td>18341840900.0000000</td>\n",
       "<td>14413983700.0000000</td>\n",
       "<td>14994598900.0000000</td>\n",
       "<td>14597453800.0000000</td></tr>\n",
       "<tr><td>rmse</td>\n",
       "<td>123582.84</td>\n",
       "<td>4258.805</td>\n",
       "<td>119151.57</td>\n",
       "<td>135432.05</td>\n",
       "<td>120058.25</td>\n",
       "<td>122452.44</td>\n",
       "<td>120819.92</td></tr>\n",
       "<tr><td>rmsle</td>\n",
       "<td>0.1842552</td>\n",
       "<td>0.0024964</td>\n",
       "<td>0.1834827</td>\n",
       "<td>0.1910038</td>\n",
       "<td>0.1815943</td>\n",
       "<td>0.1812551</td>\n",
       "<td>0.1839399</td></tr></table></div>"
      ],
      "text/plain": [
       "                        mean        sd           cv_1_valid    cv_2_valid    cv_3_valid    cv_4_valid    cv_5_valid\n",
       "----------------------  ----------  -----------  ------------  ------------  ------------  ------------  ------------\n",
       "mae                     72806.3     1443.18      71666.7       76575.8       72372.1       70542         72875.1\n",
       "mean_residual_deviance  1.5309e+10  1.08815e+09  1.41971e+10   1.83418e+10   1.4414e+10    1.49946e+10   1.45975e+10\n",
       "mse                     1.5309e+10  1.08815e+09  1.41971e+10   1.83418e+10   1.4414e+10    1.49946e+10   1.45975e+10\n",
       "r2                      0.886672    0.00568396   0.895824      0.873317      0.892747      0.889076      0.882397\n",
       "residual_deviance       1.5309e+10  1.08815e+09  1.41971e+10   1.83418e+10   1.4414e+10    1.49946e+10   1.45975e+10\n",
       "rmse                    123583      4258.81      119152        135432        120058        122452        120820\n",
       "rmsle                   0.184255    0.00249642   0.183483      0.191004      0.181594      0.181255      0.18394"
      ]
     },
     "metadata": {},
     "output_type": "display_data"
    },
    {
     "name": "stdout",
     "output_type": "stream",
     "text": [
      "Scoring History: \n"
     ]
    },
    {
     "data": {
      "text/html": [
       "<div style=\"overflow:auto\"><table style=\"width:50%\"><tr><td><b></b></td>\n",
       "<td><b>timestamp</b></td>\n",
       "<td><b>duration</b></td>\n",
       "<td><b>training_speed</b></td>\n",
       "<td><b>epochs</b></td>\n",
       "<td><b>iterations</b></td>\n",
       "<td><b>samples</b></td>\n",
       "<td><b>training_rmse</b></td>\n",
       "<td><b>training_deviance</b></td>\n",
       "<td><b>training_mae</b></td>\n",
       "<td><b>training_r2</b></td></tr>\n",
       "<tr><td></td>\n",
       "<td>2019-01-08 01:02:06</td>\n",
       "<td> 0.000 sec</td>\n",
       "<td>None</td>\n",
       "<td>0.0</td>\n",
       "<td>0</td>\n",
       "<td>0.0</td>\n",
       "<td>nan</td>\n",
       "<td>nan</td>\n",
       "<td>nan</td>\n",
       "<td>nan</td></tr>\n",
       "<tr><td></td>\n",
       "<td>2019-01-08 01:02:10</td>\n",
       "<td> 1 min 18.550 sec</td>\n",
       "<td>6195 obs/sec</td>\n",
       "<td>1.0461412</td>\n",
       "<td>1</td>\n",
       "<td>20360.0</td>\n",
       "<td>141068.1522092</td>\n",
       "<td>19900223567.7067375</td>\n",
       "<td>83944.9388797</td>\n",
       "<td>0.8532153</td></tr>\n",
       "<tr><td></td>\n",
       "<td>2019-01-08 01:02:16</td>\n",
       "<td> 1 min 24.371 sec</td>\n",
       "<td>9208 obs/sec</td>\n",
       "<td>4.1592848</td>\n",
       "<td>4</td>\n",
       "<td>80948.0</td>\n",
       "<td>113790.3831186</td>\n",
       "<td>12948251290.2884960</td>\n",
       "<td>69861.0098112</td>\n",
       "<td>0.9044932</td></tr>\n",
       "<tr><td></td>\n",
       "<td>2019-01-08 01:02:21</td>\n",
       "<td> 1 min 29.997 sec</td>\n",
       "<td>11500 obs/sec</td>\n",
       "<td>8.3310554</td>\n",
       "<td>8</td>\n",
       "<td>162139.0</td>\n",
       "<td>105888.6898922</td>\n",
       "<td>11212414647.0935593</td>\n",
       "<td>67929.3183198</td>\n",
       "<td>0.9172968</td></tr>\n",
       "<tr><td></td>\n",
       "<td>2019-01-08 01:02:24</td>\n",
       "<td> 1 min 32.963 sec</td>\n",
       "<td>12104 obs/sec</td>\n",
       "<td>10.4103381</td>\n",
       "<td>10</td>\n",
       "<td>202606.0</td>\n",
       "<td>101100.6617473</td>\n",
       "<td>10221343805.7429943</td>\n",
       "<td>64756.7578993</td>\n",
       "<td>0.9246070</td></tr></table></div>"
      ],
      "text/plain": [
       "    timestamp            duration          training_speed    epochs    iterations    samples    training_rmse    training_deviance    training_mae    training_r2\n",
       "--  -------------------  ----------------  ----------------  --------  ------------  ---------  ---------------  -------------------  --------------  -------------\n",
       "    2019-01-08 01:02:06  0.000 sec                           0         0             0          nan              nan                  nan             nan\n",
       "    2019-01-08 01:02:10  1 min 18.550 sec  6195 obs/sec      1.04614   1             20360      141068           1.99002e+10          83944.9         0.853215\n",
       "    2019-01-08 01:02:16  1 min 24.371 sec  9208 obs/sec      4.15928   4             80948      113790           1.29483e+10          69861           0.904493\n",
       "    2019-01-08 01:02:21  1 min 29.997 sec  11500 obs/sec     8.33106   8             162139     105889           1.12124e+10          67929.3         0.917297\n",
       "    2019-01-08 01:02:24  1 min 32.963 sec  12104 obs/sec     10.4103   10            202606     101101           1.02213e+10          64756.8         0.924607"
      ]
     },
     "metadata": {},
     "output_type": "display_data"
    },
    {
     "name": "stdout",
     "output_type": "stream",
     "text": [
      "Variable Importances: \n"
     ]
    },
    {
     "data": {
      "text/html": [
       "<div style=\"overflow:auto\"><table style=\"width:50%\"><tr><td><b>variable</b></td>\n",
       "<td><b>relative_importance</b></td>\n",
       "<td><b>scaled_importance</b></td>\n",
       "<td><b>percentage</b></td></tr>\n",
       "<tr><td>lat</td>\n",
       "<td>1.0</td>\n",
       "<td>1.0</td>\n",
       "<td>0.0102589</td></tr>\n",
       "<tr><td>long</td>\n",
       "<td>0.8268561</td>\n",
       "<td>0.8268561</td>\n",
       "<td>0.0084826</td></tr>\n",
       "<tr><td>yr_built</td>\n",
       "<td>0.3678557</td>\n",
       "<td>0.3678557</td>\n",
       "<td>0.0037738</td></tr>\n",
       "<tr><td>zipcode</td>\n",
       "<td>0.3551462</td>\n",
       "<td>0.3551462</td>\n",
       "<td>0.0036434</td></tr>\n",
       "<tr><td>sqft_lot</td>\n",
       "<td>0.3204969</td>\n",
       "<td>0.3204969</td>\n",
       "<td>0.0032879</td></tr>\n",
       "<tr><td>---</td>\n",
       "<td>---</td>\n",
       "<td>---</td>\n",
       "<td>---</td></tr>\n",
       "<tr><td>bathrooms</td>\n",
       "<td>0.2046457</td>\n",
       "<td>0.2046457</td>\n",
       "<td>0.0020994</td></tr>\n",
       "<tr><td>yr_renovated</td>\n",
       "<td>0.2036195</td>\n",
       "<td>0.2036195</td>\n",
       "<td>0.0020889</td></tr>\n",
       "<tr><td>waterfront</td>\n",
       "<td>0.2015207</td>\n",
       "<td>0.2015207</td>\n",
       "<td>0.0020674</td></tr>\n",
       "<tr><td>view</td>\n",
       "<td>0.1742098</td>\n",
       "<td>0.1742098</td>\n",
       "<td>0.0017872</td></tr>\n",
       "<tr><td>date.missing(NA)</td>\n",
       "<td>0.0</td>\n",
       "<td>0.0</td>\n",
       "<td>0.0</td></tr></table></div>"
      ],
      "text/plain": [
       "variable          relative_importance    scaled_importance    percentage\n",
       "----------------  ---------------------  -------------------  ---------------------\n",
       "lat               1.0                    1.0                  0.01025886900708688\n",
       "long              0.8268561363220215     0.8268561363220215   0.008482608790233591\n",
       "yr_built          0.3678556978702545     0.3678556978702545   0.0037737834179614694\n",
       "zipcode           0.355146199464798      0.355146199464798    0.0036433983386741113\n",
       "sqft_lot          0.3204968571662903     0.3204968571662903   0.0032879352748520062\n",
       "---               ---                    ---                  ---\n",
       "bathrooms         0.20464573800563812    0.20464573800563812  0.002099433819058463\n",
       "yr_renovated      0.20361950993537903    0.20361950993537903  0.002088905879714279\n",
       "waterfront        0.2015206515789032     0.2015206515789032   0.002067373966770764\n",
       "view              0.17420978844165802    0.17420978844165802  0.0017871953993752877\n",
       "date.missing(NA)  0.0                    0.0                  0.0"
      ]
     },
     "metadata": {},
     "output_type": "display_data"
    },
    {
     "name": "stdout",
     "output_type": "stream",
     "text": [
      "\n",
      "See the whole table with table.as_data_frame()\n"
     ]
    },
    {
     "data": {
      "text/plain": []
     },
     "execution_count": 25,
     "metadata": {},
     "output_type": "execute_result"
    }
   ],
   "source": [
    "mDL"
   ]
  },
  {
   "cell_type": "code",
   "execution_count": 26,
   "metadata": {},
   "outputs": [
    {
     "name": "stdout",
     "output_type": "stream",
     "text": [
      "\n",
      "ModelMetricsRegression: deeplearning\n",
      "** Reported on test data. **\n",
      "\n",
      "MSE: 17171900027.826515\n",
      "RMSE: 131041.59655554612\n",
      "MAE: 74809.72851859532\n",
      "RMSLE: 0.18449450660490052\n",
      "Mean Residual Deviance: 17171900027.826515\n"
     ]
    },
    {
     "data": {
      "text/plain": []
     },
     "execution_count": 26,
     "metadata": {},
     "output_type": "execute_result"
    }
   ],
   "source": [
    "mDL.model_performance(test)"
   ]
  },
  {
   "cell_type": "code",
   "execution_count": 27,
   "metadata": {
    "collapsed": true
   },
   "outputs": [],
   "source": [
    "from h2o.estimators import H2OStackedEnsembleEstimator"
   ]
  },
  {
   "cell_type": "code",
   "execution_count": 28,
   "metadata": {
    "collapsed": true
   },
   "outputs": [],
   "source": [
    "models=[mRF.model_id, mGBM.model_id, mDL.model_id]"
   ]
  },
  {
   "cell_type": "code",
   "execution_count": 29,
   "metadata": {},
   "outputs": [
    {
     "name": "stdout",
     "output_type": "stream",
     "text": [
      "stackedensemble Model Build progress: |███████████████████████████████████| 100%\n"
     ]
    }
   ],
   "source": [
    "mSE=H2OStackedEnsembleEstimator(model_id=\"SE_rf_gbm_dl\",\n",
    "                               base_models=models)\n",
    "mSE.train(x,y,train)"
   ]
  },
  {
   "cell_type": "code",
   "execution_count": 30,
   "metadata": {
    "collapsed": true
   },
   "outputs": [],
   "source": [
    "all_models=[mRF,mGBM,mDL,mSE]"
   ]
  },
  {
   "cell_type": "code",
   "execution_count": 31,
   "metadata": {
    "collapsed": true
   },
   "outputs": [],
   "source": [
    "names = [\"RF\",\"GBM\",\"DL\",\"SE\"]"
   ]
  },
  {
   "cell_type": "code",
   "execution_count": 32,
   "metadata": {
    "collapsed": true
   },
   "outputs": [],
   "source": [
    "test_perf=list(map(lambda x: x.model_performance(test),all_models))"
   ]
  },
  {
   "cell_type": "code",
   "execution_count": 33,
   "metadata": {},
   "outputs": [
    {
     "data": {
      "text/plain": [
       "RF     167446.913704\n",
       "GBM     84938.585115\n",
       "DL     101100.661747\n",
       "SE     364246.562031\n",
       "dtype: float64"
      ]
     },
     "execution_count": 33,
     "metadata": {},
     "output_type": "execute_result"
    }
   ],
   "source": [
    "pd.Series(map(lambda x: x.rmse(),all_models),names)"
   ]
  },
  {
   "cell_type": "code",
   "execution_count": 34,
   "metadata": {},
   "outputs": [
    {
     "data": {
      "text/plain": [
       "RF     162563.435880\n",
       "GBM    164529.602258\n",
       "DL     131041.596556\n",
       "SE     361951.804948\n",
       "dtype: float64"
      ]
     },
     "execution_count": 34,
     "metadata": {},
     "output_type": "execute_result"
    }
   ],
   "source": [
    "pd.Series(map(lambda x: x.rmse(),test_perf),names)"
   ]
  },
  {
   "cell_type": "code",
   "execution_count": 35,
   "metadata": {},
   "outputs": [
    {
     "name": "stdout",
     "output_type": "stream",
     "text": [
      "/Users/tim.wu/Documents/Programming_Code/python_code/python_h2o/C:\\Shan\\ATT\\H2O/SE_rf_gbm_dl\n"
     ]
    }
   ],
   "source": [
    "model_path_mSE = h2o.save_model(model=mSE, path=\"C:\\Shan\\ATT\\H2O\")\n",
    "print(model_path_mSE)"
   ]
  },
  {
   "cell_type": "code",
   "execution_count": 36,
   "metadata": {
    "collapsed": true
   },
   "outputs": [],
   "source": [
    "mAleader=mA.leader"
   ]
  },
  {
   "cell_type": "code",
   "execution_count": 37,
   "metadata": {},
   "outputs": [
    {
     "name": "stdout",
     "output_type": "stream",
     "text": [
      "Model Details\n",
      "=============\n",
      "H2OStackedEnsembleEstimator :  Stacked Ensemble\n",
      "Model Key:  SE_rf_gbm_dl\n",
      "No model summary for this model\n",
      "\n",
      "\n",
      "ModelMetricsRegressionGLM: stackedensemble\n",
      "** Reported on train data. **\n",
      "\n",
      "MSE: 132675557951.69656\n",
      "RMSE: 364246.5620314028\n",
      "MAE: 231416.82322884141\n",
      "RMSLE: 0.5421825943815943\n",
      "R^2: 0.017072930394760766\n",
      "Mean Residual Deviance: 132675557951.69656\n",
      "Null degrees of freedom: 19461\n",
      "Residual degrees of freedom: 19458\n",
      "Null deviance: 2626981989511143.5\n",
      "Residual deviance: 2582131708855918.5\n",
      "AIC: 553685.4040443004\n"
     ]
    },
    {
     "data": {
      "text/plain": []
     },
     "execution_count": 37,
     "metadata": {},
     "output_type": "execute_result"
    }
   ],
   "source": [
    "mSE"
   ]
  },
  {
   "cell_type": "code",
   "execution_count": 38,
   "metadata": {},
   "outputs": [
    {
     "name": "stdout",
     "output_type": "stream",
     "text": [
      "H2O session _sid_978b closed.\n"
     ]
    }
   ],
   "source": [
    "h2o.cluster().shutdown()"
   ]
  }
 ],
 "metadata": {
  "kernelspec": {
   "display_name": "Python 3",
   "language": "python",
   "name": "python3"
  },
  "language_info": {
   "codemirror_mode": {
    "name": "ipython",
    "version": 3
   },
   "file_extension": ".py",
   "mimetype": "text/x-python",
   "name": "python",
   "nbconvert_exporter": "python",
   "pygments_lexer": "ipython3",
   "version": "3.6.2"
  }
 },
 "nbformat": 4,
 "nbformat_minor": 2
}
